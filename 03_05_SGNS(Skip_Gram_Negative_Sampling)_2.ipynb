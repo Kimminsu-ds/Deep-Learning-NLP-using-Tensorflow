{
  "nbformat": 4,
  "nbformat_minor": 0,
  "metadata": {
    "colab": {
      "name": "03-05. SGNS(Skip Gram Negative Sampling) - 2.ipynb",
      "provenance": [],
      "collapsed_sections": [],
      "authorship_tag": "ABX9TyMyqxyjX3VP1En7TgB1/Nbc",
      "include_colab_link": true
    },
    "kernelspec": {
      "name": "python3",
      "display_name": "Python 3"
    },
    "language_info": {
      "name": "python"
    },
    "accelerator": "GPU"
  },
  "cells": [
    {
      "cell_type": "markdown",
      "metadata": {
        "id": "view-in-github",
        "colab_type": "text"
      },
      "source": [
        "<a href=\"https://colab.research.google.com/github/Kimminsu-ds/Deep-Learning-NLP-using-Tensorflow/blob/main/03_05_SGNS(Skip_Gram_Negative_Sampling)_2.ipynb\" target=\"_parent\"><img src=\"https://colab.research.google.com/assets/colab-badge.svg\" alt=\"Open In Colab\"/></a>"
      ]
    },
    {
      "cell_type": "markdown",
      "metadata": {
        "id": "QLUdh2H-5uzD"
      },
      "source": [
        "# 러닝스푼즈 - Tensorflow를 활용한 딥러닝 자연어처리"
      ]
    },
    {
      "cell_type": "code",
      "metadata": {
        "id": "P-A4WKke5p05"
      },
      "source": [
        "import os\n",
        "from collections import Counter\n",
        "from time import time\n",
        "\n",
        "import numpy as np\n",
        "import pandas as pd\n",
        "\n",
        "from keras.layers import Dense, Dot, Embedding, Input, Reshape\n",
        "from keras.models import Model\n",
        "from keras.preprocessing.sequence import skipgrams\n",
        "from nltk.corpus import stopwords\n",
        "\n",
        "np.random.seed(777)\n",
        "os.environ[\"CUDA_VISIBLE_DEVICES\"] = \"-1\""
      ],
      "execution_count": 28,
      "outputs": []
    },
    {
      "cell_type": "code",
      "metadata": {
        "colab": {
          "base_uri": "https://localhost:8080/"
        },
        "id": "G-uWm_Xa5x2r",
        "outputId": "8577457f-5e22-46c3-f20e-2c177b491eba"
      },
      "source": [
        "import nltk\n",
        "nltk.download(\"stopwords\")"
      ],
      "execution_count": 29,
      "outputs": [
        {
          "output_type": "stream",
          "name": "stdout",
          "text": [
            "[nltk_data] Downloading package stopwords to /root/nltk_data...\n",
            "[nltk_data]   Package stopwords is already up-to-date!\n"
          ]
        },
        {
          "output_type": "execute_result",
          "data": {
            "text/plain": [
              "True"
            ]
          },
          "metadata": {},
          "execution_count": 29
        }
      ]
    },
    {
      "cell_type": "markdown",
      "metadata": {
        "id": "Mi-ytslA5y9f"
      },
      "source": [
        "## 데이터 세팅"
      ]
    },
    {
      "cell_type": "code",
      "metadata": {
        "colab": {
          "base_uri": "https://localhost:8080/"
        },
        "id": "-TrPsSbt5ylL",
        "outputId": "d8217911-d401-4170-b271-7a33e8ebe738"
      },
      "source": [
        "import urllib.request\n",
        "urllib.request.urlretrieve(\"https://raw.githubusercontent.com/eds-uga/csci1360e-su18/master/assignments/A9/abcnews-date-text.csv\", filename=\"abcnews-date-text.csv\")\n",
        "\n",
        "corpus = pd.read_csv(\"abcnews-date-text.csv\").iloc[:, 1]\n",
        "corpus.head(10)"
      ],
      "execution_count": 30,
      "outputs": [
        {
          "output_type": "execute_result",
          "data": {
            "text/plain": [
              "0    aba decides against community broadcasting lic...\n",
              "1       act fire witnesses must be aware of defamation\n",
              "2       a g calls for infrastructure protection summit\n",
              "3             air nz staff in aust strike for pay rise\n",
              "4        air nz strike to affect australian travellers\n",
              "5                    ambitious olsson wins triple jump\n",
              "6           antic delighted with record breaking barca\n",
              "7    aussie qualifier stosur wastes four memphis match\n",
              "8         aust addresses un security council over iraq\n",
              "9           australia is locked into war timetable opp\n",
              "Name: headline_text, dtype: object"
            ]
          },
          "metadata": {},
          "execution_count": 30
        }
      ]
    },
    {
      "cell_type": "markdown",
      "metadata": {
        "id": "rwh-zxyo52op"
      },
      "source": [
        "## 전처리"
      ]
    },
    {
      "cell_type": "code",
      "metadata": {
        "colab": {
          "base_uri": "https://localhost:8080/"
        },
        "id": "_ekmiKNM51WS",
        "outputId": "98a384aa-6f90-4b81-ef95-e628b53e739d"
      },
      "source": [
        "# 소문자로 변경\n",
        "corpus = corpus.str.lower()\n",
        "\n",
        "# 숫자/알파벳/공백을 제외하고 전부 제고\n",
        "corpus = corpus.str.replace('[^a-z0-9]+', ' ', regex=True)\n",
        "corpus.head(10)"
      ],
      "execution_count": 31,
      "outputs": [
        {
          "output_type": "execute_result",
          "data": {
            "text/plain": [
              "0    aba decides against community broadcasting lic...\n",
              "1       act fire witnesses must be aware of defamation\n",
              "2       a g calls for infrastructure protection summit\n",
              "3             air nz staff in aust strike for pay rise\n",
              "4        air nz strike to affect australian travellers\n",
              "5                    ambitious olsson wins triple jump\n",
              "6           antic delighted with record breaking barca\n",
              "7    aussie qualifier stosur wastes four memphis match\n",
              "8         aust addresses un security council over iraq\n",
              "9           australia is locked into war timetable opp\n",
              "Name: headline_text, dtype: object"
            ]
          },
          "metadata": {},
          "execution_count": 31
        }
      ]
    },
    {
      "cell_type": "code",
      "metadata": {
        "colab": {
          "base_uri": "https://localhost:8080/"
        },
        "id": "pK8mMgt153sQ",
        "outputId": "aafaf893-168c-4046-972e-91d3f09147e6"
      },
      "source": [
        "corpus_list = corpus.values.tolist()\n",
        "len(corpus_list)"
      ],
      "execution_count": 32,
      "outputs": [
        {
          "output_type": "execute_result",
          "data": {
            "text/plain": [
              "1103665"
            ]
          },
          "metadata": {},
          "execution_count": 32
        }
      ]
    },
    {
      "cell_type": "code",
      "metadata": {
        "colab": {
          "base_uri": "https://localhost:8080/"
        },
        "id": "Zqj_5DPv54fh",
        "outputId": "e248b8b0-52f0-4f12-c141-2423bb729870"
      },
      "source": [
        "corpus_list[0:5]"
      ],
      "execution_count": 33,
      "outputs": [
        {
          "output_type": "execute_result",
          "data": {
            "text/plain": [
              "['aba decides against community broadcasting licence',\n",
              " 'act fire witnesses must be aware of defamation',\n",
              " 'a g calls for infrastructure protection summit',\n",
              " 'air nz staff in aust strike for pay rise',\n",
              " 'air nz strike to affect australian travellers']"
            ]
          },
          "metadata": {},
          "execution_count": 33
        }
      ]
    },
    {
      "cell_type": "code",
      "metadata": {
        "colab": {
          "base_uri": "https://localhost:8080/"
        },
        "id": "metbR9oC55P-",
        "outputId": "1c33321f-2f51-4de1-e8e3-b2d973ad97f9"
      },
      "source": [
        "# corpus에 있는 모든 line에서 word를 추출해서 하나의 list에 정리\n",
        "words = np.concatenate(np.core.defchararray.split(corpus_list)).tolist()\n",
        "print(words[0:100])"
      ],
      "execution_count": 34,
      "outputs": [
        {
          "output_type": "stream",
          "name": "stdout",
          "text": [
            "['aba', 'decides', 'against', 'community', 'broadcasting', 'licence', 'act', 'fire', 'witnesses', 'must', 'be', 'aware', 'of', 'defamation', 'a', 'g', 'calls', 'for', 'infrastructure', 'protection', 'summit', 'air', 'nz', 'staff', 'in', 'aust', 'strike', 'for', 'pay', 'rise', 'air', 'nz', 'strike', 'to', 'affect', 'australian', 'travellers', 'ambitious', 'olsson', 'wins', 'triple', 'jump', 'antic', 'delighted', 'with', 'record', 'breaking', 'barca', 'aussie', 'qualifier', 'stosur', 'wastes', 'four', 'memphis', 'match', 'aust', 'addresses', 'un', 'security', 'council', 'over', 'iraq', 'australia', 'is', 'locked', 'into', 'war', 'timetable', 'opp', 'australia', 'to', 'contribute', '10', 'million', 'in', 'aid', 'to', 'iraq', 'barca', 'take', 'record', 'as', 'robson', 'celebrates', 'birthday', 'in', 'bathhouse', 'plans', 'move', 'ahead', 'big', 'hopes', 'for', 'launceston', 'cycling', 'championship', 'big', 'plan', 'to', 'boost']\n"
          ]
        }
      ]
    },
    {
      "cell_type": "code",
      "metadata": {
        "colab": {
          "base_uri": "https://localhost:8080/"
        },
        "id": "h4WUMxV255-h",
        "outputId": "d1728aad-5068-427d-8dcf-499c2793702c"
      },
      "source": [
        "# 불용어 설정\n",
        "stopWords = set(stopwords.words(\"english\"))\n",
        "print(stopWords)"
      ],
      "execution_count": 35,
      "outputs": [
        {
          "output_type": "stream",
          "name": "stdout",
          "text": [
            "{'at', \"you've\", 'both', 'd', 'as', 'herself', 'will', 'again', 'down', 'in', 'on', 'all', 'didn', 'that', 'isn', 'nor', \"mightn't\", 'itself', 'once', \"shouldn't\", 'until', 'having', 'ma', 'any', 'above', 'out', 'i', 'been', 'by', 'where', 'themselves', \"didn't\", \"it's\", 'hers', 'yours', 'against', 's', 'be', 'what', 'their', 'have', 'himself', 'who', 'him', 'am', 'here', 'no', 'further', 'my', \"weren't\", 'these', \"hadn't\", 'because', 'he', 'from', 'his', 'o', 'its', 'to', 'doesn', 'below', 'very', 'had', \"haven't\", 'about', \"should've\", 'but', 'now', 'just', 'weren', 'ourselves', 'our', 'why', 'when', \"needn't\", 'mightn', 'an', 'then', 'under', 'other', 'between', \"you'd\", 'some', 'haven', 'over', 'more', \"aren't\", 'or', \"won't\", 't', 'those', 'y', 'it', 'which', 'few', \"don't\", 'before', \"she's\", 'mustn', 'does', 'them', \"isn't\", 'aren', 'so', \"wasn't\", 'her', 'm', 'while', 'same', 'the', 'won', 'there', 'needn', 'each', 'too', 'me', 'not', \"that'll\", 'most', 'shan', 'than', 'a', 're', 'doing', \"you'll\", 'whom', 'has', \"you're\", 'own', 'yourself', 'ours', 'can', 'with', 'll', 'off', 'is', \"doesn't\", 'during', 'we', 'do', 'were', 'did', 'wasn', 'was', 'don', \"hasn't\", 've', 'being', 'wouldn', \"shan't\", 'and', 'how', 'ain', 'hadn', 'you', 'this', 'should', \"mustn't\", 'are', 'into', 'if', 'she', 'such', \"wouldn't\", 'your', 'through', 'after', 'yourselves', 'hasn', \"couldn't\", 'they', 'for', 'only', 'myself', 'shouldn', 'up', 'of', 'theirs', 'couldn'}\n"
          ]
        }
      ]
    },
    {
      "cell_type": "code",
      "metadata": {
        "colab": {
          "base_uri": "https://localhost:8080/"
        },
        "id": "4WTXWEwE58C8",
        "outputId": "ca7d79cd-1cab-40f2-eb25-8f092a80a2f3"
      },
      "source": [
        "# 단어의 등장 빈도수를 카운트\n",
        "counter = Counter(words)\n",
        "len(counter)"
      ],
      "execution_count": 36,
      "outputs": [
        {
          "output_type": "execute_result",
          "data": {
            "text/plain": [
              "96722"
            ]
          },
          "metadata": {},
          "execution_count": 36
        }
      ]
    },
    {
      "cell_type": "code",
      "metadata": {
        "colab": {
          "base_uri": "https://localhost:8080/"
        },
        "id": "557V3MsQ58_L",
        "outputId": "3d5c5c69-ea81-413c-8147-04dafa5406a4"
      },
      "source": [
        "# 등장 빈도 상위 100개\n",
        "counter.most_common(100)"
      ],
      "execution_count": 37,
      "outputs": [
        {
          "output_type": "execute_result",
          "data": {
            "text/plain": [
              "[('to', 214201),\n",
              " ('in', 135982),\n",
              " ('for', 130239),\n",
              " ('of', 80759),\n",
              " ('on', 73037),\n",
              " ('over', 50306),\n",
              " ('the', 49810),\n",
              " ('police', 35986),\n",
              " ('at', 31723),\n",
              " ('with', 29676),\n",
              " ('after', 29661),\n",
              " ('new', 29095),\n",
              " ('man', 28110),\n",
              " ('a', 24885),\n",
              " ('and', 22748),\n",
              " ('up', 20990),\n",
              " ('as', 20481),\n",
              " ('says', 20001),\n",
              " ('from', 19086),\n",
              " ('by', 17727),\n",
              " ('us', 17536),\n",
              " ('out', 17184),\n",
              " ('govt', 16935),\n",
              " ('court', 16383),\n",
              " ('council', 16363),\n",
              " ('be', 15774),\n",
              " ('more', 15247),\n",
              " ('interview', 15025),\n",
              " ('fire', 13910),\n",
              " ('not', 13741),\n",
              " ('nsw', 12919),\n",
              " ('australia', 12680),\n",
              " ('plan', 12307),\n",
              " ('water', 11877),\n",
              " ('qld', 11790),\n",
              " ('wa', 11534),\n",
              " ('crash', 11208),\n",
              " ('death', 11174),\n",
              " ('into', 10901),\n",
              " ('sydney', 10761),\n",
              " ('off', 10731),\n",
              " ('against', 10427),\n",
              " ('health', 10373),\n",
              " ('australian', 10352),\n",
              " ('charged', 10148),\n",
              " ('back', 10134),\n",
              " ('no', 10050),\n",
              " ('report', 9589),\n",
              " ('down', 9555),\n",
              " ('call', 9292),\n",
              " ('murder', 9217),\n",
              " ('sa', 9121),\n",
              " ('an', 9053),\n",
              " ('day', 8827),\n",
              " ('hospital', 8821),\n",
              " ('car', 8690),\n",
              " ('may', 8534),\n",
              " ('coast', 8419),\n",
              " ('calls', 8401),\n",
              " ('about', 8349),\n",
              " ('woman', 8328),\n",
              " ('win', 8315),\n",
              " ('world', 8180),\n",
              " ('two', 8180),\n",
              " ('killed', 8129),\n",
              " ('accused', 8097),\n",
              " ('government', 7965),\n",
              " ('s', 7964),\n",
              " ('home', 7845),\n",
              " ('urged', 7841),\n",
              " ('found', 7839),\n",
              " ('south', 7730),\n",
              " ('will', 7671),\n",
              " ('missing', 7582),\n",
              " ('first', 7558),\n",
              " ('is', 7554),\n",
              " ('rural', 7377),\n",
              " ('set', 7311),\n",
              " ('claims', 7232),\n",
              " ('election', 7231),\n",
              " ('cup', 7211),\n",
              " ('attack', 7166),\n",
              " ('school', 7147),\n",
              " ('under', 7121),\n",
              " ('minister', 7062),\n",
              " ('wins', 7014),\n",
              " ('boost', 6997),\n",
              " ('dies', 6934),\n",
              " ('face', 6911),\n",
              " ('north', 6829),\n",
              " ('market', 6822),\n",
              " ('funding', 6781),\n",
              " ('help', 6768),\n",
              " ('talks', 6702),\n",
              " ('child', 6671),\n",
              " ('group', 6657),\n",
              " ('china', 6647),\n",
              " ('one', 6628),\n",
              " ('sex', 6582),\n",
              " ('nt', 6563)]"
            ]
          },
          "metadata": {},
          "execution_count": 37
        }
      ]
    },
    {
      "cell_type": "code",
      "metadata": {
        "colab": {
          "base_uri": "https://localhost:8080/"
        },
        "id": "UGCRNkF4590U",
        "outputId": "482d7b65-cef0-4de5-dadc-b323a362e60d"
      },
      "source": [
        "# 불용어 제거\n",
        "words = [word for word in words if word not in stopWords]\n",
        "print(counter.most_common(100))"
      ],
      "execution_count": 38,
      "outputs": [
        {
          "output_type": "stream",
          "name": "stdout",
          "text": [
            "[('to', 214201), ('in', 135982), ('for', 130239), ('of', 80759), ('on', 73037), ('over', 50306), ('the', 49810), ('police', 35986), ('at', 31723), ('with', 29676), ('after', 29661), ('new', 29095), ('man', 28110), ('a', 24885), ('and', 22748), ('up', 20990), ('as', 20481), ('says', 20001), ('from', 19086), ('by', 17727), ('us', 17536), ('out', 17184), ('govt', 16935), ('court', 16383), ('council', 16363), ('be', 15774), ('more', 15247), ('interview', 15025), ('fire', 13910), ('not', 13741), ('nsw', 12919), ('australia', 12680), ('plan', 12307), ('water', 11877), ('qld', 11790), ('wa', 11534), ('crash', 11208), ('death', 11174), ('into', 10901), ('sydney', 10761), ('off', 10731), ('against', 10427), ('health', 10373), ('australian', 10352), ('charged', 10148), ('back', 10134), ('no', 10050), ('report', 9589), ('down', 9555), ('call', 9292), ('murder', 9217), ('sa', 9121), ('an', 9053), ('day', 8827), ('hospital', 8821), ('car', 8690), ('may', 8534), ('coast', 8419), ('calls', 8401), ('about', 8349), ('woman', 8328), ('win', 8315), ('world', 8180), ('two', 8180), ('killed', 8129), ('accused', 8097), ('government', 7965), ('s', 7964), ('home', 7845), ('urged', 7841), ('found', 7839), ('south', 7730), ('will', 7671), ('missing', 7582), ('first', 7558), ('is', 7554), ('rural', 7377), ('set', 7311), ('claims', 7232), ('election', 7231), ('cup', 7211), ('attack', 7166), ('school', 7147), ('under', 7121), ('minister', 7062), ('wins', 7014), ('boost', 6997), ('dies', 6934), ('face', 6911), ('north', 6829), ('market', 6822), ('funding', 6781), ('help', 6768), ('talks', 6702), ('child', 6671), ('group', 6657), ('china', 6647), ('one', 6628), ('sex', 6582), ('nt', 6563)]\n"
          ]
        }
      ]
    },
    {
      "cell_type": "code",
      "metadata": {
        "colab": {
          "base_uri": "https://localhost:8080/"
        },
        "id": "jKbBODKg5_Ut",
        "outputId": "fb916291-5b65-427d-be61-d3a32adc1575"
      },
      "source": [
        "# 상위 80%만 남기고 UNK 토큰 추가\n",
        "top_n_ratio = 0.8\n",
        "\n",
        "counter = Counter(dict(counter.most_common(int(top_n_ratio * len(counter)))))\n",
        "vocab = list(counter) + [\"UNK\"]\n",
        "vocab[-10:]"
      ],
      "execution_count": 39,
      "outputs": [
        {
          "output_type": "execute_result",
          "data": {
            "text/plain": [
              "['haytossing',\n",
              " 'mitter',\n",
              " 'flyboss',\n",
              " 'bigga',\n",
              " 'vandeleur',\n",
              " 'accredits',\n",
              " 'ides',\n",
              " 'certifi',\n",
              " 'jackknifes',\n",
              " 'UNK']"
            ]
          },
          "metadata": {},
          "execution_count": 39
        }
      ]
    },
    {
      "cell_type": "code",
      "metadata": {
        "colab": {
          "base_uri": "https://localhost:8080/"
        },
        "id": "r6rjO1Tz6AI2",
        "outputId": "94a73a4d-1020-448d-d46e-1909407239af"
      },
      "source": [
        "vocab_size = len(vocab)\n",
        "vocab_size"
      ],
      "execution_count": 40,
      "outputs": [
        {
          "output_type": "execute_result",
          "data": {
            "text/plain": [
              "77378"
            ]
          },
          "metadata": {},
          "execution_count": 40
        }
      ]
    },
    {
      "cell_type": "code",
      "metadata": {
        "id": "6IeZUD6i6Bd7"
      },
      "source": [
        "word2index = {word:index for index, word in enumerate(vocab)}\n",
        "index2word = {index:word for word, index in word2index.items()}"
      ],
      "execution_count": 41,
      "outputs": []
    },
    {
      "cell_type": "code",
      "metadata": {
        "colab": {
          "base_uri": "https://localhost:8080/"
        },
        "id": "YmKMWRoS6CUD",
        "outputId": "468670a2-1511-4261-c111-fe0bec82854a"
      },
      "source": [
        "word2index['iraq']"
      ],
      "execution_count": 42,
      "outputs": [
        {
          "output_type": "execute_result",
          "data": {
            "text/plain": [
              "132"
            ]
          },
          "metadata": {},
          "execution_count": 42
        }
      ]
    },
    {
      "cell_type": "code",
      "metadata": {
        "colab": {
          "base_uri": "https://localhost:8080/",
          "height": 35
        },
        "id": "Ne-lL8C86C-Y",
        "outputId": "01181eb3-2b21-4486-a097-de7f86bd865f"
      },
      "source": [
        "index2word[96]"
      ],
      "execution_count": 43,
      "outputs": [
        {
          "output_type": "execute_result",
          "data": {
            "application/vnd.google.colaboratory.intrinsic+json": {
              "type": "string"
            },
            "text/plain": [
              "'china'"
            ]
          },
          "metadata": {},
          "execution_count": 43
        }
      ]
    },
    {
      "cell_type": "code",
      "metadata": {
        "id": "J02Oc8MU6DmN"
      },
      "source": [
        "indexed_corpus_list = []\n",
        "for doc in corpus_list:\n",
        "  indexed_corpus_list.append([word2index[word] if word in word2index else word2index[\"UNK\"] for word in doc.split()])"
      ],
      "execution_count": 44,
      "outputs": []
    },
    {
      "cell_type": "code",
      "metadata": {
        "colab": {
          "base_uri": "https://localhost:8080/",
          "height": 35
        },
        "id": "Og8NRgtC6Fsg",
        "outputId": "195a94e3-a0b2-4ae7-add7-7fb0a5efabf0"
      },
      "source": [
        "corpus_list[0]"
      ],
      "execution_count": 45,
      "outputs": [
        {
          "output_type": "execute_result",
          "data": {
            "application/vnd.google.colaboratory.intrinsic+json": {
              "type": "string"
            },
            "text/plain": [
              "'aba decides against community broadcasting licence'"
            ]
          },
          "metadata": {},
          "execution_count": 45
        }
      ]
    },
    {
      "cell_type": "code",
      "metadata": {
        "colab": {
          "base_uri": "https://localhost:8080/"
        },
        "id": "MTaivbho6GV4",
        "outputId": "e48787d6-928a-407b-c0e7-abe428e13c03"
      },
      "source": [
        "indexed_corpus_list[0]"
      ],
      "execution_count": 46,
      "outputs": [
        {
          "output_type": "execute_result",
          "data": {
            "text/plain": [
              "[11212, 6092, 41, 182, 11058, 1320]"
            ]
          },
          "metadata": {},
          "execution_count": 46
        }
      ]
    },
    {
      "cell_type": "code",
      "metadata": {
        "colab": {
          "base_uri": "https://localhost:8080/"
        },
        "id": "t7s9hb6b6JZs",
        "outputId": "09d8108a-64a1-41ff-e285-76591bf97654"
      },
      "source": [
        "word2index['aba']"
      ],
      "execution_count": 47,
      "outputs": [
        {
          "output_type": "execute_result",
          "data": {
            "text/plain": [
              "11212"
            ]
          },
          "metadata": {},
          "execution_count": 47
        }
      ]
    },
    {
      "cell_type": "code",
      "metadata": {
        "colab": {
          "base_uri": "https://localhost:8080/"
        },
        "id": "PSnqmiXH6KTu",
        "outputId": "b01b21f4-cba0-4cc0-dadc-2a24fe4cec1c"
      },
      "source": [
        "word2index['licence']"
      ],
      "execution_count": 48,
      "outputs": [
        {
          "output_type": "execute_result",
          "data": {
            "text/plain": [
              "1320"
            ]
          },
          "metadata": {},
          "execution_count": 48
        }
      ]
    },
    {
      "cell_type": "markdown",
      "metadata": {
        "id": "1tJsMZdY6Opb"
      },
      "source": [
        "## SGNS 데이터셋 생성"
      ]
    },
    {
      "cell_type": "code",
      "metadata": {
        "id": "kb8nntoK6ODJ"
      },
      "source": [
        "# 네거티브 샘플링이 섞인 데이터셋 생성\n",
        "def generating_wordpairs(indexed_corpus, vocab_size, window_size=4):\n",
        "    X = []\n",
        "    Y = []\n",
        "    for row in indexed_corpus:\n",
        "        x, y = skipgrams(sequence=row, vocabulary_size=vocab_size, window_size=window_size,\n",
        "                        negative_samples=1.0, shuffle=True, categorical=False, sampling_table=None, seed=None)\n",
        "        X = X + list(x)\n",
        "        Y = Y + list(y)\n",
        "    return X, Y"
      ],
      "execution_count": 49,
      "outputs": []
    },
    {
      "cell_type": "code",
      "metadata": {
        "id": "qeIewdcA6QwX"
      },
      "source": [
        "X, Y = generating_wordpairs(indexed_corpus_list[0:100], vocab_size, window_size=4)"
      ],
      "execution_count": 50,
      "outputs": []
    },
    {
      "cell_type": "code",
      "metadata": {
        "colab": {
          "base_uri": "https://localhost:8080/"
        },
        "id": "0sPGziYQ6RWo",
        "outputId": "caca467a-c5ee-4923-a136-79a65e1b3fac"
      },
      "source": [
        "print(X[0])"
      ],
      "execution_count": 51,
      "outputs": [
        {
          "output_type": "stream",
          "name": "stdout",
          "text": [
            "[6092, 11058]\n"
          ]
        }
      ]
    },
    {
      "cell_type": "code",
      "metadata": {
        "colab": {
          "base_uri": "https://localhost:8080/"
        },
        "id": "G6FZ5zqw6R7y",
        "outputId": "f22bb7d1-cd8e-44e2-c0ff-28db03140531"
      },
      "source": [
        "print(Y[0])"
      ],
      "execution_count": 52,
      "outputs": [
        {
          "output_type": "stream",
          "name": "stdout",
          "text": [
            "1\n"
          ]
        }
      ]
    },
    {
      "cell_type": "markdown",
      "metadata": {
        "id": "rIT6xIf46b4w"
      },
      "source": [
        "## Embedding"
      ]
    },
    {
      "cell_type": "code",
      "metadata": {
        "colab": {
          "base_uri": "https://localhost:8080/"
        },
        "id": "umgjBKjI6S0i",
        "outputId": "3819e594-47fd-4135-8774-37301099956b"
      },
      "source": [
        "#embedding_dim=300\n",
        "embedding_dim=30\n",
        "\n",
        "input_target = Input((1,))\n",
        "input_context = Input((1,))\n",
        "\n",
        "embedding_layer = Embedding(vocab_size, embedding_dim, input_length=1)\n",
        "\n",
        "target_embedding = embedding_layer(input_target)\n",
        "target_embedding = Reshape((embedding_dim, 1))(target_embedding)\n",
        "context_embedding = embedding_layer(input_context)\n",
        "context_embedding = Reshape((embedding_dim, 1))(context_embedding)\n",
        "\n",
        "hidden_layer = Dot(axes=1)([target_embedding, context_embedding])\n",
        "hidden_layer = Reshape((1,))(hidden_layer)\n",
        "\n",
        "output = Dense(16, activation='sigmoid')(hidden_layer)\n",
        "output = Dense(1, activation='sigmoid')(output)\n",
        "\n",
        "model = Model(inputs=[input_target, input_context], outputs=output)\n",
        "model.summary()\n",
        "model.compile(loss='binary_crossentropy', optimizer='sgd')"
      ],
      "execution_count": 53,
      "outputs": [
        {
          "output_type": "stream",
          "name": "stdout",
          "text": [
            "Model: \"model_1\"\n",
            "__________________________________________________________________________________________________\n",
            "Layer (type)                    Output Shape         Param #     Connected to                     \n",
            "==================================================================================================\n",
            "input_3 (InputLayer)            [(None, 1)]          0                                            \n",
            "__________________________________________________________________________________________________\n",
            "input_4 (InputLayer)            [(None, 1)]          0                                            \n",
            "__________________________________________________________________________________________________\n",
            "embedding_1 (Embedding)         (None, 1, 30)        2321340     input_3[0][0]                    \n",
            "                                                                 input_4[0][0]                    \n",
            "__________________________________________________________________________________________________\n",
            "reshape_3 (Reshape)             (None, 30, 1)        0           embedding_1[0][0]                \n",
            "__________________________________________________________________________________________________\n",
            "reshape_4 (Reshape)             (None, 30, 1)        0           embedding_1[1][0]                \n",
            "__________________________________________________________________________________________________\n",
            "dot_1 (Dot)                     (None, 1, 1)         0           reshape_3[0][0]                  \n",
            "                                                                 reshape_4[0][0]                  \n",
            "__________________________________________________________________________________________________\n",
            "reshape_5 (Reshape)             (None, 1)            0           dot_1[0][0]                      \n",
            "__________________________________________________________________________________________________\n",
            "dense_2 (Dense)                 (None, 16)           32          reshape_5[0][0]                  \n",
            "__________________________________________________________________________________________________\n",
            "dense_3 (Dense)                 (None, 1)            17          dense_2[0][0]                    \n",
            "==================================================================================================\n",
            "Total params: 2,321,389\n",
            "Trainable params: 2,321,389\n",
            "Non-trainable params: 0\n",
            "__________________________________________________________________________________________________\n"
          ]
        }
      ]
    },
    {
      "cell_type": "code",
      "metadata": {
        "colab": {
          "base_uri": "https://localhost:8080/"
        },
        "id": "rMJcDrHO7gg7",
        "outputId": "53a5a5c5-e4d0-4ee1-bd33-98ae93a5a513"
      },
      "source": [
        "# epochs = 100000\n",
        "epochs = 1000\n",
        "batch_size = 512\n",
        "\n",
        "for i in range(epochs):\n",
        "    idx_batch = np.random.choice(len(indexed_corpus_list), batch_size)\n",
        "    X, Y = generating_wordpairs(np.array(indexed_corpus_list)[idx_batch].tolist(), vocab_size)\n",
        "\n",
        "    word_target, word_context = zip(*X)\n",
        "    word_target = np.array(word_target, dtype=np.int32)\n",
        "    word_context = np.array(word_context, dtype=np.int32)\n",
        "\n",
        "    target = np.zeros((1,))\n",
        "    context = np.zeros((1,))\n",
        "    label = np.zeros((1,))\n",
        "    idx = np.random.randint(0, len(Y)-1)\n",
        "    target[0,] = word_target[idx]\n",
        "    context[0,] = word_context[idx]\n",
        "    label[0,] = Y[idx]\n",
        "    loss = model.train_on_batch([target, context], label)\n",
        "    if i % 10 == 0:\n",
        "        print(\"Iteration {}, loss={}\".format(i, loss))"
      ],
      "execution_count": 54,
      "outputs": [
        {
          "output_type": "stream",
          "name": "stderr",
          "text": [
            "/usr/local/lib/python3.7/dist-packages/ipykernel_launcher.py:7: VisibleDeprecationWarning: Creating an ndarray from ragged nested sequences (which is a list-or-tuple of lists-or-tuples-or ndarrays with different lengths or shapes) is deprecated. If you meant to do this, you must specify 'dtype=object' when creating the ndarray\n",
            "  import sys\n"
          ]
        },
        {
          "output_type": "stream",
          "name": "stdout",
          "text": [
            "Iteration 0, loss=0.7868516445159912\n",
            "Iteration 10, loss=0.8306280374526978\n",
            "Iteration 20, loss=0.6297745108604431\n",
            "Iteration 30, loss=0.6377366185188293\n",
            "Iteration 40, loss=0.7446576952934265\n",
            "Iteration 50, loss=0.6953948140144348\n",
            "Iteration 60, loss=0.6652116775512695\n",
            "Iteration 70, loss=0.7419299483299255\n",
            "Iteration 80, loss=0.7604449987411499\n",
            "Iteration 90, loss=0.7254554033279419\n",
            "Iteration 100, loss=0.6725188493728638\n",
            "Iteration 110, loss=0.6272990703582764\n",
            "Iteration 120, loss=0.6587733626365662\n",
            "Iteration 130, loss=0.6162236332893372\n",
            "Iteration 140, loss=0.816859245300293\n",
            "Iteration 150, loss=0.6613016128540039\n",
            "Iteration 160, loss=0.6964981555938721\n",
            "Iteration 170, loss=0.6480298042297363\n",
            "Iteration 180, loss=0.701492190361023\n",
            "Iteration 190, loss=0.7031185626983643\n",
            "Iteration 200, loss=0.7314386367797852\n",
            "Iteration 210, loss=0.6613101363182068\n",
            "Iteration 220, loss=0.5771893858909607\n",
            "Iteration 230, loss=0.8629833459854126\n",
            "Iteration 240, loss=0.8716559410095215\n",
            "Iteration 250, loss=0.8198219537734985\n",
            "Iteration 260, loss=0.6375999450683594\n",
            "Iteration 270, loss=0.7682933807373047\n",
            "Iteration 280, loss=0.6315464973449707\n",
            "Iteration 290, loss=0.7769700288772583\n",
            "Iteration 300, loss=0.7418313026428223\n",
            "Iteration 310, loss=0.7618697285652161\n",
            "Iteration 320, loss=0.7041757106781006\n",
            "Iteration 330, loss=0.6612566709518433\n",
            "Iteration 340, loss=0.6937762498855591\n",
            "Iteration 350, loss=0.7210541367530823\n",
            "Iteration 360, loss=0.6470943689346313\n",
            "Iteration 370, loss=0.65351402759552\n",
            "Iteration 380, loss=0.6362388730049133\n",
            "Iteration 390, loss=0.7451379299163818\n",
            "Iteration 400, loss=0.7161689400672913\n",
            "Iteration 410, loss=0.6879122257232666\n",
            "Iteration 420, loss=0.7144447565078735\n",
            "Iteration 430, loss=0.6738168597221375\n",
            "Iteration 440, loss=0.733615517616272\n",
            "Iteration 450, loss=0.7060809135437012\n",
            "Iteration 460, loss=0.6794977784156799\n",
            "Iteration 470, loss=0.7564223408699036\n",
            "Iteration 480, loss=0.6634566783905029\n",
            "Iteration 490, loss=0.7451010346412659\n",
            "Iteration 500, loss=0.7654740810394287\n",
            "Iteration 510, loss=0.6351132392883301\n",
            "Iteration 520, loss=0.6973825097084045\n",
            "Iteration 530, loss=0.688542366027832\n",
            "Iteration 540, loss=0.6497214436531067\n",
            "Iteration 550, loss=0.706580400466919\n",
            "Iteration 560, loss=0.7316164374351501\n",
            "Iteration 570, loss=0.7554528713226318\n",
            "Iteration 580, loss=0.6180428266525269\n",
            "Iteration 590, loss=0.7624554634094238\n",
            "Iteration 600, loss=0.7809448838233948\n",
            "Iteration 610, loss=0.7440468072891235\n",
            "Iteration 620, loss=0.6725323796272278\n",
            "Iteration 630, loss=0.7353399991989136\n",
            "Iteration 640, loss=0.7321610450744629\n",
            "Iteration 650, loss=0.7066993713378906\n",
            "Iteration 660, loss=0.7278697490692139\n",
            "Iteration 670, loss=0.6997490525245667\n",
            "Iteration 680, loss=0.6735532283782959\n",
            "Iteration 690, loss=0.6855661273002625\n",
            "Iteration 700, loss=0.711361289024353\n",
            "Iteration 710, loss=0.6319685578346252\n",
            "Iteration 720, loss=0.7235155701637268\n",
            "Iteration 730, loss=0.6638293266296387\n",
            "Iteration 740, loss=0.6680237054824829\n",
            "Iteration 750, loss=0.6889311075210571\n",
            "Iteration 760, loss=0.7722079753875732\n",
            "Iteration 770, loss=0.7110735177993774\n",
            "Iteration 780, loss=0.7112306356430054\n",
            "Iteration 790, loss=0.7114571928977966\n",
            "Iteration 800, loss=0.7274461984634399\n",
            "Iteration 810, loss=0.6518136262893677\n",
            "Iteration 820, loss=0.7556348443031311\n",
            "Iteration 830, loss=0.6642849445343018\n",
            "Iteration 840, loss=0.7191429734230042\n",
            "Iteration 850, loss=0.6923948526382446\n",
            "Iteration 860, loss=0.6668872833251953\n",
            "Iteration 870, loss=0.7163499593734741\n",
            "Iteration 880, loss=0.6479144096374512\n",
            "Iteration 890, loss=0.7615591883659363\n",
            "Iteration 900, loss=0.7279361486434937\n",
            "Iteration 910, loss=0.6850598454475403\n",
            "Iteration 920, loss=0.6754265427589417\n",
            "Iteration 930, loss=0.6804103851318359\n",
            "Iteration 940, loss=0.6352963447570801\n",
            "Iteration 950, loss=0.7450882196426392\n",
            "Iteration 960, loss=0.764064371585846\n",
            "Iteration 970, loss=0.6338045001029968\n",
            "Iteration 980, loss=0.7237331867218018\n",
            "Iteration 990, loss=0.7207310199737549\n"
          ]
        }
      ]
    },
    {
      "cell_type": "code",
      "metadata": {
        "id": "1Y1sRrry6ef7"
      },
      "source": [
        "word2vec_file_path = 'word2vec.txt'\n",
        "f = open(word2vec_file_path, 'w')\n",
        "f.write('{} {}\\n'.format(vocab_size-1, embedding_dim))\n",
        "vectors = model.get_weights()[0]\n",
        "for word, i in word2index.items():\n",
        "    f.write('{} {}\\n'.format(word, ' '.join(map(str, list(vectors[i, :])))))\n",
        "f.close()"
      ],
      "execution_count": 55,
      "outputs": []
    },
    {
      "cell_type": "code",
      "metadata": {
        "colab": {
          "base_uri": "https://localhost:8080/"
        },
        "id": "avjJqEnN6fhV",
        "outputId": "b60a447a-1c42-4048-97fe-044d041c0c18"
      },
      "source": [
        "from gensim.models.keyedvectors import Word2VecKeyedVectors\n",
        "\n",
        "word_vectors = Word2VecKeyedVectors.load_word2vec_format(word2vec_file_path, binary=False)\n",
        "vector = word_vectors['computer']\n",
        "vector"
      ],
      "execution_count": 56,
      "outputs": [
        {
          "output_type": "execute_result",
          "data": {
            "text/plain": [
              "array([ 7.9439878e-03,  3.6232356e-02, -1.7401122e-02,  3.7665080e-02,\n",
              "        4.7997203e-02,  2.6497137e-02, -3.4903705e-02,  5.1197186e-03,\n",
              "        4.9720753e-02,  1.9438755e-02,  3.3077013e-02,  1.2119353e-02,\n",
              "       -3.3054519e-02,  3.1138372e-02,  1.0858893e-02, -4.8681926e-02,\n",
              "        8.4899366e-05, -4.1210093e-02, -2.0462228e-02,  8.3420873e-03,\n",
              "        3.8035344e-02,  2.1159958e-02, -8.4199198e-03, -1.3231263e-03,\n",
              "       -4.4698525e-02,  3.5169031e-02, -1.0928415e-02, -2.6792645e-02,\n",
              "        4.9998078e-02, -1.0963894e-02], dtype=float32)"
            ]
          },
          "metadata": {},
          "execution_count": 56
        }
      ]
    },
    {
      "cell_type": "code",
      "metadata": {
        "colab": {
          "base_uri": "https://localhost:8080/"
        },
        "id": "zXAyupug6gcI",
        "outputId": "6e0cde17-d1c4-40d9-fe14-e4fd3438b6e6"
      },
      "source": [
        "word_vectors.similar_by_word(\"cat\")"
      ],
      "execution_count": 57,
      "outputs": [
        {
          "output_type": "execute_result",
          "data": {
            "text/plain": [
              "[('passchendaele', 0.6930641531944275),\n",
              " ('meharry', 0.6720962524414062),\n",
              " ('recreativo', 0.621709942817688),\n",
              " ('bodyline', 0.6203605532646179),\n",
              " ('solastor', 0.617520272731781),\n",
              " ('kevat', 0.6149469017982483),\n",
              " ('mendelsohn', 0.6098932027816772),\n",
              " ('zellweger', 0.609707772731781),\n",
              " ('japan', 0.6096819043159485),\n",
              " ('speakds', 0.5981526374816895)]"
            ]
          },
          "metadata": {},
          "execution_count": 57
        }
      ]
    }
  ]
}