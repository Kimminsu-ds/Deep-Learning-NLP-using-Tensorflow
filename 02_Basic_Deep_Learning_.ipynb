{
  "nbformat": 4,
  "nbformat_minor": 0,
  "metadata": {
    "colab": {
      "name": "02. Basic Deep Learning .ipynb",
      "provenance": [],
      "collapsed_sections": [
        "FG6XposTu8GJ",
        "9nMZug2Owoiq",
        "zhz_NQCDxOwu",
        "HaS9D15P46cU",
        "nH0ke2gm9Xyk",
        "6gDBVBwd90W3",
        "-YGnRbSv_Qiy",
        "_ipxnKXNBBeP",
        "0A9LXMfZDm_3",
        "GDqkGjjmRUO5",
        "INPWk7CnTDFE",
        "gN725U_GVoX1",
        "9JWRVOIzX49I",
        "g2VjiD7AYo6M",
        "3F-cbGgAbWAs",
        "DsfCBNeadlbk",
        "6lfU0k-FecZv"
      ],
      "authorship_tag": "ABX9TyOI5ka8c7xxgeH/z/WUHtZe",
      "include_colab_link": true
    },
    "kernelspec": {
      "display_name": "Python 3",
      "name": "python3"
    },
    "language_info": {
      "name": "python"
    },
    "accelerator": "GPU"
  },
  "cells": [
    {
      "cell_type": "markdown",
      "metadata": {
        "id": "view-in-github",
        "colab_type": "text"
      },
      "source": [
        "<a href=\"https://colab.research.google.com/github/Kimminsu-ds/Deep-Learning-NLP-using-Tensorflow/blob/main/02_Basic_Deep_Learning_.ipynb\" target=\"_parent\"><img src=\"https://colab.research.google.com/assets/colab-badge.svg\" alt=\"Open In Colab\"/></a>"
      ]
    },
    {
      "cell_type": "markdown",
      "metadata": {
        "id": "RVfz76BwtjM9"
      },
      "source": [
        "# 러닝스푼즈 - Tensorflow를 활용한 딥러닝 자연어처리"
      ]
    },
    {
      "cell_type": "markdown",
      "metadata": {
        "id": "FG6XposTu8GJ"
      },
      "source": [
        "## Bag of Words\n",
        "- Bag of Words란 단어들의 순서는 전혀 고려하지 않고 단어들의 출현 빈도에만 집중하는 텍스트 데이터의 수치화 표현 방법입니다."
      ]
    },
    {
      "cell_type": "code",
      "metadata": {
        "colab": {
          "base_uri": "https://localhost:8080/"
        },
        "id": "YCEstAEwuTft",
        "outputId": "b0e76b30-3e37-413d-f6e1-a942afbd44dc"
      },
      "source": [
        "!pip install konlpy"
      ],
      "execution_count": 1,
      "outputs": [
        {
          "output_type": "stream",
          "name": "stdout",
          "text": [
            "Collecting konlpy\n",
            "  Downloading konlpy-0.5.2-py2.py3-none-any.whl (19.4 MB)\n",
            "\u001b[K     |████████████████████████████████| 19.4 MB 1.2 MB/s \n",
            "\u001b[?25hRequirement already satisfied: lxml>=4.1.0 in /usr/local/lib/python3.7/dist-packages (from konlpy) (4.2.6)\n",
            "Collecting colorama\n",
            "  Downloading colorama-0.4.4-py2.py3-none-any.whl (16 kB)\n",
            "Requirement already satisfied: tweepy>=3.7.0 in /usr/local/lib/python3.7/dist-packages (from konlpy) (3.10.0)\n",
            "Collecting JPype1>=0.7.0\n",
            "  Downloading JPype1-1.3.0-cp37-cp37m-manylinux_2_5_x86_64.manylinux1_x86_64.whl (448 kB)\n",
            "\u001b[K     |████████████████████████████████| 448 kB 48.6 MB/s \n",
            "\u001b[?25hCollecting beautifulsoup4==4.6.0\n",
            "  Downloading beautifulsoup4-4.6.0-py3-none-any.whl (86 kB)\n",
            "\u001b[K     |████████████████████████████████| 86 kB 6.2 MB/s \n",
            "\u001b[?25hRequirement already satisfied: numpy>=1.6 in /usr/local/lib/python3.7/dist-packages (from konlpy) (1.19.5)\n",
            "Requirement already satisfied: typing-extensions in /usr/local/lib/python3.7/dist-packages (from JPype1>=0.7.0->konlpy) (3.7.4.3)\n",
            "Requirement already satisfied: requests[socks]>=2.11.1 in /usr/local/lib/python3.7/dist-packages (from tweepy>=3.7.0->konlpy) (2.23.0)\n",
            "Requirement already satisfied: six>=1.10.0 in /usr/local/lib/python3.7/dist-packages (from tweepy>=3.7.0->konlpy) (1.15.0)\n",
            "Requirement already satisfied: requests-oauthlib>=0.7.0 in /usr/local/lib/python3.7/dist-packages (from tweepy>=3.7.0->konlpy) (1.3.0)\n",
            "Requirement already satisfied: oauthlib>=3.0.0 in /usr/local/lib/python3.7/dist-packages (from requests-oauthlib>=0.7.0->tweepy>=3.7.0->konlpy) (3.1.1)\n",
            "Requirement already satisfied: chardet<4,>=3.0.2 in /usr/local/lib/python3.7/dist-packages (from requests[socks]>=2.11.1->tweepy>=3.7.0->konlpy) (3.0.4)\n",
            "Requirement already satisfied: urllib3!=1.25.0,!=1.25.1,<1.26,>=1.21.1 in /usr/local/lib/python3.7/dist-packages (from requests[socks]>=2.11.1->tweepy>=3.7.0->konlpy) (1.24.3)\n",
            "Requirement already satisfied: certifi>=2017.4.17 in /usr/local/lib/python3.7/dist-packages (from requests[socks]>=2.11.1->tweepy>=3.7.0->konlpy) (2021.5.30)\n",
            "Requirement already satisfied: idna<3,>=2.5 in /usr/local/lib/python3.7/dist-packages (from requests[socks]>=2.11.1->tweepy>=3.7.0->konlpy) (2.10)\n",
            "Requirement already satisfied: PySocks!=1.5.7,>=1.5.6 in /usr/local/lib/python3.7/dist-packages (from requests[socks]>=2.11.1->tweepy>=3.7.0->konlpy) (1.7.1)\n",
            "Installing collected packages: JPype1, colorama, beautifulsoup4, konlpy\n",
            "  Attempting uninstall: beautifulsoup4\n",
            "    Found existing installation: beautifulsoup4 4.6.3\n",
            "    Uninstalling beautifulsoup4-4.6.3:\n",
            "      Successfully uninstalled beautifulsoup4-4.6.3\n",
            "Successfully installed JPype1-1.3.0 beautifulsoup4-4.6.0 colorama-0.4.4 konlpy-0.5.2\n"
          ]
        }
      ]
    },
    {
      "cell_type": "code",
      "metadata": {
        "id": "lcgyo4pKvGEp"
      },
      "source": [
        "from konlpy.tag import Okt\n",
        "import re\n",
        "\n",
        "okt = Okt()\n",
        "\n",
        "# 정규 표현식을 통해 온점을 제거하는 정제 작업\n",
        "token = re.sub(\"(\\.)\",\"\",\"정부가 발표하는 물가상승률과 소비자가 느끼는 물가상승률은 다르다.\")  \n",
        "\n",
        "# Okt 형태소 분석기를 통해 토큰화 작업을 수행한 뒤에 token에 저장\n",
        "token = okt.morphs(token)\n",
        "\n",
        "word2index = {}\n",
        "bow = []\n",
        "\n",
        "for voca in token:\n",
        "  # token을 읽으면서 word2index에 없는 단어는 새로 추가하고 이미 있는 단어는 pass합니다.\n",
        "  if voca not in word2index.keys():\n",
        "    word2index[voca] = len(word2index)\n",
        "    bow.insert(len(word2index)-1, 1) # 단어 빈도는 최소 1이기 때문에 기본값 1\n",
        "  \n",
        "  # 재등장하는 단어는 단어의 빈도를 올려줍니다.\n",
        "  else:\n",
        "    index = word2index.get(voca)\n",
        "    bow[index] = bow[index] + 1 "
      ],
      "execution_count": 2,
      "outputs": []
    },
    {
      "cell_type": "code",
      "metadata": {
        "colab": {
          "base_uri": "https://localhost:8080/"
        },
        "id": "fH41FE2qwWE7",
        "outputId": "d5ba5f5f-499b-447d-852e-dedbe624a810"
      },
      "source": [
        "print(word2index)\n",
        "print(bow)"
      ],
      "execution_count": 3,
      "outputs": [
        {
          "output_type": "stream",
          "name": "stdout",
          "text": [
            "{'정부': 0, '가': 1, '발표': 2, '하는': 3, '물가상승률': 4, '과': 5, '소비자': 6, '느끼는': 7, '은': 8, '다르다': 9}\n",
            "[1, 2, 1, 1, 2, 1, 1, 1, 1, 1]\n"
          ]
        }
      ]
    },
    {
      "cell_type": "markdown",
      "metadata": {
        "id": "9nMZug2Owoiq"
      },
      "source": [
        "## CountVectorizer"
      ]
    },
    {
      "cell_type": "code",
      "metadata": {
        "colab": {
          "base_uri": "https://localhost:8080/"
        },
        "id": "r3_kw3plwXzS",
        "outputId": "1c1e7f06-33c8-4d7e-dab2-2246d4f8fc4b"
      },
      "source": [
        "from sklearn.feature_extraction.text import CountVectorizer\n",
        "\n",
        "corpus = ['you know I want your love. because I love you.']\n",
        "\n",
        "vector = CountVectorizer()\n",
        "\n",
        "# 코퍼스로부터 각 단어의 빈도 수를 기록한다.\n",
        "print(vector.fit_transform(corpus).toarray())\n",
        "\n",
        "# 각 단어의 인덱스가 어떻게 부여되었는지를 보여준다.\n",
        "print(sorted(vector.vocabulary_.items(), key = lambda x: x[1]))"
      ],
      "execution_count": 4,
      "outputs": [
        {
          "output_type": "stream",
          "name": "stdout",
          "text": [
            "[[1 1 2 1 2 1]]\n",
            "[('because', 0), ('know', 1), ('love', 2), ('want', 3), ('you', 4), ('your', 5)]\n"
          ]
        }
      ]
    },
    {
      "cell_type": "markdown",
      "metadata": {
        "id": "zhz_NQCDxOwu"
      },
      "source": [
        "## TF-IDF 행렬 만들기"
      ]
    },
    {
      "cell_type": "code",
      "metadata": {
        "colab": {
          "base_uri": "https://localhost:8080/"
        },
        "id": "r2DHM3PexAnK",
        "outputId": "0de06e9f-9267-4979-c7eb-10913c2433c6"
      },
      "source": [
        "import pandas as pd\n",
        "from math import log\n",
        "\n",
        "docs = ['먹고 싶은 사과', '먹고 싶은 바나나', '길고 노란 바나나 바나나', '저는 과일이 좋아요']\n",
        "vocab = list(set(w for doc in docs for w in doc.split()))\n",
        "vocab.sort()\n",
        "\n",
        "print(vocab)"
      ],
      "execution_count": 5,
      "outputs": [
        {
          "output_type": "stream",
          "name": "stdout",
          "text": [
            "['과일이', '길고', '노란', '먹고', '바나나', '사과', '싶은', '저는', '좋아요']\n"
          ]
        }
      ]
    },
    {
      "cell_type": "code",
      "metadata": {
        "id": "7UqzrP_ixR2a"
      },
      "source": [
        "N = len(docs) # 총 문서 수\n",
        "\n",
        "def tf(t, d):\n",
        "  return d.count(t)\n",
        "\n",
        "def idf(t):\n",
        "  df = 0\n",
        "  for doc in docs:\n",
        "    df += t in doc\n",
        "  return log(N / (df + 1))\n",
        "\n",
        "def tfidf(t, d):\n",
        "  return tf(t, d) * idf(t)"
      ],
      "execution_count": 6,
      "outputs": []
    },
    {
      "cell_type": "code",
      "metadata": {
        "colab": {
          "base_uri": "https://localhost:8080/",
          "height": 171
        },
        "id": "owJ3KptaxfV4",
        "outputId": "a97e929b-9849-4885-9b47-b4d95d4e939b"
      },
      "source": [
        "result = []\n",
        "for i in range(N): \n",
        "  result.append([])\n",
        "  d = docs[i]\n",
        "\n",
        "  for j in range(len(vocab)):\n",
        "    t = vocab[j]\n",
        "    result[-1].append(tf(t, d))\n",
        "\n",
        "tf_ = pd.DataFrame(result, columns = vocab)\n",
        "tf_"
      ],
      "execution_count": 7,
      "outputs": [
        {
          "output_type": "execute_result",
          "data": {
            "text/html": [
              "<div>\n",
              "<style scoped>\n",
              "    .dataframe tbody tr th:only-of-type {\n",
              "        vertical-align: middle;\n",
              "    }\n",
              "\n",
              "    .dataframe tbody tr th {\n",
              "        vertical-align: top;\n",
              "    }\n",
              "\n",
              "    .dataframe thead th {\n",
              "        text-align: right;\n",
              "    }\n",
              "</style>\n",
              "<table border=\"1\" class=\"dataframe\">\n",
              "  <thead>\n",
              "    <tr style=\"text-align: right;\">\n",
              "      <th></th>\n",
              "      <th>과일이</th>\n",
              "      <th>길고</th>\n",
              "      <th>노란</th>\n",
              "      <th>먹고</th>\n",
              "      <th>바나나</th>\n",
              "      <th>사과</th>\n",
              "      <th>싶은</th>\n",
              "      <th>저는</th>\n",
              "      <th>좋아요</th>\n",
              "    </tr>\n",
              "  </thead>\n",
              "  <tbody>\n",
              "    <tr>\n",
              "      <th>0</th>\n",
              "      <td>0</td>\n",
              "      <td>0</td>\n",
              "      <td>0</td>\n",
              "      <td>1</td>\n",
              "      <td>0</td>\n",
              "      <td>1</td>\n",
              "      <td>1</td>\n",
              "      <td>0</td>\n",
              "      <td>0</td>\n",
              "    </tr>\n",
              "    <tr>\n",
              "      <th>1</th>\n",
              "      <td>0</td>\n",
              "      <td>0</td>\n",
              "      <td>0</td>\n",
              "      <td>1</td>\n",
              "      <td>1</td>\n",
              "      <td>0</td>\n",
              "      <td>1</td>\n",
              "      <td>0</td>\n",
              "      <td>0</td>\n",
              "    </tr>\n",
              "    <tr>\n",
              "      <th>2</th>\n",
              "      <td>0</td>\n",
              "      <td>1</td>\n",
              "      <td>1</td>\n",
              "      <td>0</td>\n",
              "      <td>2</td>\n",
              "      <td>0</td>\n",
              "      <td>0</td>\n",
              "      <td>0</td>\n",
              "      <td>0</td>\n",
              "    </tr>\n",
              "    <tr>\n",
              "      <th>3</th>\n",
              "      <td>1</td>\n",
              "      <td>0</td>\n",
              "      <td>0</td>\n",
              "      <td>0</td>\n",
              "      <td>0</td>\n",
              "      <td>0</td>\n",
              "      <td>0</td>\n",
              "      <td>1</td>\n",
              "      <td>1</td>\n",
              "    </tr>\n",
              "  </tbody>\n",
              "</table>\n",
              "</div>"
            ],
            "text/plain": [
              "   과일이  길고  노란  먹고  바나나  사과  싶은  저는  좋아요\n",
              "0    0   0   0   1    0   1   1   0    0\n",
              "1    0   0   0   1    1   0   1   0    0\n",
              "2    0   1   1   0    2   0   0   0    0\n",
              "3    1   0   0   0    0   0   0   1    1"
            ]
          },
          "metadata": {},
          "execution_count": 7
        }
      ]
    },
    {
      "cell_type": "code",
      "metadata": {
        "colab": {
          "base_uri": "https://localhost:8080/",
          "height": 324
        },
        "id": "EGdmpBpQ4Cw0",
        "outputId": "1f71ce76-3b0b-4bfe-8ce9-248eaf69e666"
      },
      "source": [
        "result = []\n",
        "for j in range(len(vocab)):\n",
        "  t = vocab[j]\n",
        "  result.append(idf(t))\n",
        "\n",
        "idf_ = pd.DataFrame(result, index = vocab, columns = [\"IDF\"])\n",
        "idf_"
      ],
      "execution_count": 8,
      "outputs": [
        {
          "output_type": "execute_result",
          "data": {
            "text/html": [
              "<div>\n",
              "<style scoped>\n",
              "    .dataframe tbody tr th:only-of-type {\n",
              "        vertical-align: middle;\n",
              "    }\n",
              "\n",
              "    .dataframe tbody tr th {\n",
              "        vertical-align: top;\n",
              "    }\n",
              "\n",
              "    .dataframe thead th {\n",
              "        text-align: right;\n",
              "    }\n",
              "</style>\n",
              "<table border=\"1\" class=\"dataframe\">\n",
              "  <thead>\n",
              "    <tr style=\"text-align: right;\">\n",
              "      <th></th>\n",
              "      <th>IDF</th>\n",
              "    </tr>\n",
              "  </thead>\n",
              "  <tbody>\n",
              "    <tr>\n",
              "      <th>과일이</th>\n",
              "      <td>0.693147</td>\n",
              "    </tr>\n",
              "    <tr>\n",
              "      <th>길고</th>\n",
              "      <td>0.693147</td>\n",
              "    </tr>\n",
              "    <tr>\n",
              "      <th>노란</th>\n",
              "      <td>0.693147</td>\n",
              "    </tr>\n",
              "    <tr>\n",
              "      <th>먹고</th>\n",
              "      <td>0.287682</td>\n",
              "    </tr>\n",
              "    <tr>\n",
              "      <th>바나나</th>\n",
              "      <td>0.287682</td>\n",
              "    </tr>\n",
              "    <tr>\n",
              "      <th>사과</th>\n",
              "      <td>0.693147</td>\n",
              "    </tr>\n",
              "    <tr>\n",
              "      <th>싶은</th>\n",
              "      <td>0.287682</td>\n",
              "    </tr>\n",
              "    <tr>\n",
              "      <th>저는</th>\n",
              "      <td>0.693147</td>\n",
              "    </tr>\n",
              "    <tr>\n",
              "      <th>좋아요</th>\n",
              "      <td>0.693147</td>\n",
              "    </tr>\n",
              "  </tbody>\n",
              "</table>\n",
              "</div>"
            ],
            "text/plain": [
              "          IDF\n",
              "과일이  0.693147\n",
              "길고   0.693147\n",
              "노란   0.693147\n",
              "먹고   0.287682\n",
              "바나나  0.287682\n",
              "사과   0.693147\n",
              "싶은   0.287682\n",
              "저는   0.693147\n",
              "좋아요  0.693147"
            ]
          },
          "metadata": {},
          "execution_count": 8
        }
      ]
    },
    {
      "cell_type": "code",
      "metadata": {
        "colab": {
          "base_uri": "https://localhost:8080/",
          "height": 171
        },
        "id": "0cbDDwNH4VFM",
        "outputId": "0ebfda46-31ab-4b93-f247-21c1535ada98"
      },
      "source": [
        "result = []\n",
        "for i in range(N):\n",
        "  result.append([])\n",
        "  d = docs[i]\n",
        "  \n",
        "  for j in range(len(vocab)):\n",
        "    t = vocab[j]\n",
        "    result[-1].append(tfidf(t, d))\n",
        "\n",
        "tfidf_ = pd.DataFrame(result, columns = vocab)\n",
        "tfidf_"
      ],
      "execution_count": 9,
      "outputs": [
        {
          "output_type": "execute_result",
          "data": {
            "text/html": [
              "<div>\n",
              "<style scoped>\n",
              "    .dataframe tbody tr th:only-of-type {\n",
              "        vertical-align: middle;\n",
              "    }\n",
              "\n",
              "    .dataframe tbody tr th {\n",
              "        vertical-align: top;\n",
              "    }\n",
              "\n",
              "    .dataframe thead th {\n",
              "        text-align: right;\n",
              "    }\n",
              "</style>\n",
              "<table border=\"1\" class=\"dataframe\">\n",
              "  <thead>\n",
              "    <tr style=\"text-align: right;\">\n",
              "      <th></th>\n",
              "      <th>과일이</th>\n",
              "      <th>길고</th>\n",
              "      <th>노란</th>\n",
              "      <th>먹고</th>\n",
              "      <th>바나나</th>\n",
              "      <th>사과</th>\n",
              "      <th>싶은</th>\n",
              "      <th>저는</th>\n",
              "      <th>좋아요</th>\n",
              "    </tr>\n",
              "  </thead>\n",
              "  <tbody>\n",
              "    <tr>\n",
              "      <th>0</th>\n",
              "      <td>0.000000</td>\n",
              "      <td>0.000000</td>\n",
              "      <td>0.000000</td>\n",
              "      <td>0.287682</td>\n",
              "      <td>0.000000</td>\n",
              "      <td>0.693147</td>\n",
              "      <td>0.287682</td>\n",
              "      <td>0.000000</td>\n",
              "      <td>0.000000</td>\n",
              "    </tr>\n",
              "    <tr>\n",
              "      <th>1</th>\n",
              "      <td>0.000000</td>\n",
              "      <td>0.000000</td>\n",
              "      <td>0.000000</td>\n",
              "      <td>0.287682</td>\n",
              "      <td>0.287682</td>\n",
              "      <td>0.000000</td>\n",
              "      <td>0.287682</td>\n",
              "      <td>0.000000</td>\n",
              "      <td>0.000000</td>\n",
              "    </tr>\n",
              "    <tr>\n",
              "      <th>2</th>\n",
              "      <td>0.000000</td>\n",
              "      <td>0.693147</td>\n",
              "      <td>0.693147</td>\n",
              "      <td>0.000000</td>\n",
              "      <td>0.575364</td>\n",
              "      <td>0.000000</td>\n",
              "      <td>0.000000</td>\n",
              "      <td>0.000000</td>\n",
              "      <td>0.000000</td>\n",
              "    </tr>\n",
              "    <tr>\n",
              "      <th>3</th>\n",
              "      <td>0.693147</td>\n",
              "      <td>0.000000</td>\n",
              "      <td>0.000000</td>\n",
              "      <td>0.000000</td>\n",
              "      <td>0.000000</td>\n",
              "      <td>0.000000</td>\n",
              "      <td>0.000000</td>\n",
              "      <td>0.693147</td>\n",
              "      <td>0.693147</td>\n",
              "    </tr>\n",
              "  </tbody>\n",
              "</table>\n",
              "</div>"
            ],
            "text/plain": [
              "        과일이        길고        노란  ...        싶은        저는       좋아요\n",
              "0  0.000000  0.000000  0.000000  ...  0.287682  0.000000  0.000000\n",
              "1  0.000000  0.000000  0.000000  ...  0.287682  0.000000  0.000000\n",
              "2  0.000000  0.693147  0.693147  ...  0.000000  0.000000  0.000000\n",
              "3  0.693147  0.000000  0.000000  ...  0.000000  0.693147  0.693147\n",
              "\n",
              "[4 rows x 9 columns]"
            ]
          },
          "metadata": {},
          "execution_count": 9
        }
      ]
    },
    {
      "cell_type": "markdown",
      "metadata": {
        "id": "HaS9D15P46cU"
      },
      "source": [
        "## Tensorflow로 Bag of Words 구현하기"
      ]
    },
    {
      "cell_type": "code",
      "metadata": {
        "id": "prfFKFlC5KBW"
      },
      "source": [
        "import numpy as np\n",
        "from tensorflow.keras.preprocessing.text import Tokenizer\n",
        "\n",
        "texts = ['먹고 싶은 사과', '먹고 싶은 바나나', '길고 노란 바나나 바나나', '저는 과일이 좋아요']\n",
        "\n",
        "t = Tokenizer()\n",
        "t.fit_on_texts(texts)"
      ],
      "execution_count": 10,
      "outputs": []
    },
    {
      "cell_type": "markdown",
      "metadata": {
        "id": "FcABXfYM5AoK"
      },
      "source": [
        "- 각 단어에 숫자 1부터 시작하는 정수 인덱스가 부여되었습니다."
      ]
    },
    {
      "cell_type": "code",
      "metadata": {
        "colab": {
          "base_uri": "https://localhost:8080/"
        },
        "id": "WrNxNHGY5mRu",
        "outputId": "665a0b3d-7ff3-44f7-87fc-b60b6c4b994a"
      },
      "source": [
        "print(t.word_index)"
      ],
      "execution_count": 11,
      "outputs": [
        {
          "output_type": "stream",
          "name": "stdout",
          "text": [
            "{'바나나': 1, '먹고': 2, '싶은': 3, '사과': 4, '길고': 5, '노란': 6, '저는': 7, '과일이': 8, '좋아요': 9}\n"
          ]
        }
      ]
    },
    {
      "cell_type": "markdown",
      "metadata": {
        "id": "L_B7w0vW6Hjt"
      },
      "source": [
        "- **`texts_to_matrix()`**는 입력된 텍스트 데이터로부터 행렬을 만들어줍니다.\n",
        "- **`texts_to_matrix()`**는 \"binary\", \"count\", \"freq\", \"tfidf\" 총 4개의 모드를 지원합니다."
      ]
    },
    {
      "cell_type": "markdown",
      "metadata": {
        "id": "JomDfWua6nSt"
      },
      "source": [
        "### count 모드\n",
        "- 문서 단어 행렬(DTM, Document-Term-Matrix)을 생성합니다.\n",
        "- DTM에서의 인덱스는 앞서 확인한 word_index의 결과입니다.\n",
        "- 주의할 점은 각 단어에 부여되는 인덱스는 1부터 시작하는 반면에 완성된 행렬의 인덱스는 0부터 시작합니다.\n",
        "- 실제 단어의 개수는 9개였지만 행렬의 열의 개수는 10개인 것과 첫번째 열은 모든 행에서 값이 0인 것을 볼 수 있습니다.\n",
        "- 인덱스 0에는 그 어떤 단어도 할당되지 않았기 때문입니다.\n",
        "- DTM은 Bag of Words를 기반으로 하므로 단어 순서 정보는 보존되지 않습니다."
      ]
    },
    {
      "cell_type": "code",
      "metadata": {
        "colab": {
          "base_uri": "https://localhost:8080/"
        },
        "id": "BkYYQqAe5znV",
        "outputId": "298b3935-9791-4697-e634-bf744ac85cb5"
      },
      "source": [
        "print(t.texts_to_matrix(texts, mode = \"count\"))"
      ],
      "execution_count": 12,
      "outputs": [
        {
          "output_type": "stream",
          "name": "stdout",
          "text": [
            "[[0. 0. 1. 1. 1. 0. 0. 0. 0. 0.]\n",
            " [0. 1. 1. 1. 0. 0. 0. 0. 0. 0.]\n",
            " [0. 2. 0. 0. 0. 1. 1. 0. 0. 0.]\n",
            " [0. 0. 0. 0. 0. 0. 0. 1. 1. 1.]]\n"
          ]
        }
      ]
    },
    {
      "cell_type": "markdown",
      "metadata": {
        "id": "Dkfo_ynW8Ohw"
      },
      "source": [
        "### binary 모드\n",
        "- 원-핫 벡터를 행렬로 표현하여 반환"
      ]
    },
    {
      "cell_type": "code",
      "metadata": {
        "colab": {
          "base_uri": "https://localhost:8080/"
        },
        "id": "ncbiHqQ06Pv1",
        "outputId": "02e284a0-8ef4-4dff-cab4-6077f447f467"
      },
      "source": [
        "print(t.texts_to_matrix(texts, mode = \"binary\"))"
      ],
      "execution_count": 13,
      "outputs": [
        {
          "output_type": "stream",
          "name": "stdout",
          "text": [
            "[[0. 0. 1. 1. 1. 0. 0. 0. 0. 0.]\n",
            " [0. 1. 1. 1. 0. 0. 0. 0. 0. 0.]\n",
            " [0. 1. 0. 0. 0. 1. 1. 0. 0. 0.]\n",
            " [0. 0. 0. 0. 0. 0. 0. 1. 1. 1.]]\n"
          ]
        }
      ]
    },
    {
      "cell_type": "markdown",
      "metadata": {
        "id": "w7i0j46H8opQ"
      },
      "source": [
        "### tfidf 모드\n",
        "- tfidf 행렬을 반환\n",
        "- tfidf의 기본 식이나 scikit-learn의 TfidfVectorizer에서 사용하는 식과는 조금 다름\n",
        "- 자세한 건 구글링"
      ]
    },
    {
      "cell_type": "code",
      "metadata": {
        "colab": {
          "base_uri": "https://localhost:8080/"
        },
        "id": "xITBMMZ78ncg",
        "outputId": "b34db311-af1f-4105-f689-6d9430bfd6a8"
      },
      "source": [
        "print(t.texts_to_matrix(texts, mode = 'tfidf').round(2))"
      ],
      "execution_count": 14,
      "outputs": [
        {
          "output_type": "stream",
          "name": "stdout",
          "text": [
            "[[0.   0.   0.85 0.85 1.1  0.   0.   0.   0.   0.  ]\n",
            " [0.   0.85 0.85 0.85 0.   0.   0.   0.   0.   0.  ]\n",
            " [0.   1.43 0.   0.   0.   1.1  1.1  0.   0.   0.  ]\n",
            " [0.   0.   0.   0.   0.   0.   0.   1.1  1.1  1.1 ]]\n"
          ]
        }
      ]
    },
    {
      "cell_type": "markdown",
      "metadata": {
        "id": "1J8gclzA9DXd"
      },
      "source": [
        "### freq 모드\n",
        "- 각 문서에서의 각 단어의 등장 횟수를 분자로, 각 문서의 크기(각 문서에서 등장한 모든 단어의 개수 총합)를 분모로 하는 표현 방법"
      ]
    },
    {
      "cell_type": "code",
      "metadata": {
        "colab": {
          "base_uri": "https://localhost:8080/"
        },
        "id": "AlQkQZfV9B5w",
        "outputId": "ec275fc9-4ef3-4215-d286-9e91856a67d2"
      },
      "source": [
        "print(t.texts_to_matrix(texts, mode='freq').round(2))"
      ],
      "execution_count": 15,
      "outputs": [
        {
          "output_type": "stream",
          "name": "stdout",
          "text": [
            "[[0.   0.   0.33 0.33 0.33 0.   0.   0.   0.   0.  ]\n",
            " [0.   0.33 0.33 0.33 0.   0.   0.   0.   0.   0.  ]\n",
            " [0.   0.5  0.   0.   0.   0.25 0.25 0.   0.   0.  ]\n",
            " [0.   0.   0.   0.   0.   0.   0.   0.33 0.33 0.33]]\n"
          ]
        }
      ]
    },
    {
      "cell_type": "markdown",
      "metadata": {
        "id": "nH0ke2gm9Xyk"
      },
      "source": [
        "## 텐서플로우 Keras 기초"
      ]
    },
    {
      "cell_type": "code",
      "metadata": {
        "id": "NscSdB9n9a6r"
      },
      "source": [
        "from tensorflow.keras.layers     import Dense\n",
        "from tensorflow.keras.models     import Sequential\n",
        "from tensorflow.keras.callbacks  import ModelCheckpoint\n",
        "from tensorflow.keras.optimizers import Adam"
      ],
      "execution_count": 16,
      "outputs": []
    },
    {
      "cell_type": "markdown",
      "metadata": {
        "id": "6gDBVBwd90W3"
      },
      "source": [
        "### 딥러닝 실행 순서\n",
        "  1. 전처리: 학습에 필요한 데이터 전처리를 수행\n",
        "  2. 모델링(model): 모델을 정의\n",
        "  3. 컴파일(compile): 모델 생성\n",
        "  4. 학습(fit): 모델 학습"
      ]
    },
    {
      "cell_type": "markdown",
      "metadata": {
        "id": "2Wj6ShR0-A2d"
      },
      "source": [
        "#### 전처리"
      ]
    },
    {
      "cell_type": "code",
      "metadata": {
        "id": "gj6oF9Km9zZi"
      },
      "source": [
        "xs = np.array([-1.0, 0.0, 1.0, 2.0, 3.0, 4.0], dtype=float)\n",
        "ys = np.array([5.0, 6.0, 7.0, 8.0, 9.0, 10.0], dtype=float)"
      ],
      "execution_count": 17,
      "outputs": []
    },
    {
      "cell_type": "markdown",
      "metadata": {
        "id": "opMcMqWl-SAy"
      },
      "source": [
        "#### 모델링"
      ]
    },
    {
      "cell_type": "code",
      "metadata": {
        "id": "NuLaS6Y4-Mwy"
      },
      "source": [
        "model = Sequential()\n",
        "\n",
        "# Dense의 첫번째 인자는 항상 출력 차원을 의미한다.\n",
        "model.add(Dense(1, input_dim = 1, activation = \"linear\"))"
      ],
      "execution_count": 18,
      "outputs": []
    },
    {
      "cell_type": "markdown",
      "metadata": {
        "id": "PcimBgyA-muO"
      },
      "source": [
        "#### 컴파일"
      ]
    },
    {
      "cell_type": "code",
      "metadata": {
        "id": "ixMqMr9C-dv9"
      },
      "source": [
        "model.compile(optimizer=\"sgd\", loss=\"mse\")"
      ],
      "execution_count": 19,
      "outputs": []
    },
    {
      "cell_type": "markdown",
      "metadata": {
        "id": "f5wQRns7_BFB"
      },
      "source": [
        "#### 학습"
      ]
    },
    {
      "cell_type": "code",
      "metadata": {
        "colab": {
          "base_uri": "https://localhost:8080/"
        },
        "id": "F08csIQv_AJM",
        "outputId": "e174bd00-c6ee-44f3-b659-d135ef0a3f06"
      },
      "source": [
        "model.fit(xs, ys, epochs=1200, verbose=0)"
      ],
      "execution_count": 20,
      "outputs": [
        {
          "output_type": "execute_result",
          "data": {
            "text/plain": [
              "<keras.callbacks.History at 0x7fb050334190>"
            ]
          },
          "metadata": {},
          "execution_count": 20
        }
      ]
    },
    {
      "cell_type": "markdown",
      "metadata": {
        "id": "R_a4SLFq_FiF"
      },
      "source": [
        "#### 검증"
      ]
    },
    {
      "cell_type": "code",
      "metadata": {
        "colab": {
          "base_uri": "https://localhost:8080/"
        },
        "id": "PgbIz8_N_D02",
        "outputId": "6fa20c1e-8f6d-443c-99f2-0cfd46791ad7"
      },
      "source": [
        "model.predict([10.0])"
      ],
      "execution_count": 21,
      "outputs": [
        {
          "output_type": "execute_result",
          "data": {
            "text/plain": [
              "array([[16.000046]], dtype=float32)"
            ]
          },
          "metadata": {},
          "execution_count": 21
        }
      ]
    },
    {
      "cell_type": "markdown",
      "metadata": {
        "id": "-YGnRbSv_Qiy"
      },
      "source": [
        "#### 기본 모델 구현 이해하기\n",
        "- tensorflow 2.0은 keras의 Sequential 방식과 동일하게 블록쌓기 방식으로 매우 쉽게 모델링을 할 수 있습니다.\n",
        "- Dense Layer(= Fully Connected Layer)는 가장 기본적인 신경망 층이라고 이해하시면 됩니다."
      ]
    },
    {
      "cell_type": "code",
      "metadata": {
        "id": "dKpm5MOL_H06",
        "colab": {
          "base_uri": "https://localhost:8080/",
          "height": 369
        },
        "outputId": "4e17539d-e729-4d79-c257-27538d636be9"
      },
      "source": [
        "from IPython.display import Image\n",
        "Image('https://cs231n.github.io/assets/nn1/neural_net2.jpeg')"
      ],
      "execution_count": 22,
      "outputs": [
        {
          "output_type": "execute_result",
          "data": {
            "image/jpeg": "[encoded data removed]",
            "text/plain": [
              "<IPython.core.display.Image object>"
            ]
          },
          "metadata": {},
          "execution_count": 22
        }
      ]
    },
    {
      "cell_type": "code",
      "metadata": {
        "id": "WGBArC5k_jO5"
      },
      "source": [
        "model = Sequential([\n",
        "  Dense(1),                    \n",
        "])"
      ],
      "execution_count": 23,
      "outputs": []
    },
    {
      "cell_type": "markdown",
      "metadata": {
        "id": "hgA6YC_3_4VN"
      },
      "source": [
        "#### 적절한 optimizer와 loss 선정하기\n",
        "- 우리는 적절한 회귀 값을 예측하는 모델을 만들어야 합니다.\n",
        "- regression을 위해서는 loss=mse를 선택합니다.\n",
        "- optimizer는 여러 가지를 활용할 수 있지만, 단순 회귀에서는 sgd가 적당합니다."
      ]
    },
    {
      "cell_type": "markdown",
      "metadata": {
        "id": "13oaMni7AXqb"
      },
      "source": [
        "#### compile\n",
        "- 선정한 optimizer와 loss를 지정해주고 compile 합니다."
      ]
    },
    {
      "cell_type": "code",
      "metadata": {
        "id": "n4rgwnM4_9tf"
      },
      "source": [
        "model.compile(optimizer = \"sgd\", loss=\"mse\")"
      ],
      "execution_count": 24,
      "outputs": []
    },
    {
      "cell_type": "markdown",
      "metadata": {
        "id": "68Dhg6usAd-1"
      },
      "source": [
        "#### fit\n",
        "- **`fit()`** 메소드를 활용하여 학습을 진행합니다.\n",
        "- 학습 시 feature, label, epochs를 지정합니다."
      ]
    },
    {
      "cell_type": "code",
      "metadata": {
        "id": "m9z-xBLTAdQT",
        "colab": {
          "base_uri": "https://localhost:8080/"
        },
        "outputId": "ac01dbd1-8cb0-4032-f598-6f3fa903ca54"
      },
      "source": [
        "model.fit(xs, ys, epochs=1200, verbose=0)"
      ],
      "execution_count": 25,
      "outputs": [
        {
          "output_type": "execute_result",
          "data": {
            "text/plain": [
              "<keras.callbacks.History at 0x7fb05014bb90>"
            ]
          },
          "metadata": {},
          "execution_count": 25
        }
      ]
    },
    {
      "cell_type": "markdown",
      "metadata": {
        "id": "rJQHG9e7A0mm"
      },
      "source": [
        "#### predict\n",
        "- 잘 학습이 되었는지 검증합니다."
      ]
    },
    {
      "cell_type": "code",
      "metadata": {
        "colab": {
          "base_uri": "https://localhost:8080/"
        },
        "id": "dybc6Gr5A21g",
        "outputId": "cd066389-f40f-4eb6-cff1-b574191760c6"
      },
      "source": [
        "model.predict([10.0])"
      ],
      "execution_count": 26,
      "outputs": [
        {
          "output_type": "execute_result",
          "data": {
            "text/plain": [
              "array([[16.000046]], dtype=float32)"
            ]
          },
          "metadata": {},
          "execution_count": 26
        }
      ]
    },
    {
      "cell_type": "markdown",
      "metadata": {
        "id": "_ipxnKXNBBeP"
      },
      "source": [
        "## Keras로 선형 회귀 구현하기"
      ]
    },
    {
      "cell_type": "code",
      "metadata": {
        "id": "pOoCdQ0KA4G7"
      },
      "source": [
        "from tensorflow.keras.models import Sequential\n",
        "from tensorflow.keras.layers import Dense\n",
        "from tensorflow.keras        import optimizers\n",
        "\n",
        "import numpy as np"
      ],
      "execution_count": 27,
      "outputs": []
    },
    {
      "cell_type": "code",
      "metadata": {
        "id": "aOBSoXhXBcoA"
      },
      "source": [
        "X = [1,  2,  3,  4,  5,  6,  7,  8,  9]\n",
        "y = [11, 22, 33, 44, 53, 66, 77, 87, 95]"
      ],
      "execution_count": 28,
      "outputs": []
    },
    {
      "cell_type": "code",
      "metadata": {
        "id": "dzyu6crlBp_D",
        "colab": {
          "base_uri": "https://localhost:8080/"
        },
        "outputId": "b51452c2-ba5b-4610-807c-346c7c8766a7"
      },
      "source": [
        "model = Sequential()\n",
        "model.add(Dense(1, input_dim = 1, activation = \"linear\"))\n",
        "\n",
        "sgd = optimizers.SGD(lr = 0.01)\n",
        "model.compile(optimizer = sgd, loss = \"mse\", metrics = [\"mse\"])\n",
        "\n",
        "model.fit(X, y, batch_size = 1, epochs= 300, shuffle = False)"
      ],
      "execution_count": 29,
      "outputs": [
        {
          "output_type": "stream",
          "name": "stderr",
          "text": [
            "/usr/local/lib/python3.7/dist-packages/keras/optimizer_v2/optimizer_v2.py:356: UserWarning: The `lr` argument is deprecated, use `learning_rate` instead.\n",
            "  \"The `lr` argument is deprecated, use `learning_rate` instead.\")\n"
          ]
        },
        {
          "output_type": "stream",
          "name": "stdout",
          "text": [
            "Epoch 1/300\n",
            "9/9 [==============================] - 0s 2ms/step - loss: 268.7582 - mse: 268.7582\n",
            "Epoch 2/300\n",
            "9/9 [==============================] - 0s 2ms/step - loss: 2.0839 - mse: 2.0839\n",
            "Epoch 3/300\n",
            "9/9 [==============================] - 0s 2ms/step - loss: 2.0858 - mse: 2.0858\n",
            "Epoch 4/300\n",
            "9/9 [==============================] - 0s 2ms/step - loss: 2.0876 - mse: 2.0876\n",
            "Epoch 5/300\n",
            "9/9 [==============================] - 0s 2ms/step - loss: 2.0894 - mse: 2.0894\n",
            "Epoch 6/300\n",
            "9/9 [==============================] - 0s 2ms/step - loss: 2.0912 - mse: 2.0912\n",
            "Epoch 7/300\n",
            "9/9 [==============================] - 0s 2ms/step - loss: 2.0929 - mse: 2.0929\n",
            "Epoch 8/300\n",
            "9/9 [==============================] - 0s 2ms/step - loss: 2.0945 - mse: 2.0945\n",
            "Epoch 9/300\n",
            "9/9 [==============================] - 0s 3ms/step - loss: 2.0961 - mse: 2.0961\n",
            "Epoch 10/300\n",
            "9/9 [==============================] - 0s 2ms/step - loss: 2.0977 - mse: 2.0977\n",
            "Epoch 11/300\n",
            "9/9 [==============================] - 0s 2ms/step - loss: 2.0992 - mse: 2.0992\n",
            "Epoch 12/300\n",
            "9/9 [==============================] - 0s 2ms/step - loss: 2.1006 - mse: 2.1006\n",
            "Epoch 13/300\n",
            "9/9 [==============================] - 0s 2ms/step - loss: 2.1021 - mse: 2.1021\n",
            "Epoch 14/300\n",
            "9/9 [==============================] - 0s 2ms/step - loss: 2.1034 - mse: 2.1034\n",
            "Epoch 15/300\n",
            "9/9 [==============================] - 0s 3ms/step - loss: 2.1048 - mse: 2.1048\n",
            "Epoch 16/300\n",
            "9/9 [==============================] - 0s 2ms/step - loss: 2.1061 - mse: 2.1061\n",
            "Epoch 17/300\n",
            "9/9 [==============================] - 0s 2ms/step - loss: 2.1073 - mse: 2.1073\n",
            "Epoch 18/300\n",
            "9/9 [==============================] - 0s 2ms/step - loss: 2.1086 - mse: 2.1086\n",
            "Epoch 19/300\n",
            "9/9 [==============================] - 0s 2ms/step - loss: 2.1097 - mse: 2.1097\n",
            "Epoch 20/300\n",
            "9/9 [==============================] - 0s 2ms/step - loss: 2.1109 - mse: 2.1109\n",
            "Epoch 21/300\n",
            "9/9 [==============================] - 0s 2ms/step - loss: 2.1120 - mse: 2.1120\n",
            "Epoch 22/300\n",
            "9/9 [==============================] - 0s 2ms/step - loss: 2.1131 - mse: 2.1131\n",
            "Epoch 23/300\n",
            "9/9 [==============================] - 0s 2ms/step - loss: 2.1141 - mse: 2.1141\n",
            "Epoch 24/300\n",
            "9/9 [==============================] - 0s 2ms/step - loss: 2.1151 - mse: 2.1151\n",
            "Epoch 25/300\n",
            "9/9 [==============================] - 0s 2ms/step - loss: 2.1161 - mse: 2.1161\n",
            "Epoch 26/300\n",
            "9/9 [==============================] - 0s 2ms/step - loss: 2.1171 - mse: 2.1171\n",
            "Epoch 27/300\n",
            "9/9 [==============================] - 0s 3ms/step - loss: 2.1180 - mse: 2.1180\n",
            "Epoch 28/300\n",
            "9/9 [==============================] - 0s 3ms/step - loss: 2.1189 - mse: 2.1189\n",
            "Epoch 29/300\n",
            "9/9 [==============================] - 0s 3ms/step - loss: 2.1198 - mse: 2.1198\n",
            "Epoch 30/300\n",
            "9/9 [==============================] - 0s 2ms/step - loss: 2.1206 - mse: 2.1206\n",
            "Epoch 31/300\n",
            "9/9 [==============================] - 0s 2ms/step - loss: 2.1214 - mse: 2.1214\n",
            "Epoch 32/300\n",
            "9/9 [==============================] - 0s 2ms/step - loss: 2.1222 - mse: 2.1222\n",
            "Epoch 33/300\n",
            "9/9 [==============================] - 0s 2ms/step - loss: 2.1230 - mse: 2.1230\n",
            "Epoch 34/300\n",
            "9/9 [==============================] - 0s 2ms/step - loss: 2.1237 - mse: 2.1237\n",
            "Epoch 35/300\n",
            "9/9 [==============================] - 0s 2ms/step - loss: 2.1244 - mse: 2.1244\n",
            "Epoch 36/300\n",
            "9/9 [==============================] - 0s 2ms/step - loss: 2.1251 - mse: 2.1251\n",
            "Epoch 37/300\n",
            "9/9 [==============================] - 0s 2ms/step - loss: 2.1258 - mse: 2.1258\n",
            "Epoch 38/300\n",
            "9/9 [==============================] - 0s 2ms/step - loss: 2.1265 - mse: 2.1265\n",
            "Epoch 39/300\n",
            "9/9 [==============================] - 0s 3ms/step - loss: 2.1271 - mse: 2.1271\n",
            "Epoch 40/300\n",
            "9/9 [==============================] - 0s 2ms/step - loss: 2.1277 - mse: 2.1277\n",
            "Epoch 41/300\n",
            "9/9 [==============================] - 0s 2ms/step - loss: 2.1283 - mse: 2.1283\n",
            "Epoch 42/300\n",
            "9/9 [==============================] - 0s 2ms/step - loss: 2.1289 - mse: 2.1289\n",
            "Epoch 43/300\n",
            "9/9 [==============================] - 0s 2ms/step - loss: 2.1294 - mse: 2.1294\n",
            "Epoch 44/300\n",
            "9/9 [==============================] - 0s 2ms/step - loss: 2.1300 - mse: 2.1300\n",
            "Epoch 45/300\n",
            "9/9 [==============================] - 0s 3ms/step - loss: 2.1305 - mse: 2.1305\n",
            "Epoch 46/300\n",
            "9/9 [==============================] - 0s 2ms/step - loss: 2.1310 - mse: 2.1310\n",
            "Epoch 47/300\n",
            "9/9 [==============================] - 0s 2ms/step - loss: 2.1315 - mse: 2.1315\n",
            "Epoch 48/300\n",
            "9/9 [==============================] - 0s 2ms/step - loss: 2.1319 - mse: 2.1319\n",
            "Epoch 49/300\n",
            "9/9 [==============================] - 0s 2ms/step - loss: 2.1324 - mse: 2.1324\n",
            "Epoch 50/300\n",
            "9/9 [==============================] - 0s 2ms/step - loss: 2.1328 - mse: 2.1328\n",
            "Epoch 51/300\n",
            "9/9 [==============================] - 0s 2ms/step - loss: 2.1333 - mse: 2.1333\n",
            "Epoch 52/300\n",
            "9/9 [==============================] - 0s 3ms/step - loss: 2.1337 - mse: 2.1337\n",
            "Epoch 53/300\n",
            "9/9 [==============================] - 0s 2ms/step - loss: 2.1341 - mse: 2.1341\n",
            "Epoch 54/300\n",
            "9/9 [==============================] - 0s 2ms/step - loss: 2.1345 - mse: 2.1345\n",
            "Epoch 55/300\n",
            "9/9 [==============================] - 0s 2ms/step - loss: 2.1348 - mse: 2.1348\n",
            "Epoch 56/300\n",
            "9/9 [==============================] - 0s 2ms/step - loss: 2.1352 - mse: 2.1352\n",
            "Epoch 57/300\n",
            "9/9 [==============================] - 0s 2ms/step - loss: 2.1356 - mse: 2.1356\n",
            "Epoch 58/300\n",
            "9/9 [==============================] - 0s 2ms/step - loss: 2.1359 - mse: 2.1359\n",
            "Epoch 59/300\n",
            "9/9 [==============================] - 0s 2ms/step - loss: 2.1362 - mse: 2.1362\n",
            "Epoch 60/300\n",
            "9/9 [==============================] - 0s 2ms/step - loss: 2.1366 - mse: 2.1366\n",
            "Epoch 61/300\n",
            "9/9 [==============================] - 0s 2ms/step - loss: 2.1369 - mse: 2.1369\n",
            "Epoch 62/300\n",
            "9/9 [==============================] - 0s 2ms/step - loss: 2.1372 - mse: 2.1372\n",
            "Epoch 63/300\n",
            "9/9 [==============================] - 0s 2ms/step - loss: 2.1375 - mse: 2.1375\n",
            "Epoch 64/300\n",
            "9/9 [==============================] - 0s 2ms/step - loss: 2.1377 - mse: 2.1377\n",
            "Epoch 65/300\n",
            "9/9 [==============================] - 0s 3ms/step - loss: 2.1380 - mse: 2.1380\n",
            "Epoch 66/300\n",
            "9/9 [==============================] - 0s 2ms/step - loss: 2.1383 - mse: 2.1383\n",
            "Epoch 67/300\n",
            "9/9 [==============================] - 0s 3ms/step - loss: 2.1385 - mse: 2.1385\n",
            "Epoch 68/300\n",
            "9/9 [==============================] - 0s 2ms/step - loss: 2.1388 - mse: 2.1388\n",
            "Epoch 69/300\n",
            "9/9 [==============================] - 0s 2ms/step - loss: 2.1390 - mse: 2.1390\n",
            "Epoch 70/300\n",
            "9/9 [==============================] - 0s 2ms/step - loss: 2.1392 - mse: 2.1392\n",
            "Epoch 71/300\n",
            "9/9 [==============================] - 0s 2ms/step - loss: 2.1395 - mse: 2.1395\n",
            "Epoch 72/300\n",
            "9/9 [==============================] - 0s 2ms/step - loss: 2.1397 - mse: 2.1397\n",
            "Epoch 73/300\n",
            "9/9 [==============================] - 0s 2ms/step - loss: 2.1399 - mse: 2.1399\n",
            "Epoch 74/300\n",
            "9/9 [==============================] - 0s 2ms/step - loss: 2.1401 - mse: 2.1401\n",
            "Epoch 75/300\n",
            "9/9 [==============================] - 0s 2ms/step - loss: 2.1403 - mse: 2.1403\n",
            "Epoch 76/300\n",
            "9/9 [==============================] - 0s 2ms/step - loss: 2.1405 - mse: 2.1405\n",
            "Epoch 77/300\n",
            "9/9 [==============================] - 0s 2ms/step - loss: 2.1406 - mse: 2.1406\n",
            "Epoch 78/300\n",
            "9/9 [==============================] - 0s 2ms/step - loss: 2.1408 - mse: 2.1408\n",
            "Epoch 79/300\n",
            "9/9 [==============================] - 0s 2ms/step - loss: 2.1410 - mse: 2.1410\n",
            "Epoch 80/300\n",
            "9/9 [==============================] - 0s 2ms/step - loss: 2.1412 - mse: 2.1412\n",
            "Epoch 81/300\n",
            "9/9 [==============================] - 0s 2ms/step - loss: 2.1413 - mse: 2.1413\n",
            "Epoch 82/300\n",
            "9/9 [==============================] - 0s 3ms/step - loss: 2.1415 - mse: 2.1415\n",
            "Epoch 83/300\n",
            "9/9 [==============================] - 0s 2ms/step - loss: 2.1416 - mse: 2.1416\n",
            "Epoch 84/300\n",
            "9/9 [==============================] - 0s 2ms/step - loss: 2.1418 - mse: 2.1418\n",
            "Epoch 85/300\n",
            "9/9 [==============================] - 0s 3ms/step - loss: 2.1419 - mse: 2.1419\n",
            "Epoch 86/300\n",
            "9/9 [==============================] - 0s 3ms/step - loss: 2.1420 - mse: 2.1420\n",
            "Epoch 87/300\n",
            "9/9 [==============================] - 0s 2ms/step - loss: 2.1422 - mse: 2.1422\n",
            "Epoch 88/300\n",
            "9/9 [==============================] - 0s 2ms/step - loss: 2.1423 - mse: 2.1423\n",
            "Epoch 89/300\n",
            "9/9 [==============================] - 0s 2ms/step - loss: 2.1424 - mse: 2.1424\n",
            "Epoch 90/300\n",
            "9/9 [==============================] - 0s 3ms/step - loss: 2.1425 - mse: 2.1425\n",
            "Epoch 91/300\n",
            "9/9 [==============================] - 0s 2ms/step - loss: 2.1426 - mse: 2.1426\n",
            "Epoch 92/300\n",
            "9/9 [==============================] - 0s 2ms/step - loss: 2.1428 - mse: 2.1428\n",
            "Epoch 93/300\n",
            "9/9 [==============================] - 0s 2ms/step - loss: 2.1429 - mse: 2.1429\n",
            "Epoch 94/300\n",
            "9/9 [==============================] - 0s 2ms/step - loss: 2.1430 - mse: 2.1430\n",
            "Epoch 95/300\n",
            "9/9 [==============================] - 0s 2ms/step - loss: 2.1431 - mse: 2.1431\n",
            "Epoch 96/300\n",
            "9/9 [==============================] - 0s 2ms/step - loss: 2.1432 - mse: 2.1432\n",
            "Epoch 97/300\n",
            "9/9 [==============================] - 0s 2ms/step - loss: 2.1433 - mse: 2.1433\n",
            "Epoch 98/300\n",
            "9/9 [==============================] - 0s 3ms/step - loss: 2.1434 - mse: 2.1434\n",
            "Epoch 99/300\n",
            "9/9 [==============================] - 0s 2ms/step - loss: 2.1434 - mse: 2.1434\n",
            "Epoch 100/300\n",
            "9/9 [==============================] - 0s 2ms/step - loss: 2.1435 - mse: 2.1435\n",
            "Epoch 101/300\n",
            "9/9 [==============================] - 0s 2ms/step - loss: 2.1436 - mse: 2.1436\n",
            "Epoch 102/300\n",
            "9/9 [==============================] - 0s 2ms/step - loss: 2.1437 - mse: 2.1437\n",
            "Epoch 103/300\n",
            "9/9 [==============================] - 0s 2ms/step - loss: 2.1438 - mse: 2.1438\n",
            "Epoch 104/300\n",
            "9/9 [==============================] - 0s 2ms/step - loss: 2.1438 - mse: 2.1438\n",
            "Epoch 105/300\n",
            "9/9 [==============================] - 0s 2ms/step - loss: 2.1439 - mse: 2.1439\n",
            "Epoch 106/300\n",
            "9/9 [==============================] - 0s 2ms/step - loss: 2.1440 - mse: 2.1440\n",
            "Epoch 107/300\n",
            "9/9 [==============================] - 0s 2ms/step - loss: 2.1440 - mse: 2.1440\n",
            "Epoch 108/300\n",
            "9/9 [==============================] - 0s 2ms/step - loss: 2.1441 - mse: 2.1441\n",
            "Epoch 109/300\n",
            "9/9 [==============================] - 0s 2ms/step - loss: 2.1442 - mse: 2.1442\n",
            "Epoch 110/300\n",
            "9/9 [==============================] - 0s 2ms/step - loss: 2.1442 - mse: 2.1442\n",
            "Epoch 111/300\n",
            "9/9 [==============================] - 0s 3ms/step - loss: 2.1443 - mse: 2.1443\n",
            "Epoch 112/300\n",
            "9/9 [==============================] - 0s 2ms/step - loss: 2.1443 - mse: 2.1443\n",
            "Epoch 113/300\n",
            "9/9 [==============================] - 0s 2ms/step - loss: 2.1444 - mse: 2.1444\n",
            "Epoch 114/300\n",
            "9/9 [==============================] - 0s 2ms/step - loss: 2.1445 - mse: 2.1445\n",
            "Epoch 115/300\n",
            "9/9 [==============================] - 0s 3ms/step - loss: 2.1445 - mse: 2.1445\n",
            "Epoch 116/300\n",
            "9/9 [==============================] - 0s 2ms/step - loss: 2.1446 - mse: 2.1446\n",
            "Epoch 117/300\n",
            "9/9 [==============================] - 0s 2ms/step - loss: 2.1446 - mse: 2.1446\n",
            "Epoch 118/300\n",
            "9/9 [==============================] - 0s 2ms/step - loss: 2.1447 - mse: 2.1447\n",
            "Epoch 119/300\n",
            "9/9 [==============================] - 0s 2ms/step - loss: 2.1447 - mse: 2.1447\n",
            "Epoch 120/300\n",
            "9/9 [==============================] - 0s 4ms/step - loss: 2.1448 - mse: 2.1448\n",
            "Epoch 121/300\n",
            "9/9 [==============================] - 0s 2ms/step - loss: 2.1448 - mse: 2.1448\n",
            "Epoch 122/300\n",
            "9/9 [==============================] - 0s 2ms/step - loss: 2.1448 - mse: 2.1448\n",
            "Epoch 123/300\n",
            "9/9 [==============================] - 0s 3ms/step - loss: 2.1449 - mse: 2.1449\n",
            "Epoch 124/300\n",
            "9/9 [==============================] - 0s 2ms/step - loss: 2.1449 - mse: 2.1449\n",
            "Epoch 125/300\n",
            "9/9 [==============================] - 0s 2ms/step - loss: 2.1449 - mse: 2.1449\n",
            "Epoch 126/300\n",
            "9/9 [==============================] - 0s 2ms/step - loss: 2.1450 - mse: 2.1450\n",
            "Epoch 127/300\n",
            "9/9 [==============================] - 0s 3ms/step - loss: 2.1450 - mse: 2.1450\n",
            "Epoch 128/300\n",
            "9/9 [==============================] - 0s 3ms/step - loss: 2.1450 - mse: 2.1450\n",
            "Epoch 129/300\n",
            "9/9 [==============================] - 0s 2ms/step - loss: 2.1451 - mse: 2.1451\n",
            "Epoch 130/300\n",
            "9/9 [==============================] - 0s 2ms/step - loss: 2.1451 - mse: 2.1451\n",
            "Epoch 131/300\n",
            "9/9 [==============================] - 0s 2ms/step - loss: 2.1451 - mse: 2.1451\n",
            "Epoch 132/300\n",
            "9/9 [==============================] - 0s 2ms/step - loss: 2.1452 - mse: 2.1452\n",
            "Epoch 133/300\n",
            "9/9 [==============================] - 0s 2ms/step - loss: 2.1452 - mse: 2.1452\n",
            "Epoch 134/300\n",
            "9/9 [==============================] - 0s 2ms/step - loss: 2.1452 - mse: 2.1452\n",
            "Epoch 135/300\n",
            "9/9 [==============================] - 0s 3ms/step - loss: 2.1453 - mse: 2.1453\n",
            "Epoch 136/300\n",
            "9/9 [==============================] - 0s 2ms/step - loss: 2.1453 - mse: 2.1453\n",
            "Epoch 137/300\n",
            "9/9 [==============================] - 0s 2ms/step - loss: 2.1453 - mse: 2.1453\n",
            "Epoch 138/300\n",
            "9/9 [==============================] - 0s 2ms/step - loss: 2.1453 - mse: 2.1453\n",
            "Epoch 139/300\n",
            "9/9 [==============================] - 0s 2ms/step - loss: 2.1453 - mse: 2.1453\n",
            "Epoch 140/300\n",
            "9/9 [==============================] - 0s 2ms/step - loss: 2.1454 - mse: 2.1454\n",
            "Epoch 141/300\n",
            "9/9 [==============================] - 0s 2ms/step - loss: 2.1454 - mse: 2.1454\n",
            "Epoch 142/300\n",
            "9/9 [==============================] - 0s 2ms/step - loss: 2.1454 - mse: 2.1454\n",
            "Epoch 143/300\n",
            "9/9 [==============================] - 0s 2ms/step - loss: 2.1454 - mse: 2.1454\n",
            "Epoch 144/300\n",
            "9/9 [==============================] - 0s 2ms/step - loss: 2.1454 - mse: 2.1454\n",
            "Epoch 145/300\n",
            "9/9 [==============================] - 0s 2ms/step - loss: 2.1455 - mse: 2.1455\n",
            "Epoch 146/300\n",
            "9/9 [==============================] - 0s 3ms/step - loss: 2.1455 - mse: 2.1455\n",
            "Epoch 147/300\n",
            "9/9 [==============================] - 0s 2ms/step - loss: 2.1455 - mse: 2.1455\n",
            "Epoch 148/300\n",
            "9/9 [==============================] - 0s 2ms/step - loss: 2.1455 - mse: 2.1455\n",
            "Epoch 149/300\n",
            "9/9 [==============================] - 0s 3ms/step - loss: 2.1455 - mse: 2.1455\n",
            "Epoch 150/300\n",
            "9/9 [==============================] - 0s 2ms/step - loss: 2.1456 - mse: 2.1456\n",
            "Epoch 151/300\n",
            "9/9 [==============================] - 0s 2ms/step - loss: 2.1456 - mse: 2.1456\n",
            "Epoch 152/300\n",
            "9/9 [==============================] - 0s 2ms/step - loss: 2.1456 - mse: 2.1456\n",
            "Epoch 153/300\n",
            "9/9 [==============================] - 0s 2ms/step - loss: 2.1456 - mse: 2.1456\n",
            "Epoch 154/300\n",
            "9/9 [==============================] - 0s 3ms/step - loss: 2.1456 - mse: 2.1456\n",
            "Epoch 155/300\n",
            "9/9 [==============================] - 0s 2ms/step - loss: 2.1456 - mse: 2.1456\n",
            "Epoch 156/300\n",
            "9/9 [==============================] - 0s 2ms/step - loss: 2.1456 - mse: 2.1456\n",
            "Epoch 157/300\n",
            "9/9 [==============================] - 0s 2ms/step - loss: 2.1457 - mse: 2.1457\n",
            "Epoch 158/300\n",
            "9/9 [==============================] - 0s 3ms/step - loss: 2.1457 - mse: 2.1457\n",
            "Epoch 159/300\n",
            "9/9 [==============================] - 0s 2ms/step - loss: 2.1457 - mse: 2.1457\n",
            "Epoch 160/300\n",
            "9/9 [==============================] - 0s 2ms/step - loss: 2.1457 - mse: 2.1457\n",
            "Epoch 161/300\n",
            "9/9 [==============================] - 0s 2ms/step - loss: 2.1457 - mse: 2.1457\n",
            "Epoch 162/300\n",
            "9/9 [==============================] - 0s 3ms/step - loss: 2.1457 - mse: 2.1457\n",
            "Epoch 163/300\n",
            "9/9 [==============================] - 0s 3ms/step - loss: 2.1457 - mse: 2.1457\n",
            "Epoch 164/300\n",
            "9/9 [==============================] - 0s 2ms/step - loss: 2.1457 - mse: 2.1457\n",
            "Epoch 165/300\n",
            "9/9 [==============================] - 0s 2ms/step - loss: 2.1457 - mse: 2.1457\n",
            "Epoch 166/300\n",
            "9/9 [==============================] - 0s 2ms/step - loss: 2.1457 - mse: 2.1457\n",
            "Epoch 167/300\n",
            "9/9 [==============================] - 0s 2ms/step - loss: 2.1458 - mse: 2.1458\n",
            "Epoch 168/300\n",
            "9/9 [==============================] - 0s 3ms/step - loss: 2.1458 - mse: 2.1458\n",
            "Epoch 169/300\n",
            "9/9 [==============================] - 0s 3ms/step - loss: 2.1458 - mse: 2.1458\n",
            "Epoch 170/300\n",
            "9/9 [==============================] - 0s 3ms/step - loss: 2.1458 - mse: 2.1458\n",
            "Epoch 171/300\n",
            "9/9 [==============================] - 0s 2ms/step - loss: 2.1458 - mse: 2.1458\n",
            "Epoch 172/300\n",
            "9/9 [==============================] - 0s 2ms/step - loss: 2.1458 - mse: 2.1458\n",
            "Epoch 173/300\n",
            "9/9 [==============================] - 0s 2ms/step - loss: 2.1458 - mse: 2.1458\n",
            "Epoch 174/300\n",
            "9/9 [==============================] - 0s 2ms/step - loss: 2.1458 - mse: 2.1458\n",
            "Epoch 175/300\n",
            "9/9 [==============================] - 0s 2ms/step - loss: 2.1458 - mse: 2.1458\n",
            "Epoch 176/300\n",
            "9/9 [==============================] - 0s 2ms/step - loss: 2.1458 - mse: 2.1458\n",
            "Epoch 177/300\n",
            "9/9 [==============================] - 0s 2ms/step - loss: 2.1458 - mse: 2.1458\n",
            "Epoch 178/300\n",
            "9/9 [==============================] - 0s 2ms/step - loss: 2.1458 - mse: 2.1458\n",
            "Epoch 179/300\n",
            "9/9 [==============================] - 0s 3ms/step - loss: 2.1458 - mse: 2.1458\n",
            "Epoch 180/300\n",
            "9/9 [==============================] - 0s 2ms/step - loss: 2.1458 - mse: 2.1458\n",
            "Epoch 181/300\n",
            "9/9 [==============================] - 0s 2ms/step - loss: 2.1459 - mse: 2.1459\n",
            "Epoch 182/300\n",
            "9/9 [==============================] - 0s 3ms/step - loss: 2.1459 - mse: 2.1459\n",
            "Epoch 183/300\n",
            "9/9 [==============================] - 0s 2ms/step - loss: 2.1459 - mse: 2.1459\n",
            "Epoch 184/300\n",
            "9/9 [==============================] - 0s 3ms/step - loss: 2.1459 - mse: 2.1459\n",
            "Epoch 185/300\n",
            "9/9 [==============================] - 0s 2ms/step - loss: 2.1459 - mse: 2.1459\n",
            "Epoch 186/300\n",
            "9/9 [==============================] - 0s 2ms/step - loss: 2.1459 - mse: 2.1459\n",
            "Epoch 187/300\n",
            "9/9 [==============================] - 0s 2ms/step - loss: 2.1459 - mse: 2.1459\n",
            "Epoch 188/300\n",
            "9/9 [==============================] - 0s 3ms/step - loss: 2.1459 - mse: 2.1459\n",
            "Epoch 189/300\n",
            "9/9 [==============================] - 0s 2ms/step - loss: 2.1459 - mse: 2.1459\n",
            "Epoch 190/300\n",
            "9/9 [==============================] - 0s 2ms/step - loss: 2.1459 - mse: 2.1459\n",
            "Epoch 191/300\n",
            "9/9 [==============================] - 0s 3ms/step - loss: 2.1459 - mse: 2.1459\n",
            "Epoch 192/300\n",
            "9/9 [==============================] - 0s 3ms/step - loss: 2.1459 - mse: 2.1459\n",
            "Epoch 193/300\n",
            "9/9 [==============================] - 0s 3ms/step - loss: 2.1459 - mse: 2.1459\n",
            "Epoch 194/300\n",
            "9/9 [==============================] - 0s 3ms/step - loss: 2.1459 - mse: 2.1459\n",
            "Epoch 195/300\n",
            "9/9 [==============================] - 0s 3ms/step - loss: 2.1459 - mse: 2.1459\n",
            "Epoch 196/300\n",
            "9/9 [==============================] - 0s 2ms/step - loss: 2.1459 - mse: 2.1459\n",
            "Epoch 197/300\n",
            "9/9 [==============================] - 0s 2ms/step - loss: 2.1459 - mse: 2.1459\n",
            "Epoch 198/300\n",
            "9/9 [==============================] - 0s 2ms/step - loss: 2.1459 - mse: 2.1459\n",
            "Epoch 199/300\n",
            "9/9 [==============================] - 0s 2ms/step - loss: 2.1459 - mse: 2.1459\n",
            "Epoch 200/300\n",
            "9/9 [==============================] - 0s 3ms/step - loss: 2.1459 - mse: 2.1459\n",
            "Epoch 201/300\n",
            "9/9 [==============================] - 0s 2ms/step - loss: 2.1459 - mse: 2.1459\n",
            "Epoch 202/300\n",
            "9/9 [==============================] - 0s 2ms/step - loss: 2.1459 - mse: 2.1459\n",
            "Epoch 203/300\n",
            "9/9 [==============================] - 0s 2ms/step - loss: 2.1459 - mse: 2.1459\n",
            "Epoch 204/300\n",
            "9/9 [==============================] - 0s 2ms/step - loss: 2.1459 - mse: 2.1459\n",
            "Epoch 205/300\n",
            "9/9 [==============================] - 0s 3ms/step - loss: 2.1459 - mse: 2.1459\n",
            "Epoch 206/300\n",
            "9/9 [==============================] - 0s 3ms/step - loss: 2.1459 - mse: 2.1459\n",
            "Epoch 207/300\n",
            "9/9 [==============================] - 0s 3ms/step - loss: 2.1460 - mse: 2.1460\n",
            "Epoch 208/300\n",
            "9/9 [==============================] - 0s 2ms/step - loss: 2.1460 - mse: 2.1460\n",
            "Epoch 209/300\n",
            "9/9 [==============================] - 0s 2ms/step - loss: 2.1460 - mse: 2.1460\n",
            "Epoch 210/300\n",
            "9/9 [==============================] - 0s 3ms/step - loss: 2.1460 - mse: 2.1460\n",
            "Epoch 211/300\n",
            "9/9 [==============================] - 0s 2ms/step - loss: 2.1460 - mse: 2.1460\n",
            "Epoch 212/300\n",
            "9/9 [==============================] - 0s 2ms/step - loss: 2.1460 - mse: 2.1460\n",
            "Epoch 213/300\n",
            "9/9 [==============================] - 0s 2ms/step - loss: 2.1460 - mse: 2.1460\n",
            "Epoch 214/300\n",
            "9/9 [==============================] - 0s 2ms/step - loss: 2.1460 - mse: 2.1460\n",
            "Epoch 215/300\n",
            "9/9 [==============================] - 0s 3ms/step - loss: 2.1460 - mse: 2.1460\n",
            "Epoch 216/300\n",
            "9/9 [==============================] - 0s 2ms/step - loss: 2.1460 - mse: 2.1460\n",
            "Epoch 217/300\n",
            "9/9 [==============================] - 0s 2ms/step - loss: 2.1460 - mse: 2.1460\n",
            "Epoch 218/300\n",
            "9/9 [==============================] - 0s 2ms/step - loss: 2.1460 - mse: 2.1460\n",
            "Epoch 219/300\n",
            "9/9 [==============================] - 0s 2ms/step - loss: 2.1460 - mse: 2.1460\n",
            "Epoch 220/300\n",
            "9/9 [==============================] - 0s 2ms/step - loss: 2.1460 - mse: 2.1460\n",
            "Epoch 221/300\n",
            "9/9 [==============================] - 0s 2ms/step - loss: 2.1460 - mse: 2.1460\n",
            "Epoch 222/300\n",
            "9/9 [==============================] - 0s 2ms/step - loss: 2.1460 - mse: 2.1460\n",
            "Epoch 223/300\n",
            "9/9 [==============================] - 0s 2ms/step - loss: 2.1460 - mse: 2.1460\n",
            "Epoch 224/300\n",
            "9/9 [==============================] - 0s 3ms/step - loss: 2.1460 - mse: 2.1460\n",
            "Epoch 225/300\n",
            "9/9 [==============================] - 0s 2ms/step - loss: 2.1460 - mse: 2.1460\n",
            "Epoch 226/300\n",
            "9/9 [==============================] - 0s 2ms/step - loss: 2.1460 - mse: 2.1460\n",
            "Epoch 227/300\n",
            "9/9 [==============================] - 0s 2ms/step - loss: 2.1460 - mse: 2.1460\n",
            "Epoch 228/300\n",
            "9/9 [==============================] - 0s 2ms/step - loss: 2.1460 - mse: 2.1460\n",
            "Epoch 229/300\n",
            "9/9 [==============================] - 0s 3ms/step - loss: 2.1460 - mse: 2.1460\n",
            "Epoch 230/300\n",
            "9/9 [==============================] - 0s 2ms/step - loss: 2.1460 - mse: 2.1460\n",
            "Epoch 231/300\n",
            "9/9 [==============================] - 0s 3ms/step - loss: 2.1460 - mse: 2.1460\n",
            "Epoch 232/300\n",
            "9/9 [==============================] - 0s 2ms/step - loss: 2.1460 - mse: 2.1460\n",
            "Epoch 233/300\n",
            "9/9 [==============================] - 0s 3ms/step - loss: 2.1460 - mse: 2.1460\n",
            "Epoch 234/300\n",
            "9/9 [==============================] - 0s 3ms/step - loss: 2.1460 - mse: 2.1460\n",
            "Epoch 235/300\n",
            "9/9 [==============================] - 0s 2ms/step - loss: 2.1460 - mse: 2.1460\n",
            "Epoch 236/300\n",
            "9/9 [==============================] - 0s 2ms/step - loss: 2.1460 - mse: 2.1460\n",
            "Epoch 237/300\n",
            "9/9 [==============================] - 0s 2ms/step - loss: 2.1460 - mse: 2.1460\n",
            "Epoch 238/300\n",
            "9/9 [==============================] - 0s 3ms/step - loss: 2.1460 - mse: 2.1460\n",
            "Epoch 239/300\n",
            "9/9 [==============================] - 0s 2ms/step - loss: 2.1460 - mse: 2.1460\n",
            "Epoch 240/300\n",
            "9/9 [==============================] - 0s 2ms/step - loss: 2.1460 - mse: 2.1460\n",
            "Epoch 241/300\n",
            "9/9 [==============================] - 0s 2ms/step - loss: 2.1460 - mse: 2.1460\n",
            "Epoch 242/300\n",
            "9/9 [==============================] - 0s 2ms/step - loss: 2.1460 - mse: 2.1460\n",
            "Epoch 243/300\n",
            "9/9 [==============================] - 0s 3ms/step - loss: 2.1460 - mse: 2.1460\n",
            "Epoch 244/300\n",
            "9/9 [==============================] - 0s 2ms/step - loss: 2.1460 - mse: 2.1460\n",
            "Epoch 245/300\n",
            "9/9 [==============================] - 0s 3ms/step - loss: 2.1460 - mse: 2.1460\n",
            "Epoch 246/300\n",
            "9/9 [==============================] - 0s 3ms/step - loss: 2.1460 - mse: 2.1460\n",
            "Epoch 247/300\n",
            "9/9 [==============================] - 0s 2ms/step - loss: 2.1460 - mse: 2.1460\n",
            "Epoch 248/300\n",
            "9/9 [==============================] - 0s 2ms/step - loss: 2.1460 - mse: 2.1460\n",
            "Epoch 249/300\n",
            "9/9 [==============================] - 0s 3ms/step - loss: 2.1460 - mse: 2.1460\n",
            "Epoch 250/300\n",
            "9/9 [==============================] - 0s 3ms/step - loss: 2.1460 - mse: 2.1460\n",
            "Epoch 251/300\n",
            "9/9 [==============================] - 0s 2ms/step - loss: 2.1460 - mse: 2.1460\n",
            "Epoch 252/300\n",
            "9/9 [==============================] - 0s 2ms/step - loss: 2.1460 - mse: 2.1460\n",
            "Epoch 253/300\n",
            "9/9 [==============================] - 0s 3ms/step - loss: 2.1460 - mse: 2.1460\n",
            "Epoch 254/300\n",
            "9/9 [==============================] - 0s 3ms/step - loss: 2.1460 - mse: 2.1460\n",
            "Epoch 255/300\n",
            "9/9 [==============================] - 0s 3ms/step - loss: 2.1460 - mse: 2.1460\n",
            "Epoch 256/300\n",
            "9/9 [==============================] - 0s 3ms/step - loss: 2.1460 - mse: 2.1460\n",
            "Epoch 257/300\n",
            "9/9 [==============================] - 0s 3ms/step - loss: 2.1460 - mse: 2.1460\n",
            "Epoch 258/300\n",
            "9/9 [==============================] - 0s 2ms/step - loss: 2.1460 - mse: 2.1460\n",
            "Epoch 259/300\n",
            "9/9 [==============================] - 0s 2ms/step - loss: 2.1460 - mse: 2.1460\n",
            "Epoch 260/300\n",
            "9/9 [==============================] - 0s 2ms/step - loss: 2.1460 - mse: 2.1460\n",
            "Epoch 261/300\n",
            "9/9 [==============================] - 0s 2ms/step - loss: 2.1460 - mse: 2.1460\n",
            "Epoch 262/300\n",
            "9/9 [==============================] - 0s 3ms/step - loss: 2.1460 - mse: 2.1460\n",
            "Epoch 263/300\n",
            "9/9 [==============================] - 0s 3ms/step - loss: 2.1460 - mse: 2.1460\n",
            "Epoch 264/300\n",
            "9/9 [==============================] - 0s 3ms/step - loss: 2.1460 - mse: 2.1460\n",
            "Epoch 265/300\n",
            "9/9 [==============================] - 0s 3ms/step - loss: 2.1460 - mse: 2.1460\n",
            "Epoch 266/300\n",
            "9/9 [==============================] - 0s 2ms/step - loss: 2.1460 - mse: 2.1460\n",
            "Epoch 267/300\n",
            "9/9 [==============================] - 0s 2ms/step - loss: 2.1460 - mse: 2.1460\n",
            "Epoch 268/300\n",
            "9/9 [==============================] - 0s 3ms/step - loss: 2.1460 - mse: 2.1460\n",
            "Epoch 269/300\n",
            "9/9 [==============================] - 0s 2ms/step - loss: 2.1460 - mse: 2.1460\n",
            "Epoch 270/300\n",
            "9/9 [==============================] - 0s 2ms/step - loss: 2.1460 - mse: 2.1460\n",
            "Epoch 271/300\n",
            "9/9 [==============================] - 0s 2ms/step - loss: 2.1460 - mse: 2.1460\n",
            "Epoch 272/300\n",
            "9/9 [==============================] - 0s 2ms/step - loss: 2.1460 - mse: 2.1460\n",
            "Epoch 273/300\n",
            "9/9 [==============================] - 0s 2ms/step - loss: 2.1460 - mse: 2.1460\n",
            "Epoch 274/300\n",
            "9/9 [==============================] - 0s 2ms/step - loss: 2.1460 - mse: 2.1460\n",
            "Epoch 275/300\n",
            "9/9 [==============================] - 0s 2ms/step - loss: 2.1460 - mse: 2.1460\n",
            "Epoch 276/300\n",
            "9/9 [==============================] - 0s 3ms/step - loss: 2.1460 - mse: 2.1460\n",
            "Epoch 277/300\n",
            "9/9 [==============================] - 0s 3ms/step - loss: 2.1460 - mse: 2.1460\n",
            "Epoch 278/300\n",
            "9/9 [==============================] - 0s 2ms/step - loss: 2.1460 - mse: 2.1460\n",
            "Epoch 279/300\n",
            "9/9 [==============================] - 0s 2ms/step - loss: 2.1460 - mse: 2.1460\n",
            "Epoch 280/300\n",
            "9/9 [==============================] - 0s 2ms/step - loss: 2.1460 - mse: 2.1460\n",
            "Epoch 281/300\n",
            "9/9 [==============================] - 0s 3ms/step - loss: 2.1460 - mse: 2.1460\n",
            "Epoch 282/300\n",
            "9/9 [==============================] - 0s 2ms/step - loss: 2.1460 - mse: 2.1460\n",
            "Epoch 283/300\n",
            "9/9 [==============================] - 0s 2ms/step - loss: 2.1460 - mse: 2.1460\n",
            "Epoch 284/300\n",
            "9/9 [==============================] - 0s 2ms/step - loss: 2.1460 - mse: 2.1460\n",
            "Epoch 285/300\n",
            "9/9 [==============================] - 0s 2ms/step - loss: 2.1460 - mse: 2.1460\n",
            "Epoch 286/300\n",
            "9/9 [==============================] - 0s 2ms/step - loss: 2.1460 - mse: 2.1460\n",
            "Epoch 287/300\n",
            "9/9 [==============================] - 0s 2ms/step - loss: 2.1460 - mse: 2.1460\n",
            "Epoch 288/300\n",
            "9/9 [==============================] - 0s 3ms/step - loss: 2.1460 - mse: 2.1460\n",
            "Epoch 289/300\n",
            "9/9 [==============================] - 0s 2ms/step - loss: 2.1460 - mse: 2.1460\n",
            "Epoch 290/300\n",
            "9/9 [==============================] - 0s 3ms/step - loss: 2.1460 - mse: 2.1460\n",
            "Epoch 291/300\n",
            "9/9 [==============================] - 0s 2ms/step - loss: 2.1460 - mse: 2.1460\n",
            "Epoch 292/300\n",
            "9/9 [==============================] - 0s 3ms/step - loss: 2.1460 - mse: 2.1460\n",
            "Epoch 293/300\n",
            "9/9 [==============================] - 0s 2ms/step - loss: 2.1460 - mse: 2.1460\n",
            "Epoch 294/300\n",
            "9/9 [==============================] - 0s 2ms/step - loss: 2.1460 - mse: 2.1460\n",
            "Epoch 295/300\n",
            "9/9 [==============================] - 0s 2ms/step - loss: 2.1460 - mse: 2.1460\n",
            "Epoch 296/300\n",
            "9/9 [==============================] - 0s 3ms/step - loss: 2.1460 - mse: 2.1460\n",
            "Epoch 297/300\n",
            "9/9 [==============================] - 0s 3ms/step - loss: 2.1460 - mse: 2.1460\n",
            "Epoch 298/300\n",
            "9/9 [==============================] - 0s 3ms/step - loss: 2.1460 - mse: 2.1460\n",
            "Epoch 299/300\n",
            "9/9 [==============================] - 0s 3ms/step - loss: 2.1460 - mse: 2.1460\n",
            "Epoch 300/300\n",
            "9/9 [==============================] - 0s 2ms/step - loss: 2.1460 - mse: 2.1460\n"
          ]
        },
        {
          "output_type": "execute_result",
          "data": {
            "text/plain": [
              "<keras.callbacks.History at 0x7fafe13971d0>"
            ]
          },
          "metadata": {},
          "execution_count": 29
        }
      ]
    },
    {
      "cell_type": "code",
      "metadata": {
        "colab": {
          "base_uri": "https://localhost:8080/",
          "height": 265
        },
        "id": "niakfxskDFGq",
        "outputId": "7747dbbd-17cf-40b6-e5c2-91d2442e9501"
      },
      "source": [
        "%matplotlib inline\n",
        "import matplotlib.pyplot as plt\n",
        "\n",
        "plt.plot(X, model.predict(X), 'b', X, y, 'k.')\n",
        "plt.show()"
      ],
      "execution_count": 30,
      "outputs": [
        {
          "output_type": "display_data",
          "data": {
            "image/png": "[encoded data removed]",
            "text/plain": [
              "<Figure size 432x288 with 1 Axes>"
            ]
          },
          "metadata": {
            "needs_background": "light"
          }
        }
      ]
    },
    {
      "cell_type": "code",
      "metadata": {
        "colab": {
          "base_uri": "https://localhost:8080/"
        },
        "id": "PoVODiAYDSEv",
        "outputId": "bffe4725-a5ba-40a6-f150-52658f8bf05d"
      },
      "source": [
        "print(model.predict([9.5]))"
      ],
      "execution_count": 31,
      "outputs": [
        {
          "output_type": "stream",
          "name": "stdout",
          "text": [
            "[[98.556465]]\n"
          ]
        }
      ]
    },
    {
      "cell_type": "markdown",
      "metadata": {
        "id": "0A9LXMfZDm_3"
      },
      "source": [
        "## Tape로 선형 회귀 구현하기\n",
        "- **`tape_gradient()`**는 자동 미분 기능을 수행합니다.\n",
        "- 임의로 2w^w + 5 라는 식을 세워보고, w에 대해 미분해보겠습니다."
      ]
    },
    {
      "cell_type": "code",
      "metadata": {
        "id": "DUuOayccDa9F"
      },
      "source": [
        "import tensorflow as tf\n",
        "\n",
        "w = tf.Variable(2.)\n",
        "\n",
        "def f(w):\n",
        "   y = w ** 2\n",
        "   z = 2 * y + 5\n",
        "\n",
        "   return z"
      ],
      "execution_count": 32,
      "outputs": []
    },
    {
      "cell_type": "markdown",
      "metadata": {
        "id": "Ulsb4CJiRHbo"
      },
      "source": [
        "- 이제 gradients를 출력하면 w가 속한 수식을 w로 미분한 값이 저장된 것을 확인할 수 있습니다."
      ]
    },
    {
      "cell_type": "code",
      "metadata": {
        "colab": {
          "base_uri": "https://localhost:8080/"
        },
        "id": "E6P5F6UaRHEs",
        "outputId": "b96aeade-03eb-4993-baf3-116872d935d5"
      },
      "source": [
        "with tf.GradientTape() as tape:\n",
        "  z = f(w)\n",
        "\n",
        "gradients = tape.gradient(z, [w])\n",
        "print(gradients)"
      ],
      "execution_count": 33,
      "outputs": [
        {
          "output_type": "stream",
          "name": "stdout",
          "text": [
            "[<tf.Tensor: shape=(), dtype=float32, numpy=8.0>]\n"
          ]
        }
      ]
    },
    {
      "cell_type": "markdown",
      "metadata": {
        "id": "GDqkGjjmRUO5"
      },
      "source": [
        "### Tape로 선형 회귀 구현하기"
      ]
    },
    {
      "cell_type": "code",
      "metadata": {
        "id": "cUXGEqZ2QwJO"
      },
      "source": [
        "X = [1,  2,  3,  4,  5,  6,  7,  8,  9]\n",
        "y = [11, 22, 33, 44, 53, 66, 77, 87, 95]"
      ],
      "execution_count": 34,
      "outputs": []
    },
    {
      "cell_type": "code",
      "metadata": {
        "id": "EeIZmHNDRcIx"
      },
      "source": [
        "# 훈련할 가중치 변수를 선언 \n",
        "W = tf.Variable(4.0)\n",
        "b = tf.Variable(1.0)"
      ],
      "execution_count": 35,
      "outputs": []
    },
    {
      "cell_type": "code",
      "metadata": {
        "id": "bDowdEQqRg89"
      },
      "source": [
        "@tf.function\n",
        "def hypothesis(x):\n",
        "  return W * x + b "
      ],
      "execution_count": 36,
      "outputs": []
    },
    {
      "cell_type": "markdown",
      "metadata": {
        "id": "Zj3-fN_WRl1E"
      },
      "source": [
        "- 테스트를 위한 입력값을 준비합니다."
      ]
    },
    {
      "cell_type": "code",
      "metadata": {
        "id": "pnlvfPgLRkg5"
      },
      "source": [
        "X_test = [3.5, 5, 5.5, 6]"
      ],
      "execution_count": 37,
      "outputs": []
    },
    {
      "cell_type": "markdown",
      "metadata": {
        "id": "LrhY36ZNRs8s"
      },
      "source": [
        "- 테스트 데이터를 이용해 학습된 선형회귀 모델이 데이터의 경향성(y = 10.6x)을 잘 학습했는지 측정합니다."
      ]
    },
    {
      "cell_type": "code",
      "metadata": {
        "colab": {
          "base_uri": "https://localhost:8080/"
        },
        "id": "8lSyQLscRsg4",
        "outputId": "afef287e-ead5-4d05-ff72-63ab18f42882"
      },
      "source": [
        "print(hypothesis(X_test).numpy())"
      ],
      "execution_count": 38,
      "outputs": [
        {
          "output_type": "stream",
          "name": "stdout",
          "text": [
            "[15. 21. 23. 25.]\n"
          ]
        }
      ]
    },
    {
      "cell_type": "markdown",
      "metadata": {
        "id": "lD5KeZCFR66D"
      },
      "source": [
        "- 손실 함수를 정의합니다.\n",
        "- MSE = mean { (y'-y) ^ 2 }"
      ]
    },
    {
      "cell_type": "code",
      "metadata": {
        "id": "FcTfm5g8R6iy"
      },
      "source": [
        "@tf.function\n",
        "def mse_loss(y_pred, y):\n",
        "  # 두 개의 차이값을 제곱을 해서 평균을 취한다\n",
        "  return tf.reduce_mean(tf.square(y_pred - y))"
      ],
      "execution_count": 39,
      "outputs": []
    },
    {
      "cell_type": "code",
      "metadata": {
        "colab": {
          "base_uri": "https://localhost:8080/"
        },
        "id": "Z81yrzvZR013",
        "outputId": "f9f53215-b1ac-4a89-b7ea-4ecce3d54faf"
      },
      "source": [
        "optimizer = tf.optimizers.SGD(0.01)\n",
        "\n",
        "for i in range(301):\n",
        "  with tf.GradientTape() as tape:\n",
        "    y_pred = hypothesis(X)\n",
        "    cost   = mse_loss(y_pred, y)\n",
        "\n",
        "  gradients = tape.gradient(cost, [W, b])\n",
        "  optimizer.apply_gradients(zip(gradients, [W, b]))\n",
        "\n",
        "  if i % 10 == 0:\n",
        "    print(\"epoch : {:3} | W의 값 : {:5.4f} | b의 값 : {:5.4} | cost : {:5.6f}\".format(i, W.numpy(), b.numpy(), cost))"
      ],
      "execution_count": 40,
      "outputs": [
        {
          "output_type": "stream",
          "name": "stdout",
          "text": [
            "epoch :   0 | W의 값 : 8.2133 | b의 값 : 1.664 | cost : 1402.555542\n",
            "epoch :  10 | W의 값 : 10.4971 | b의 값 : 1.977 | cost : 1.351182\n",
            "epoch :  20 | W의 값 : 10.5047 | b의 값 :  1.93 | cost : 1.328163\n",
            "epoch :  30 | W의 값 : 10.5119 | b의 값 : 1.884 | cost : 1.306966\n",
            "epoch :  40 | W의 값 : 10.5188 | b의 값 : 1.841 | cost : 1.287436\n",
            "epoch :  50 | W의 값 : 10.5254 | b의 값 : 1.799 | cost : 1.269459\n",
            "epoch :  60 | W의 값 : 10.5318 | b의 값 : 1.759 | cost : 1.252897\n",
            "epoch :  70 | W의 값 : 10.5379 | b의 값 : 1.721 | cost : 1.237644\n",
            "epoch :  80 | W의 값 : 10.5438 | b의 값 : 1.684 | cost : 1.223597\n",
            "epoch :  90 | W의 값 : 10.5494 | b의 값 : 1.648 | cost : 1.210658\n",
            "epoch : 100 | W의 값 : 10.5548 | b의 값 : 1.614 | cost : 1.198740\n",
            "epoch : 110 | W의 값 : 10.5600 | b의 값 : 1.582 | cost : 1.187767\n",
            "epoch : 120 | W의 값 : 10.5650 | b의 값 :  1.55 | cost : 1.177665\n",
            "epoch : 130 | W의 값 : 10.5697 | b의 값 :  1.52 | cost : 1.168354\n",
            "epoch : 140 | W의 값 : 10.5743 | b의 값 : 1.492 | cost : 1.159782\n",
            "epoch : 150 | W의 값 : 10.5787 | b의 값 : 1.464 | cost : 1.151890\n",
            "epoch : 160 | W의 값 : 10.5829 | b의 값 : 1.437 | cost : 1.144619\n",
            "epoch : 170 | W의 값 : 10.5870 | b의 값 : 1.412 | cost : 1.137924\n",
            "epoch : 180 | W의 값 : 10.5909 | b의 값 : 1.387 | cost : 1.131752\n",
            "epoch : 190 | W의 값 : 10.5946 | b의 값 : 1.364 | cost : 1.126073\n",
            "epoch : 200 | W의 값 : 10.5982 | b의 값 : 1.341 | cost : 1.120843\n",
            "epoch : 210 | W의 값 : 10.6016 | b의 값 :  1.32 | cost : 1.116026\n",
            "epoch : 220 | W의 값 : 10.6049 | b의 값 : 1.299 | cost : 1.111589\n",
            "epoch : 230 | W의 값 : 10.6081 | b의 값 : 1.279 | cost : 1.107504\n",
            "epoch : 240 | W의 값 : 10.6111 | b의 값 :  1.26 | cost : 1.103736\n",
            "epoch : 250 | W의 값 : 10.6140 | b의 값 : 1.242 | cost : 1.100273\n",
            "epoch : 260 | W의 값 : 10.6168 | b의 값 : 1.224 | cost : 1.097082\n",
            "epoch : 270 | W의 값 : 10.6195 | b의 값 : 1.207 | cost : 1.094143\n",
            "epoch : 280 | W의 값 : 10.6221 | b의 값 : 1.191 | cost : 1.091434\n",
            "epoch : 290 | W의 값 : 10.6245 | b의 값 : 1.176 | cost : 1.088940\n",
            "epoch : 300 | W의 값 : 10.6269 | b의 값 : 1.161 | cost : 1.086645\n"
          ]
        }
      ]
    },
    {
      "cell_type": "code",
      "metadata": {
        "colab": {
          "base_uri": "https://localhost:8080/"
        },
        "id": "5TLTN69_Smh4",
        "outputId": "e562a7ea-eaf0-448f-eb2d-6527c6ab9424"
      },
      "source": [
        "X_test = [3.5, 5, 5.5, 6, 9.5]\n",
        "print(hypothesis(X_test).numpy())"
      ],
      "execution_count": 41,
      "outputs": [
        {
          "output_type": "stream",
          "name": "stdout",
          "text": [
            "[ 38.35479   54.295143  59.608593  64.92204  102.1162  ]\n"
          ]
        }
      ]
    },
    {
      "cell_type": "markdown",
      "metadata": {
        "id": "INPWk7CnTDFE"
      },
      "source": [
        "## 로지스틱 회귀 구현하기"
      ]
    },
    {
      "cell_type": "code",
      "metadata": {
        "id": "tr7c9-yOS4Nx"
      },
      "source": [
        "%matplotlib inline\n",
        "import matplotlib.pyplot as plt\n",
        "import numpy             as np"
      ],
      "execution_count": 42,
      "outputs": []
    },
    {
      "cell_type": "code",
      "metadata": {
        "colab": {
          "base_uri": "https://localhost:8080/",
          "height": 281
        },
        "id": "IsTvqwgdTLbG",
        "outputId": "ed3056b5-a372-40b5-fa57-67ba25af23f9"
      },
      "source": [
        "def sigmoid(x):\n",
        "  return 1 / (1 + np.exp(-x))\n",
        "\n",
        "x = np.arange(-5.0, 5.0, 0.1)\n",
        "y = sigmoid(x)\n",
        "\n",
        "plt.plot(x, y, 'g')\n",
        "plt.plot([0, 0], [1.0, 0.0], ':')\n",
        "plt.title(\"Sigmoid Function\")\n",
        "plt.show()"
      ],
      "execution_count": 43,
      "outputs": [
        {
          "output_type": "display_data",
          "data": {
            "image/png": "[encoded data removed]",
            "text/plain": [
              "<Figure size 432x288 with 1 Axes>"
            ]
          },
          "metadata": {
            "needs_background": "light"
          }
        }
      ]
    },
    {
      "cell_type": "code",
      "metadata": {
        "colab": {
          "base_uri": "https://localhost:8080/",
          "height": 281
        },
        "id": "c5dn2MZwTYRW",
        "outputId": "238bf6ec-2c08-4552-cfb5-bca347bf5742"
      },
      "source": [
        "x = np.arange(-5.0, 5.0, 0.1)\n",
        "\n",
        "y1 = sigmoid(0.5 * x)\n",
        "y2 = sigmoid(x)\n",
        "y3 = sigmoid(2 * x)\n",
        "\n",
        "plt.plot(x, y1, 'r', linestyle='--') # W의 값이 0.5일때\n",
        "plt.plot(x, y2, 'g')                 # W의 값이 1일때\n",
        "plt.plot(x, y3, 'b', linestyle='--') # W의 값이 2일때\n",
        "plt.plot([0, 0], [1.0, 0.0], ':')   # 가운데 점선 추가\n",
        "plt.title(\"Sigmoid Function\")\n",
        "plt.show()"
      ],
      "execution_count": 44,
      "outputs": [
        {
          "output_type": "display_data",
          "data": {
            "image/png": "[encoded data removed]",
            "text/plain": [
              "<Figure size 432x288 with 1 Axes>"
            ]
          },
          "metadata": {
            "needs_background": "light"
          }
        }
      ]
    },
    {
      "cell_type": "code",
      "metadata": {
        "colab": {
          "base_uri": "https://localhost:8080/",
          "height": 281
        },
        "id": "kPH0GHm9T6OF",
        "outputId": "baa09cc6-a67c-492e-b8e1-5045e2ffb6d5"
      },
      "source": [
        "y1 = sigmoid(x + 0.5)\n",
        "y2 = sigmoid(x + 1)\n",
        "y3 = sigmoid(x + 1.5)\n",
        "\n",
        "plt.plot(x, y1, 'r', linestyle='--') # b의 값이 0.5일때\n",
        "plt.plot(x, y2, 'g')                 # b의 값이 1일때\n",
        "plt.plot(x, y3, 'b', linestyle='--') # b의 값이 1.5일때\n",
        "plt.plot([0, 0], [1.0, 0.0], ':')   # 가운데 점선 추가\n",
        "plt.title(\"Sigmoid Function\")\n",
        "plt.show()"
      ],
      "execution_count": 45,
      "outputs": [
        {
          "output_type": "display_data",
          "data": {
            "image/png": "[encoded data removed]",
            "text/plain": [
              "<Figure size 432x288 with 1 Axes>"
            ]
          },
          "metadata": {
            "needs_background": "light"
          }
        }
      ]
    },
    {
      "cell_type": "code",
      "metadata": {
        "id": "AU_VEP2bUEwb",
        "colab": {
          "base_uri": "https://localhost:8080/"
        },
        "outputId": "e9fda547-7226-40a9-db8c-7bf235f1cbfa"
      },
      "source": [
        "import numpy as np\n",
        "from tensorflow.keras.models import Sequential\n",
        "from tensorflow.keras.layers import Dense\n",
        "from tensorflow.keras        import optimizers\n",
        "\n",
        "\n",
        "X = np.array([-50, -40, -30, -20, -10, -5, 0, 5, 10, 20, 30, 40, 50])\n",
        "y = np.array([  0,   0,   0,   0,   0,  0, 0, 0,  1,  1,  1,  1,  1])\n",
        "\n",
        "\n",
        "model = Sequential()\n",
        "\n",
        "\n",
        "# Dense의 첫 번째 인자는 항상 출력의 차원을 의미\n",
        "# activation function은 출력값에 적용할 함수를 의미\n",
        "model.add(Dense(1, input_dim = 1, activation=\"sigmoid\"))\n",
        "\n",
        "\n",
        "# sgd는 경사하강법을 의미\n",
        "# lr은 learning rate(학습율)을 의미\n",
        "sgd = optimizers.SGD(lr=0.01)\n",
        "\n",
        "\n",
        "# 이진 분류를 위해 activation function으로 sigmoid 함수를 사용한다면 loss는 binary_crossentropy를 사용\n",
        "model.compile(optimizer = sgd, loss = \"binary_crossentropy\", metrics = ['binary_accuracy'])\n",
        "\n",
        "\n",
        "model.fit(X, y, batch_size = 1, epochs = 200, shuffle = False)"
      ],
      "execution_count": 46,
      "outputs": [
        {
          "output_type": "stream",
          "name": "stderr",
          "text": [
            "/usr/local/lib/python3.7/dist-packages/keras/optimizer_v2/optimizer_v2.py:356: UserWarning: The `lr` argument is deprecated, use `learning_rate` instead.\n",
            "  \"The `lr` argument is deprecated, use `learning_rate` instead.\")\n"
          ]
        },
        {
          "output_type": "stream",
          "name": "stdout",
          "text": [
            "Epoch 1/200\n",
            "13/13 [==============================] - 0s 2ms/step - loss: 0.4087 - binary_accuracy: 0.9231\n",
            "Epoch 2/200\n",
            "13/13 [==============================] - 0s 2ms/step - loss: 0.3886 - binary_accuracy: 0.9231\n",
            "Epoch 3/200\n",
            "13/13 [==============================] - 0s 2ms/step - loss: 0.3688 - binary_accuracy: 0.9231\n",
            "Epoch 4/200\n",
            "13/13 [==============================] - 0s 2ms/step - loss: 0.3493 - binary_accuracy: 0.9231\n",
            "Epoch 5/200\n",
            "13/13 [==============================] - 0s 2ms/step - loss: 0.3302 - binary_accuracy: 0.9231\n",
            "Epoch 6/200\n",
            "13/13 [==============================] - 0s 2ms/step - loss: 0.3116 - binary_accuracy: 0.9231\n",
            "Epoch 7/200\n",
            "13/13 [==============================] - 0s 2ms/step - loss: 0.2936 - binary_accuracy: 0.9231\n",
            "Epoch 8/200\n",
            "13/13 [==============================] - 0s 2ms/step - loss: 0.2764 - binary_accuracy: 0.9231\n",
            "Epoch 9/200\n",
            "13/13 [==============================] - 0s 2ms/step - loss: 0.2602 - binary_accuracy: 0.9231\n",
            "Epoch 10/200\n",
            "13/13 [==============================] - 0s 3ms/step - loss: 0.2452 - binary_accuracy: 0.9231\n",
            "Epoch 11/200\n",
            "13/13 [==============================] - 0s 2ms/step - loss: 0.2315 - binary_accuracy: 0.9231\n",
            "Epoch 12/200\n",
            "13/13 [==============================] - 0s 3ms/step - loss: 0.2194 - binary_accuracy: 0.9231\n",
            "Epoch 13/200\n",
            "13/13 [==============================] - 0s 3ms/step - loss: 0.2090 - binary_accuracy: 0.9231\n",
            "Epoch 14/200\n",
            "13/13 [==============================] - 0s 2ms/step - loss: 0.2005 - binary_accuracy: 0.9231\n",
            "Epoch 15/200\n",
            "13/13 [==============================] - 0s 2ms/step - loss: 0.1936 - binary_accuracy: 0.9231\n",
            "Epoch 16/200\n",
            "13/13 [==============================] - 0s 2ms/step - loss: 0.1884 - binary_accuracy: 0.9231\n",
            "Epoch 17/200\n",
            "13/13 [==============================] - 0s 2ms/step - loss: 0.1846 - binary_accuracy: 0.9231\n",
            "Epoch 18/200\n",
            "13/13 [==============================] - 0s 2ms/step - loss: 0.1817 - binary_accuracy: 0.9231\n",
            "Epoch 19/200\n",
            "13/13 [==============================] - 0s 2ms/step - loss: 0.1795 - binary_accuracy: 0.9231\n",
            "Epoch 20/200\n",
            "13/13 [==============================] - 0s 2ms/step - loss: 0.1778 - binary_accuracy: 0.9231\n",
            "Epoch 21/200\n",
            "13/13 [==============================] - 0s 3ms/step - loss: 0.1763 - binary_accuracy: 0.9231\n",
            "Epoch 22/200\n",
            "13/13 [==============================] - 0s 2ms/step - loss: 0.1749 - binary_accuracy: 0.9231\n",
            "Epoch 23/200\n",
            "13/13 [==============================] - 0s 2ms/step - loss: 0.1736 - binary_accuracy: 0.9231\n",
            "Epoch 24/200\n",
            "13/13 [==============================] - 0s 3ms/step - loss: 0.1724 - binary_accuracy: 0.9231\n",
            "Epoch 25/200\n",
            "13/13 [==============================] - 0s 3ms/step - loss: 0.1712 - binary_accuracy: 0.9231\n",
            "Epoch 26/200\n",
            "13/13 [==============================] - 0s 3ms/step - loss: 0.1700 - binary_accuracy: 0.9231\n",
            "Epoch 27/200\n",
            "13/13 [==============================] - 0s 3ms/step - loss: 0.1688 - binary_accuracy: 0.9231\n",
            "Epoch 28/200\n",
            "13/13 [==============================] - 0s 2ms/step - loss: 0.1677 - binary_accuracy: 0.9231\n",
            "Epoch 29/200\n",
            "13/13 [==============================] - 0s 3ms/step - loss: 0.1666 - binary_accuracy: 0.9231\n",
            "Epoch 30/200\n",
            "13/13 [==============================] - 0s 2ms/step - loss: 0.1655 - binary_accuracy: 0.9231\n",
            "Epoch 31/200\n",
            "13/13 [==============================] - 0s 2ms/step - loss: 0.1644 - binary_accuracy: 0.9231\n",
            "Epoch 32/200\n",
            "13/13 [==============================] - 0s 3ms/step - loss: 0.1633 - binary_accuracy: 0.9231\n",
            "Epoch 33/200\n",
            "13/13 [==============================] - 0s 3ms/step - loss: 0.1623 - binary_accuracy: 0.9231\n",
            "Epoch 34/200\n",
            "13/13 [==============================] - 0s 2ms/step - loss: 0.1613 - binary_accuracy: 0.9231\n",
            "Epoch 35/200\n",
            "13/13 [==============================] - 0s 3ms/step - loss: 0.1602 - binary_accuracy: 0.9231\n",
            "Epoch 36/200\n",
            "13/13 [==============================] - 0s 3ms/step - loss: 0.1592 - binary_accuracy: 0.9231\n",
            "Epoch 37/200\n",
            "13/13 [==============================] - 0s 2ms/step - loss: 0.1583 - binary_accuracy: 0.9231\n",
            "Epoch 38/200\n",
            "13/13 [==============================] - 0s 3ms/step - loss: 0.1573 - binary_accuracy: 0.9231\n",
            "Epoch 39/200\n",
            "13/13 [==============================] - 0s 2ms/step - loss: 0.1563 - binary_accuracy: 0.9231\n",
            "Epoch 40/200\n",
            "13/13 [==============================] - 0s 2ms/step - loss: 0.1554 - binary_accuracy: 0.9231\n",
            "Epoch 41/200\n",
            "13/13 [==============================] - 0s 2ms/step - loss: 0.1544 - binary_accuracy: 0.9231\n",
            "Epoch 42/200\n",
            "13/13 [==============================] - 0s 3ms/step - loss: 0.1535 - binary_accuracy: 0.9231\n",
            "Epoch 43/200\n",
            "13/13 [==============================] - 0s 2ms/step - loss: 0.1526 - binary_accuracy: 0.9231\n",
            "Epoch 44/200\n",
            "13/13 [==============================] - 0s 2ms/step - loss: 0.1517 - binary_accuracy: 0.9231\n",
            "Epoch 45/200\n",
            "13/13 [==============================] - 0s 2ms/step - loss: 0.1509 - binary_accuracy: 0.9231\n",
            "Epoch 46/200\n",
            "13/13 [==============================] - 0s 2ms/step - loss: 0.1500 - binary_accuracy: 0.9231\n",
            "Epoch 47/200\n",
            "13/13 [==============================] - 0s 3ms/step - loss: 0.1492 - binary_accuracy: 0.9231\n",
            "Epoch 48/200\n",
            "13/13 [==============================] - 0s 2ms/step - loss: 0.1483 - binary_accuracy: 0.9231\n",
            "Epoch 49/200\n",
            "13/13 [==============================] - 0s 3ms/step - loss: 0.1475 - binary_accuracy: 0.9231\n",
            "Epoch 50/200\n",
            "13/13 [==============================] - 0s 3ms/step - loss: 0.1467 - binary_accuracy: 0.9231\n",
            "Epoch 51/200\n",
            "13/13 [==============================] - 0s 2ms/step - loss: 0.1459 - binary_accuracy: 0.9231\n",
            "Epoch 52/200\n",
            "13/13 [==============================] - 0s 3ms/step - loss: 0.1451 - binary_accuracy: 0.9231\n",
            "Epoch 53/200\n",
            "13/13 [==============================] - 0s 2ms/step - loss: 0.1443 - binary_accuracy: 0.9231\n",
            "Epoch 54/200\n",
            "13/13 [==============================] - 0s 2ms/step - loss: 0.1435 - binary_accuracy: 0.9231\n",
            "Epoch 55/200\n",
            "13/13 [==============================] - 0s 2ms/step - loss: 0.1428 - binary_accuracy: 0.9231\n",
            "Epoch 56/200\n",
            "13/13 [==============================] - 0s 2ms/step - loss: 0.1420 - binary_accuracy: 0.9231\n",
            "Epoch 57/200\n",
            "13/13 [==============================] - 0s 2ms/step - loss: 0.1413 - binary_accuracy: 0.9231\n",
            "Epoch 58/200\n",
            "13/13 [==============================] - 0s 3ms/step - loss: 0.1405 - binary_accuracy: 0.9231\n",
            "Epoch 59/200\n",
            "13/13 [==============================] - 0s 2ms/step - loss: 0.1398 - binary_accuracy: 0.9231\n",
            "Epoch 60/200\n",
            "13/13 [==============================] - 0s 3ms/step - loss: 0.1391 - binary_accuracy: 0.9231\n",
            "Epoch 61/200\n",
            "13/13 [==============================] - 0s 2ms/step - loss: 0.1384 - binary_accuracy: 0.9231\n",
            "Epoch 62/200\n",
            "13/13 [==============================] - 0s 2ms/step - loss: 0.1377 - binary_accuracy: 0.9231\n",
            "Epoch 63/200\n",
            "13/13 [==============================] - 0s 2ms/step - loss: 0.1370 - binary_accuracy: 0.9231\n",
            "Epoch 64/200\n",
            "13/13 [==============================] - 0s 2ms/step - loss: 0.1364 - binary_accuracy: 0.9231\n",
            "Epoch 65/200\n",
            "13/13 [==============================] - 0s 2ms/step - loss: 0.1357 - binary_accuracy: 0.9231\n",
            "Epoch 66/200\n",
            "13/13 [==============================] - 0s 2ms/step - loss: 0.1350 - binary_accuracy: 0.9231\n",
            "Epoch 67/200\n",
            "13/13 [==============================] - 0s 3ms/step - loss: 0.1344 - binary_accuracy: 0.9231\n",
            "Epoch 68/200\n",
            "13/13 [==============================] - 0s 2ms/step - loss: 0.1338 - binary_accuracy: 0.9231\n",
            "Epoch 69/200\n",
            "13/13 [==============================] - 0s 2ms/step - loss: 0.1331 - binary_accuracy: 0.9231\n",
            "Epoch 70/200\n",
            "13/13 [==============================] - 0s 3ms/step - loss: 0.1325 - binary_accuracy: 0.9231\n",
            "Epoch 71/200\n",
            "13/13 [==============================] - 0s 2ms/step - loss: 0.1319 - binary_accuracy: 0.9231\n",
            "Epoch 72/200\n",
            "13/13 [==============================] - 0s 2ms/step - loss: 0.1313 - binary_accuracy: 0.9231\n",
            "Epoch 73/200\n",
            "13/13 [==============================] - 0s 2ms/step - loss: 0.1307 - binary_accuracy: 0.9231\n",
            "Epoch 74/200\n",
            "13/13 [==============================] - 0s 3ms/step - loss: 0.1301 - binary_accuracy: 0.9231\n",
            "Epoch 75/200\n",
            "13/13 [==============================] - 0s 2ms/step - loss: 0.1295 - binary_accuracy: 0.9231\n",
            "Epoch 76/200\n",
            "13/13 [==============================] - 0s 2ms/step - loss: 0.1289 - binary_accuracy: 0.9231\n",
            "Epoch 77/200\n",
            "13/13 [==============================] - 0s 3ms/step - loss: 0.1284 - binary_accuracy: 0.9231\n",
            "Epoch 78/200\n",
            "13/13 [==============================] - 0s 2ms/step - loss: 0.1278 - binary_accuracy: 0.9231\n",
            "Epoch 79/200\n",
            "13/13 [==============================] - 0s 3ms/step - loss: 0.1272 - binary_accuracy: 0.9231\n",
            "Epoch 80/200\n",
            "13/13 [==============================] - 0s 2ms/step - loss: 0.1267 - binary_accuracy: 0.9231\n",
            "Epoch 81/200\n",
            "13/13 [==============================] - 0s 2ms/step - loss: 0.1261 - binary_accuracy: 0.9231\n",
            "Epoch 82/200\n",
            "13/13 [==============================] - 0s 3ms/step - loss: 0.1256 - binary_accuracy: 0.9231\n",
            "Epoch 83/200\n",
            "13/13 [==============================] - 0s 2ms/step - loss: 0.1251 - binary_accuracy: 0.9231\n",
            "Epoch 84/200\n",
            "13/13 [==============================] - 0s 3ms/step - loss: 0.1245 - binary_accuracy: 0.9231\n",
            "Epoch 85/200\n",
            "13/13 [==============================] - 0s 3ms/step - loss: 0.1240 - binary_accuracy: 0.9231\n",
            "Epoch 86/200\n",
            "13/13 [==============================] - 0s 3ms/step - loss: 0.1235 - binary_accuracy: 0.9231\n",
            "Epoch 87/200\n",
            "13/13 [==============================] - 0s 2ms/step - loss: 0.1230 - binary_accuracy: 0.9231\n",
            "Epoch 88/200\n",
            "13/13 [==============================] - 0s 2ms/step - loss: 0.1225 - binary_accuracy: 0.9231\n",
            "Epoch 89/200\n",
            "13/13 [==============================] - 0s 2ms/step - loss: 0.1220 - binary_accuracy: 0.9231\n",
            "Epoch 90/200\n",
            "13/13 [==============================] - 0s 2ms/step - loss: 0.1215 - binary_accuracy: 0.9231\n",
            "Epoch 91/200\n",
            "13/13 [==============================] - 0s 2ms/step - loss: 0.1210 - binary_accuracy: 0.9231\n",
            "Epoch 92/200\n",
            "13/13 [==============================] - 0s 2ms/step - loss: 0.1205 - binary_accuracy: 0.9231\n",
            "Epoch 93/200\n",
            "13/13 [==============================] - 0s 3ms/step - loss: 0.1201 - binary_accuracy: 0.9231\n",
            "Epoch 94/200\n",
            "13/13 [==============================] - 0s 2ms/step - loss: 0.1196 - binary_accuracy: 0.9231\n",
            "Epoch 95/200\n",
            "13/13 [==============================] - 0s 3ms/step - loss: 0.1191 - binary_accuracy: 0.9231\n",
            "Epoch 96/200\n",
            "13/13 [==============================] - 0s 2ms/step - loss: 0.1187 - binary_accuracy: 0.9231\n",
            "Epoch 97/200\n",
            "13/13 [==============================] - 0s 3ms/step - loss: 0.1182 - binary_accuracy: 0.9231\n",
            "Epoch 98/200\n",
            "13/13 [==============================] - 0s 2ms/step - loss: 0.1178 - binary_accuracy: 0.9231\n",
            "Epoch 99/200\n",
            "13/13 [==============================] - 0s 2ms/step - loss: 0.1173 - binary_accuracy: 0.9231\n",
            "Epoch 100/200\n",
            "13/13 [==============================] - 0s 2ms/step - loss: 0.1169 - binary_accuracy: 0.9231\n",
            "Epoch 101/200\n",
            "13/13 [==============================] - 0s 3ms/step - loss: 0.1165 - binary_accuracy: 0.9231\n",
            "Epoch 102/200\n",
            "13/13 [==============================] - 0s 2ms/step - loss: 0.1160 - binary_accuracy: 0.9231\n",
            "Epoch 103/200\n",
            "13/13 [==============================] - 0s 2ms/step - loss: 0.1156 - binary_accuracy: 0.9231\n",
            "Epoch 104/200\n",
            "13/13 [==============================] - 0s 2ms/step - loss: 0.1152 - binary_accuracy: 0.9231\n",
            "Epoch 105/200\n",
            "13/13 [==============================] - 0s 2ms/step - loss: 0.1148 - binary_accuracy: 0.9231\n",
            "Epoch 106/200\n",
            "13/13 [==============================] - 0s 3ms/step - loss: 0.1144 - binary_accuracy: 0.9231\n",
            "Epoch 107/200\n",
            "13/13 [==============================] - 0s 3ms/step - loss: 0.1140 - binary_accuracy: 0.9231\n",
            "Epoch 108/200\n",
            "13/13 [==============================] - 0s 2ms/step - loss: 0.1135 - binary_accuracy: 0.9231\n",
            "Epoch 109/200\n",
            "13/13 [==============================] - 0s 2ms/step - loss: 0.1131 - binary_accuracy: 0.9231\n",
            "Epoch 110/200\n",
            "13/13 [==============================] - 0s 3ms/step - loss: 0.1128 - binary_accuracy: 0.9231\n",
            "Epoch 111/200\n",
            "13/13 [==============================] - 0s 2ms/step - loss: 0.1124 - binary_accuracy: 0.9231\n",
            "Epoch 112/200\n",
            "13/13 [==============================] - 0s 2ms/step - loss: 0.1120 - binary_accuracy: 0.9231\n",
            "Epoch 113/200\n",
            "13/13 [==============================] - 0s 2ms/step - loss: 0.1116 - binary_accuracy: 0.9231\n",
            "Epoch 114/200\n",
            "13/13 [==============================] - 0s 3ms/step - loss: 0.1112 - binary_accuracy: 0.9231\n",
            "Epoch 115/200\n",
            "13/13 [==============================] - 0s 2ms/step - loss: 0.1108 - binary_accuracy: 0.9231\n",
            "Epoch 116/200\n",
            "13/13 [==============================] - 0s 2ms/step - loss: 0.1105 - binary_accuracy: 0.9231\n",
            "Epoch 117/200\n",
            "13/13 [==============================] - 0s 2ms/step - loss: 0.1101 - binary_accuracy: 0.9231\n",
            "Epoch 118/200\n",
            "13/13 [==============================] - 0s 2ms/step - loss: 0.1097 - binary_accuracy: 0.9231\n",
            "Epoch 119/200\n",
            "13/13 [==============================] - 0s 3ms/step - loss: 0.1094 - binary_accuracy: 0.9231\n",
            "Epoch 120/200\n",
            "13/13 [==============================] - 0s 2ms/step - loss: 0.1090 - binary_accuracy: 0.9231\n",
            "Epoch 121/200\n",
            "13/13 [==============================] - 0s 2ms/step - loss: 0.1086 - binary_accuracy: 0.9231\n",
            "Epoch 122/200\n",
            "13/13 [==============================] - 0s 3ms/step - loss: 0.1083 - binary_accuracy: 0.9231\n",
            "Epoch 123/200\n",
            "13/13 [==============================] - 0s 3ms/step - loss: 0.1079 - binary_accuracy: 0.9231\n",
            "Epoch 124/200\n",
            "13/13 [==============================] - 0s 2ms/step - loss: 0.1076 - binary_accuracy: 0.9231\n",
            "Epoch 125/200\n",
            "13/13 [==============================] - 0s 2ms/step - loss: 0.1073 - binary_accuracy: 0.9231\n",
            "Epoch 126/200\n",
            "13/13 [==============================] - 0s 2ms/step - loss: 0.1069 - binary_accuracy: 0.9231\n",
            "Epoch 127/200\n",
            "13/13 [==============================] - 0s 2ms/step - loss: 0.1066 - binary_accuracy: 0.9231\n",
            "Epoch 128/200\n",
            "13/13 [==============================] - 0s 2ms/step - loss: 0.1063 - binary_accuracy: 0.9231\n",
            "Epoch 129/200\n",
            "13/13 [==============================] - 0s 3ms/step - loss: 0.1059 - binary_accuracy: 0.9231\n",
            "Epoch 130/200\n",
            "13/13 [==============================] - 0s 3ms/step - loss: 0.1056 - binary_accuracy: 0.9231\n",
            "Epoch 131/200\n",
            "13/13 [==============================] - 0s 2ms/step - loss: 0.1053 - binary_accuracy: 0.9231\n",
            "Epoch 132/200\n",
            "13/13 [==============================] - 0s 2ms/step - loss: 0.1050 - binary_accuracy: 0.9231\n",
            "Epoch 133/200\n",
            "13/13 [==============================] - 0s 2ms/step - loss: 0.1046 - binary_accuracy: 0.9231\n",
            "Epoch 134/200\n",
            "13/13 [==============================] - 0s 2ms/step - loss: 0.1043 - binary_accuracy: 0.9231\n",
            "Epoch 135/200\n",
            "13/13 [==============================] - 0s 2ms/step - loss: 0.1040 - binary_accuracy: 0.9231\n",
            "Epoch 136/200\n",
            "13/13 [==============================] - 0s 2ms/step - loss: 0.1037 - binary_accuracy: 0.9231\n",
            "Epoch 137/200\n",
            "13/13 [==============================] - 0s 2ms/step - loss: 0.1034 - binary_accuracy: 0.9231\n",
            "Epoch 138/200\n",
            "13/13 [==============================] - 0s 2ms/step - loss: 0.1031 - binary_accuracy: 0.9231\n",
            "Epoch 139/200\n",
            "13/13 [==============================] - 0s 2ms/step - loss: 0.1028 - binary_accuracy: 0.9231\n",
            "Epoch 140/200\n",
            "13/13 [==============================] - 0s 3ms/step - loss: 0.1025 - binary_accuracy: 0.9231\n",
            "Epoch 141/200\n",
            "13/13 [==============================] - 0s 2ms/step - loss: 0.1022 - binary_accuracy: 0.9231\n",
            "Epoch 142/200\n",
            "13/13 [==============================] - 0s 2ms/step - loss: 0.1019 - binary_accuracy: 0.9231\n",
            "Epoch 143/200\n",
            "13/13 [==============================] - 0s 2ms/step - loss: 0.1016 - binary_accuracy: 0.9231\n",
            "Epoch 144/200\n",
            "13/13 [==============================] - 0s 2ms/step - loss: 0.1013 - binary_accuracy: 0.9231\n",
            "Epoch 145/200\n",
            "13/13 [==============================] - 0s 2ms/step - loss: 0.1010 - binary_accuracy: 0.9231\n",
            "Epoch 146/200\n",
            "13/13 [==============================] - 0s 2ms/step - loss: 0.1007 - binary_accuracy: 0.9231\n",
            "Epoch 147/200\n",
            "13/13 [==============================] - 0s 2ms/step - loss: 0.1005 - binary_accuracy: 0.9231\n",
            "Epoch 148/200\n",
            "13/13 [==============================] - 0s 2ms/step - loss: 0.1002 - binary_accuracy: 0.9231\n",
            "Epoch 149/200\n",
            "13/13 [==============================] - 0s 2ms/step - loss: 0.0999 - binary_accuracy: 0.9231\n",
            "Epoch 150/200\n",
            "13/13 [==============================] - 0s 3ms/step - loss: 0.0996 - binary_accuracy: 0.9231\n",
            "Epoch 151/200\n",
            "13/13 [==============================] - 0s 3ms/step - loss: 0.0994 - binary_accuracy: 0.9231\n",
            "Epoch 152/200\n",
            "13/13 [==============================] - 0s 3ms/step - loss: 0.0991 - binary_accuracy: 0.9231\n",
            "Epoch 153/200\n",
            "13/13 [==============================] - 0s 2ms/step - loss: 0.0988 - binary_accuracy: 0.9231\n",
            "Epoch 154/200\n",
            "13/13 [==============================] - 0s 2ms/step - loss: 0.0986 - binary_accuracy: 0.9231\n",
            "Epoch 155/200\n",
            "13/13 [==============================] - 0s 2ms/step - loss: 0.0983 - binary_accuracy: 0.9231\n",
            "Epoch 156/200\n",
            "13/13 [==============================] - 0s 2ms/step - loss: 0.0980 - binary_accuracy: 0.9231\n",
            "Epoch 157/200\n",
            "13/13 [==============================] - 0s 2ms/step - loss: 0.0978 - binary_accuracy: 0.9231\n",
            "Epoch 158/200\n",
            "13/13 [==============================] - 0s 2ms/step - loss: 0.0975 - binary_accuracy: 0.9231\n",
            "Epoch 159/200\n",
            "13/13 [==============================] - 0s 3ms/step - loss: 0.0973 - binary_accuracy: 0.9231\n",
            "Epoch 160/200\n",
            "13/13 [==============================] - 0s 3ms/step - loss: 0.0970 - binary_accuracy: 0.9231\n",
            "Epoch 161/200\n",
            "13/13 [==============================] - 0s 2ms/step - loss: 0.0968 - binary_accuracy: 0.9231\n",
            "Epoch 162/200\n",
            "13/13 [==============================] - 0s 2ms/step - loss: 0.0965 - binary_accuracy: 0.9231\n",
            "Epoch 163/200\n",
            "13/13 [==============================] - 0s 2ms/step - loss: 0.0963 - binary_accuracy: 0.9231\n",
            "Epoch 164/200\n",
            "13/13 [==============================] - 0s 2ms/step - loss: 0.0960 - binary_accuracy: 0.9231\n",
            "Epoch 165/200\n",
            "13/13 [==============================] - 0s 3ms/step - loss: 0.0958 - binary_accuracy: 0.9231\n",
            "Epoch 166/200\n",
            "13/13 [==============================] - 0s 3ms/step - loss: 0.0955 - binary_accuracy: 0.9231\n",
            "Epoch 167/200\n",
            "13/13 [==============================] - 0s 3ms/step - loss: 0.0953 - binary_accuracy: 0.9231\n",
            "Epoch 168/200\n",
            "13/13 [==============================] - 0s 2ms/step - loss: 0.0950 - binary_accuracy: 0.9231\n",
            "Epoch 169/200\n",
            "13/13 [==============================] - 0s 4ms/step - loss: 0.0948 - binary_accuracy: 0.9231\n",
            "Epoch 170/200\n",
            "13/13 [==============================] - 0s 3ms/step - loss: 0.0946 - binary_accuracy: 0.9231\n",
            "Epoch 171/200\n",
            "13/13 [==============================] - 0s 3ms/step - loss: 0.0943 - binary_accuracy: 0.9231\n",
            "Epoch 172/200\n",
            "13/13 [==============================] - 0s 2ms/step - loss: 0.0941 - binary_accuracy: 0.9231\n",
            "Epoch 173/200\n",
            "13/13 [==============================] - 0s 2ms/step - loss: 0.0939 - binary_accuracy: 0.9231\n",
            "Epoch 174/200\n",
            "13/13 [==============================] - 0s 2ms/step - loss: 0.0936 - binary_accuracy: 0.9231\n",
            "Epoch 175/200\n",
            "13/13 [==============================] - 0s 2ms/step - loss: 0.0934 - binary_accuracy: 0.9231\n",
            "Epoch 176/200\n",
            "13/13 [==============================] - 0s 2ms/step - loss: 0.0932 - binary_accuracy: 0.9231\n",
            "Epoch 177/200\n",
            "13/13 [==============================] - 0s 2ms/step - loss: 0.0930 - binary_accuracy: 0.9231\n",
            "Epoch 178/200\n",
            "13/13 [==============================] - 0s 3ms/step - loss: 0.0927 - binary_accuracy: 0.9231\n",
            "Epoch 179/200\n",
            "13/13 [==============================] - 0s 2ms/step - loss: 0.0925 - binary_accuracy: 0.9231\n",
            "Epoch 180/200\n",
            "13/13 [==============================] - 0s 3ms/step - loss: 0.0923 - binary_accuracy: 0.9231\n",
            "Epoch 181/200\n",
            "13/13 [==============================] - 0s 2ms/step - loss: 0.0921 - binary_accuracy: 0.9231\n",
            "Epoch 182/200\n",
            "13/13 [==============================] - 0s 2ms/step - loss: 0.0919 - binary_accuracy: 0.9231\n",
            "Epoch 183/200\n",
            "13/13 [==============================] - 0s 3ms/step - loss: 0.0917 - binary_accuracy: 0.9231\n",
            "Epoch 184/200\n",
            "13/13 [==============================] - 0s 2ms/step - loss: 0.0915 - binary_accuracy: 0.9231\n",
            "Epoch 185/200\n",
            "13/13 [==============================] - 0s 2ms/step - loss: 0.0912 - binary_accuracy: 0.9231\n",
            "Epoch 186/200\n",
            "13/13 [==============================] - 0s 3ms/step - loss: 0.0910 - binary_accuracy: 0.9231\n",
            "Epoch 187/200\n",
            "13/13 [==============================] - 0s 2ms/step - loss: 0.0908 - binary_accuracy: 0.9231\n",
            "Epoch 188/200\n",
            "13/13 [==============================] - 0s 2ms/step - loss: 0.0906 - binary_accuracy: 0.9231\n",
            "Epoch 189/200\n",
            "13/13 [==============================] - 0s 2ms/step - loss: 0.0904 - binary_accuracy: 0.9231\n",
            "Epoch 190/200\n",
            "13/13 [==============================] - 0s 2ms/step - loss: 0.0902 - binary_accuracy: 0.9231\n",
            "Epoch 191/200\n",
            "13/13 [==============================] - 0s 3ms/step - loss: 0.0900 - binary_accuracy: 0.9231\n",
            "Epoch 192/200\n",
            "13/13 [==============================] - 0s 2ms/step - loss: 0.0898 - binary_accuracy: 1.0000\n",
            "Epoch 193/200\n",
            "13/13 [==============================] - 0s 2ms/step - loss: 0.0896 - binary_accuracy: 1.0000\n",
            "Epoch 194/200\n",
            "13/13 [==============================] - 0s 3ms/step - loss: 0.0894 - binary_accuracy: 1.0000\n",
            "Epoch 195/200\n",
            "13/13 [==============================] - 0s 2ms/step - loss: 0.0892 - binary_accuracy: 1.0000\n",
            "Epoch 196/200\n",
            "13/13 [==============================] - 0s 2ms/step - loss: 0.0890 - binary_accuracy: 1.0000\n",
            "Epoch 197/200\n",
            "13/13 [==============================] - 0s 2ms/step - loss: 0.0888 - binary_accuracy: 1.0000\n",
            "Epoch 198/200\n",
            "13/13 [==============================] - 0s 2ms/step - loss: 0.0886 - binary_accuracy: 1.0000\n",
            "Epoch 199/200\n",
            "13/13 [==============================] - 0s 2ms/step - loss: 0.0884 - binary_accuracy: 1.0000\n",
            "Epoch 200/200\n",
            "13/13 [==============================] - 0s 2ms/step - loss: 0.0882 - binary_accuracy: 1.0000\n"
          ]
        },
        {
          "output_type": "execute_result",
          "data": {
            "text/plain": [
              "<keras.callbacks.History at 0x7fafdce3e150>"
            ]
          },
          "metadata": {},
          "execution_count": 46
        }
      ]
    },
    {
      "cell_type": "code",
      "metadata": {
        "colab": {
          "base_uri": "https://localhost:8080/",
          "height": 303
        },
        "id": "fXvXawkrVIOb",
        "outputId": "dd324ba9-a6fc-452a-c676-a1c3e24cd87c"
      },
      "source": [
        "plt.plot(X, model.predict(X), 'b', X, y, 'k')\n",
        "plt.show()"
      ],
      "execution_count": 47,
      "outputs": [
        {
          "output_type": "stream",
          "name": "stdout",
          "text": [
            "WARNING:tensorflow:5 out of the last 5 calls to <function Model.make_predict_function.<locals>.predict_function at 0x7fafdcd934d0> triggered tf.function retracing. Tracing is expensive and the excessive number of tracings could be due to (1) creating @tf.function repeatedly in a loop, (2) passing tensors with different shapes, (3) passing Python objects instead of tensors. For (1), please define your @tf.function outside of the loop. For (2), @tf.function has experimental_relax_shapes=True option that relaxes argument shapes that can avoid unnecessary retracing. For (3), please refer to https://www.tensorflow.org/guide/function#controlling_retracing and https://www.tensorflow.org/api_docs/python/tf/function for  more details.\n"
          ]
        },
        {
          "output_type": "display_data",
          "data": {
            "image/png": "[encoded data removed]",
            "text/plain": [
              "<Figure size 432x288 with 1 Axes>"
            ]
          },
          "metadata": {
            "needs_background": "light"
          }
        }
      ]
    },
    {
      "cell_type": "code",
      "metadata": {
        "colab": {
          "base_uri": "https://localhost:8080/"
        },
        "id": "fYXSRcISVRaz",
        "outputId": "7c09987e-9241-41e8-9592-01c7b9dc082b"
      },
      "source": [
        "print(model.predict([1, 2, 3, 4, 4.5]))\n",
        "print(model.predict([11, 21, 31, 41, 500]))"
      ],
      "execution_count": 48,
      "outputs": [
        {
          "output_type": "stream",
          "name": "stdout",
          "text": [
            "WARNING:tensorflow:6 out of the last 6 calls to <function Model.make_predict_function.<locals>.predict_function at 0x7fafdcd934d0> triggered tf.function retracing. Tracing is expensive and the excessive number of tracings could be due to (1) creating @tf.function repeatedly in a loop, (2) passing tensors with different shapes, (3) passing Python objects instead of tensors. For (1), please define your @tf.function outside of the loop. For (2), @tf.function has experimental_relax_shapes=True option that relaxes argument shapes that can avoid unnecessary retracing. For (3), please refer to https://www.tensorflow.org/guide/function#controlling_retracing and https://www.tensorflow.org/api_docs/python/tf/function for  more details.\n",
            "[[0.21066463]\n",
            " [0.2690362 ]\n",
            " [0.33668286]\n",
            " [0.41175723]\n",
            " [0.45115557]]\n",
            "[[0.86911273]\n",
            " [0.9939833 ]\n",
            " [0.99975675]\n",
            " [0.9999902 ]\n",
            " [1.        ]]\n"
          ]
        }
      ]
    },
    {
      "cell_type": "markdown",
      "metadata": {
        "id": "gN725U_GVoX1"
      },
      "source": [
        "## 다중 선형 회귀 구현하기"
      ]
    },
    {
      "cell_type": "code",
      "metadata": {
        "id": "JKW8NkYgX7Cs"
      },
      "source": [
        "import numpy as np\n",
        "from tensorflow.keras.models import Sequential\n",
        "from tensorflow.keras.layers import Dense\n",
        "from tensorflow.keras        import optimizers"
      ],
      "execution_count": 49,
      "outputs": []
    },
    {
      "cell_type": "code",
      "metadata": {
        "id": "IhgoeM_DVlAZ",
        "colab": {
          "base_uri": "https://localhost:8080/"
        },
        "outputId": "d1bb547f-632a-490f-b25e-d31db246bff6"
      },
      "source": [
        "# 입력 벡터는 3차원입니다.\n",
        "X = np.array([[70, 85, 11],\n",
        "              [71, 89, 18],\n",
        "              [50, 80, 20],\n",
        "              [99, 20, 10],\n",
        "              [50, 10, 10]])\n",
        "\n",
        "y = np.array([73, 82, 72, 57, 34])\n",
        "\n",
        "model = Sequential()\n",
        "model.add(Dense(1, input_dim = 3, activation = 'linear'))\n",
        "\n",
        "sgd = optimizers.SGD(lr = 0.0001)\n",
        "model.compile(optimizer = sgd, loss = \"mse\", metrics = [\"mse\"])\n",
        "model.fit(X, y, batch_size = 1, epochs = 500, shuffle = False)"
      ],
      "execution_count": 50,
      "outputs": [
        {
          "output_type": "stream",
          "name": "stdout",
          "text": [
            "Epoch 1/500\n"
          ]
        },
        {
          "output_type": "stream",
          "name": "stderr",
          "text": [
            "/usr/local/lib/python3.7/dist-packages/keras/optimizer_v2/optimizer_v2.py:356: UserWarning: The `lr` argument is deprecated, use `learning_rate` instead.\n",
            "  \"The `lr` argument is deprecated, use `learning_rate` instead.\")\n"
          ]
        },
        {
          "output_type": "stream",
          "name": "stdout",
          "text": [
            "5/5 [==============================] - 0s 3ms/step - loss: 2716.5527 - mse: 2716.5527\n",
            "Epoch 2/500\n",
            "5/5 [==============================] - 0s 3ms/step - loss: 10061.3848 - mse: 10061.3848\n",
            "Epoch 3/500\n",
            "5/5 [==============================] - 0s 3ms/step - loss: 682.9968 - mse: 682.9968\n",
            "Epoch 4/500\n",
            "5/5 [==============================] - 0s 3ms/step - loss: 11488.1064 - mse: 11488.1064\n",
            "Epoch 5/500\n",
            "5/5 [==============================] - 0s 6ms/step - loss: 1482.8517 - mse: 1482.8517\n",
            "Epoch 6/500\n",
            "5/5 [==============================] - 0s 3ms/step - loss: 9852.9023 - mse: 9852.9023\n",
            "Epoch 7/500\n",
            "5/5 [==============================] - 0s 3ms/step - loss: 3045.1392 - mse: 3045.1392\n",
            "Epoch 8/500\n",
            "5/5 [==============================] - 0s 3ms/step - loss: 8459.1104 - mse: 8459.1104\n",
            "Epoch 9/500\n",
            "5/5 [==============================] - 0s 3ms/step - loss: 6074.0674 - mse: 6074.0674\n",
            "Epoch 10/500\n",
            "5/5 [==============================] - 0s 3ms/step - loss: 4631.7646 - mse: 4631.7646\n",
            "Epoch 11/500\n",
            "5/5 [==============================] - 0s 3ms/step - loss: 9432.0762 - mse: 9432.0762\n",
            "Epoch 12/500\n",
            "5/5 [==============================] - 0s 3ms/step - loss: 2850.1536 - mse: 2850.1536\n",
            "Epoch 13/500\n",
            "5/5 [==============================] - 0s 3ms/step - loss: 11356.0977 - mse: 11356.0977\n",
            "Epoch 14/500\n",
            "5/5 [==============================] - 0s 3ms/step - loss: 756.3879 - mse: 756.3879\n",
            "Epoch 15/500\n",
            "5/5 [==============================] - 0s 4ms/step - loss: 12786.5820 - mse: 12786.5820\n",
            "Epoch 16/500\n",
            "5/5 [==============================] - 0s 6ms/step - loss: 1704.5554 - mse: 1704.5554\n",
            "Epoch 17/500\n",
            "5/5 [==============================] - 0s 3ms/step - loss: 10915.4951 - mse: 10915.4951\n",
            "Epoch 18/500\n",
            "5/5 [==============================] - 0s 4ms/step - loss: 3592.2993 - mse: 3592.2993\n",
            "Epoch 19/500\n",
            "5/5 [==============================] - 0s 4ms/step - loss: 9202.6387 - mse: 9202.6387\n",
            "Epoch 20/500\n",
            "5/5 [==============================] - 0s 3ms/step - loss: 6999.5649 - mse: 6999.5649\n",
            "Epoch 21/500\n",
            "5/5 [==============================] - 0s 4ms/step - loss: 5005.0713 - mse: 5005.0713\n",
            "Epoch 22/500\n",
            "5/5 [==============================] - 0s 3ms/step - loss: 10720.7109 - mse: 10720.7109\n",
            "Epoch 23/500\n",
            "5/5 [==============================] - 0s 3ms/step - loss: 2988.7202 - mse: 2988.7202\n",
            "Epoch 24/500\n",
            "5/5 [==============================] - 0s 3ms/step - loss: 12808.6562 - mse: 12808.6562\n",
            "Epoch 25/500\n",
            "5/5 [==============================] - 0s 3ms/step - loss: 842.8363 - mse: 842.8363\n",
            "Epoch 26/500\n",
            "5/5 [==============================] - 0s 3ms/step - loss: 14226.4746 - mse: 14226.4746\n",
            "Epoch 27/500\n",
            "5/5 [==============================] - 0s 3ms/step - loss: 1970.0032 - mse: 1970.0032\n",
            "Epoch 28/500\n",
            "5/5 [==============================] - 0s 3ms/step - loss: 12082.7461 - mse: 12082.7461\n",
            "Epoch 29/500\n",
            "5/5 [==============================] - 0s 2ms/step - loss: 4229.5688 - mse: 4229.5688\n",
            "Epoch 30/500\n",
            "5/5 [==============================] - 0s 3ms/step - loss: 10006.2598 - mse: 10006.2598\n",
            "Epoch 31/500\n",
            "5/5 [==============================] - 0s 3ms/step - loss: 8061.1353 - mse: 8061.1353\n",
            "Epoch 32/500\n",
            "5/5 [==============================] - 0s 4ms/step - loss: 5401.0781 - mse: 5401.0781\n",
            "Epoch 33/500\n",
            "5/5 [==============================] - 0s 3ms/step - loss: 12178.2246 - mse: 12178.2246\n",
            "Epoch 34/500\n",
            "5/5 [==============================] - 0s 3ms/step - loss: 3132.5442 - mse: 3132.5442\n",
            "Epoch 35/500\n",
            "5/5 [==============================] - 0s 3ms/step - loss: 14437.1436 - mse: 14437.1436\n",
            "Epoch 36/500\n",
            "5/5 [==============================] - 0s 3ms/step - loss: 945.3040 - mse: 945.3040\n",
            "Epoch 37/500\n",
            "5/5 [==============================] - 0s 3ms/step - loss: 15822.2549 - mse: 15822.2549\n",
            "Epoch 38/500\n",
            "5/5 [==============================] - 0s 3ms/step - loss: 2287.1675 - mse: 2287.1675\n",
            "Epoch 39/500\n",
            "5/5 [==============================] - 0s 3ms/step - loss: 13363.8672 - mse: 13363.8672\n",
            "Epoch 40/500\n",
            "5/5 [==============================] - 0s 4ms/step - loss: 4970.8120 - mse: 4970.8120\n",
            "Epoch 41/500\n",
            "5/5 [==============================] - 0s 3ms/step - loss: 10873.9033 - mse: 10873.9033\n",
            "Epoch 42/500\n",
            "5/5 [==============================] - 0s 3ms/step - loss: 9277.5020 - mse: 9277.5020\n",
            "Epoch 43/500\n",
            "5/5 [==============================] - 0s 3ms/step - loss: 5820.4058 - mse: 5820.4058\n",
            "Epoch 44/500\n",
            "5/5 [==============================] - 0s 3ms/step - loss: 13825.6270 - mse: 13825.6270\n",
            "Epoch 45/500\n",
            "5/5 [==============================] - 0s 2ms/step - loss: 3281.9976 - mse: 3281.9976\n",
            "Epoch 46/500\n",
            "5/5 [==============================] - 0s 3ms/step - loss: 16261.5107 - mse: 16261.5107\n",
            "Epoch 47/500\n",
            "5/5 [==============================] - 0s 3ms/step - loss: 1067.3754 - mse: 1067.3754\n",
            "Epoch 48/500\n",
            "5/5 [==============================] - 0s 3ms/step - loss: 17589.6699 - mse: 17589.6699\n",
            "Epoch 49/500\n",
            "5/5 [==============================] - 0s 3ms/step - loss: 2665.3726 - mse: 2665.3726\n",
            "Epoch 50/500\n",
            "5/5 [==============================] - 0s 3ms/step - loss: 14768.6797 - mse: 14768.6797\n",
            "Epoch 51/500\n",
            "5/5 [==============================] - 0s 3ms/step - loss: 5831.9229 - mse: 5831.9229\n",
            "Epoch 52/500\n",
            "5/5 [==============================] - 0s 5ms/step - loss: 11809.6660 - mse: 11809.6660\n",
            "Epoch 53/500\n",
            "5/5 [==============================] - 0s 3ms/step - loss: 10669.9209 - mse: 10669.9209\n",
            "Epoch 54/500\n",
            "5/5 [==============================] - 0s 3ms/step - loss: 6263.6270 - mse: 6263.6270\n",
            "Epoch 55/500\n",
            "5/5 [==============================] - 0s 3ms/step - loss: 15686.5107 - mse: 15686.5107\n",
            "Epoch 56/500\n",
            "5/5 [==============================] - 0s 3ms/step - loss: 3437.6399 - mse: 3437.6399\n",
            "Epoch 57/500\n",
            "5/5 [==============================] - 0s 3ms/step - loss: 18303.8633 - mse: 18303.8633\n",
            "Epoch 58/500\n",
            "5/5 [==============================] - 0s 3ms/step - loss: 1213.3956 - mse: 1213.3956\n",
            "Epoch 59/500\n",
            "5/5 [==============================] - 0s 3ms/step - loss: 19545.9355 - mse: 19545.9355\n",
            "Epoch 60/500\n",
            "5/5 [==============================] - 0s 3ms/step - loss: 3115.4561 - mse: 3115.4561\n",
            "Epoch 61/500\n",
            "5/5 [==============================] - 0s 3ms/step - loss: 16307.7344 - mse: 16307.7344\n",
            "Epoch 62/500\n",
            "5/5 [==============================] - 0s 3ms/step - loss: 6831.0405 - mse: 6831.0405\n",
            "Epoch 63/500\n",
            "5/5 [==============================] - 0s 3ms/step - loss: 12817.7617 - mse: 12817.7617\n",
            "Epoch 64/500\n",
            "5/5 [==============================] - 0s 3ms/step - loss: 12262.3193 - mse: 12262.3193\n",
            "Epoch 65/500\n",
            "5/5 [==============================] - 0s 3ms/step - loss: 6731.2671 - mse: 6731.2671\n",
            "Epoch 66/500\n",
            "5/5 [==============================] - 0s 4ms/step - loss: 17787.1523 - mse: 17787.1523\n",
            "Epoch 67/500\n",
            "5/5 [==============================] - 0s 3ms/step - loss: 3600.2434 - mse: 3600.2434\n",
            "Epoch 68/500\n",
            "5/5 [==============================] - 0s 3ms/step - loss: 20588.6719 - mse: 20588.6719\n",
            "Epoch 69/500\n",
            "5/5 [==============================] - 0s 3ms/step - loss: 1388.5990 - mse: 1388.5990\n",
            "Epoch 70/500\n",
            "5/5 [==============================] - 0s 3ms/step - loss: 21709.9023 - mse: 21709.9023\n",
            "Epoch 71/500\n",
            "5/5 [==============================] - 0s 3ms/step - loss: 3650.0696 - mse: 3650.0696\n",
            "Epoch 72/500\n",
            "5/5 [==============================] - 0s 3ms/step - loss: 17992.3984 - mse: 17992.3984\n",
            "Epoch 73/500\n",
            "5/5 [==============================] - 0s 3ms/step - loss: 7988.9595 - mse: 7988.9595\n",
            "Epoch 74/500\n",
            "5/5 [==============================] - 0s 3ms/step - loss: 13902.5469 - mse: 13902.5469\n",
            "Epoch 75/500\n",
            "5/5 [==============================] - 0s 3ms/step - loss: 14081.7705 - mse: 14081.7705\n",
            "Epoch 76/500\n",
            "5/5 [==============================] - 0s 3ms/step - loss: 7223.7705 - mse: 7223.7705\n",
            "Epoch 77/500\n",
            "5/5 [==============================] - 0s 3ms/step - loss: 20157.0039 - mse: 20157.0039\n",
            "Epoch 78/500\n",
            "5/5 [==============================] - 0s 3ms/step - loss: 3770.8398 - mse: 3770.8398\n",
            "Epoch 79/500\n",
            "5/5 [==============================] - 0s 3ms/step - loss: 23142.9629 - mse: 23142.9629\n",
            "Epoch 80/500\n",
            "5/5 [==============================] - 0s 3ms/step - loss: 1599.2742 - mse: 1599.2742\n",
            "Epoch 81/500\n",
            "5/5 [==============================] - 0s 3ms/step - loss: 24102.1055 - mse: 24102.1055\n",
            "Epoch 82/500\n",
            "5/5 [==============================] - 0s 3ms/step - loss: 4283.9077 - mse: 4283.9077\n",
            "Epoch 83/500\n",
            "5/5 [==============================] - 0s 3ms/step - loss: 19834.7520 - mse: 19834.7520\n",
            "Epoch 84/500\n",
            "5/5 [==============================] - 0s 3ms/step - loss: 9329.4033 - mse: 9329.4033\n",
            "Epoch 85/500\n",
            "5/5 [==============================] - 0s 3ms/step - loss: 15068.5000 - mse: 15068.5000\n",
            "Epoch 86/500\n",
            "5/5 [==============================] - 0s 3ms/step - loss: 16158.8076 - mse: 16158.8076\n",
            "Epoch 87/500\n",
            "5/5 [==============================] - 0s 3ms/step - loss: 7741.5366 - mse: 7741.5366\n",
            "Epoch 88/500\n",
            "5/5 [==============================] - 0s 3ms/step - loss: 22828.8066 - mse: 22828.8066\n",
            "Epoch 89/500\n",
            "5/5 [==============================] - 0s 4ms/step - loss: 3950.8269 - mse: 3950.8269\n",
            "Epoch 90/500\n",
            "5/5 [==============================] - 0s 4ms/step - loss: 25996.4883 - mse: 25996.4883\n",
            "Epoch 91/500\n",
            "5/5 [==============================] - 0s 3ms/step - loss: 1852.9427 - mse: 1852.9427\n",
            "Epoch 92/500\n",
            "5/5 [==============================] - 0s 3ms/step - loss: 26744.7969 - mse: 26744.7969\n",
            "Epoch 93/500\n",
            "5/5 [==============================] - 0s 3ms/step - loss: 5034.0020 - mse: 5034.0020\n",
            "Epoch 94/500\n",
            "5/5 [==============================] - 0s 3ms/step - loss: 21847.6602 - mse: 21847.6602\n",
            "Epoch 95/500\n",
            "5/5 [==============================] - 0s 3ms/step - loss: 10879.3926 - mse: 10879.3926\n",
            "Epoch 96/500\n",
            "5/5 [==============================] - 0s 3ms/step - loss: 16320.1309 - mse: 16320.1309\n",
            "Epoch 97/500\n",
            "5/5 [==============================] - 0s 2ms/step - loss: 18527.7871 - mse: 18527.7871\n",
            "Epoch 98/500\n",
            "5/5 [==============================] - 0s 3ms/step - loss: 8284.8779 - mse: 8284.8779\n",
            "Epoch 99/500\n",
            "5/5 [==============================] - 0s 5ms/step - loss: 25839.2227 - mse: 25839.2227\n",
            "Epoch 100/500\n",
            "5/5 [==============================] - 0s 3ms/step - loss: 4142.0171 - mse: 4142.0171\n",
            "Epoch 101/500\n",
            "5/5 [==============================] - 0s 3ms/step - loss: 29182.2383 - mse: 29182.2383\n",
            "Epoch 102/500\n",
            "5/5 [==============================] - 0s 3ms/step - loss: 2158.6079 - mse: 2158.6079\n",
            "Epoch 103/500\n",
            "5/5 [==============================] - 0s 3ms/step - loss: 29662.3965 - mse: 29662.3965\n",
            "Epoch 104/500\n",
            "5/5 [==============================] - 0s 4ms/step - loss: 5920.1187 - mse: 5920.1187\n",
            "Epoch 105/500\n",
            "5/5 [==============================] - 0s 3ms/step - loss: 24044.9453 - mse: 24044.9453\n",
            "Epoch 106/500\n",
            "5/5 [==============================] - 0s 3ms/step - loss: 12669.8320 - mse: 12669.8320\n",
            "Epoch 107/500\n",
            "5/5 [==============================] - 0s 3ms/step - loss: 17662.0801 - mse: 17662.0801\n",
            "Epoch 108/500\n",
            "5/5 [==============================] - 0s 3ms/step - loss: 21227.5039 - mse: 21227.5039\n",
            "Epoch 109/500\n",
            "5/5 [==============================] - 0s 3ms/step - loss: 8854.0537 - mse: 8854.0537\n",
            "Epoch 110/500\n",
            "5/5 [==============================] - 0s 3ms/step - loss: 29228.9590 - mse: 29228.9590\n",
            "Epoch 111/500\n",
            "5/5 [==============================] - 0s 3ms/step - loss: 4346.7773 - mse: 4346.7773\n",
            "Epoch 112/500\n",
            "5/5 [==============================] - 0s 4ms/step - loss: 32736.4316 - mse: 32736.4316\n",
            "Epoch 113/500\n",
            "5/5 [==============================] - 0s 4ms/step - loss: 2526.9727 - mse: 2526.9727\n",
            "Epoch 114/500\n",
            "5/5 [==============================] - 0s 4ms/step - loss: 32881.3086 - mse: 32881.3086\n",
            "Epoch 115/500\n",
            "5/5 [==============================] - 0s 4ms/step - loss: 6965.1514 - mse: 6965.1514\n",
            "Epoch 116/500\n",
            "5/5 [==============================] - 0s 3ms/step - loss: 26441.1758 - mse: 26441.1758\n",
            "Epoch 117/500\n",
            "5/5 [==============================] - 0s 4ms/step - loss: 14735.8535 - mse: 14735.8535\n",
            "Epoch 118/500\n",
            "5/5 [==============================] - 0s 3ms/step - loss: 19099.0000 - mse: 19099.0000\n",
            "Epoch 119/500\n",
            "5/5 [==============================] - 0s 3ms/step - loss: 24301.6152 - mse: 24301.6152\n",
            "Epoch 120/500\n",
            "5/5 [==============================] - 0s 3ms/step - loss: 9449.3037 - mse: 9449.3037\n",
            "Epoch 121/500\n",
            "5/5 [==============================] - 0s 3ms/step - loss: 33043.5664 - mse: 33043.5664\n",
            "Epoch 122/500\n",
            "5/5 [==============================] - 0s 4ms/step - loss: 4568.1562 - mse: 4568.1562\n",
            "Epoch 123/500\n",
            "5/5 [==============================] - 0s 3ms/step - loss: 36699.0703 - mse: 36699.0703\n",
            "Epoch 124/500\n",
            "5/5 [==============================] - 0s 3ms/step - loss: 2970.7610 - mse: 2970.7610\n",
            "Epoch 125/500\n",
            "5/5 [==============================] - 0s 3ms/step - loss: 36430.2891 - mse: 36430.2891\n",
            "Epoch 126/500\n",
            "5/5 [==============================] - 0s 3ms/step - loss: 8195.5439 - mse: 8195.5439\n",
            "Epoch 127/500\n",
            "5/5 [==============================] - 0s 3ms/step - loss: 29051.9590 - mse: 29051.9590\n",
            "Epoch 128/500\n",
            "5/5 [==============================] - 0s 3ms/step - loss: 17117.4902 - mse: 17117.4902\n",
            "Epoch 129/500\n",
            "5/5 [==============================] - 0s 3ms/step - loss: 20635.6465 - mse: 20635.6465\n",
            "Epoch 130/500\n",
            "5/5 [==============================] - 0s 3ms/step - loss: 27799.2344 - mse: 27799.2344\n",
            "Epoch 131/500\n",
            "5/5 [==============================] - 0s 3ms/step - loss: 10070.8340 - mse: 10070.8340\n",
            "Epoch 132/500\n",
            "5/5 [==============================] - 0s 3ms/step - loss: 37333.6172 - mse: 37333.6172\n",
            "Epoch 133/500\n",
            "5/5 [==============================] - 0s 3ms/step - loss: 4810.0239 - mse: 4810.0239\n",
            "Epoch 134/500\n",
            "5/5 [==============================] - 0s 6ms/step - loss: 41114.1797 - mse: 41114.1797\n",
            "Epoch 135/500\n",
            "5/5 [==============================] - 0s 3ms/step - loss: 3505.0515 - mse: 3505.0515\n",
            "Epoch 136/500\n",
            "5/5 [==============================] - 0s 5ms/step - loss: 40340.4844 - mse: 40340.4844\n",
            "Epoch 137/500\n",
            "5/5 [==============================] - 0s 4ms/step - loss: 9641.8311 - mse: 9641.8311\n",
            "Epoch 138/500\n",
            "5/5 [==============================] - 0s 3ms/step - loss: 31893.6680 - mse: 31893.6680\n",
            "Epoch 139/500\n",
            "5/5 [==============================] - 0s 3ms/step - loss: 19860.1465 - mse: 19860.1465\n",
            "Epoch 140/500\n",
            "5/5 [==============================] - 0s 3ms/step - loss: 22276.6074 - mse: 22276.6074\n",
            "Epoch 141/500\n",
            "5/5 [==============================] - 0s 3ms/step - loss: 31775.3965 - mse: 31775.3965\n",
            "Epoch 142/500\n",
            "5/5 [==============================] - 0s 3ms/step - loss: 10718.8574 - mse: 10718.8574\n",
            "Epoch 143/500\n",
            "5/5 [==============================] - 0s 3ms/step - loss: 42155.2617 - mse: 42155.2617\n",
            "Epoch 144/500\n",
            "5/5 [==============================] - 0s 3ms/step - loss: 5077.2695 - mse: 5077.2695\n",
            "Epoch 145/500\n",
            "5/5 [==============================] - 0s 3ms/step - loss: 46029.9609 - mse: 46029.9609\n",
            "Epoch 146/500\n",
            "5/5 [==============================] - 0s 3ms/step - loss: 4147.6479 - mse: 4147.6479\n",
            "Epoch 147/500\n",
            "5/5 [==============================] - 0s 3ms/step - loss: 44645.6406 - mse: 44645.6406\n",
            "Epoch 148/500\n",
            "5/5 [==============================] - 0s 4ms/step - loss: 11339.2051 - mse: 11339.2051\n",
            "Epoch 149/500\n",
            "5/5 [==============================] - 0s 3ms/step - loss: 34983.7812 - mse: 34983.7812\n",
            "Epoch 150/500\n",
            "5/5 [==============================] - 0s 3ms/step - loss: 23015.6172 - mse: 23015.6172\n",
            "Epoch 151/500\n",
            "5/5 [==============================] - 0s 3ms/step - loss: 24026.6289 - mse: 24026.6289\n",
            "Epoch 152/500\n",
            "5/5 [==============================] - 0s 3ms/step - loss: 36292.2695 - mse: 36292.2695\n",
            "Epoch 153/500\n",
            "5/5 [==============================] - 0s 4ms/step - loss: 11393.6309 - mse: 11393.6309\n",
            "Epoch 154/500\n",
            "5/5 [==============================] - 0s 3ms/step - loss: 47571.2617 - mse: 47571.2617\n",
            "Epoch 155/500\n",
            "5/5 [==============================] - 0s 3ms/step - loss: 5376.0205 - mse: 5376.0205\n",
            "Epoch 156/500\n",
            "5/5 [==============================] - 0s 5ms/step - loss: 51499.7617 - mse: 51499.7617\n",
            "Epoch 157/500\n",
            "5/5 [==============================] - 0s 3ms/step - loss: 4919.6035 - mse: 4919.6035\n",
            "Epoch 158/500\n",
            "5/5 [==============================] - 0s 3ms/step - loss: 49382.3242 - mse: 49382.3242\n",
            "Epoch 159/500\n",
            "5/5 [==============================] - 0s 3ms/step - loss: 13328.3252 - mse: 13328.3252\n",
            "Epoch 160/500\n",
            "5/5 [==============================] - 0s 3ms/step - loss: 38340.5352 - mse: 38340.5352\n",
            "Epoch 161/500\n",
            "5/5 [==============================] - 0s 4ms/step - loss: 26642.5879 - mse: 26642.5879\n",
            "Epoch 162/500\n",
            "5/5 [==============================] - 0s 3ms/step - loss: 25890.1348 - mse: 25890.1348\n",
            "Epoch 163/500\n",
            "5/5 [==============================] - 0s 3ms/step - loss: 41419.3984 - mse: 41419.3984\n",
            "Epoch 164/500\n",
            "5/5 [==============================] - 0s 4ms/step - loss: 12095.4434 - mse: 12095.4434\n",
            "Epoch 165/500\n",
            "5/5 [==============================] - 0s 3ms/step - loss: 53650.9922 - mse: 53650.9922\n",
            "Epoch 166/500\n",
            "5/5 [==============================] - 0s 5ms/step - loss: 5713.8833 - mse: 5713.8833\n",
            "Epoch 167/500\n",
            "5/5 [==============================] - 0s 4ms/step - loss: 57581.8359 - mse: 57581.8359\n",
            "Epoch 168/500\n",
            "5/5 [==============================] - 0s 4ms/step - loss: 5845.6733 - mse: 5845.6733\n",
            "Epoch 169/500\n",
            "5/5 [==============================] - 0s 4ms/step - loss: 54590.0234 - mse: 54590.0234\n",
            "Epoch 170/500\n",
            "5/5 [==============================] - 0s 3ms/step - loss: 15655.8389 - mse: 15655.8389\n",
            "Epoch 171/500\n",
            "5/5 [==============================] - 0s 3ms/step - loss: 41983.2344 - mse: 41983.2344\n",
            "Epoch 172/500\n",
            "5/5 [==============================] - 0s 3ms/step - loss: 30807.5879 - mse: 30807.5879\n",
            "Epoch 173/500\n",
            "5/5 [==============================] - 0s 3ms/step - loss: 27871.6367 - mse: 27871.6367\n",
            "Epoch 174/500\n",
            "5/5 [==============================] - 0s 3ms/step - loss: 47234.8086 - mse: 47234.8086\n",
            "Epoch 175/500\n",
            "5/5 [==============================] - 0s 3ms/step - loss: 12824.8945 - mse: 12824.8945\n",
            "Epoch 176/500\n",
            "5/5 [==============================] - 0s 3ms/step - loss: 60471.6758 - mse: 60471.6758\n",
            "Epoch 177/500\n",
            "5/5 [==============================] - 0s 3ms/step - loss: 6100.3262 - mse: 6100.3262\n",
            "Epoch 178/500\n",
            "5/5 [==============================] - 0s 5ms/step - loss: 64340.3242 - mse: 64340.3242\n",
            "Epoch 179/500\n",
            "5/5 [==============================] - 0s 3ms/step - loss: 6954.9502 - mse: 6954.9502\n",
            "Epoch 180/500\n",
            "5/5 [==============================] - 0s 3ms/step - loss: 60311.4375 - mse: 60311.4375\n",
            "Epoch 181/500\n",
            "5/5 [==============================] - 0s 4ms/step - loss: 18375.4824 - mse: 18375.4824\n",
            "Epoch 182/500\n",
            "5/5 [==============================] - 0s 3ms/step - loss: 45932.2344 - mse: 45932.2344\n",
            "Epoch 183/500\n",
            "5/5 [==============================] - 0s 3ms/step - loss: 35586.2188 - mse: 35586.2188\n",
            "Epoch 184/500\n",
            "5/5 [==============================] - 0s 3ms/step - loss: 29975.4629 - mse: 29975.4629\n",
            "Epoch 185/500\n",
            "5/5 [==============================] - 0s 3ms/step - loss: 53826.2422 - mse: 53826.2422\n",
            "Epoch 186/500\n",
            "5/5 [==============================] - 0s 3ms/step - loss: 13582.7402 - mse: 13582.7402\n",
            "Epoch 187/500\n",
            "5/5 [==============================] - 0s 3ms/step - loss: 68118.9531 - mse: 68118.9531\n",
            "Epoch 188/500\n",
            "5/5 [==============================] - 0s 5ms/step - loss: 6546.9336 - mse: 6546.9336\n",
            "Epoch 189/500\n",
            "5/5 [==============================] - 0s 3ms/step - loss: 71845.5234 - mse: 71845.5234\n",
            "Epoch 190/500\n",
            "5/5 [==============================] - 0s 3ms/step - loss: 8281.5986 - mse: 8281.5986\n",
            "Epoch 191/500\n",
            "5/5 [==============================] - 0s 3ms/step - loss: 66592.7266 - mse: 66592.7266\n",
            "Epoch 192/500\n",
            "5/5 [==============================] - 0s 3ms/step - loss: 21548.9492 - mse: 21548.9492\n",
            "Epoch 193/500\n",
            "5/5 [==============================] - 0s 4ms/step - loss: 50208.6797 - mse: 50208.6797\n",
            "Epoch 194/500\n",
            "5/5 [==============================] - 0s 3ms/step - loss: 41064.0625 - mse: 41064.0625\n",
            "Epoch 195/500\n",
            "5/5 [==============================] - 0s 3ms/step - loss: 32205.6523 - mse: 32205.6523\n",
            "Epoch 196/500\n",
            "5/5 [==============================] - 0s 3ms/step - loss: 61291.8867 - mse: 61291.8867\n",
            "Epoch 197/500\n",
            "5/5 [==============================] - 0s 3ms/step - loss: 14370.1455 - mse: 14370.1455\n",
            "Epoch 198/500\n",
            "5/5 [==============================] - 0s 3ms/step - loss: 76687.9375 - mse: 76687.9375\n",
            "Epoch 199/500\n",
            "5/5 [==============================] - 0s 3ms/step - loss: 7067.9570 - mse: 7067.9570\n",
            "Epoch 200/500\n",
            "5/5 [==============================] - 0s 3ms/step - loss: 80174.4219 - mse: 80174.4219\n",
            "Epoch 201/500\n",
            "5/5 [==============================] - 0s 3ms/step - loss: 9865.5996 - mse: 9865.5996\n",
            "Epoch 202/500\n",
            "5/5 [==============================] - 0s 3ms/step - loss: 73483.3594 - mse: 73483.3594\n",
            "Epoch 203/500\n",
            "5/5 [==============================] - 0s 3ms/step - loss: 25246.9941 - mse: 25246.9941\n",
            "Epoch 204/500\n",
            "5/5 [==============================] - 0s 3ms/step - loss: 54834.7109 - mse: 54834.7109\n",
            "Epoch 205/500\n",
            "5/5 [==============================] - 0s 3ms/step - loss: 47337.9570 - mse: 47337.9570\n",
            "Epoch 206/500\n",
            "5/5 [==============================] - 0s 3ms/step - loss: 34566.0273 - mse: 34566.0273\n",
            "Epoch 207/500\n",
            "5/5 [==============================] - 0s 3ms/step - loss: 69741.4844 - mse: 69741.4844\n",
            "Epoch 208/500\n",
            "5/5 [==============================] - 0s 4ms/step - loss: 15188.8252 - mse: 15188.8252\n",
            "Epoch 209/500\n",
            "5/5 [==============================] - 0s 3ms/step - loss: 86283.6719 - mse: 86283.6719\n",
            "Epoch 210/500\n",
            "5/5 [==============================] - 0s 3ms/step - loss: 7680.7109 - mse: 7680.7109\n",
            "Epoch 211/500\n",
            "5/5 [==============================] - 0s 3ms/step - loss: 89411.0234 - mse: 89411.0234\n",
            "Epoch 212/500\n",
            "5/5 [==============================] - 0s 5ms/step - loss: 11753.6592 - mse: 11753.6592\n",
            "Epoch 213/500\n",
            "5/5 [==============================] - 0s 5ms/step - loss: 81036.5547 - mse: 81036.5547\n",
            "Epoch 214/500\n",
            "5/5 [==============================] - 0s 3ms/step - loss: 29550.6621 - mse: 29550.6621\n",
            "Epoch 215/500\n",
            "5/5 [==============================] - 0s 3ms/step - loss: 59833.2891 - mse: 59833.2891\n",
            "Epoch 216/500\n",
            "5/5 [==============================] - 0s 3ms/step - loss: 54517.4062 - mse: 54517.4062\n",
            "Epoch 217/500\n",
            "5/5 [==============================] - 0s 4ms/step - loss: 37060.1719 - mse: 37060.1719\n",
            "Epoch 218/500\n",
            "5/5 [==============================] - 0s 3ms/step - loss: 79298.0391 - mse: 79298.0391\n",
            "Epoch 219/500\n",
            "5/5 [==============================] - 0s 3ms/step - loss: 16041.2266 - mse: 16041.2266\n",
            "Epoch 220/500\n",
            "5/5 [==============================] - 0s 3ms/step - loss: 97022.6484 - mse: 97022.6484\n",
            "Epoch 221/500\n",
            "5/5 [==============================] - 0s 3ms/step - loss: 8406.2646 - mse: 8406.2646\n",
            "Epoch 222/500\n",
            "5/5 [==============================] - 0s 3ms/step - loss: 99647.5781 - mse: 99647.5781\n",
            "Epoch 223/500\n",
            "5/5 [==============================] - 0s 4ms/step - loss: 14000.2764 - mse: 14000.2764\n",
            "Epoch 224/500\n",
            "5/5 [==============================] - 0s 4ms/step - loss: 89309.8594 - mse: 89309.8594\n",
            "Epoch 225/500\n",
            "5/5 [==============================] - 0s 3ms/step - loss: 34552.8125 - mse: 34552.8125\n",
            "Epoch 226/500\n",
            "5/5 [==============================] - 0s 3ms/step - loss: 65228.5117 - mse: 65228.5117\n",
            "Epoch 227/500\n",
            "5/5 [==============================] - 0s 2ms/step - loss: 62726.2109 - mse: 62726.2109\n",
            "Epoch 228/500\n",
            "5/5 [==============================] - 0s 3ms/step - loss: 39691.4883 - mse: 39691.4883\n",
            "Epoch 229/500\n",
            "5/5 [==============================] - 0s 4ms/step - loss: 90099.1719 - mse: 90099.1719\n",
            "Epoch 230/500\n",
            "5/5 [==============================] - 0s 3ms/step - loss: 16930.7227 - mse: 16930.7227\n",
            "Epoch 231/500\n",
            "5/5 [==============================] - 0s 3ms/step - loss: 109033.9375 - mse: 109033.9375\n",
            "Epoch 232/500\n",
            "5/5 [==============================] - 0s 3ms/step - loss: 9270.0713 - mse: 9270.0713\n",
            "Epoch 233/500\n",
            "5/5 [==============================] - 0s 3ms/step - loss: 110984.6484 - mse: 110984.6484\n",
            "Epoch 234/500\n",
            "5/5 [==============================] - 0s 3ms/step - loss: 16669.1641 - mse: 16669.1641\n",
            "Epoch 235/500\n",
            "5/5 [==============================] - 0s 3ms/step - loss: 98364.4766 - mse: 98364.4766\n",
            "Epoch 236/500\n",
            "5/5 [==============================] - 0s 5ms/step - loss: 40359.9023 - mse: 40359.9023\n",
            "Epoch 237/500\n",
            "5/5 [==============================] - 0s 3ms/step - loss: 71044.7656 - mse: 71044.7656\n",
            "Epoch 238/500\n",
            "5/5 [==============================] - 0s 3ms/step - loss: 72104.6172 - mse: 72104.6172\n",
            "Epoch 239/500\n",
            "5/5 [==============================] - 0s 4ms/step - loss: 42462.5508 - mse: 42462.5508\n",
            "Epoch 240/500\n",
            "5/5 [==============================] - 0s 3ms/step - loss: 102298.6641 - mse: 102298.6641\n",
            "Epoch 241/500\n",
            "5/5 [==============================] - 0s 4ms/step - loss: 17861.9023 - mse: 17861.9023\n",
            "Epoch 242/500\n",
            "5/5 [==============================] - 0s 4ms/step - loss: 122460.0000 - mse: 122460.0000\n",
            "Epoch 243/500\n",
            "5/5 [==============================] - 0s 4ms/step - loss: 10302.8203 - mse: 10302.8203\n",
            "Epoch 244/500\n",
            "5/5 [==============================] - 0s 4ms/step - loss: 123532.2031 - mse: 123532.2031\n",
            "Epoch 245/500\n",
            "5/5 [==============================] - 0s 4ms/step - loss: 19834.2305 - mse: 19834.2305\n",
            "Epoch 246/500\n",
            "5/5 [==============================] - 0s 5ms/step - loss: 108266.3984 - mse: 108266.3984\n",
            "Epoch 247/500\n",
            "5/5 [==============================] - 0s 4ms/step - loss: 47093.2891 - mse: 47093.2891\n",
            "Epoch 248/500\n",
            "5/5 [==============================] - 0s 4ms/step - loss: 77307.7266 - mse: 77307.7266\n",
            "Epoch 249/500\n",
            "5/5 [==============================] - 0s 3ms/step - loss: 82810.3828 - mse: 82810.3828\n",
            "Epoch 250/500\n",
            "5/5 [==============================] - 0s 3ms/step - loss: 45376.1445 - mse: 45376.1445\n",
            "Epoch 251/500\n",
            "5/5 [==============================] - 0s 3ms/step - loss: 116068.2500 - mse: 116068.2500\n",
            "Epoch 252/500\n",
            "5/5 [==============================] - 0s 3ms/step - loss: 18841.0742 - mse: 18841.0742\n",
            "Epoch 253/500\n",
            "5/5 [==============================] - 0s 6ms/step - loss: 137458.3438 - mse: 137458.3438\n",
            "Epoch 254/500\n",
            "5/5 [==============================] - 0s 4ms/step - loss: 11541.3652 - mse: 11541.3652\n",
            "Epoch 255/500\n",
            "5/5 [==============================] - 0s 3ms/step - loss: 137409.7188 - mse: 137409.7188\n",
            "Epoch 256/500\n",
            "5/5 [==============================] - 0s 3ms/step - loss: 23581.4434 - mse: 23581.4434\n",
            "Epoch 257/500\n",
            "5/5 [==============================] - 0s 3ms/step - loss: 119085.7734 - mse: 119085.7734\n",
            "Epoch 258/500\n",
            "5/5 [==============================] - 0s 5ms/step - loss: 54891.6367 - mse: 54891.6367\n",
            "Epoch 259/500\n",
            "5/5 [==============================] - 0s 3ms/step - loss: 84043.0938 - mse: 84043.0938\n",
            "Epoch 260/500\n",
            "5/5 [==============================] - 0s 3ms/step - loss: 95021.6875 - mse: 95021.6875\n",
            "Epoch 261/500\n",
            "5/5 [==============================] - 0s 4ms/step - loss: 48434.2773 - mse: 48434.2773\n",
            "Epoch 262/500\n",
            "5/5 [==============================] - 0s 3ms/step - loss: 131599.3438 - mse: 131599.3438\n",
            "Epoch 263/500\n",
            "5/5 [==============================] - 0s 4ms/step - loss: 19876.4453 - mse: 19876.4453\n",
            "Epoch 264/500\n",
            "5/5 [==============================] - 0s 3ms/step - loss: 154202.5469 - mse: 154202.5469\n",
            "Epoch 265/500\n",
            "5/5 [==============================] - 0s 3ms/step - loss: 13029.8223 - mse: 13029.8223\n",
            "Epoch 266/500\n",
            "5/5 [==============================] - 0s 3ms/step - loss: 152747.7344 - mse: 152747.7344\n",
            "Epoch 267/500\n",
            "5/5 [==============================] - 0s 6ms/step - loss: 28010.4785 - mse: 28010.4785\n",
            "Epoch 268/500\n",
            "5/5 [==============================] - 0s 4ms/step - loss: 130897.5391 - mse: 130897.5391\n",
            "Epoch 269/500\n",
            "5/5 [==============================] - 0s 3ms/step - loss: 63913.0195 - mse: 63913.0195\n",
            "Epoch 270/500\n",
            "5/5 [==============================] - 0s 3ms/step - loss: 91277.7344 - mse: 91277.7344\n",
            "Epoch 271/500\n",
            "5/5 [==============================] - 0s 3ms/step - loss: 108939.1875 - mse: 108939.1875\n",
            "Epoch 272/500\n",
            "5/5 [==============================] - 0s 3ms/step - loss: 51638.9219 - mse: 51638.9219\n",
            "Epoch 273/500\n",
            "5/5 [==============================] - 0s 3ms/step - loss: 149105.6562 - mse: 149105.6562\n",
            "Epoch 274/500\n",
            "5/5 [==============================] - 0s 4ms/step - loss: 20978.9414 - mse: 20978.9414\n",
            "Epoch 275/500\n",
            "5/5 [==============================] - 0s 3ms/step - loss: 172884.5625 - mse: 172884.5625\n",
            "Epoch 276/500\n",
            "5/5 [==============================] - 0s 3ms/step - loss: 14820.8809 - mse: 14820.8809\n",
            "Epoch 277/500\n",
            "5/5 [==============================] - 0s 3ms/step - loss: 169687.9688 - mse: 169687.9688\n",
            "Epoch 278/500\n",
            "5/5 [==============================] - 0s 3ms/step - loss: 33236.8984 - mse: 33236.8984\n",
            "Epoch 279/500\n",
            "5/5 [==============================] - 0s 4ms/step - loss: 143781.7031 - mse: 143781.7031\n",
            "Epoch 280/500\n",
            "5/5 [==============================] - 0s 3ms/step - loss: 74337.8906 - mse: 74337.8906\n",
            "Epoch 281/500\n",
            "5/5 [==============================] - 0s 3ms/step - loss: 99038.4297 - mse: 99038.4297\n",
            "Epoch 282/500\n",
            "5/5 [==============================] - 0s 3ms/step - loss: 124789.2109 - mse: 124789.2109\n",
            "Epoch 283/500\n",
            "5/5 [==============================] - 0s 3ms/step - loss: 54991.3320 - mse: 54991.3320\n",
            "Epoch 284/500\n",
            "5/5 [==============================] - 0s 3ms/step - loss: 168825.2500 - mse: 168825.2500\n",
            "Epoch 285/500\n",
            "5/5 [==============================] - 0s 3ms/step - loss: 22162.4824 - mse: 22162.4824\n",
            "Epoch 286/500\n",
            "5/5 [==============================] - 0s 4ms/step - loss: 193715.6562 - mse: 193715.6562\n",
            "Epoch 287/500\n",
            "5/5 [==============================] - 0s 3ms/step - loss: 16977.3164 - mse: 16977.3164\n",
            "Epoch 288/500\n",
            "5/5 [==============================] - 0s 3ms/step - loss: 188384.9062 - mse: 188384.9062\n",
            "Epoch 289/500\n",
            "5/5 [==============================] - 0s 4ms/step - loss: 39394.6641 - mse: 39394.6641\n",
            "Epoch 290/500\n",
            "5/5 [==============================] - 0s 3ms/step - loss: 157823.3438 - mse: 157823.3438\n",
            "Epoch 291/500\n",
            "5/5 [==============================] - 0s 3ms/step - loss: 86371.9531 - mse: 86371.9531\n",
            "Epoch 292/500\n",
            "5/5 [==============================] - 0s 3ms/step - loss: 107352.5156 - mse: 107352.5156\n",
            "Epoch 293/500\n",
            "5/5 [==============================] - 0s 4ms/step - loss: 142826.4688 - mse: 142826.4688\n",
            "Epoch 294/500\n",
            "5/5 [==============================] - 0s 4ms/step - loss: 58492.9375 - mse: 58492.9375\n",
            "Epoch 295/500\n",
            "5/5 [==============================] - 0s 4ms/step - loss: 191023.9531 - mse: 191023.9531\n",
            "Epoch 296/500\n",
            "5/5 [==============================] - 0s 3ms/step - loss: 23445.1680 - mse: 23445.1680\n",
            "Epoch 297/500\n",
            "5/5 [==============================] - 0s 4ms/step - loss: 216929.0312 - mse: 216929.0312\n",
            "Epoch 298/500\n",
            "5/5 [==============================] - 0s 3ms/step - loss: 19573.6445 - mse: 19573.6445\n",
            "Epoch 299/500\n",
            "5/5 [==============================] - 0s 4ms/step - loss: 209006.1719 - mse: 209006.1719\n",
            "Epoch 300/500\n",
            "5/5 [==============================] - 0s 3ms/step - loss: 46638.3086 - mse: 46638.3086\n",
            "Epoch 301/500\n",
            "5/5 [==============================] - 0s 3ms/step - loss: 173112.7656 - mse: 173112.7656\n",
            "Epoch 302/500\n",
            "5/5 [==============================] - 0s 3ms/step - loss: 100248.7734 - mse: 100248.7734\n",
            "Epoch 303/500\n",
            "5/5 [==============================] - 0s 3ms/step - loss: 116247.4609 - mse: 116247.4609\n",
            "Epoch 304/500\n",
            "5/5 [==============================] - 0s 4ms/step - loss: 163337.6094 - mse: 163337.6094\n",
            "Epoch 305/500\n",
            "5/5 [==============================] - 0s 3ms/step - loss: 62144.7500 - mse: 62144.7500\n",
            "Epoch 306/500\n",
            "5/5 [==============================] - 0s 3ms/step - loss: 215996.7500 - mse: 215996.7500\n",
            "Epoch 307/500\n",
            "5/5 [==============================] - 0s 4ms/step - loss: 24849.7148 - mse: 24849.7148\n",
            "Epoch 308/500\n",
            "5/5 [==============================] - 0s 3ms/step - loss: 242780.5000 - mse: 242780.5000\n",
            "Epoch 309/500\n",
            "5/5 [==============================] - 0s 3ms/step - loss: 22698.1641 - mse: 22698.1641\n",
            "Epoch 310/500\n",
            "5/5 [==============================] - 0s 4ms/step - loss: 231733.2969 - mse: 231733.2969\n",
            "Epoch 311/500\n",
            "5/5 [==============================] - 0s 5ms/step - loss: 55146.3438 - mse: 55146.3438\n",
            "Epoch 312/500\n",
            "5/5 [==============================] - 0s 4ms/step - loss: 189745.3438 - mse: 189745.3438\n",
            "Epoch 313/500\n",
            "5/5 [==============================] - 0s 3ms/step - loss: 116234.4219 - mse: 116234.4219\n",
            "Epoch 314/500\n",
            "5/5 [==============================] - 0s 6ms/step - loss: 125750.3359 - mse: 125750.3359\n",
            "Epoch 315/500\n",
            "5/5 [==============================] - 0s 3ms/step - loss: 186644.7188 - mse: 186644.7188\n",
            "Epoch 316/500\n",
            "5/5 [==============================] - 0s 3ms/step - loss: 65947.7578 - mse: 65947.7578\n",
            "Epoch 317/500\n",
            "5/5 [==============================] - 0s 3ms/step - loss: 244072.3281 - mse: 244072.3281\n",
            "Epoch 318/500\n",
            "5/5 [==============================] - 0s 3ms/step - loss: 26404.9883 - mse: 26404.9883\n",
            "Epoch 319/500\n",
            "5/5 [==============================] - 0s 3ms/step - loss: 271552.3438 - mse: 271552.3438\n",
            "Epoch 320/500\n",
            "5/5 [==============================] - 0s 3ms/step - loss: 26455.3340 - mse: 26455.3340\n",
            "Epoch 321/500\n",
            "5/5 [==============================] - 0s 3ms/step - loss: 256763.0938 - mse: 256763.0938\n",
            "Epoch 322/500\n",
            "5/5 [==============================] - 0s 3ms/step - loss: 65125.1172 - mse: 65125.1172\n",
            "Epoch 323/500\n",
            "5/5 [==============================] - 0s 3ms/step - loss: 207822.0938 - mse: 207822.0938\n",
            "Epoch 324/500\n",
            "5/5 [==============================] - 0s 3ms/step - loss: 134631.5312 - mse: 134631.5312\n",
            "Epoch 325/500\n",
            "5/5 [==============================] - 0s 3ms/step - loss: 135888.2500 - mse: 135888.2500\n",
            "Epoch 326/500\n",
            "5/5 [==============================] - 0s 3ms/step - loss: 213110.0312 - mse: 213110.0312\n",
            "Epoch 327/500\n",
            "5/5 [==============================] - 0s 4ms/step - loss: 69903.6016 - mse: 69903.6016\n",
            "Epoch 328/500\n",
            "5/5 [==============================] - 0s 3ms/step - loss: 275616.9375 - mse: 275616.9375\n",
            "Epoch 329/500\n",
            "5/5 [==============================] - 0s 3ms/step - loss: 28147.1289 - mse: 28147.1289\n",
            "Epoch 330/500\n",
            "5/5 [==============================] - 0s 3ms/step - loss: 303554.9375 - mse: 303554.9375\n",
            "Epoch 331/500\n",
            "5/5 [==============================] - 0s 3ms/step - loss: 30968.4062 - mse: 30968.4062\n",
            "Epoch 332/500\n",
            "5/5 [==============================] - 0s 3ms/step - loss: 284309.5000 - mse: 284309.5000\n",
            "Epoch 333/500\n",
            "5/5 [==============================] - 0s 4ms/step - loss: 76811.6797 - mse: 76811.6797\n",
            "Epoch 334/500\n",
            "5/5 [==============================] - 0s 4ms/step - loss: 227449.5469 - mse: 227449.5469\n",
            "Epoch 335/500\n",
            "5/5 [==============================] - 0s 3ms/step - loss: 155782.7656 - mse: 155782.7656\n",
            "Epoch 336/500\n",
            "5/5 [==============================] - 0s 3ms/step - loss: 146687.8750 - mse: 146687.8750\n",
            "Epoch 337/500\n",
            "5/5 [==============================] - 0s 3ms/step - loss: 243139.2031 - mse: 243139.2031\n",
            "Epoch 338/500\n",
            "5/5 [==============================] - 0s 4ms/step - loss: 74014.1875 - mse: 74014.1875\n",
            "Epoch 339/500\n",
            "5/5 [==============================] - 0s 3ms/step - loss: 311034.9688 - mse: 311034.9688\n",
            "Epoch 340/500\n",
            "5/5 [==============================] - 0s 3ms/step - loss: 30120.8750 - mse: 30120.8750\n",
            "Epoch 341/500\n",
            "5/5 [==============================] - 0s 3ms/step - loss: 339127.6875 - mse: 339127.6875\n",
            "Epoch 342/500\n",
            "5/5 [==============================] - 0s 3ms/step - loss: 36382.3164 - mse: 36382.3164\n",
            "Epoch 343/500\n",
            "5/5 [==============================] - 0s 4ms/step - loss: 314602.3125 - mse: 314602.3125\n",
            "Epoch 344/500\n",
            "5/5 [==============================] - 0s 3ms/step - loss: 90479.1016 - mse: 90479.1016\n",
            "Epoch 345/500\n",
            "5/5 [==============================] - 0s 4ms/step - loss: 248739.8281 - mse: 248739.8281\n",
            "Epoch 346/500\n",
            "5/5 [==============================] - 0s 3ms/step - loss: 180077.4531 - mse: 180077.4531\n",
            "Epoch 347/500\n",
            "5/5 [==============================] - 0s 3ms/step - loss: 158174.7656 - mse: 158174.7656\n",
            "Epoch 348/500\n",
            "5/5 [==============================] - 0s 3ms/step - loss: 277188.2188 - mse: 277188.2188\n",
            "Epoch 349/500\n",
            "5/5 [==============================] - 0s 3ms/step - loss: 78282.3516 - mse: 78282.3516\n",
            "Epoch 350/500\n",
            "5/5 [==============================] - 0s 3ms/step - loss: 350777.8125 - mse: 350777.8125\n",
            "Epoch 351/500\n",
            "5/5 [==============================] - 0s 3ms/step - loss: 32381.7344 - mse: 32381.7344\n",
            "Epoch 352/500\n",
            "5/5 [==============================] - 0s 3ms/step - loss: 378644.1562 - mse: 378644.1562\n",
            "Epoch 353/500\n",
            "5/5 [==============================] - 0s 3ms/step - loss: 42867.4961 - mse: 42867.4961\n",
            "Epoch 354/500\n",
            "5/5 [==============================] - 0s 3ms/step - loss: 347890.4375 - mse: 347890.4375\n",
            "Epoch 355/500\n",
            "5/5 [==============================] - 0s 4ms/step - loss: 106440.9766 - mse: 106440.9766\n",
            "Epoch 356/500\n",
            "5/5 [==============================] - 0s 3ms/step - loss: 271810.6562 - mse: 271810.6562\n",
            "Epoch 357/500\n",
            "5/5 [==============================] - 0s 4ms/step - loss: 207956.7500 - mse: 207956.7500\n",
            "Epoch 358/500\n",
            "5/5 [==============================] - 0s 4ms/step - loss: 170374.6094 - mse: 170374.6094\n",
            "Epoch 359/500\n",
            "5/5 [==============================] - 0s 3ms/step - loss: 315768.3125 - mse: 315768.3125\n",
            "Epoch 360/500\n",
            "5/5 [==============================] - 0s 4ms/step - loss: 82713.3047 - mse: 82713.3047\n",
            "Epoch 361/500\n",
            "5/5 [==============================] - 0s 3ms/step - loss: 395345.1875 - mse: 395345.1875\n",
            "Epoch 362/500\n",
            "5/5 [==============================] - 0s 3ms/step - loss: 34997.9688 - mse: 34997.9688\n",
            "Epoch 363/500\n",
            "5/5 [==============================] - 0s 6ms/step - loss: 422513.4062 - mse: 422513.4062\n",
            "Epoch 364/500\n",
            "5/5 [==============================] - 0s 3ms/step - loss: 50623.8359 - mse: 50623.8359\n",
            "Epoch 365/500\n",
            "5/5 [==============================] - 0s 4ms/step - loss: 384442.3125 - mse: 384442.3125\n",
            "Epoch 366/500\n",
            "5/5 [==============================] - 0s 3ms/step - loss: 125058.2109 - mse: 125058.2109\n",
            "Epoch 367/500\n",
            "5/5 [==============================] - 0s 4ms/step - loss: 296784.4375 - mse: 296784.4375\n",
            "Epoch 368/500\n",
            "5/5 [==============================] - 0s 3ms/step - loss: 239920.9688 - mse: 239920.9688\n",
            "Epoch 369/500\n",
            "5/5 [==============================] - 0s 3ms/step - loss: 183310.0000 - mse: 183310.0000\n",
            "Epoch 370/500\n",
            "5/5 [==============================] - 0s 5ms/step - loss: 359451.9688 - mse: 359451.9688\n",
            "Epoch 371/500\n",
            "5/5 [==============================] - 0s 3ms/step - loss: 87313.0156 - mse: 87313.0156\n",
            "Epoch 372/500\n",
            "5/5 [==============================] - 0s 3ms/step - loss: 445290.9062 - mse: 445290.9062\n",
            "Epoch 373/500\n",
            "5/5 [==============================] - 0s 4ms/step - loss: 38052.9570 - mse: 38052.9570\n",
            "Epoch 374/500\n",
            "5/5 [==============================] - 0s 3ms/step - loss: 471183.9375 - mse: 471183.9375\n",
            "Epoch 375/500\n",
            "5/5 [==============================] - 0s 3ms/step - loss: 59885.5000 - mse: 59885.5000\n",
            "Epoch 376/500\n",
            "5/5 [==============================] - 0s 3ms/step - loss: 424546.8438 - mse: 424546.8438\n",
            "Epoch 377/500\n",
            "5/5 [==============================] - 0s 3ms/step - loss: 146743.9688 - mse: 146743.9688\n",
            "Epoch 378/500\n",
            "5/5 [==============================] - 0s 4ms/step - loss: 323790.1562 - mse: 323790.1562\n",
            "Epoch 379/500\n",
            "5/5 [==============================] - 0s 3ms/step - loss: 276535.6562 - mse: 276535.6562\n",
            "Epoch 380/500\n",
            "5/5 [==============================] - 0s 4ms/step - loss: 197004.0938 - mse: 197004.0938\n",
            "Epoch 381/500\n",
            "5/5 [==============================] - 0s 3ms/step - loss: 408880.4375 - mse: 408880.4375\n",
            "Epoch 382/500\n",
            "5/5 [==============================] - 0s 3ms/step - loss: 92092.1406 - mse: 92092.1406\n",
            "Epoch 383/500\n",
            "5/5 [==============================] - 0s 3ms/step - loss: 501229.0938 - mse: 501229.0938\n",
            "Epoch 384/500\n",
            "5/5 [==============================] - 0s 6ms/step - loss: 41648.4922 - mse: 41648.4922\n",
            "Epoch 385/500\n",
            "5/5 [==============================] - 0s 3ms/step - loss: 525145.1875 - mse: 525145.1875\n",
            "Epoch 386/500\n",
            "5/5 [==============================] - 0s 3ms/step - loss: 70925.7344 - mse: 70925.7344\n",
            "Epoch 387/500\n",
            "5/5 [==============================] - 0s 3ms/step - loss: 468513.6562 - mse: 468513.6562\n",
            "Epoch 388/500\n",
            "5/5 [==============================] - 0s 3ms/step - loss: 171971.9688 - mse: 171971.9688\n",
            "Epoch 389/500\n",
            "5/5 [==============================] - 0s 3ms/step - loss: 352960.8438 - mse: 352960.8438\n",
            "Epoch 390/500\n",
            "5/5 [==============================] - 0s 3ms/step - loss: 318440.9062 - mse: 318440.9062\n",
            "Epoch 391/500\n",
            "5/5 [==============================] - 0s 5ms/step - loss: 211477.5312 - mse: 211477.5312\n",
            "Epoch 392/500\n",
            "5/5 [==============================] - 0s 3ms/step - loss: 464771.3125 - mse: 464771.3125\n",
            "Epoch 393/500\n",
            "5/5 [==============================] - 0s 4ms/step - loss: 97064.9531 - mse: 97064.9531\n",
            "Epoch 394/500\n",
            "5/5 [==============================] - 0s 4ms/step - loss: 563840.0000 - mse: 563840.0000\n",
            "Epoch 395/500\n",
            "5/5 [==============================] - 0s 4ms/step - loss: 45908.1406 - mse: 45908.1406\n",
            "Epoch 396/500\n",
            "5/5 [==============================] - 0s 3ms/step - loss: 584935.6250 - mse: 584935.6250\n",
            "Epoch 397/500\n",
            "5/5 [==============================] - 0s 4ms/step - loss: 84064.2656 - mse: 84064.2656\n",
            "Epoch 398/500\n",
            "5/5 [==============================] - 0s 5ms/step - loss: 516678.5000 - mse: 516678.5000\n",
            "Epoch 399/500\n",
            "5/5 [==============================] - 0s 5ms/step - loss: 201285.5312 - mse: 201285.5312\n",
            "Epoch 400/500\n",
            "5/5 [==============================] - 0s 3ms/step - loss: 384435.9375 - mse: 384435.9375\n",
            "Epoch 401/500\n",
            "5/5 [==============================] - 0s 4ms/step - loss: 366360.9688 - mse: 366360.9688\n",
            "Epoch 402/500\n",
            "5/5 [==============================] - 0s 3ms/step - loss: 226749.3438 - mse: 226749.3438\n",
            "Epoch 403/500\n",
            "5/5 [==============================] - 0s 3ms/step - loss: 527927.6250 - mse: 527927.6250\n",
            "Epoch 404/500\n",
            "5/5 [==============================] - 0s 4ms/step - loss: 102251.2500 - mse: 102251.2500\n",
            "Epoch 405/500\n",
            "5/5 [==============================] - 0s 5ms/step - loss: 633876.3125 - mse: 633876.3125\n",
            "Epoch 406/500\n",
            "5/5 [==============================] - 0s 3ms/step - loss: 50981.1562 - mse: 50981.1562\n",
            "Epoch 407/500\n",
            "5/5 [==============================] - 0s 4ms/step - loss: 651140.3125 - mse: 651140.3125\n",
            "Epoch 408/500\n",
            "5/5 [==============================] - 0s 4ms/step - loss: 99673.0781 - mse: 99673.0781\n",
            "Epoch 409/500\n",
            "5/5 [==============================] - 0s 4ms/step - loss: 569398.0625 - mse: 569398.0625\n",
            "Epoch 410/500\n",
            "5/5 [==============================] - 0s 4ms/step - loss: 235305.2812 - mse: 235305.2812\n",
            "Epoch 411/500\n",
            "5/5 [==============================] - 0s 4ms/step - loss: 418357.5938 - mse: 418357.5938\n",
            "Epoch 412/500\n",
            "5/5 [==============================] - 0s 4ms/step - loss: 421113.5000 - mse: 421113.5000\n",
            "Epoch 413/500\n",
            "5/5 [==============================] - 0s 4ms/step - loss: 242835.5781 - mse: 242835.5781\n",
            "Epoch 414/500\n",
            "5/5 [==============================] - 0s 4ms/step - loss: 599245.6250 - mse: 599245.6250\n",
            "Epoch 415/500\n",
            "5/5 [==============================] - 0s 4ms/step - loss: 107678.1719 - mse: 107678.1719\n",
            "Epoch 416/500\n",
            "5/5 [==============================] - 0s 4ms/step - loss: 712167.8750 - mse: 712167.8750\n",
            "Epoch 417/500\n",
            "5/5 [==============================] - 0s 3ms/step - loss: 57047.2891 - mse: 57047.2891\n",
            "Epoch 418/500\n",
            "5/5 [==============================] - 0s 4ms/step - loss: 724397.6250 - mse: 724397.6250\n",
            "Epoch 419/500\n",
            "5/5 [==============================] - 0s 5ms/step - loss: 118185.1250 - mse: 118185.1250\n",
            "Epoch 420/500\n",
            "5/5 [==============================] - 0s 4ms/step - loss: 627055.0625 - mse: 627055.0625\n",
            "Epoch 421/500\n",
            "5/5 [==============================] - 0s 5ms/step - loss: 274740.9375 - mse: 274740.9375\n",
            "Epoch 422/500\n",
            "5/5 [==============================] - 0s 4ms/step - loss: 454872.6562 - mse: 454872.6562\n",
            "Epoch 423/500\n",
            "5/5 [==============================] - 0s 4ms/step - loss: 483620.4375 - mse: 483620.4375\n",
            "Epoch 424/500\n",
            "5/5 [==============================] - 0s 4ms/step - loss: 259751.3438 - mse: 259751.3438\n",
            "Epoch 425/500\n",
            "5/5 [==============================] - 0s 5ms/step - loss: 679727.8125 - mse: 679727.8125\n",
            "Epoch 426/500\n",
            "5/5 [==============================] - 0s 4ms/step - loss: 113382.8750 - mse: 113382.8750\n",
            "Epoch 427/500\n",
            "5/5 [==============================] - 0s 5ms/step - loss: 799636.5625 - mse: 799636.5625\n",
            "Epoch 428/500\n",
            "5/5 [==============================] - 0s 4ms/step - loss: 64322.8438 - mse: 64322.8438\n",
            "Epoch 429/500\n",
            "5/5 [==============================] - 0s 5ms/step - loss: 805408.3125 - mse: 805408.3125\n",
            "Epoch 430/500\n",
            "5/5 [==============================] - 0s 4ms/step - loss: 140103.5156 - mse: 140103.5156\n",
            "Epoch 431/500\n",
            "5/5 [==============================] - 0s 4ms/step - loss: 690062.1250 - mse: 690062.1250\n",
            "Epoch 432/500\n",
            "5/5 [==============================] - 0s 4ms/step - loss: 320403.0625 - mse: 320403.0625\n",
            "Epoch 433/500\n",
            "5/5 [==============================] - 0s 4ms/step - loss: 494134.5000 - mse: 494134.5000\n",
            "Epoch 434/500\n",
            "5/5 [==============================] - 0s 4ms/step - loss: 554923.5625 - mse: 554923.5625\n",
            "Epoch 435/500\n",
            "5/5 [==============================] - 0s 4ms/step - loss: 277510.4688 - mse: 277510.4688\n",
            "Epoch 436/500\n",
            "5/5 [==============================] - 0s 5ms/step - loss: 770492.1250 - mse: 770492.1250\n",
            "Epoch 437/500\n",
            "5/5 [==============================] - 0s 4ms/step - loss: 119414.1719 - mse: 119414.1719\n",
            "Epoch 438/500\n",
            "5/5 [==============================] - 0s 4ms/step - loss: 897294.6875 - mse: 897294.6875\n",
            "Epoch 439/500\n",
            "5/5 [==============================] - 0s 6ms/step - loss: 73066.2500 - mse: 73066.2500\n",
            "Epoch 440/500\n",
            "5/5 [==============================] - 0s 6ms/step - loss: 894930.3125 - mse: 894930.3125\n",
            "Epoch 441/500\n",
            "5/5 [==============================] - 0s 4ms/step - loss: 166011.8906 - mse: 166011.8906\n",
            "Epoch 442/500\n",
            "5/5 [==============================] - 0s 4ms/step - loss: 758853.6250 - mse: 758853.6250\n",
            "Epoch 443/500\n",
            "5/5 [==============================] - 0s 4ms/step - loss: 373215.3438 - mse: 373215.3438\n",
            "Epoch 444/500\n",
            "5/5 [==============================] - 0s 4ms/step - loss: 536294.6250 - mse: 536294.6250\n",
            "Epoch 445/500\n",
            "5/5 [==============================] - 0s 5ms/step - loss: 636195.5625 - mse: 636195.5625\n",
            "Epoch 446/500\n",
            "5/5 [==============================] - 0s 4ms/step - loss: 296121.5312 - mse: 296121.5312\n",
            "Epoch 447/500\n",
            "5/5 [==============================] - 0s 4ms/step - loss: 872784.3125 - mse: 872784.3125\n",
            "Epoch 448/500\n",
            "5/5 [==============================] - 0s 4ms/step - loss: 125835.1016 - mse: 125835.1016\n",
            "Epoch 449/500\n",
            "5/5 [==============================] - 0s 4ms/step - loss: 1006258.8750 - mse: 1006258.8750\n",
            "Epoch 450/500\n",
            "5/5 [==============================] - 0s 4ms/step - loss: 83586.0000 - mse: 83586.0000\n",
            "Epoch 451/500\n",
            "5/5 [==============================] - 0s 4ms/step - loss: 993786.6875 - mse: 993786.6875\n",
            "Epoch 452/500\n",
            "5/5 [==============================] - 0s 4ms/step - loss: 196586.2812 - mse: 196586.2812\n",
            "Epoch 453/500\n",
            "5/5 [==============================] - 0s 4ms/step - loss: 833892.8750 - mse: 833892.8750\n",
            "Epoch 454/500\n",
            "5/5 [==============================] - 0s 3ms/step - loss: 434231.7500 - mse: 434231.7500\n",
            "Epoch 455/500\n",
            "5/5 [==============================] - 0s 4ms/step - loss: 581508.3750 - mse: 581508.3750\n",
            "Epoch 456/500\n",
            "5/5 [==============================] - 0s 3ms/step - loss: 728757.0000 - mse: 728757.0000\n",
            "Epoch 457/500\n",
            "5/5 [==============================] - 0s 5ms/step - loss: 315593.0625 - mse: 315593.0625\n",
            "Epoch 458/500\n",
            "5/5 [==============================] - 0s 4ms/step - loss: 987994.1250 - mse: 987994.1250\n",
            "Epoch 459/500\n",
            "5/5 [==============================] - 0s 4ms/step - loss: 132728.7031 - mse: 132728.7031\n",
            "Epoch 460/500\n",
            "5/5 [==============================] - 0s 4ms/step - loss: 1127765.5000 - mse: 1127765.5000\n",
            "Epoch 461/500\n",
            "5/5 [==============================] - 0s 4ms/step - loss: 96250.0781 - mse: 96250.0781\n",
            "Epoch 462/500\n",
            "5/5 [==============================] - 0s 3ms/step - loss: 1102879.7500 - mse: 1102879.7500\n",
            "Epoch 463/500\n",
            "5/5 [==============================] - 0s 4ms/step - loss: 232610.4531 - mse: 232610.4531\n",
            "Epoch 464/500\n",
            "5/5 [==============================] - 0s 4ms/step - loss: 915678.8125 - mse: 915678.8125\n",
            "Epoch 465/500\n",
            "5/5 [==============================] - 0s 3ms/step - loss: 504653.6875 - mse: 504653.6875\n",
            "Epoch 466/500\n",
            "5/5 [==============================] - 0s 4ms/step - loss: 629935.8750 - mse: 629935.8750\n",
            "Epoch 467/500\n",
            "5/5 [==============================] - 0s 3ms/step - loss: 834097.1250 - mse: 834097.1250\n",
            "Epoch 468/500\n",
            "5/5 [==============================] - 0s 4ms/step - loss: 335933.3438 - mse: 335933.3438\n",
            "Epoch 469/500\n",
            "5/5 [==============================] - 0s 4ms/step - loss: 1117669.5000 - mse: 1117669.5000\n",
            "Epoch 470/500\n",
            "5/5 [==============================] - 0s 4ms/step - loss: 140200.9062 - mse: 140200.9062\n",
            "Epoch 471/500\n",
            "5/5 [==============================] - 0s 4ms/step - loss: 1263172.2500 - mse: 1263172.2500\n",
            "Epoch 472/500\n",
            "5/5 [==============================] - 0s 4ms/step - loss: 111494.7266 - mse: 111494.7266\n",
            "Epoch 473/500\n",
            "5/5 [==============================] - 0s 4ms/step - loss: 1223186.2500 - mse: 1223186.2500\n",
            "Epoch 474/500\n",
            "5/5 [==============================] - 0s 4ms/step - loss: 274988.1875 - mse: 274988.1875\n",
            "Epoch 475/500\n",
            "5/5 [==============================] - 0s 6ms/step - loss: 1004735.6875 - mse: 1004735.6875\n",
            "Epoch 476/500\n",
            "5/5 [==============================] - 0s 3ms/step - loss: 585846.2500 - mse: 585846.2500\n",
            "Epoch 477/500\n",
            "5/5 [==============================] - 0s 4ms/step - loss: 681734.8125 - mse: 681734.8125\n",
            "Epoch 478/500\n",
            "5/5 [==============================] - 0s 3ms/step - loss: 953888.6250 - mse: 953888.6250\n",
            "Epoch 479/500\n",
            "5/5 [==============================] - 0s 4ms/step - loss: 357149.0625 - mse: 357149.0625\n",
            "Epoch 480/500\n",
            "5/5 [==============================] - 0s 3ms/step - loss: 1263534.8750 - mse: 1263534.8750\n",
            "Epoch 481/500\n",
            "5/5 [==============================] - 0s 3ms/step - loss: 148386.0156 - mse: 148386.0156\n",
            "Epoch 482/500\n",
            "5/5 [==============================] - 0s 3ms/step - loss: 1413973.8750 - mse: 1413973.8750\n",
            "Epoch 483/500\n",
            "5/5 [==============================] - 0s 3ms/step - loss: 129837.1641 - mse: 129837.1641\n",
            "Epoch 484/500\n",
            "5/5 [==============================] - 0s 5ms/step - loss: 1355760.6250 - mse: 1355760.6250\n",
            "Epoch 485/500\n",
            "5/5 [==============================] - 0s 4ms/step - loss: 324764.1875 - mse: 324764.1875\n",
            "Epoch 486/500\n",
            "5/5 [==============================] - 0s 4ms/step - loss: 1101618.7500 - mse: 1101618.7500\n",
            "Epoch 487/500\n",
            "5/5 [==============================] - 0s 4ms/step - loss: 679362.3750 - mse: 679362.3750\n",
            "Epoch 488/500\n",
            "5/5 [==============================] - 0s 5ms/step - loss: 737063.0000 - mse: 737063.0000\n",
            "Epoch 489/500\n",
            "5/5 [==============================] - 0s 4ms/step - loss: 1090011.7500 - mse: 1090011.7500\n",
            "Epoch 490/500\n",
            "5/5 [==============================] - 0s 4ms/step - loss: 379246.2188 - mse: 379246.2188\n",
            "Epoch 491/500\n",
            "5/5 [==============================] - 0s 3ms/step - loss: 1427505.1250 - mse: 1427505.1250\n",
            "Epoch 492/500\n",
            "5/5 [==============================] - 0s 3ms/step - loss: 157453.2188 - mse: 157453.2188\n",
            "Epoch 493/500\n",
            "5/5 [==============================] - 0s 4ms/step - loss: 1581813.5000 - mse: 1581813.5000\n",
            "Epoch 494/500\n",
            "5/5 [==============================] - 0s 5ms/step - loss: 151888.6406 - mse: 151888.6406\n",
            "Epoch 495/500\n",
            "5/5 [==============================] - 0s 4ms/step - loss: 1501751.3750 - mse: 1501751.3750\n",
            "Epoch 496/500\n",
            "5/5 [==============================] - 0s 5ms/step - loss: 383144.0938 - mse: 383144.0938\n",
            "Epoch 497/500\n",
            "5/5 [==============================] - 0s 5ms/step - loss: 1206915.3750 - mse: 1206915.3750\n",
            "Epoch 498/500\n",
            "5/5 [==============================] - 0s 4ms/step - loss: 786968.8125 - mse: 786968.8125\n",
            "Epoch 499/500\n",
            "5/5 [==============================] - 0s 5ms/step - loss: 796075.4375 - mse: 796075.4375\n",
            "Epoch 500/500\n",
            "5/5 [==============================] - 0s 3ms/step - loss: 1244581.3750 - mse: 1244581.3750\n"
          ]
        },
        {
          "output_type": "execute_result",
          "data": {
            "text/plain": [
              "<keras.callbacks.History at 0x7fafdcc63690>"
            ]
          },
          "metadata": {},
          "execution_count": 50
        }
      ]
    },
    {
      "cell_type": "markdown",
      "metadata": {
        "id": "9JWRVOIzX49I"
      },
      "source": [
        "## 다중 로지스틱 회귀 구현하기"
      ]
    },
    {
      "cell_type": "code",
      "metadata": {
        "id": "Nn2kHkVHXvRS"
      },
      "source": [
        "import numpy as np\n",
        "from tensorflow.keras.models import Sequential\n",
        "from tensorflow.keras.layers import Dense\n",
        "from tensorflow.keras        import optimizers"
      ],
      "execution_count": 51,
      "outputs": []
    },
    {
      "cell_type": "code",
      "metadata": {
        "id": "TXLm0IJzYFIo",
        "colab": {
          "base_uri": "https://localhost:8080/"
        },
        "outputId": "a6facb87-bd60-479d-bd01-f75aa621fef2"
      },
      "source": [
        "# 입력 벡터는 2차원입니다. 즉, input_dim은 2입니다.\n",
        "X = np.array([[0, 0],\n",
        "              [0, 1],\n",
        "              [1, 0],\n",
        "              [1, 1]])\n",
        "\n",
        "y = np.array([0, 1, 1, 1])\n",
        "\n",
        "model = Sequential()\n",
        "model.add(Dense(1, input_dim = 2, activation = \"sigmoid\"))\n",
        "model.compile(optimizer = \"sgd\", loss = \"binary_crossentropy\", metrics = [\"binary_accuracy\"])\n",
        "model.fit(X, y, batch_size = 1, epochs = 800, shuffle = False)"
      ],
      "execution_count": 52,
      "outputs": [
        {
          "output_type": "stream",
          "name": "stdout",
          "text": [
            "Epoch 1/800\n",
            "4/4 [==============================] - 0s 3ms/step - loss: 0.8170 - binary_accuracy: 0.5000\n",
            "Epoch 2/800\n",
            "4/4 [==============================] - 0s 3ms/step - loss: 0.8068 - binary_accuracy: 0.2500\n",
            "Epoch 3/800\n",
            "4/4 [==============================] - 0s 4ms/step - loss: 0.7969 - binary_accuracy: 0.2500\n",
            "Epoch 4/800\n",
            "4/4 [==============================] - 0s 4ms/step - loss: 0.7872 - binary_accuracy: 0.2500\n",
            "Epoch 5/800\n",
            "4/4 [==============================] - 0s 3ms/step - loss: 0.7779 - binary_accuracy: 0.2500\n",
            "Epoch 6/800\n",
            "4/4 [==============================] - 0s 4ms/step - loss: 0.7688 - binary_accuracy: 0.2500\n",
            "Epoch 7/800\n",
            "4/4 [==============================] - 0s 3ms/step - loss: 0.7600 - binary_accuracy: 0.2500\n",
            "Epoch 8/800\n",
            "4/4 [==============================] - 0s 4ms/step - loss: 0.7514 - binary_accuracy: 0.2500\n",
            "Epoch 9/800\n",
            "4/4 [==============================] - 0s 4ms/step - loss: 0.7431 - binary_accuracy: 0.2500\n",
            "Epoch 10/800\n",
            "4/4 [==============================] - 0s 4ms/step - loss: 0.7350 - binary_accuracy: 0.2500\n",
            "Epoch 11/800\n",
            "4/4 [==============================] - 0s 4ms/step - loss: 0.7271 - binary_accuracy: 0.2500\n",
            "Epoch 12/800\n",
            "4/4 [==============================] - 0s 4ms/step - loss: 0.7195 - binary_accuracy: 0.2500\n",
            "Epoch 13/800\n",
            "4/4 [==============================] - 0s 3ms/step - loss: 0.7121 - binary_accuracy: 0.2500\n",
            "Epoch 14/800\n",
            "4/4 [==============================] - 0s 3ms/step - loss: 0.7049 - binary_accuracy: 0.5000\n",
            "Epoch 15/800\n",
            "4/4 [==============================] - 0s 3ms/step - loss: 0.6979 - binary_accuracy: 0.5000\n",
            "Epoch 16/800\n",
            "4/4 [==============================] - 0s 4ms/step - loss: 0.6911 - binary_accuracy: 0.5000\n",
            "Epoch 17/800\n",
            "4/4 [==============================] - 0s 4ms/step - loss: 0.6845 - binary_accuracy: 0.5000\n",
            "Epoch 18/800\n",
            "4/4 [==============================] - 0s 5ms/step - loss: 0.6781 - binary_accuracy: 0.5000\n",
            "Epoch 19/800\n",
            "4/4 [==============================] - 0s 4ms/step - loss: 0.6719 - binary_accuracy: 0.5000\n",
            "Epoch 20/800\n",
            "4/4 [==============================] - 0s 4ms/step - loss: 0.6659 - binary_accuracy: 0.5000\n",
            "Epoch 21/800\n",
            "4/4 [==============================] - 0s 4ms/step - loss: 0.6600 - binary_accuracy: 0.5000\n",
            "Epoch 22/800\n",
            "4/4 [==============================] - 0s 4ms/step - loss: 0.6543 - binary_accuracy: 0.5000\n",
            "Epoch 23/800\n",
            "4/4 [==============================] - 0s 4ms/step - loss: 0.6487 - binary_accuracy: 0.5000\n",
            "Epoch 24/800\n",
            "4/4 [==============================] - 0s 4ms/step - loss: 0.6433 - binary_accuracy: 0.5000\n",
            "Epoch 25/800\n",
            "4/4 [==============================] - 0s 6ms/step - loss: 0.6381 - binary_accuracy: 0.5000\n",
            "Epoch 26/800\n",
            "4/4 [==============================] - 0s 5ms/step - loss: 0.6330 - binary_accuracy: 0.5000\n",
            "Epoch 27/800\n",
            "4/4 [==============================] - 0s 4ms/step - loss: 0.6280 - binary_accuracy: 0.5000\n",
            "Epoch 28/800\n",
            "4/4 [==============================] - 0s 4ms/step - loss: 0.6232 - binary_accuracy: 0.5000\n",
            "Epoch 29/800\n",
            "4/4 [==============================] - 0s 4ms/step - loss: 0.6185 - binary_accuracy: 0.5000\n",
            "Epoch 30/800\n",
            "4/4 [==============================] - 0s 4ms/step - loss: 0.6139 - binary_accuracy: 0.5000\n",
            "Epoch 31/800\n",
            "4/4 [==============================] - 0s 4ms/step - loss: 0.6095 - binary_accuracy: 0.5000\n",
            "Epoch 32/800\n",
            "4/4 [==============================] - 0s 3ms/step - loss: 0.6051 - binary_accuracy: 0.5000\n",
            "Epoch 33/800\n",
            "4/4 [==============================] - 0s 4ms/step - loss: 0.6009 - binary_accuracy: 0.7500\n",
            "Epoch 34/800\n",
            "4/4 [==============================] - 0s 120ms/step - loss: 0.5968 - binary_accuracy: 0.7500\n",
            "Epoch 35/800\n",
            "4/4 [==============================] - 0s 4ms/step - loss: 0.5928 - binary_accuracy: 0.7500\n",
            "Epoch 36/800\n",
            "4/4 [==============================] - 0s 3ms/step - loss: 0.5889 - binary_accuracy: 0.7500\n",
            "Epoch 37/800\n",
            "4/4 [==============================] - 0s 3ms/step - loss: 0.5851 - binary_accuracy: 0.7500\n",
            "Epoch 38/800\n",
            "4/4 [==============================] - 0s 4ms/step - loss: 0.5814 - binary_accuracy: 0.7500\n",
            "Epoch 39/800\n",
            "4/4 [==============================] - 0s 4ms/step - loss: 0.5778 - binary_accuracy: 0.7500\n",
            "Epoch 40/800\n",
            "4/4 [==============================] - 0s 4ms/step - loss: 0.5743 - binary_accuracy: 0.7500\n",
            "Epoch 41/800\n",
            "4/4 [==============================] - 0s 3ms/step - loss: 0.5709 - binary_accuracy: 0.7500\n",
            "Epoch 42/800\n",
            "4/4 [==============================] - 0s 4ms/step - loss: 0.5676 - binary_accuracy: 0.7500\n",
            "Epoch 43/800\n",
            "4/4 [==============================] - 0s 3ms/step - loss: 0.5643 - binary_accuracy: 0.7500\n",
            "Epoch 44/800\n",
            "4/4 [==============================] - 0s 4ms/step - loss: 0.5611 - binary_accuracy: 0.7500\n",
            "Epoch 45/800\n",
            "4/4 [==============================] - 0s 4ms/step - loss: 0.5580 - binary_accuracy: 0.7500\n",
            "Epoch 46/800\n",
            "4/4 [==============================] - 0s 4ms/step - loss: 0.5550 - binary_accuracy: 0.7500\n",
            "Epoch 47/800\n",
            "4/4 [==============================] - 0s 4ms/step - loss: 0.5520 - binary_accuracy: 0.7500\n",
            "Epoch 48/800\n",
            "4/4 [==============================] - 0s 5ms/step - loss: 0.5492 - binary_accuracy: 0.7500\n",
            "Epoch 49/800\n",
            "4/4 [==============================] - 0s 4ms/step - loss: 0.5463 - binary_accuracy: 0.7500\n",
            "Epoch 50/800\n",
            "4/4 [==============================] - 0s 4ms/step - loss: 0.5436 - binary_accuracy: 0.7500\n",
            "Epoch 51/800\n",
            "4/4 [==============================] - 0s 3ms/step - loss: 0.5409 - binary_accuracy: 0.7500\n",
            "Epoch 52/800\n",
            "4/4 [==============================] - 0s 4ms/step - loss: 0.5383 - binary_accuracy: 0.7500\n",
            "Epoch 53/800\n",
            "4/4 [==============================] - 0s 5ms/step - loss: 0.5357 - binary_accuracy: 0.7500\n",
            "Epoch 54/800\n",
            "4/4 [==============================] - 0s 4ms/step - loss: 0.5332 - binary_accuracy: 0.7500\n",
            "Epoch 55/800\n",
            "4/4 [==============================] - 0s 4ms/step - loss: 0.5307 - binary_accuracy: 0.7500\n",
            "Epoch 56/800\n",
            "4/4 [==============================] - 0s 4ms/step - loss: 0.5283 - binary_accuracy: 0.7500\n",
            "Epoch 57/800\n",
            "4/4 [==============================] - 0s 4ms/step - loss: 0.5260 - binary_accuracy: 0.7500\n",
            "Epoch 58/800\n",
            "4/4 [==============================] - 0s 5ms/step - loss: 0.5237 - binary_accuracy: 0.7500\n",
            "Epoch 59/800\n",
            "4/4 [==============================] - 0s 4ms/step - loss: 0.5214 - binary_accuracy: 0.7500\n",
            "Epoch 60/800\n",
            "4/4 [==============================] - 0s 5ms/step - loss: 0.5192 - binary_accuracy: 0.7500\n",
            "Epoch 61/800\n",
            "4/4 [==============================] - 0s 5ms/step - loss: 0.5171 - binary_accuracy: 0.7500\n",
            "Epoch 62/800\n",
            "4/4 [==============================] - 0s 4ms/step - loss: 0.5150 - binary_accuracy: 0.7500\n",
            "Epoch 63/800\n",
            "4/4 [==============================] - 0s 5ms/step - loss: 0.5129 - binary_accuracy: 0.7500\n",
            "Epoch 64/800\n",
            "4/4 [==============================] - 0s 4ms/step - loss: 0.5109 - binary_accuracy: 0.7500\n",
            "Epoch 65/800\n",
            "4/4 [==============================] - 0s 5ms/step - loss: 0.5089 - binary_accuracy: 0.7500\n",
            "Epoch 66/800\n",
            "4/4 [==============================] - 0s 4ms/step - loss: 0.5069 - binary_accuracy: 0.7500\n",
            "Epoch 67/800\n",
            "4/4 [==============================] - 0s 4ms/step - loss: 0.5050 - binary_accuracy: 0.7500\n",
            "Epoch 68/800\n",
            "4/4 [==============================] - 0s 4ms/step - loss: 0.5031 - binary_accuracy: 0.7500\n",
            "Epoch 69/800\n",
            "4/4 [==============================] - 0s 5ms/step - loss: 0.5013 - binary_accuracy: 0.7500\n",
            "Epoch 70/800\n",
            "4/4 [==============================] - 0s 3ms/step - loss: 0.4995 - binary_accuracy: 0.7500\n",
            "Epoch 71/800\n",
            "4/4 [==============================] - 0s 5ms/step - loss: 0.4977 - binary_accuracy: 0.7500\n",
            "Epoch 72/800\n",
            "4/4 [==============================] - 0s 8ms/step - loss: 0.4960 - binary_accuracy: 0.7500\n",
            "Epoch 73/800\n",
            "4/4 [==============================] - 0s 4ms/step - loss: 0.4943 - binary_accuracy: 0.7500\n",
            "Epoch 74/800\n",
            "4/4 [==============================] - 0s 4ms/step - loss: 0.4926 - binary_accuracy: 0.7500\n",
            "Epoch 75/800\n",
            "4/4 [==============================] - 0s 5ms/step - loss: 0.4910 - binary_accuracy: 0.7500\n",
            "Epoch 76/800\n",
            "4/4 [==============================] - 0s 4ms/step - loss: 0.4894 - binary_accuracy: 0.7500\n",
            "Epoch 77/800\n",
            "4/4 [==============================] - 0s 5ms/step - loss: 0.4878 - binary_accuracy: 0.7500\n",
            "Epoch 78/800\n",
            "4/4 [==============================] - 0s 3ms/step - loss: 0.4862 - binary_accuracy: 0.7500\n",
            "Epoch 79/800\n",
            "4/4 [==============================] - 0s 4ms/step - loss: 0.4847 - binary_accuracy: 0.7500\n",
            "Epoch 80/800\n",
            "4/4 [==============================] - 0s 4ms/step - loss: 0.4832 - binary_accuracy: 0.7500\n",
            "Epoch 81/800\n",
            "4/4 [==============================] - 0s 4ms/step - loss: 0.4817 - binary_accuracy: 0.7500\n",
            "Epoch 82/800\n",
            "4/4 [==============================] - 0s 5ms/step - loss: 0.4803 - binary_accuracy: 0.7500\n",
            "Epoch 83/800\n",
            "4/4 [==============================] - 0s 7ms/step - loss: 0.4788 - binary_accuracy: 0.7500\n",
            "Epoch 84/800\n",
            "4/4 [==============================] - 0s 5ms/step - loss: 0.4774 - binary_accuracy: 0.7500\n",
            "Epoch 85/800\n",
            "4/4 [==============================] - 0s 4ms/step - loss: 0.4761 - binary_accuracy: 0.7500\n",
            "Epoch 86/800\n",
            "4/4 [==============================] - 0s 5ms/step - loss: 0.4747 - binary_accuracy: 0.7500\n",
            "Epoch 87/800\n",
            "4/4 [==============================] - 0s 4ms/step - loss: 0.4733 - binary_accuracy: 0.7500\n",
            "Epoch 88/800\n",
            "4/4 [==============================] - 0s 4ms/step - loss: 0.4720 - binary_accuracy: 0.7500\n",
            "Epoch 89/800\n",
            "4/4 [==============================] - 0s 4ms/step - loss: 0.4707 - binary_accuracy: 0.7500\n",
            "Epoch 90/800\n",
            "4/4 [==============================] - 0s 5ms/step - loss: 0.4694 - binary_accuracy: 0.7500\n",
            "Epoch 91/800\n",
            "4/4 [==============================] - 0s 4ms/step - loss: 0.4682 - binary_accuracy: 0.7500\n",
            "Epoch 92/800\n",
            "4/4 [==============================] - 0s 4ms/step - loss: 0.4669 - binary_accuracy: 0.7500\n",
            "Epoch 93/800\n",
            "4/4 [==============================] - 0s 5ms/step - loss: 0.4657 - binary_accuracy: 0.7500\n",
            "Epoch 94/800\n",
            "4/4 [==============================] - 0s 4ms/step - loss: 0.4645 - binary_accuracy: 0.7500\n",
            "Epoch 95/800\n",
            "4/4 [==============================] - 0s 5ms/step - loss: 0.4633 - binary_accuracy: 0.7500\n",
            "Epoch 96/800\n",
            "4/4 [==============================] - 0s 3ms/step - loss: 0.4622 - binary_accuracy: 0.7500\n",
            "Epoch 97/800\n",
            "4/4 [==============================] - 0s 4ms/step - loss: 0.4610 - binary_accuracy: 0.7500\n",
            "Epoch 98/800\n",
            "4/4 [==============================] - 0s 4ms/step - loss: 0.4599 - binary_accuracy: 0.7500\n",
            "Epoch 99/800\n",
            "4/4 [==============================] - 0s 5ms/step - loss: 0.4587 - binary_accuracy: 0.7500\n",
            "Epoch 100/800\n",
            "4/4 [==============================] - 0s 4ms/step - loss: 0.4576 - binary_accuracy: 0.7500\n",
            "Epoch 101/800\n",
            "4/4 [==============================] - 0s 4ms/step - loss: 0.4565 - binary_accuracy: 0.7500\n",
            "Epoch 102/800\n",
            "4/4 [==============================] - 0s 3ms/step - loss: 0.4554 - binary_accuracy: 0.7500\n",
            "Epoch 103/800\n",
            "4/4 [==============================] - 0s 4ms/step - loss: 0.4544 - binary_accuracy: 0.7500\n",
            "Epoch 104/800\n",
            "4/4 [==============================] - 0s 4ms/step - loss: 0.4533 - binary_accuracy: 0.7500\n",
            "Epoch 105/800\n",
            "4/4 [==============================] - 0s 5ms/step - loss: 0.4523 - binary_accuracy: 0.7500\n",
            "Epoch 106/800\n",
            "4/4 [==============================] - 0s 4ms/step - loss: 0.4513 - binary_accuracy: 0.7500\n",
            "Epoch 107/800\n",
            "4/4 [==============================] - 0s 5ms/step - loss: 0.4502 - binary_accuracy: 0.7500\n",
            "Epoch 108/800\n",
            "4/4 [==============================] - 0s 4ms/step - loss: 0.4492 - binary_accuracy: 0.7500\n",
            "Epoch 109/800\n",
            "4/4 [==============================] - 0s 4ms/step - loss: 0.4483 - binary_accuracy: 0.7500\n",
            "Epoch 110/800\n",
            "4/4 [==============================] - 0s 4ms/step - loss: 0.4473 - binary_accuracy: 0.7500\n",
            "Epoch 111/800\n",
            "4/4 [==============================] - 0s 5ms/step - loss: 0.4463 - binary_accuracy: 0.7500\n",
            "Epoch 112/800\n",
            "4/4 [==============================] - 0s 5ms/step - loss: 0.4454 - binary_accuracy: 0.7500\n",
            "Epoch 113/800\n",
            "4/4 [==============================] - 0s 4ms/step - loss: 0.4444 - binary_accuracy: 0.7500\n",
            "Epoch 114/800\n",
            "4/4 [==============================] - 0s 5ms/step - loss: 0.4435 - binary_accuracy: 0.7500\n",
            "Epoch 115/800\n",
            "4/4 [==============================] - 0s 5ms/step - loss: 0.4426 - binary_accuracy: 0.7500\n",
            "Epoch 116/800\n",
            "4/4 [==============================] - 0s 4ms/step - loss: 0.4416 - binary_accuracy: 0.7500\n",
            "Epoch 117/800\n",
            "4/4 [==============================] - 0s 5ms/step - loss: 0.4407 - binary_accuracy: 0.7500\n",
            "Epoch 118/800\n",
            "4/4 [==============================] - 0s 5ms/step - loss: 0.4398 - binary_accuracy: 0.7500\n",
            "Epoch 119/800\n",
            "4/4 [==============================] - 0s 4ms/step - loss: 0.4390 - binary_accuracy: 0.7500\n",
            "Epoch 120/800\n",
            "4/4 [==============================] - 0s 4ms/step - loss: 0.4381 - binary_accuracy: 0.7500\n",
            "Epoch 121/800\n",
            "4/4 [==============================] - 0s 4ms/step - loss: 0.4372 - binary_accuracy: 0.7500\n",
            "Epoch 122/800\n",
            "4/4 [==============================] - 0s 4ms/step - loss: 0.4364 - binary_accuracy: 0.7500\n",
            "Epoch 123/800\n",
            "4/4 [==============================] - 0s 3ms/step - loss: 0.4355 - binary_accuracy: 0.7500\n",
            "Epoch 124/800\n",
            "4/4 [==============================] - 0s 3ms/step - loss: 0.4347 - binary_accuracy: 0.7500\n",
            "Epoch 125/800\n",
            "4/4 [==============================] - 0s 5ms/step - loss: 0.4338 - binary_accuracy: 0.7500\n",
            "Epoch 126/800\n",
            "4/4 [==============================] - 0s 4ms/step - loss: 0.4330 - binary_accuracy: 0.7500\n",
            "Epoch 127/800\n",
            "4/4 [==============================] - 0s 4ms/step - loss: 0.4322 - binary_accuracy: 0.7500\n",
            "Epoch 128/800\n",
            "4/4 [==============================] - 0s 4ms/step - loss: 0.4314 - binary_accuracy: 0.7500\n",
            "Epoch 129/800\n",
            "4/4 [==============================] - 0s 4ms/step - loss: 0.4306 - binary_accuracy: 0.7500\n",
            "Epoch 130/800\n",
            "4/4 [==============================] - 0s 4ms/step - loss: 0.4298 - binary_accuracy: 0.7500\n",
            "Epoch 131/800\n",
            "4/4 [==============================] - 0s 4ms/step - loss: 0.4290 - binary_accuracy: 0.7500\n",
            "Epoch 132/800\n",
            "4/4 [==============================] - 0s 3ms/step - loss: 0.4282 - binary_accuracy: 0.7500\n",
            "Epoch 133/800\n",
            "4/4 [==============================] - 0s 5ms/step - loss: 0.4275 - binary_accuracy: 0.7500\n",
            "Epoch 134/800\n",
            "4/4 [==============================] - 0s 4ms/step - loss: 0.4267 - binary_accuracy: 0.7500\n",
            "Epoch 135/800\n",
            "4/4 [==============================] - 0s 4ms/step - loss: 0.4259 - binary_accuracy: 0.7500\n",
            "Epoch 136/800\n",
            "4/4 [==============================] - 0s 4ms/step - loss: 0.4252 - binary_accuracy: 0.7500\n",
            "Epoch 137/800\n",
            "4/4 [==============================] - 0s 4ms/step - loss: 0.4244 - binary_accuracy: 0.7500\n",
            "Epoch 138/800\n",
            "4/4 [==============================] - 0s 4ms/step - loss: 0.4237 - binary_accuracy: 0.7500\n",
            "Epoch 139/800\n",
            "4/4 [==============================] - 0s 3ms/step - loss: 0.4230 - binary_accuracy: 0.7500\n",
            "Epoch 140/800\n",
            "4/4 [==============================] - 0s 4ms/step - loss: 0.4222 - binary_accuracy: 0.7500\n",
            "Epoch 141/800\n",
            "4/4 [==============================] - 0s 3ms/step - loss: 0.4215 - binary_accuracy: 0.7500\n",
            "Epoch 142/800\n",
            "4/4 [==============================] - 0s 5ms/step - loss: 0.4208 - binary_accuracy: 0.7500\n",
            "Epoch 143/800\n",
            "4/4 [==============================] - 0s 4ms/step - loss: 0.4201 - binary_accuracy: 0.7500\n",
            "Epoch 144/800\n",
            "4/4 [==============================] - 0s 4ms/step - loss: 0.4194 - binary_accuracy: 0.7500\n",
            "Epoch 145/800\n",
            "4/4 [==============================] - 0s 5ms/step - loss: 0.4187 - binary_accuracy: 0.7500\n",
            "Epoch 146/800\n",
            "4/4 [==============================] - 0s 4ms/step - loss: 0.4180 - binary_accuracy: 0.7500\n",
            "Epoch 147/800\n",
            "4/4 [==============================] - 0s 4ms/step - loss: 0.4173 - binary_accuracy: 0.7500\n",
            "Epoch 148/800\n",
            "4/4 [==============================] - 0s 4ms/step - loss: 0.4166 - binary_accuracy: 0.7500\n",
            "Epoch 149/800\n",
            "4/4 [==============================] - 0s 5ms/step - loss: 0.4159 - binary_accuracy: 0.7500\n",
            "Epoch 150/800\n",
            "4/4 [==============================] - 0s 5ms/step - loss: 0.4153 - binary_accuracy: 0.7500\n",
            "Epoch 151/800\n",
            "4/4 [==============================] - 0s 4ms/step - loss: 0.4146 - binary_accuracy: 0.7500\n",
            "Epoch 152/800\n",
            "4/4 [==============================] - 0s 5ms/step - loss: 0.4139 - binary_accuracy: 0.7500\n",
            "Epoch 153/800\n",
            "4/4 [==============================] - 0s 5ms/step - loss: 0.4133 - binary_accuracy: 0.7500\n",
            "Epoch 154/800\n",
            "4/4 [==============================] - 0s 4ms/step - loss: 0.4126 - binary_accuracy: 0.7500\n",
            "Epoch 155/800\n",
            "4/4 [==============================] - 0s 4ms/step - loss: 0.4120 - binary_accuracy: 0.7500\n",
            "Epoch 156/800\n",
            "4/4 [==============================] - 0s 4ms/step - loss: 0.4113 - binary_accuracy: 0.7500\n",
            "Epoch 157/800\n",
            "4/4 [==============================] - 0s 6ms/step - loss: 0.4107 - binary_accuracy: 0.7500\n",
            "Epoch 158/800\n",
            "4/4 [==============================] - 0s 5ms/step - loss: 0.4100 - binary_accuracy: 0.7500\n",
            "Epoch 159/800\n",
            "4/4 [==============================] - 0s 4ms/step - loss: 0.4094 - binary_accuracy: 0.7500\n",
            "Epoch 160/800\n",
            "4/4 [==============================] - 0s 5ms/step - loss: 0.4088 - binary_accuracy: 0.7500\n",
            "Epoch 161/800\n",
            "4/4 [==============================] - 0s 4ms/step - loss: 0.4081 - binary_accuracy: 0.7500\n",
            "Epoch 162/800\n",
            "4/4 [==============================] - 0s 4ms/step - loss: 0.4075 - binary_accuracy: 0.7500\n",
            "Epoch 163/800\n",
            "4/4 [==============================] - 0s 4ms/step - loss: 0.4069 - binary_accuracy: 0.7500\n",
            "Epoch 164/800\n",
            "4/4 [==============================] - 0s 5ms/step - loss: 0.4063 - binary_accuracy: 0.7500\n",
            "Epoch 165/800\n",
            "4/4 [==============================] - 0s 5ms/step - loss: 0.4057 - binary_accuracy: 0.7500\n",
            "Epoch 166/800\n",
            "4/4 [==============================] - 0s 4ms/step - loss: 0.4051 - binary_accuracy: 0.7500\n",
            "Epoch 167/800\n",
            "4/4 [==============================] - 0s 4ms/step - loss: 0.4045 - binary_accuracy: 0.7500\n",
            "Epoch 168/800\n",
            "4/4 [==============================] - 0s 4ms/step - loss: 0.4039 - binary_accuracy: 0.7500\n",
            "Epoch 169/800\n",
            "4/4 [==============================] - 0s 4ms/step - loss: 0.4033 - binary_accuracy: 0.7500\n",
            "Epoch 170/800\n",
            "4/4 [==============================] - 0s 4ms/step - loss: 0.4027 - binary_accuracy: 0.7500\n",
            "Epoch 171/800\n",
            "4/4 [==============================] - 0s 4ms/step - loss: 0.4021 - binary_accuracy: 0.7500\n",
            "Epoch 172/800\n",
            "4/4 [==============================] - 0s 4ms/step - loss: 0.4015 - binary_accuracy: 0.7500\n",
            "Epoch 173/800\n",
            "4/4 [==============================] - 0s 4ms/step - loss: 0.4009 - binary_accuracy: 0.7500\n",
            "Epoch 174/800\n",
            "4/4 [==============================] - 0s 4ms/step - loss: 0.4003 - binary_accuracy: 0.7500\n",
            "Epoch 175/800\n",
            "4/4 [==============================] - 0s 4ms/step - loss: 0.3998 - binary_accuracy: 0.7500\n",
            "Epoch 176/800\n",
            "4/4 [==============================] - 0s 4ms/step - loss: 0.3992 - binary_accuracy: 0.7500\n",
            "Epoch 177/800\n",
            "4/4 [==============================] - 0s 4ms/step - loss: 0.3986 - binary_accuracy: 0.7500\n",
            "Epoch 178/800\n",
            "4/4 [==============================] - 0s 4ms/step - loss: 0.3980 - binary_accuracy: 0.7500\n",
            "Epoch 179/800\n",
            "4/4 [==============================] - 0s 5ms/step - loss: 0.3975 - binary_accuracy: 0.7500\n",
            "Epoch 180/800\n",
            "4/4 [==============================] - 0s 4ms/step - loss: 0.3969 - binary_accuracy: 0.7500\n",
            "Epoch 181/800\n",
            "4/4 [==============================] - 0s 4ms/step - loss: 0.3964 - binary_accuracy: 0.7500\n",
            "Epoch 182/800\n",
            "4/4 [==============================] - 0s 5ms/step - loss: 0.3958 - binary_accuracy: 0.7500\n",
            "Epoch 183/800\n",
            "4/4 [==============================] - 0s 4ms/step - loss: 0.3952 - binary_accuracy: 0.7500\n",
            "Epoch 184/800\n",
            "4/4 [==============================] - 0s 5ms/step - loss: 0.3947 - binary_accuracy: 0.7500\n",
            "Epoch 185/800\n",
            "4/4 [==============================] - 0s 5ms/step - loss: 0.3941 - binary_accuracy: 0.7500\n",
            "Epoch 186/800\n",
            "4/4 [==============================] - 0s 5ms/step - loss: 0.3936 - binary_accuracy: 0.7500\n",
            "Epoch 187/800\n",
            "4/4 [==============================] - 0s 4ms/step - loss: 0.3931 - binary_accuracy: 0.7500\n",
            "Epoch 188/800\n",
            "4/4 [==============================] - 0s 5ms/step - loss: 0.3925 - binary_accuracy: 0.7500\n",
            "Epoch 189/800\n",
            "4/4 [==============================] - 0s 4ms/step - loss: 0.3920 - binary_accuracy: 0.7500\n",
            "Epoch 190/800\n",
            "4/4 [==============================] - 0s 4ms/step - loss: 0.3914 - binary_accuracy: 0.7500\n",
            "Epoch 191/800\n",
            "4/4 [==============================] - 0s 5ms/step - loss: 0.3909 - binary_accuracy: 0.7500\n",
            "Epoch 192/800\n",
            "4/4 [==============================] - 0s 4ms/step - loss: 0.3904 - binary_accuracy: 0.7500\n",
            "Epoch 193/800\n",
            "4/4 [==============================] - 0s 5ms/step - loss: 0.3898 - binary_accuracy: 0.7500\n",
            "Epoch 194/800\n",
            "4/4 [==============================] - 0s 4ms/step - loss: 0.3893 - binary_accuracy: 0.7500\n",
            "Epoch 195/800\n",
            "4/4 [==============================] - 0s 4ms/step - loss: 0.3888 - binary_accuracy: 0.7500\n",
            "Epoch 196/800\n",
            "4/4 [==============================] - 0s 5ms/step - loss: 0.3883 - binary_accuracy: 0.7500\n",
            "Epoch 197/800\n",
            "4/4 [==============================] - 0s 4ms/step - loss: 0.3878 - binary_accuracy: 0.7500\n",
            "Epoch 198/800\n",
            "4/4 [==============================] - 0s 4ms/step - loss: 0.3872 - binary_accuracy: 0.7500\n",
            "Epoch 199/800\n",
            "4/4 [==============================] - 0s 6ms/step - loss: 0.3867 - binary_accuracy: 0.7500\n",
            "Epoch 200/800\n",
            "4/4 [==============================] - 0s 4ms/step - loss: 0.3862 - binary_accuracy: 0.7500\n",
            "Epoch 201/800\n",
            "4/4 [==============================] - 0s 4ms/step - loss: 0.3857 - binary_accuracy: 0.7500\n",
            "Epoch 202/800\n",
            "4/4 [==============================] - 0s 4ms/step - loss: 0.3852 - binary_accuracy: 0.7500\n",
            "Epoch 203/800\n",
            "4/4 [==============================] - 0s 4ms/step - loss: 0.3847 - binary_accuracy: 0.7500\n",
            "Epoch 204/800\n",
            "4/4 [==============================] - 0s 4ms/step - loss: 0.3842 - binary_accuracy: 0.7500\n",
            "Epoch 205/800\n",
            "4/4 [==============================] - 0s 5ms/step - loss: 0.3837 - binary_accuracy: 0.7500\n",
            "Epoch 206/800\n",
            "4/4 [==============================] - 0s 4ms/step - loss: 0.3832 - binary_accuracy: 0.7500\n",
            "Epoch 207/800\n",
            "4/4 [==============================] - 0s 4ms/step - loss: 0.3827 - binary_accuracy: 0.7500\n",
            "Epoch 208/800\n",
            "4/4 [==============================] - 0s 4ms/step - loss: 0.3822 - binary_accuracy: 0.7500\n",
            "Epoch 209/800\n",
            "4/4 [==============================] - 0s 5ms/step - loss: 0.3817 - binary_accuracy: 0.7500\n",
            "Epoch 210/800\n",
            "4/4 [==============================] - 0s 6ms/step - loss: 0.3812 - binary_accuracy: 0.7500\n",
            "Epoch 211/800\n",
            "4/4 [==============================] - 0s 5ms/step - loss: 0.3807 - binary_accuracy: 0.7500\n",
            "Epoch 212/800\n",
            "4/4 [==============================] - 0s 4ms/step - loss: 0.3802 - binary_accuracy: 0.7500\n",
            "Epoch 213/800\n",
            "4/4 [==============================] - 0s 4ms/step - loss: 0.3797 - binary_accuracy: 0.7500\n",
            "Epoch 214/800\n",
            "4/4 [==============================] - 0s 5ms/step - loss: 0.3792 - binary_accuracy: 0.7500\n",
            "Epoch 215/800\n",
            "4/4 [==============================] - 0s 6ms/step - loss: 0.3787 - binary_accuracy: 0.7500\n",
            "Epoch 216/800\n",
            "4/4 [==============================] - 0s 4ms/step - loss: 0.3783 - binary_accuracy: 0.7500\n",
            "Epoch 217/800\n",
            "4/4 [==============================] - 0s 4ms/step - loss: 0.3778 - binary_accuracy: 0.7500\n",
            "Epoch 218/800\n",
            "4/4 [==============================] - 0s 4ms/step - loss: 0.3773 - binary_accuracy: 0.7500\n",
            "Epoch 219/800\n",
            "4/4 [==============================] - 0s 4ms/step - loss: 0.3768 - binary_accuracy: 0.7500\n",
            "Epoch 220/800\n",
            "4/4 [==============================] - 0s 5ms/step - loss: 0.3763 - binary_accuracy: 0.7500\n",
            "Epoch 221/800\n",
            "4/4 [==============================] - 0s 5ms/step - loss: 0.3759 - binary_accuracy: 0.7500\n",
            "Epoch 222/800\n",
            "4/4 [==============================] - 0s 4ms/step - loss: 0.3754 - binary_accuracy: 0.7500\n",
            "Epoch 223/800\n",
            "4/4 [==============================] - 0s 4ms/step - loss: 0.3749 - binary_accuracy: 0.7500\n",
            "Epoch 224/800\n",
            "4/4 [==============================] - 0s 4ms/step - loss: 0.3745 - binary_accuracy: 0.7500\n",
            "Epoch 225/800\n",
            "4/4 [==============================] - 0s 4ms/step - loss: 0.3740 - binary_accuracy: 0.7500\n",
            "Epoch 226/800\n",
            "4/4 [==============================] - 0s 5ms/step - loss: 0.3735 - binary_accuracy: 0.7500\n",
            "Epoch 227/800\n",
            "4/4 [==============================] - 0s 4ms/step - loss: 0.3731 - binary_accuracy: 0.7500\n",
            "Epoch 228/800\n",
            "4/4 [==============================] - 0s 5ms/step - loss: 0.3726 - binary_accuracy: 0.7500\n",
            "Epoch 229/800\n",
            "4/4 [==============================] - 0s 4ms/step - loss: 0.3721 - binary_accuracy: 0.7500\n",
            "Epoch 230/800\n",
            "4/4 [==============================] - 0s 4ms/step - loss: 0.3717 - binary_accuracy: 0.7500\n",
            "Epoch 231/800\n",
            "4/4 [==============================] - 0s 4ms/step - loss: 0.3712 - binary_accuracy: 0.7500\n",
            "Epoch 232/800\n",
            "4/4 [==============================] - 0s 4ms/step - loss: 0.3708 - binary_accuracy: 0.7500\n",
            "Epoch 233/800\n",
            "4/4 [==============================] - 0s 4ms/step - loss: 0.3703 - binary_accuracy: 0.7500\n",
            "Epoch 234/800\n",
            "4/4 [==============================] - 0s 4ms/step - loss: 0.3698 - binary_accuracy: 0.7500\n",
            "Epoch 235/800\n",
            "4/4 [==============================] - 0s 5ms/step - loss: 0.3694 - binary_accuracy: 0.7500\n",
            "Epoch 236/800\n",
            "4/4 [==============================] - 0s 4ms/step - loss: 0.3689 - binary_accuracy: 0.7500\n",
            "Epoch 237/800\n",
            "4/4 [==============================] - 0s 5ms/step - loss: 0.3685 - binary_accuracy: 0.7500\n",
            "Epoch 238/800\n",
            "4/4 [==============================] - 0s 4ms/step - loss: 0.3680 - binary_accuracy: 0.7500\n",
            "Epoch 239/800\n",
            "4/4 [==============================] - 0s 5ms/step - loss: 0.3676 - binary_accuracy: 0.7500\n",
            "Epoch 240/800\n",
            "4/4 [==============================] - 0s 4ms/step - loss: 0.3671 - binary_accuracy: 0.7500\n",
            "Epoch 241/800\n",
            "4/4 [==============================] - 0s 4ms/step - loss: 0.3667 - binary_accuracy: 0.7500\n",
            "Epoch 242/800\n",
            "4/4 [==============================] - 0s 4ms/step - loss: 0.3663 - binary_accuracy: 0.7500\n",
            "Epoch 243/800\n",
            "4/4 [==============================] - 0s 4ms/step - loss: 0.3658 - binary_accuracy: 0.7500\n",
            "Epoch 244/800\n",
            "4/4 [==============================] - 0s 5ms/step - loss: 0.3654 - binary_accuracy: 0.7500\n",
            "Epoch 245/800\n",
            "4/4 [==============================] - 0s 5ms/step - loss: 0.3649 - binary_accuracy: 0.7500\n",
            "Epoch 246/800\n",
            "4/4 [==============================] - 0s 4ms/step - loss: 0.3645 - binary_accuracy: 0.7500\n",
            "Epoch 247/800\n",
            "4/4 [==============================] - 0s 4ms/step - loss: 0.3641 - binary_accuracy: 0.7500\n",
            "Epoch 248/800\n",
            "4/4 [==============================] - 0s 4ms/step - loss: 0.3636 - binary_accuracy: 0.7500\n",
            "Epoch 249/800\n",
            "4/4 [==============================] - 0s 4ms/step - loss: 0.3632 - binary_accuracy: 0.7500\n",
            "Epoch 250/800\n",
            "4/4 [==============================] - 0s 4ms/step - loss: 0.3628 - binary_accuracy: 0.7500\n",
            "Epoch 251/800\n",
            "4/4 [==============================] - 0s 5ms/step - loss: 0.3623 - binary_accuracy: 0.7500\n",
            "Epoch 252/800\n",
            "4/4 [==============================] - 0s 4ms/step - loss: 0.3619 - binary_accuracy: 0.7500\n",
            "Epoch 253/800\n",
            "4/4 [==============================] - 0s 5ms/step - loss: 0.3615 - binary_accuracy: 0.7500\n",
            "Epoch 254/800\n",
            "4/4 [==============================] - 0s 4ms/step - loss: 0.3610 - binary_accuracy: 0.7500\n",
            "Epoch 255/800\n",
            "4/4 [==============================] - 0s 4ms/step - loss: 0.3606 - binary_accuracy: 0.7500\n",
            "Epoch 256/800\n",
            "4/4 [==============================] - 0s 4ms/step - loss: 0.3602 - binary_accuracy: 0.7500\n",
            "Epoch 257/800\n",
            "4/4 [==============================] - 0s 5ms/step - loss: 0.3598 - binary_accuracy: 0.7500\n",
            "Epoch 258/800\n",
            "4/4 [==============================] - 0s 4ms/step - loss: 0.3593 - binary_accuracy: 0.7500\n",
            "Epoch 259/800\n",
            "4/4 [==============================] - 0s 4ms/step - loss: 0.3589 - binary_accuracy: 0.7500\n",
            "Epoch 260/800\n",
            "4/4 [==============================] - 0s 6ms/step - loss: 0.3585 - binary_accuracy: 0.7500\n",
            "Epoch 261/800\n",
            "4/4 [==============================] - 0s 5ms/step - loss: 0.3581 - binary_accuracy: 0.7500\n",
            "Epoch 262/800\n",
            "4/4 [==============================] - 0s 5ms/step - loss: 0.3577 - binary_accuracy: 0.7500\n",
            "Epoch 263/800\n",
            "4/4 [==============================] - 0s 4ms/step - loss: 0.3572 - binary_accuracy: 0.7500\n",
            "Epoch 264/800\n",
            "4/4 [==============================] - 0s 5ms/step - loss: 0.3568 - binary_accuracy: 0.7500\n",
            "Epoch 265/800\n",
            "4/4 [==============================] - 0s 4ms/step - loss: 0.3564 - binary_accuracy: 0.7500\n",
            "Epoch 266/800\n",
            "4/4 [==============================] - 0s 5ms/step - loss: 0.3560 - binary_accuracy: 0.7500\n",
            "Epoch 267/800\n",
            "4/4 [==============================] - 0s 4ms/step - loss: 0.3556 - binary_accuracy: 0.7500\n",
            "Epoch 268/800\n",
            "4/4 [==============================] - 0s 4ms/step - loss: 0.3552 - binary_accuracy: 0.7500\n",
            "Epoch 269/800\n",
            "4/4 [==============================] - 0s 5ms/step - loss: 0.3548 - binary_accuracy: 0.7500\n",
            "Epoch 270/800\n",
            "4/4 [==============================] - 0s 7ms/step - loss: 0.3543 - binary_accuracy: 0.7500\n",
            "Epoch 271/800\n",
            "4/4 [==============================] - 0s 5ms/step - loss: 0.3539 - binary_accuracy: 0.7500\n",
            "Epoch 272/800\n",
            "4/4 [==============================] - 0s 4ms/step - loss: 0.3535 - binary_accuracy: 0.7500\n",
            "Epoch 273/800\n",
            "4/4 [==============================] - 0s 6ms/step - loss: 0.3531 - binary_accuracy: 0.7500\n",
            "Epoch 274/800\n",
            "4/4 [==============================] - 0s 4ms/step - loss: 0.3527 - binary_accuracy: 0.7500\n",
            "Epoch 275/800\n",
            "4/4 [==============================] - 0s 5ms/step - loss: 0.3523 - binary_accuracy: 0.7500\n",
            "Epoch 276/800\n",
            "4/4 [==============================] - 0s 9ms/step - loss: 0.3519 - binary_accuracy: 0.7500\n",
            "Epoch 277/800\n",
            "4/4 [==============================] - 0s 5ms/step - loss: 0.3515 - binary_accuracy: 0.7500\n",
            "Epoch 278/800\n",
            "4/4 [==============================] - 0s 4ms/step - loss: 0.3511 - binary_accuracy: 0.7500\n",
            "Epoch 279/800\n",
            "4/4 [==============================] - 0s 5ms/step - loss: 0.3507 - binary_accuracy: 0.7500\n",
            "Epoch 280/800\n",
            "4/4 [==============================] - 0s 5ms/step - loss: 0.3503 - binary_accuracy: 0.7500\n",
            "Epoch 281/800\n",
            "4/4 [==============================] - 0s 7ms/step - loss: 0.3499 - binary_accuracy: 0.7500\n",
            "Epoch 282/800\n",
            "4/4 [==============================] - 0s 4ms/step - loss: 0.3495 - binary_accuracy: 0.7500\n",
            "Epoch 283/800\n",
            "4/4 [==============================] - 0s 6ms/step - loss: 0.3491 - binary_accuracy: 0.7500\n",
            "Epoch 284/800\n",
            "4/4 [==============================] - 0s 6ms/step - loss: 0.3487 - binary_accuracy: 0.7500\n",
            "Epoch 285/800\n",
            "4/4 [==============================] - 0s 4ms/step - loss: 0.3483 - binary_accuracy: 0.7500\n",
            "Epoch 286/800\n",
            "4/4 [==============================] - 0s 5ms/step - loss: 0.3479 - binary_accuracy: 0.7500\n",
            "Epoch 287/800\n",
            "4/4 [==============================] - 0s 3ms/step - loss: 0.3475 - binary_accuracy: 0.7500\n",
            "Epoch 288/800\n",
            "4/4 [==============================] - 0s 4ms/step - loss: 0.3471 - binary_accuracy: 0.7500\n",
            "Epoch 289/800\n",
            "4/4 [==============================] - 0s 5ms/step - loss: 0.3467 - binary_accuracy: 0.7500\n",
            "Epoch 290/800\n",
            "4/4 [==============================] - 0s 4ms/step - loss: 0.3463 - binary_accuracy: 0.7500\n",
            "Epoch 291/800\n",
            "4/4 [==============================] - 0s 5ms/step - loss: 0.3459 - binary_accuracy: 0.7500\n",
            "Epoch 292/800\n",
            "4/4 [==============================] - 0s 4ms/step - loss: 0.3456 - binary_accuracy: 0.7500\n",
            "Epoch 293/800\n",
            "4/4 [==============================] - 0s 5ms/step - loss: 0.3452 - binary_accuracy: 0.7500\n",
            "Epoch 294/800\n",
            "4/4 [==============================] - 0s 5ms/step - loss: 0.3448 - binary_accuracy: 0.7500\n",
            "Epoch 295/800\n",
            "4/4 [==============================] - 0s 4ms/step - loss: 0.3444 - binary_accuracy: 0.7500\n",
            "Epoch 296/800\n",
            "4/4 [==============================] - 0s 4ms/step - loss: 0.3440 - binary_accuracy: 0.7500\n",
            "Epoch 297/800\n",
            "4/4 [==============================] - 0s 4ms/step - loss: 0.3436 - binary_accuracy: 0.7500\n",
            "Epoch 298/800\n",
            "4/4 [==============================] - 0s 5ms/step - loss: 0.3432 - binary_accuracy: 0.7500\n",
            "Epoch 299/800\n",
            "4/4 [==============================] - 0s 5ms/step - loss: 0.3429 - binary_accuracy: 0.7500\n",
            "Epoch 300/800\n",
            "4/4 [==============================] - 0s 4ms/step - loss: 0.3425 - binary_accuracy: 0.7500\n",
            "Epoch 301/800\n",
            "4/4 [==============================] - 0s 4ms/step - loss: 0.3421 - binary_accuracy: 0.7500\n",
            "Epoch 302/800\n",
            "4/4 [==============================] - 0s 5ms/step - loss: 0.3417 - binary_accuracy: 0.7500\n",
            "Epoch 303/800\n",
            "4/4 [==============================] - 0s 4ms/step - loss: 0.3413 - binary_accuracy: 0.7500\n",
            "Epoch 304/800\n",
            "4/4 [==============================] - 0s 4ms/step - loss: 0.3410 - binary_accuracy: 0.7500\n",
            "Epoch 305/800\n",
            "4/4 [==============================] - 0s 4ms/step - loss: 0.3406 - binary_accuracy: 0.7500\n",
            "Epoch 306/800\n",
            "4/4 [==============================] - 0s 6ms/step - loss: 0.3402 - binary_accuracy: 0.7500\n",
            "Epoch 307/800\n",
            "4/4 [==============================] - 0s 4ms/step - loss: 0.3398 - binary_accuracy: 0.7500\n",
            "Epoch 308/800\n",
            "4/4 [==============================] - 0s 5ms/step - loss: 0.3395 - binary_accuracy: 0.7500\n",
            "Epoch 309/800\n",
            "4/4 [==============================] - 0s 4ms/step - loss: 0.3391 - binary_accuracy: 0.7500\n",
            "Epoch 310/800\n",
            "4/4 [==============================] - 0s 4ms/step - loss: 0.3387 - binary_accuracy: 0.7500\n",
            "Epoch 311/800\n",
            "4/4 [==============================] - 0s 5ms/step - loss: 0.3383 - binary_accuracy: 0.7500\n",
            "Epoch 312/800\n",
            "4/4 [==============================] - 0s 4ms/step - loss: 0.3380 - binary_accuracy: 0.7500\n",
            "Epoch 313/800\n",
            "4/4 [==============================] - 0s 6ms/step - loss: 0.3376 - binary_accuracy: 0.7500\n",
            "Epoch 314/800\n",
            "4/4 [==============================] - 0s 4ms/step - loss: 0.3372 - binary_accuracy: 0.7500\n",
            "Epoch 315/800\n",
            "4/4 [==============================] - 0s 4ms/step - loss: 0.3368 - binary_accuracy: 0.7500\n",
            "Epoch 316/800\n",
            "4/4 [==============================] - 0s 8ms/step - loss: 0.3365 - binary_accuracy: 0.7500\n",
            "Epoch 317/800\n",
            "4/4 [==============================] - 0s 5ms/step - loss: 0.3361 - binary_accuracy: 0.7500\n",
            "Epoch 318/800\n",
            "4/4 [==============================] - 0s 5ms/step - loss: 0.3357 - binary_accuracy: 0.7500\n",
            "Epoch 319/800\n",
            "4/4 [==============================] - 0s 5ms/step - loss: 0.3354 - binary_accuracy: 0.7500\n",
            "Epoch 320/800\n",
            "4/4 [==============================] - 0s 6ms/step - loss: 0.3350 - binary_accuracy: 0.7500\n",
            "Epoch 321/800\n",
            "4/4 [==============================] - 0s 4ms/step - loss: 0.3346 - binary_accuracy: 0.7500\n",
            "Epoch 322/800\n",
            "4/4 [==============================] - 0s 4ms/step - loss: 0.3343 - binary_accuracy: 0.7500\n",
            "Epoch 323/800\n",
            "4/4 [==============================] - 0s 5ms/step - loss: 0.3339 - binary_accuracy: 0.7500\n",
            "Epoch 324/800\n",
            "4/4 [==============================] - 0s 4ms/step - loss: 0.3336 - binary_accuracy: 0.7500\n",
            "Epoch 325/800\n",
            "4/4 [==============================] - 0s 4ms/step - loss: 0.3332 - binary_accuracy: 0.7500\n",
            "Epoch 326/800\n",
            "4/4 [==============================] - 0s 5ms/step - loss: 0.3328 - binary_accuracy: 0.7500\n",
            "Epoch 327/800\n",
            "4/4 [==============================] - 0s 4ms/step - loss: 0.3325 - binary_accuracy: 0.7500\n",
            "Epoch 328/800\n",
            "4/4 [==============================] - 0s 5ms/step - loss: 0.3321 - binary_accuracy: 0.7500\n",
            "Epoch 329/800\n",
            "4/4 [==============================] - 0s 5ms/step - loss: 0.3318 - binary_accuracy: 0.7500\n",
            "Epoch 330/800\n",
            "4/4 [==============================] - 0s 5ms/step - loss: 0.3314 - binary_accuracy: 0.7500\n",
            "Epoch 331/800\n",
            "4/4 [==============================] - 0s 4ms/step - loss: 0.3310 - binary_accuracy: 0.7500\n",
            "Epoch 332/800\n",
            "4/4 [==============================] - 0s 4ms/step - loss: 0.3307 - binary_accuracy: 0.7500\n",
            "Epoch 333/800\n",
            "4/4 [==============================] - 0s 5ms/step - loss: 0.3303 - binary_accuracy: 0.7500\n",
            "Epoch 334/800\n",
            "4/4 [==============================] - 0s 4ms/step - loss: 0.3300 - binary_accuracy: 0.7500\n",
            "Epoch 335/800\n",
            "4/4 [==============================] - 0s 7ms/step - loss: 0.3296 - binary_accuracy: 0.7500\n",
            "Epoch 336/800\n",
            "4/4 [==============================] - 0s 5ms/step - loss: 0.3293 - binary_accuracy: 0.7500\n",
            "Epoch 337/800\n",
            "4/4 [==============================] - 0s 5ms/step - loss: 0.3289 - binary_accuracy: 0.7500\n",
            "Epoch 338/800\n",
            "4/4 [==============================] - 0s 4ms/step - loss: 0.3286 - binary_accuracy: 0.7500\n",
            "Epoch 339/800\n",
            "4/4 [==============================] - 0s 6ms/step - loss: 0.3282 - binary_accuracy: 0.7500\n",
            "Epoch 340/800\n",
            "4/4 [==============================] - 0s 4ms/step - loss: 0.3279 - binary_accuracy: 0.7500\n",
            "Epoch 341/800\n",
            "4/4 [==============================] - 0s 5ms/step - loss: 0.3275 - binary_accuracy: 0.7500\n",
            "Epoch 342/800\n",
            "4/4 [==============================] - 0s 4ms/step - loss: 0.3272 - binary_accuracy: 0.7500\n",
            "Epoch 343/800\n",
            "4/4 [==============================] - 0s 4ms/step - loss: 0.3268 - binary_accuracy: 0.7500\n",
            "Epoch 344/800\n",
            "4/4 [==============================] - 0s 4ms/step - loss: 0.3265 - binary_accuracy: 0.7500\n",
            "Epoch 345/800\n",
            "4/4 [==============================] - 0s 4ms/step - loss: 0.3261 - binary_accuracy: 0.7500\n",
            "Epoch 346/800\n",
            "4/4 [==============================] - 0s 5ms/step - loss: 0.3258 - binary_accuracy: 0.7500\n",
            "Epoch 347/800\n",
            "4/4 [==============================] - 0s 4ms/step - loss: 0.3254 - binary_accuracy: 0.7500\n",
            "Epoch 348/800\n",
            "4/4 [==============================] - 0s 5ms/step - loss: 0.3251 - binary_accuracy: 0.7500\n",
            "Epoch 349/800\n",
            "4/4 [==============================] - 0s 5ms/step - loss: 0.3247 - binary_accuracy: 0.7500\n",
            "Epoch 350/800\n",
            "4/4 [==============================] - 0s 4ms/step - loss: 0.3244 - binary_accuracy: 0.7500\n",
            "Epoch 351/800\n",
            "4/4 [==============================] - 0s 4ms/step - loss: 0.3240 - binary_accuracy: 0.7500\n",
            "Epoch 352/800\n",
            "4/4 [==============================] - 0s 4ms/step - loss: 0.3237 - binary_accuracy: 0.7500\n",
            "Epoch 353/800\n",
            "4/4 [==============================] - 0s 4ms/step - loss: 0.3234 - binary_accuracy: 0.7500\n",
            "Epoch 354/800\n",
            "4/4 [==============================] - 0s 4ms/step - loss: 0.3230 - binary_accuracy: 0.7500\n",
            "Epoch 355/800\n",
            "4/4 [==============================] - 0s 7ms/step - loss: 0.3227 - binary_accuracy: 0.7500\n",
            "Epoch 356/800\n",
            "4/4 [==============================] - 0s 5ms/step - loss: 0.3223 - binary_accuracy: 0.7500\n",
            "Epoch 357/800\n",
            "4/4 [==============================] - 0s 5ms/step - loss: 0.3220 - binary_accuracy: 0.7500\n",
            "Epoch 358/800\n",
            "4/4 [==============================] - 0s 5ms/step - loss: 0.3217 - binary_accuracy: 0.7500\n",
            "Epoch 359/800\n",
            "4/4 [==============================] - 0s 4ms/step - loss: 0.3213 - binary_accuracy: 0.7500\n",
            "Epoch 360/800\n",
            "4/4 [==============================] - 0s 6ms/step - loss: 0.3210 - binary_accuracy: 0.7500\n",
            "Epoch 361/800\n",
            "4/4 [==============================] - 0s 5ms/step - loss: 0.3206 - binary_accuracy: 0.7500\n",
            "Epoch 362/800\n",
            "4/4 [==============================] - 0s 6ms/step - loss: 0.3203 - binary_accuracy: 0.7500\n",
            "Epoch 363/800\n",
            "4/4 [==============================] - 0s 6ms/step - loss: 0.3200 - binary_accuracy: 0.7500\n",
            "Epoch 364/800\n",
            "4/4 [==============================] - 0s 4ms/step - loss: 0.3196 - binary_accuracy: 0.7500\n",
            "Epoch 365/800\n",
            "4/4 [==============================] - 0s 5ms/step - loss: 0.3193 - binary_accuracy: 0.7500\n",
            "Epoch 366/800\n",
            "4/4 [==============================] - 0s 5ms/step - loss: 0.3190 - binary_accuracy: 0.7500\n",
            "Epoch 367/800\n",
            "4/4 [==============================] - 0s 6ms/step - loss: 0.3186 - binary_accuracy: 0.7500\n",
            "Epoch 368/800\n",
            "4/4 [==============================] - 0s 5ms/step - loss: 0.3183 - binary_accuracy: 0.7500\n",
            "Epoch 369/800\n",
            "4/4 [==============================] - 0s 5ms/step - loss: 0.3180 - binary_accuracy: 0.7500\n",
            "Epoch 370/800\n",
            "4/4 [==============================] - 0s 5ms/step - loss: 0.3177 - binary_accuracy: 0.7500\n",
            "Epoch 371/800\n",
            "4/4 [==============================] - 0s 5ms/step - loss: 0.3173 - binary_accuracy: 0.7500\n",
            "Epoch 372/800\n",
            "4/4 [==============================] - 0s 5ms/step - loss: 0.3170 - binary_accuracy: 0.7500\n",
            "Epoch 373/800\n",
            "4/4 [==============================] - 0s 5ms/step - loss: 0.3167 - binary_accuracy: 0.7500\n",
            "Epoch 374/800\n",
            "4/4 [==============================] - 0s 5ms/step - loss: 0.3163 - binary_accuracy: 0.7500\n",
            "Epoch 375/800\n",
            "4/4 [==============================] - 0s 6ms/step - loss: 0.3160 - binary_accuracy: 0.7500\n",
            "Epoch 376/800\n",
            "4/4 [==============================] - 0s 4ms/step - loss: 0.3157 - binary_accuracy: 0.7500\n",
            "Epoch 377/800\n",
            "4/4 [==============================] - 0s 4ms/step - loss: 0.3154 - binary_accuracy: 0.7500\n",
            "Epoch 378/800\n",
            "4/4 [==============================] - 0s 4ms/step - loss: 0.3150 - binary_accuracy: 0.7500\n",
            "Epoch 379/800\n",
            "4/4 [==============================] - 0s 4ms/step - loss: 0.3147 - binary_accuracy: 0.7500\n",
            "Epoch 380/800\n",
            "4/4 [==============================] - 0s 5ms/step - loss: 0.3144 - binary_accuracy: 0.7500\n",
            "Epoch 381/800\n",
            "4/4 [==============================] - 0s 5ms/step - loss: 0.3141 - binary_accuracy: 0.7500\n",
            "Epoch 382/800\n",
            "4/4 [==============================] - 0s 5ms/step - loss: 0.3137 - binary_accuracy: 0.7500\n",
            "Epoch 383/800\n",
            "4/4 [==============================] - 0s 4ms/step - loss: 0.3134 - binary_accuracy: 0.7500\n",
            "Epoch 384/800\n",
            "4/4 [==============================] - 0s 5ms/step - loss: 0.3131 - binary_accuracy: 0.7500\n",
            "Epoch 385/800\n",
            "4/4 [==============================] - 0s 8ms/step - loss: 0.3128 - binary_accuracy: 0.7500\n",
            "Epoch 386/800\n",
            "4/4 [==============================] - 0s 5ms/step - loss: 0.3124 - binary_accuracy: 0.7500\n",
            "Epoch 387/800\n",
            "4/4 [==============================] - 0s 4ms/step - loss: 0.3121 - binary_accuracy: 0.7500\n",
            "Epoch 388/800\n",
            "4/4 [==============================] - 0s 5ms/step - loss: 0.3118 - binary_accuracy: 0.7500\n",
            "Epoch 389/800\n",
            "4/4 [==============================] - 0s 4ms/step - loss: 0.3115 - binary_accuracy: 0.7500\n",
            "Epoch 390/800\n",
            "4/4 [==============================] - 0s 6ms/step - loss: 0.3112 - binary_accuracy: 0.7500\n",
            "Epoch 391/800\n",
            "4/4 [==============================] - 0s 4ms/step - loss: 0.3109 - binary_accuracy: 0.7500\n",
            "Epoch 392/800\n",
            "4/4 [==============================] - 0s 5ms/step - loss: 0.3105 - binary_accuracy: 0.7500\n",
            "Epoch 393/800\n",
            "4/4 [==============================] - 0s 7ms/step - loss: 0.3102 - binary_accuracy: 0.7500\n",
            "Epoch 394/800\n",
            "4/4 [==============================] - 0s 5ms/step - loss: 0.3099 - binary_accuracy: 0.7500\n",
            "Epoch 395/800\n",
            "4/4 [==============================] - 0s 4ms/step - loss: 0.3096 - binary_accuracy: 0.7500\n",
            "Epoch 396/800\n",
            "4/4 [==============================] - 0s 5ms/step - loss: 0.3093 - binary_accuracy: 0.7500\n",
            "Epoch 397/800\n",
            "4/4 [==============================] - 0s 5ms/step - loss: 0.3090 - binary_accuracy: 0.7500\n",
            "Epoch 398/800\n",
            "4/4 [==============================] - 0s 4ms/step - loss: 0.3086 - binary_accuracy: 0.7500\n",
            "Epoch 399/800\n",
            "4/4 [==============================] - 0s 6ms/step - loss: 0.3083 - binary_accuracy: 0.7500\n",
            "Epoch 400/800\n",
            "4/4 [==============================] - 0s 6ms/step - loss: 0.3080 - binary_accuracy: 0.7500\n",
            "Epoch 401/800\n",
            "4/4 [==============================] - 0s 5ms/step - loss: 0.3077 - binary_accuracy: 0.7500\n",
            "Epoch 402/800\n",
            "4/4 [==============================] - 0s 4ms/step - loss: 0.3074 - binary_accuracy: 0.7500\n",
            "Epoch 403/800\n",
            "4/4 [==============================] - 0s 5ms/step - loss: 0.3071 - binary_accuracy: 0.7500\n",
            "Epoch 404/800\n",
            "4/4 [==============================] - 0s 4ms/step - loss: 0.3068 - binary_accuracy: 0.7500\n",
            "Epoch 405/800\n",
            "4/4 [==============================] - 0s 5ms/step - loss: 0.3065 - binary_accuracy: 0.7500\n",
            "Epoch 406/800\n",
            "4/4 [==============================] - 0s 5ms/step - loss: 0.3062 - binary_accuracy: 0.7500\n",
            "Epoch 407/800\n",
            "4/4 [==============================] - 0s 4ms/step - loss: 0.3059 - binary_accuracy: 0.7500\n",
            "Epoch 408/800\n",
            "4/4 [==============================] - 0s 5ms/step - loss: 0.3055 - binary_accuracy: 0.7500\n",
            "Epoch 409/800\n",
            "4/4 [==============================] - 0s 5ms/step - loss: 0.3052 - binary_accuracy: 0.7500\n",
            "Epoch 410/800\n",
            "4/4 [==============================] - 0s 5ms/step - loss: 0.3049 - binary_accuracy: 0.7500\n",
            "Epoch 411/800\n",
            "4/4 [==============================] - 0s 4ms/step - loss: 0.3046 - binary_accuracy: 0.7500\n",
            "Epoch 412/800\n",
            "4/4 [==============================] - 0s 5ms/step - loss: 0.3043 - binary_accuracy: 0.7500\n",
            "Epoch 413/800\n",
            "4/4 [==============================] - 0s 4ms/step - loss: 0.3040 - binary_accuracy: 0.7500\n",
            "Epoch 414/800\n",
            "4/4 [==============================] - 0s 6ms/step - loss: 0.3037 - binary_accuracy: 0.7500\n",
            "Epoch 415/800\n",
            "4/4 [==============================] - 0s 6ms/step - loss: 0.3034 - binary_accuracy: 0.7500\n",
            "Epoch 416/800\n",
            "4/4 [==============================] - 0s 5ms/step - loss: 0.3031 - binary_accuracy: 0.7500\n",
            "Epoch 417/800\n",
            "4/4 [==============================] - 0s 5ms/step - loss: 0.3028 - binary_accuracy: 0.7500\n",
            "Epoch 418/800\n",
            "4/4 [==============================] - 0s 6ms/step - loss: 0.3025 - binary_accuracy: 0.7500\n",
            "Epoch 419/800\n",
            "4/4 [==============================] - 0s 7ms/step - loss: 0.3022 - binary_accuracy: 0.7500\n",
            "Epoch 420/800\n",
            "4/4 [==============================] - 0s 5ms/step - loss: 0.3019 - binary_accuracy: 0.7500\n",
            "Epoch 421/800\n",
            "4/4 [==============================] - 0s 6ms/step - loss: 0.3016 - binary_accuracy: 0.7500\n",
            "Epoch 422/800\n",
            "4/4 [==============================] - 0s 6ms/step - loss: 0.3013 - binary_accuracy: 0.7500\n",
            "Epoch 423/800\n",
            "4/4 [==============================] - 0s 5ms/step - loss: 0.3010 - binary_accuracy: 0.7500\n",
            "Epoch 424/800\n",
            "4/4 [==============================] - 0s 6ms/step - loss: 0.3007 - binary_accuracy: 0.7500\n",
            "Epoch 425/800\n",
            "4/4 [==============================] - 0s 7ms/step - loss: 0.3004 - binary_accuracy: 0.7500\n",
            "Epoch 426/800\n",
            "4/4 [==============================] - 0s 5ms/step - loss: 0.3001 - binary_accuracy: 0.7500\n",
            "Epoch 427/800\n",
            "4/4 [==============================] - 0s 5ms/step - loss: 0.2998 - binary_accuracy: 0.7500\n",
            "Epoch 428/800\n",
            "4/4 [==============================] - 0s 5ms/step - loss: 0.2995 - binary_accuracy: 0.7500\n",
            "Epoch 429/800\n",
            "4/4 [==============================] - 0s 5ms/step - loss: 0.2992 - binary_accuracy: 0.7500\n",
            "Epoch 430/800\n",
            "4/4 [==============================] - 0s 4ms/step - loss: 0.2989 - binary_accuracy: 0.7500\n",
            "Epoch 431/800\n",
            "4/4 [==============================] - 0s 3ms/step - loss: 0.2986 - binary_accuracy: 0.7500\n",
            "Epoch 432/800\n",
            "4/4 [==============================] - 0s 5ms/step - loss: 0.2983 - binary_accuracy: 0.7500\n",
            "Epoch 433/800\n",
            "4/4 [==============================] - 0s 4ms/step - loss: 0.2980 - binary_accuracy: 0.7500\n",
            "Epoch 434/800\n",
            "4/4 [==============================] - 0s 5ms/step - loss: 0.2977 - binary_accuracy: 0.7500\n",
            "Epoch 435/800\n",
            "4/4 [==============================] - 0s 5ms/step - loss: 0.2974 - binary_accuracy: 0.7500\n",
            "Epoch 436/800\n",
            "4/4 [==============================] - 0s 5ms/step - loss: 0.2972 - binary_accuracy: 0.7500\n",
            "Epoch 437/800\n",
            "4/4 [==============================] - 0s 5ms/step - loss: 0.2969 - binary_accuracy: 0.7500\n",
            "Epoch 438/800\n",
            "4/4 [==============================] - 0s 5ms/step - loss: 0.2966 - binary_accuracy: 0.7500\n",
            "Epoch 439/800\n",
            "4/4 [==============================] - 0s 4ms/step - loss: 0.2963 - binary_accuracy: 0.7500\n",
            "Epoch 440/800\n",
            "4/4 [==============================] - 0s 5ms/step - loss: 0.2960 - binary_accuracy: 0.7500\n",
            "Epoch 441/800\n",
            "4/4 [==============================] - 0s 4ms/step - loss: 0.2957 - binary_accuracy: 0.7500\n",
            "Epoch 442/800\n",
            "4/4 [==============================] - 0s 6ms/step - loss: 0.2954 - binary_accuracy: 0.7500\n",
            "Epoch 443/800\n",
            "4/4 [==============================] - 0s 5ms/step - loss: 0.2951 - binary_accuracy: 0.7500\n",
            "Epoch 444/800\n",
            "4/4 [==============================] - 0s 5ms/step - loss: 0.2948 - binary_accuracy: 0.7500\n",
            "Epoch 445/800\n",
            "4/4 [==============================] - 0s 6ms/step - loss: 0.2945 - binary_accuracy: 0.7500\n",
            "Epoch 446/800\n",
            "4/4 [==============================] - 0s 3ms/step - loss: 0.2943 - binary_accuracy: 0.7500\n",
            "Epoch 447/800\n",
            "4/4 [==============================] - 0s 5ms/step - loss: 0.2940 - binary_accuracy: 0.7500\n",
            "Epoch 448/800\n",
            "4/4 [==============================] - 0s 5ms/step - loss: 0.2937 - binary_accuracy: 0.7500\n",
            "Epoch 449/800\n",
            "4/4 [==============================] - 0s 7ms/step - loss: 0.2934 - binary_accuracy: 0.7500\n",
            "Epoch 450/800\n",
            "4/4 [==============================] - 0s 5ms/step - loss: 0.2931 - binary_accuracy: 0.7500\n",
            "Epoch 451/800\n",
            "4/4 [==============================] - 0s 5ms/step - loss: 0.2928 - binary_accuracy: 0.7500\n",
            "Epoch 452/800\n",
            "4/4 [==============================] - 0s 6ms/step - loss: 0.2925 - binary_accuracy: 0.7500\n",
            "Epoch 453/800\n",
            "4/4 [==============================] - 0s 5ms/step - loss: 0.2923 - binary_accuracy: 0.7500\n",
            "Epoch 454/800\n",
            "4/4 [==============================] - 0s 4ms/step - loss: 0.2920 - binary_accuracy: 0.7500\n",
            "Epoch 455/800\n",
            "4/4 [==============================] - 0s 4ms/step - loss: 0.2917 - binary_accuracy: 0.7500\n",
            "Epoch 456/800\n",
            "4/4 [==============================] - 0s 4ms/step - loss: 0.2914 - binary_accuracy: 0.7500\n",
            "Epoch 457/800\n",
            "4/4 [==============================] - 0s 4ms/step - loss: 0.2911 - binary_accuracy: 0.7500\n",
            "Epoch 458/800\n",
            "4/4 [==============================] - 0s 5ms/step - loss: 0.2909 - binary_accuracy: 0.7500\n",
            "Epoch 459/800\n",
            "4/4 [==============================] - 0s 6ms/step - loss: 0.2906 - binary_accuracy: 0.7500\n",
            "Epoch 460/800\n",
            "4/4 [==============================] - 0s 4ms/step - loss: 0.2903 - binary_accuracy: 0.7500\n",
            "Epoch 461/800\n",
            "4/4 [==============================] - 0s 7ms/step - loss: 0.2900 - binary_accuracy: 0.7500\n",
            "Epoch 462/800\n",
            "4/4 [==============================] - 0s 5ms/step - loss: 0.2897 - binary_accuracy: 0.7500\n",
            "Epoch 463/800\n",
            "4/4 [==============================] - 0s 6ms/step - loss: 0.2895 - binary_accuracy: 0.7500\n",
            "Epoch 464/800\n",
            "4/4 [==============================] - 0s 4ms/step - loss: 0.2892 - binary_accuracy: 0.7500\n",
            "Epoch 465/800\n",
            "4/4 [==============================] - 0s 6ms/step - loss: 0.2889 - binary_accuracy: 0.7500\n",
            "Epoch 466/800\n",
            "4/4 [==============================] - 0s 5ms/step - loss: 0.2886 - binary_accuracy: 0.7500\n",
            "Epoch 467/800\n",
            "4/4 [==============================] - 0s 5ms/step - loss: 0.2883 - binary_accuracy: 0.7500\n",
            "Epoch 468/800\n",
            "4/4 [==============================] - 0s 4ms/step - loss: 0.2881 - binary_accuracy: 0.7500\n",
            "Epoch 469/800\n",
            "4/4 [==============================] - 0s 4ms/step - loss: 0.2878 - binary_accuracy: 0.7500\n",
            "Epoch 470/800\n",
            "4/4 [==============================] - 0s 5ms/step - loss: 0.2875 - binary_accuracy: 0.7500\n",
            "Epoch 471/800\n",
            "4/4 [==============================] - 0s 4ms/step - loss: 0.2872 - binary_accuracy: 0.7500\n",
            "Epoch 472/800\n",
            "4/4 [==============================] - 0s 4ms/step - loss: 0.2870 - binary_accuracy: 0.7500\n",
            "Epoch 473/800\n",
            "4/4 [==============================] - 0s 5ms/step - loss: 0.2867 - binary_accuracy: 0.7500\n",
            "Epoch 474/800\n",
            "4/4 [==============================] - 0s 5ms/step - loss: 0.2864 - binary_accuracy: 0.7500\n",
            "Epoch 475/800\n",
            "4/4 [==============================] - 0s 9ms/step - loss: 0.2861 - binary_accuracy: 0.7500\n",
            "Epoch 476/800\n",
            "4/4 [==============================] - 0s 5ms/step - loss: 0.2859 - binary_accuracy: 0.7500\n",
            "Epoch 477/800\n",
            "4/4 [==============================] - 0s 4ms/step - loss: 0.2856 - binary_accuracy: 0.7500\n",
            "Epoch 478/800\n",
            "4/4 [==============================] - 0s 4ms/step - loss: 0.2853 - binary_accuracy: 0.7500\n",
            "Epoch 479/800\n",
            "4/4 [==============================] - 0s 6ms/step - loss: 0.2851 - binary_accuracy: 0.7500\n",
            "Epoch 480/800\n",
            "4/4 [==============================] - 0s 5ms/step - loss: 0.2848 - binary_accuracy: 0.7500\n",
            "Epoch 481/800\n",
            "4/4 [==============================] - 0s 6ms/step - loss: 0.2845 - binary_accuracy: 0.7500\n",
            "Epoch 482/800\n",
            "4/4 [==============================] - 0s 5ms/step - loss: 0.2842 - binary_accuracy: 0.7500\n",
            "Epoch 483/800\n",
            "4/4 [==============================] - 0s 4ms/step - loss: 0.2840 - binary_accuracy: 0.7500\n",
            "Epoch 484/800\n",
            "4/4 [==============================] - 0s 4ms/step - loss: 0.2837 - binary_accuracy: 0.7500\n",
            "Epoch 485/800\n",
            "4/4 [==============================] - 0s 4ms/step - loss: 0.2834 - binary_accuracy: 0.7500\n",
            "Epoch 486/800\n",
            "4/4 [==============================] - 0s 7ms/step - loss: 0.2832 - binary_accuracy: 0.7500\n",
            "Epoch 487/800\n",
            "4/4 [==============================] - 0s 7ms/step - loss: 0.2829 - binary_accuracy: 0.7500\n",
            "Epoch 488/800\n",
            "4/4 [==============================] - 0s 5ms/step - loss: 0.2826 - binary_accuracy: 0.7500\n",
            "Epoch 489/800\n",
            "4/4 [==============================] - 0s 5ms/step - loss: 0.2824 - binary_accuracy: 0.7500\n",
            "Epoch 490/800\n",
            "4/4 [==============================] - 0s 5ms/step - loss: 0.2821 - binary_accuracy: 0.7500\n",
            "Epoch 491/800\n",
            "4/4 [==============================] - 0s 5ms/step - loss: 0.2818 - binary_accuracy: 0.7500\n",
            "Epoch 492/800\n",
            "4/4 [==============================] - 0s 7ms/step - loss: 0.2816 - binary_accuracy: 0.7500\n",
            "Epoch 493/800\n",
            "4/4 [==============================] - 0s 5ms/step - loss: 0.2813 - binary_accuracy: 0.7500\n",
            "Epoch 494/800\n",
            "4/4 [==============================] - 0s 6ms/step - loss: 0.2810 - binary_accuracy: 0.7500\n",
            "Epoch 495/800\n",
            "4/4 [==============================] - 0s 6ms/step - loss: 0.2808 - binary_accuracy: 0.7500\n",
            "Epoch 496/800\n",
            "4/4 [==============================] - 0s 6ms/step - loss: 0.2805 - binary_accuracy: 0.7500\n",
            "Epoch 497/800\n",
            "4/4 [==============================] - 0s 5ms/step - loss: 0.2803 - binary_accuracy: 0.7500\n",
            "Epoch 498/800\n",
            "4/4 [==============================] - 0s 5ms/step - loss: 0.2800 - binary_accuracy: 0.7500\n",
            "Epoch 499/800\n",
            "4/4 [==============================] - 0s 6ms/step - loss: 0.2797 - binary_accuracy: 0.7500\n",
            "Epoch 500/800\n",
            "4/4 [==============================] - 0s 5ms/step - loss: 0.2795 - binary_accuracy: 0.7500\n",
            "Epoch 501/800\n",
            "4/4 [==============================] - 0s 8ms/step - loss: 0.2792 - binary_accuracy: 0.7500\n",
            "Epoch 502/800\n",
            "4/4 [==============================] - 0s 6ms/step - loss: 0.2789 - binary_accuracy: 0.7500\n",
            "Epoch 503/800\n",
            "4/4 [==============================] - 0s 5ms/step - loss: 0.2787 - binary_accuracy: 0.7500\n",
            "Epoch 504/800\n",
            "4/4 [==============================] - 0s 6ms/step - loss: 0.2784 - binary_accuracy: 0.7500\n",
            "Epoch 505/800\n",
            "4/4 [==============================] - 0s 6ms/step - loss: 0.2782 - binary_accuracy: 0.7500\n",
            "Epoch 506/800\n",
            "4/4 [==============================] - 0s 6ms/step - loss: 0.2779 - binary_accuracy: 0.7500\n",
            "Epoch 507/800\n",
            "4/4 [==============================] - 0s 6ms/step - loss: 0.2777 - binary_accuracy: 0.7500\n",
            "Epoch 508/800\n",
            "4/4 [==============================] - 0s 5ms/step - loss: 0.2774 - binary_accuracy: 0.7500\n",
            "Epoch 509/800\n",
            "4/4 [==============================] - 0s 6ms/step - loss: 0.2771 - binary_accuracy: 0.7500\n",
            "Epoch 510/800\n",
            "4/4 [==============================] - 0s 4ms/step - loss: 0.2769 - binary_accuracy: 0.7500\n",
            "Epoch 511/800\n",
            "4/4 [==============================] - 0s 4ms/step - loss: 0.2766 - binary_accuracy: 0.7500\n",
            "Epoch 512/800\n",
            "4/4 [==============================] - 0s 4ms/step - loss: 0.2764 - binary_accuracy: 0.7500\n",
            "Epoch 513/800\n",
            "4/4 [==============================] - 0s 4ms/step - loss: 0.2761 - binary_accuracy: 0.7500\n",
            "Epoch 514/800\n",
            "4/4 [==============================] - 0s 4ms/step - loss: 0.2759 - binary_accuracy: 0.7500\n",
            "Epoch 515/800\n",
            "4/4 [==============================] - 0s 4ms/step - loss: 0.2756 - binary_accuracy: 0.7500\n",
            "Epoch 516/800\n",
            "4/4 [==============================] - 0s 4ms/step - loss: 0.2753 - binary_accuracy: 0.7500\n",
            "Epoch 517/800\n",
            "4/4 [==============================] - 0s 4ms/step - loss: 0.2751 - binary_accuracy: 0.7500\n",
            "Epoch 518/800\n",
            "4/4 [==============================] - 0s 7ms/step - loss: 0.2748 - binary_accuracy: 0.7500\n",
            "Epoch 519/800\n",
            "4/4 [==============================] - 0s 7ms/step - loss: 0.2746 - binary_accuracy: 0.7500\n",
            "Epoch 520/800\n",
            "4/4 [==============================] - 0s 5ms/step - loss: 0.2743 - binary_accuracy: 0.7500\n",
            "Epoch 521/800\n",
            "4/4 [==============================] - 0s 5ms/step - loss: 0.2741 - binary_accuracy: 0.7500\n",
            "Epoch 522/800\n",
            "4/4 [==============================] - 0s 4ms/step - loss: 0.2738 - binary_accuracy: 0.7500\n",
            "Epoch 523/800\n",
            "4/4 [==============================] - 0s 4ms/step - loss: 0.2736 - binary_accuracy: 0.7500\n",
            "Epoch 524/800\n",
            "4/4 [==============================] - 0s 5ms/step - loss: 0.2733 - binary_accuracy: 0.7500\n",
            "Epoch 525/800\n",
            "4/4 [==============================] - 0s 4ms/step - loss: 0.2731 - binary_accuracy: 0.7500\n",
            "Epoch 526/800\n",
            "4/4 [==============================] - 0s 5ms/step - loss: 0.2728 - binary_accuracy: 0.7500\n",
            "Epoch 527/800\n",
            "4/4 [==============================] - 0s 6ms/step - loss: 0.2726 - binary_accuracy: 0.7500\n",
            "Epoch 528/800\n",
            "4/4 [==============================] - 0s 5ms/step - loss: 0.2723 - binary_accuracy: 0.7500\n",
            "Epoch 529/800\n",
            "4/4 [==============================] - 0s 5ms/step - loss: 0.2721 - binary_accuracy: 0.7500\n",
            "Epoch 530/800\n",
            "4/4 [==============================] - 0s 8ms/step - loss: 0.2718 - binary_accuracy: 0.7500\n",
            "Epoch 531/800\n",
            "4/4 [==============================] - 0s 6ms/step - loss: 0.2716 - binary_accuracy: 0.7500\n",
            "Epoch 532/800\n",
            "4/4 [==============================] - 0s 5ms/step - loss: 0.2713 - binary_accuracy: 0.7500\n",
            "Epoch 533/800\n",
            "4/4 [==============================] - 0s 4ms/step - loss: 0.2711 - binary_accuracy: 0.7500\n",
            "Epoch 534/800\n",
            "4/4 [==============================] - 0s 7ms/step - loss: 0.2708 - binary_accuracy: 0.7500\n",
            "Epoch 535/800\n",
            "4/4 [==============================] - 0s 8ms/step - loss: 0.2706 - binary_accuracy: 0.7500\n",
            "Epoch 536/800\n",
            "4/4 [==============================] - 0s 7ms/step - loss: 0.2703 - binary_accuracy: 1.0000\n",
            "Epoch 537/800\n",
            "4/4 [==============================] - 0s 6ms/step - loss: 0.2701 - binary_accuracy: 1.0000\n",
            "Epoch 538/800\n",
            "4/4 [==============================] - 0s 6ms/step - loss: 0.2699 - binary_accuracy: 1.0000\n",
            "Epoch 539/800\n",
            "4/4 [==============================] - 0s 4ms/step - loss: 0.2696 - binary_accuracy: 1.0000\n",
            "Epoch 540/800\n",
            "4/4 [==============================] - 0s 5ms/step - loss: 0.2694 - binary_accuracy: 1.0000\n",
            "Epoch 541/800\n",
            "4/4 [==============================] - 0s 5ms/step - loss: 0.2691 - binary_accuracy: 1.0000\n",
            "Epoch 542/800\n",
            "4/4 [==============================] - 0s 5ms/step - loss: 0.2689 - binary_accuracy: 1.0000\n",
            "Epoch 543/800\n",
            "4/4 [==============================] - 0s 4ms/step - loss: 0.2686 - binary_accuracy: 1.0000\n",
            "Epoch 544/800\n",
            "4/4 [==============================] - 0s 5ms/step - loss: 0.2684 - binary_accuracy: 1.0000\n",
            "Epoch 545/800\n",
            "4/4 [==============================] - 0s 4ms/step - loss: 0.2681 - binary_accuracy: 1.0000\n",
            "Epoch 546/800\n",
            "4/4 [==============================] - 0s 5ms/step - loss: 0.2679 - binary_accuracy: 1.0000\n",
            "Epoch 547/800\n",
            "4/4 [==============================] - 0s 4ms/step - loss: 0.2677 - binary_accuracy: 1.0000\n",
            "Epoch 548/800\n",
            "4/4 [==============================] - 0s 5ms/step - loss: 0.2674 - binary_accuracy: 1.0000\n",
            "Epoch 549/800\n",
            "4/4 [==============================] - 0s 5ms/step - loss: 0.2672 - binary_accuracy: 1.0000\n",
            "Epoch 550/800\n",
            "4/4 [==============================] - 0s 4ms/step - loss: 0.2669 - binary_accuracy: 1.0000\n",
            "Epoch 551/800\n",
            "4/4 [==============================] - 0s 4ms/step - loss: 0.2667 - binary_accuracy: 1.0000\n",
            "Epoch 552/800\n",
            "4/4 [==============================] - 0s 6ms/step - loss: 0.2665 - binary_accuracy: 1.0000\n",
            "Epoch 553/800\n",
            "4/4 [==============================] - 0s 6ms/step - loss: 0.2662 - binary_accuracy: 1.0000\n",
            "Epoch 554/800\n",
            "4/4 [==============================] - 0s 4ms/step - loss: 0.2660 - binary_accuracy: 1.0000\n",
            "Epoch 555/800\n",
            "4/4 [==============================] - 0s 4ms/step - loss: 0.2657 - binary_accuracy: 1.0000\n",
            "Epoch 556/800\n",
            "4/4 [==============================] - 0s 4ms/step - loss: 0.2655 - binary_accuracy: 1.0000\n",
            "Epoch 557/800\n",
            "4/4 [==============================] - 0s 4ms/step - loss: 0.2653 - binary_accuracy: 1.0000\n",
            "Epoch 558/800\n",
            "4/4 [==============================] - 0s 4ms/step - loss: 0.2650 - binary_accuracy: 1.0000\n",
            "Epoch 559/800\n",
            "4/4 [==============================] - 0s 4ms/step - loss: 0.2648 - binary_accuracy: 1.0000\n",
            "Epoch 560/800\n",
            "4/4 [==============================] - 0s 5ms/step - loss: 0.2646 - binary_accuracy: 1.0000\n",
            "Epoch 561/800\n",
            "4/4 [==============================] - 0s 5ms/step - loss: 0.2643 - binary_accuracy: 1.0000\n",
            "Epoch 562/800\n",
            "4/4 [==============================] - 0s 5ms/step - loss: 0.2641 - binary_accuracy: 1.0000\n",
            "Epoch 563/800\n",
            "4/4 [==============================] - 0s 5ms/step - loss: 0.2639 - binary_accuracy: 1.0000\n",
            "Epoch 564/800\n",
            "4/4 [==============================] - 0s 6ms/step - loss: 0.2636 - binary_accuracy: 1.0000\n",
            "Epoch 565/800\n",
            "4/4 [==============================] - 0s 5ms/step - loss: 0.2634 - binary_accuracy: 1.0000\n",
            "Epoch 566/800\n",
            "4/4 [==============================] - 0s 4ms/step - loss: 0.2631 - binary_accuracy: 1.0000\n",
            "Epoch 567/800\n",
            "4/4 [==============================] - 0s 5ms/step - loss: 0.2629 - binary_accuracy: 1.0000\n",
            "Epoch 568/800\n",
            "4/4 [==============================] - 0s 5ms/step - loss: 0.2627 - binary_accuracy: 1.0000\n",
            "Epoch 569/800\n",
            "4/4 [==============================] - 0s 5ms/step - loss: 0.2624 - binary_accuracy: 1.0000\n",
            "Epoch 570/800\n",
            "4/4 [==============================] - 0s 5ms/step - loss: 0.2622 - binary_accuracy: 1.0000\n",
            "Epoch 571/800\n",
            "4/4 [==============================] - 0s 5ms/step - loss: 0.2620 - binary_accuracy: 1.0000\n",
            "Epoch 572/800\n",
            "4/4 [==============================] - 0s 5ms/step - loss: 0.2617 - binary_accuracy: 1.0000\n",
            "Epoch 573/800\n",
            "4/4 [==============================] - 0s 9ms/step - loss: 0.2615 - binary_accuracy: 1.0000\n",
            "Epoch 574/800\n",
            "4/4 [==============================] - 0s 5ms/step - loss: 0.2613 - binary_accuracy: 1.0000\n",
            "Epoch 575/800\n",
            "4/4 [==============================] - 0s 5ms/step - loss: 0.2611 - binary_accuracy: 1.0000\n",
            "Epoch 576/800\n",
            "4/4 [==============================] - 0s 5ms/step - loss: 0.2608 - binary_accuracy: 1.0000\n",
            "Epoch 577/800\n",
            "4/4 [==============================] - 0s 4ms/step - loss: 0.2606 - binary_accuracy: 1.0000\n",
            "Epoch 578/800\n",
            "4/4 [==============================] - 0s 4ms/step - loss: 0.2604 - binary_accuracy: 1.0000\n",
            "Epoch 579/800\n",
            "4/4 [==============================] - 0s 5ms/step - loss: 0.2601 - binary_accuracy: 1.0000\n",
            "Epoch 580/800\n",
            "4/4 [==============================] - 0s 6ms/step - loss: 0.2599 - binary_accuracy: 1.0000\n",
            "Epoch 581/800\n",
            "4/4 [==============================] - 0s 5ms/step - loss: 0.2597 - binary_accuracy: 1.0000\n",
            "Epoch 582/800\n",
            "4/4 [==============================] - 0s 5ms/step - loss: 0.2595 - binary_accuracy: 1.0000\n",
            "Epoch 583/800\n",
            "4/4 [==============================] - 0s 6ms/step - loss: 0.2592 - binary_accuracy: 1.0000\n",
            "Epoch 584/800\n",
            "4/4 [==============================] - 0s 5ms/step - loss: 0.2590 - binary_accuracy: 1.0000\n",
            "Epoch 585/800\n",
            "4/4 [==============================] - 0s 5ms/step - loss: 0.2588 - binary_accuracy: 1.0000\n",
            "Epoch 586/800\n",
            "4/4 [==============================] - 0s 5ms/step - loss: 0.2585 - binary_accuracy: 1.0000\n",
            "Epoch 587/800\n",
            "4/4 [==============================] - 0s 4ms/step - loss: 0.2583 - binary_accuracy: 1.0000\n",
            "Epoch 588/800\n",
            "4/4 [==============================] - 0s 4ms/step - loss: 0.2581 - binary_accuracy: 1.0000\n",
            "Epoch 589/800\n",
            "4/4 [==============================] - 0s 4ms/step - loss: 0.2579 - binary_accuracy: 1.0000\n",
            "Epoch 590/800\n",
            "4/4 [==============================] - 0s 5ms/step - loss: 0.2576 - binary_accuracy: 1.0000\n",
            "Epoch 591/800\n",
            "4/4 [==============================] - 0s 5ms/step - loss: 0.2574 - binary_accuracy: 1.0000\n",
            "Epoch 592/800\n",
            "4/4 [==============================] - 0s 4ms/step - loss: 0.2572 - binary_accuracy: 1.0000\n",
            "Epoch 593/800\n",
            "4/4 [==============================] - 0s 5ms/step - loss: 0.2570 - binary_accuracy: 1.0000\n",
            "Epoch 594/800\n",
            "4/4 [==============================] - 0s 6ms/step - loss: 0.2567 - binary_accuracy: 1.0000\n",
            "Epoch 595/800\n",
            "4/4 [==============================] - 0s 6ms/step - loss: 0.2565 - binary_accuracy: 1.0000\n",
            "Epoch 596/800\n",
            "4/4 [==============================] - 0s 7ms/step - loss: 0.2563 - binary_accuracy: 1.0000\n",
            "Epoch 597/800\n",
            "4/4 [==============================] - 0s 6ms/step - loss: 0.2561 - binary_accuracy: 1.0000\n",
            "Epoch 598/800\n",
            "4/4 [==============================] - 0s 4ms/step - loss: 0.2558 - binary_accuracy: 1.0000\n",
            "Epoch 599/800\n",
            "4/4 [==============================] - 0s 3ms/step - loss: 0.2556 - binary_accuracy: 1.0000\n",
            "Epoch 600/800\n",
            "4/4 [==============================] - 0s 3ms/step - loss: 0.2554 - binary_accuracy: 1.0000\n",
            "Epoch 601/800\n",
            "4/4 [==============================] - 0s 5ms/step - loss: 0.2552 - binary_accuracy: 1.0000\n",
            "Epoch 602/800\n",
            "4/4 [==============================] - 0s 5ms/step - loss: 0.2550 - binary_accuracy: 1.0000\n",
            "Epoch 603/800\n",
            "4/4 [==============================] - 0s 4ms/step - loss: 0.2547 - binary_accuracy: 1.0000\n",
            "Epoch 604/800\n",
            "4/4 [==============================] - 0s 6ms/step - loss: 0.2545 - binary_accuracy: 1.0000\n",
            "Epoch 605/800\n",
            "4/4 [==============================] - 0s 3ms/step - loss: 0.2543 - binary_accuracy: 1.0000\n",
            "Epoch 606/800\n",
            "4/4 [==============================] - 0s 3ms/step - loss: 0.2541 - binary_accuracy: 1.0000\n",
            "Epoch 607/800\n",
            "4/4 [==============================] - 0s 6ms/step - loss: 0.2539 - binary_accuracy: 1.0000\n",
            "Epoch 608/800\n",
            "4/4 [==============================] - 0s 5ms/step - loss: 0.2536 - binary_accuracy: 1.0000\n",
            "Epoch 609/800\n",
            "4/4 [==============================] - 0s 5ms/step - loss: 0.2534 - binary_accuracy: 1.0000\n",
            "Epoch 610/800\n",
            "4/4 [==============================] - 0s 6ms/step - loss: 0.2532 - binary_accuracy: 1.0000\n",
            "Epoch 611/800\n",
            "4/4 [==============================] - 0s 6ms/step - loss: 0.2530 - binary_accuracy: 1.0000\n",
            "Epoch 612/800\n",
            "4/4 [==============================] - 0s 6ms/step - loss: 0.2528 - binary_accuracy: 1.0000\n",
            "Epoch 613/800\n",
            "4/4 [==============================] - 0s 5ms/step - loss: 0.2526 - binary_accuracy: 1.0000\n",
            "Epoch 614/800\n",
            "4/4 [==============================] - 0s 6ms/step - loss: 0.2523 - binary_accuracy: 1.0000\n",
            "Epoch 615/800\n",
            "4/4 [==============================] - 0s 6ms/step - loss: 0.2521 - binary_accuracy: 1.0000\n",
            "Epoch 616/800\n",
            "4/4 [==============================] - 0s 4ms/step - loss: 0.2519 - binary_accuracy: 1.0000\n",
            "Epoch 617/800\n",
            "4/4 [==============================] - 0s 4ms/step - loss: 0.2517 - binary_accuracy: 1.0000\n",
            "Epoch 618/800\n",
            "4/4 [==============================] - 0s 6ms/step - loss: 0.2515 - binary_accuracy: 1.0000\n",
            "Epoch 619/800\n",
            "4/4 [==============================] - 0s 5ms/step - loss: 0.2513 - binary_accuracy: 1.0000\n",
            "Epoch 620/800\n",
            "4/4 [==============================] - 0s 4ms/step - loss: 0.2510 - binary_accuracy: 1.0000\n",
            "Epoch 621/800\n",
            "4/4 [==============================] - 0s 5ms/step - loss: 0.2508 - binary_accuracy: 1.0000\n",
            "Epoch 622/800\n",
            "4/4 [==============================] - 0s 5ms/step - loss: 0.2506 - binary_accuracy: 1.0000\n",
            "Epoch 623/800\n",
            "4/4 [==============================] - 0s 7ms/step - loss: 0.2504 - binary_accuracy: 1.0000\n",
            "Epoch 624/800\n",
            "4/4 [==============================] - 0s 5ms/step - loss: 0.2502 - binary_accuracy: 1.0000\n",
            "Epoch 625/800\n",
            "4/4 [==============================] - 0s 5ms/step - loss: 0.2500 - binary_accuracy: 1.0000\n",
            "Epoch 626/800\n",
            "4/4 [==============================] - 0s 5ms/step - loss: 0.2498 - binary_accuracy: 1.0000\n",
            "Epoch 627/800\n",
            "4/4 [==============================] - 0s 5ms/step - loss: 0.2495 - binary_accuracy: 1.0000\n",
            "Epoch 628/800\n",
            "4/4 [==============================] - 0s 4ms/step - loss: 0.2493 - binary_accuracy: 1.0000\n",
            "Epoch 629/800\n",
            "4/4 [==============================] - 0s 8ms/step - loss: 0.2491 - binary_accuracy: 1.0000\n",
            "Epoch 630/800\n",
            "4/4 [==============================] - 0s 5ms/step - loss: 0.2489 - binary_accuracy: 1.0000\n",
            "Epoch 631/800\n",
            "4/4 [==============================] - 0s 5ms/step - loss: 0.2487 - binary_accuracy: 1.0000\n",
            "Epoch 632/800\n",
            "4/4 [==============================] - 0s 8ms/step - loss: 0.2485 - binary_accuracy: 1.0000\n",
            "Epoch 633/800\n",
            "4/4 [==============================] - 0s 4ms/step - loss: 0.2483 - binary_accuracy: 1.0000\n",
            "Epoch 634/800\n",
            "4/4 [==============================] - 0s 3ms/step - loss: 0.2481 - binary_accuracy: 1.0000\n",
            "Epoch 635/800\n",
            "4/4 [==============================] - 0s 9ms/step - loss: 0.2479 - binary_accuracy: 1.0000\n",
            "Epoch 636/800\n",
            "4/4 [==============================] - 0s 5ms/step - loss: 0.2476 - binary_accuracy: 1.0000\n",
            "Epoch 637/800\n",
            "4/4 [==============================] - 0s 5ms/step - loss: 0.2474 - binary_accuracy: 1.0000\n",
            "Epoch 638/800\n",
            "4/4 [==============================] - 0s 5ms/step - loss: 0.2472 - binary_accuracy: 1.0000\n",
            "Epoch 639/800\n",
            "4/4 [==============================] - 0s 4ms/step - loss: 0.2470 - binary_accuracy: 1.0000\n",
            "Epoch 640/800\n",
            "4/4 [==============================] - 0s 4ms/step - loss: 0.2468 - binary_accuracy: 1.0000\n",
            "Epoch 641/800\n",
            "4/4 [==============================] - 0s 4ms/step - loss: 0.2466 - binary_accuracy: 1.0000\n",
            "Epoch 642/800\n",
            "4/4 [==============================] - 0s 5ms/step - loss: 0.2464 - binary_accuracy: 1.0000\n",
            "Epoch 643/800\n",
            "4/4 [==============================] - 0s 5ms/step - loss: 0.2462 - binary_accuracy: 1.0000\n",
            "Epoch 644/800\n",
            "4/4 [==============================] - 0s 4ms/step - loss: 0.2460 - binary_accuracy: 1.0000\n",
            "Epoch 645/800\n",
            "4/4 [==============================] - 0s 5ms/step - loss: 0.2458 - binary_accuracy: 1.0000\n",
            "Epoch 646/800\n",
            "4/4 [==============================] - 0s 5ms/step - loss: 0.2456 - binary_accuracy: 1.0000\n",
            "Epoch 647/800\n",
            "4/4 [==============================] - 0s 4ms/step - loss: 0.2454 - binary_accuracy: 1.0000\n",
            "Epoch 648/800\n",
            "4/4 [==============================] - 0s 4ms/step - loss: 0.2452 - binary_accuracy: 1.0000\n",
            "Epoch 649/800\n",
            "4/4 [==============================] - 0s 4ms/step - loss: 0.2450 - binary_accuracy: 1.0000\n",
            "Epoch 650/800\n",
            "4/4 [==============================] - 0s 4ms/step - loss: 0.2447 - binary_accuracy: 1.0000\n",
            "Epoch 651/800\n",
            "4/4 [==============================] - 0s 4ms/step - loss: 0.2445 - binary_accuracy: 1.0000\n",
            "Epoch 652/800\n",
            "4/4 [==============================] - 0s 4ms/step - loss: 0.2443 - binary_accuracy: 1.0000\n",
            "Epoch 653/800\n",
            "4/4 [==============================] - 0s 4ms/step - loss: 0.2441 - binary_accuracy: 1.0000\n",
            "Epoch 654/800\n",
            "4/4 [==============================] - 0s 5ms/step - loss: 0.2439 - binary_accuracy: 1.0000\n",
            "Epoch 655/800\n",
            "4/4 [==============================] - 0s 4ms/step - loss: 0.2437 - binary_accuracy: 1.0000\n",
            "Epoch 656/800\n",
            "4/4 [==============================] - 0s 5ms/step - loss: 0.2435 - binary_accuracy: 1.0000\n",
            "Epoch 657/800\n",
            "4/4 [==============================] - 0s 5ms/step - loss: 0.2433 - binary_accuracy: 1.0000\n",
            "Epoch 658/800\n",
            "4/4 [==============================] - 0s 5ms/step - loss: 0.2431 - binary_accuracy: 1.0000\n",
            "Epoch 659/800\n",
            "4/4 [==============================] - 0s 4ms/step - loss: 0.2429 - binary_accuracy: 1.0000\n",
            "Epoch 660/800\n",
            "4/4 [==============================] - 0s 6ms/step - loss: 0.2427 - binary_accuracy: 1.0000\n",
            "Epoch 661/800\n",
            "4/4 [==============================] - 0s 4ms/step - loss: 0.2425 - binary_accuracy: 1.0000\n",
            "Epoch 662/800\n",
            "4/4 [==============================] - 0s 5ms/step - loss: 0.2423 - binary_accuracy: 1.0000\n",
            "Epoch 663/800\n",
            "4/4 [==============================] - 0s 11ms/step - loss: 0.2421 - binary_accuracy: 1.0000\n",
            "Epoch 664/800\n",
            "4/4 [==============================] - 0s 4ms/step - loss: 0.2419 - binary_accuracy: 1.0000\n",
            "Epoch 665/800\n",
            "4/4 [==============================] - 0s 4ms/step - loss: 0.2417 - binary_accuracy: 1.0000\n",
            "Epoch 666/800\n",
            "4/4 [==============================] - 0s 4ms/step - loss: 0.2415 - binary_accuracy: 1.0000\n",
            "Epoch 667/800\n",
            "4/4 [==============================] - 0s 4ms/step - loss: 0.2413 - binary_accuracy: 1.0000\n",
            "Epoch 668/800\n",
            "4/4 [==============================] - 0s 4ms/step - loss: 0.2411 - binary_accuracy: 1.0000\n",
            "Epoch 669/800\n",
            "4/4 [==============================] - 0s 4ms/step - loss: 0.2409 - binary_accuracy: 1.0000\n",
            "Epoch 670/800\n",
            "4/4 [==============================] - 0s 6ms/step - loss: 0.2407 - binary_accuracy: 1.0000\n",
            "Epoch 671/800\n",
            "4/4 [==============================] - 0s 4ms/step - loss: 0.2405 - binary_accuracy: 1.0000\n",
            "Epoch 672/800\n",
            "4/4 [==============================] - 0s 6ms/step - loss: 0.2403 - binary_accuracy: 1.0000\n",
            "Epoch 673/800\n",
            "4/4 [==============================] - 0s 5ms/step - loss: 0.2401 - binary_accuracy: 1.0000\n",
            "Epoch 674/800\n",
            "4/4 [==============================] - 0s 6ms/step - loss: 0.2399 - binary_accuracy: 1.0000\n",
            "Epoch 675/800\n",
            "4/4 [==============================] - 0s 5ms/step - loss: 0.2397 - binary_accuracy: 1.0000\n",
            "Epoch 676/800\n",
            "4/4 [==============================] - 0s 5ms/step - loss: 0.2395 - binary_accuracy: 1.0000\n",
            "Epoch 677/800\n",
            "4/4 [==============================] - 0s 5ms/step - loss: 0.2393 - binary_accuracy: 1.0000\n",
            "Epoch 678/800\n",
            "4/4 [==============================] - 0s 6ms/step - loss: 0.2391 - binary_accuracy: 1.0000\n",
            "Epoch 679/800\n",
            "4/4 [==============================] - 0s 5ms/step - loss: 0.2389 - binary_accuracy: 1.0000\n",
            "Epoch 680/800\n",
            "4/4 [==============================] - 0s 8ms/step - loss: 0.2387 - binary_accuracy: 1.0000\n",
            "Epoch 681/800\n",
            "4/4 [==============================] - 0s 4ms/step - loss: 0.2385 - binary_accuracy: 1.0000\n",
            "Epoch 682/800\n",
            "4/4 [==============================] - 0s 7ms/step - loss: 0.2383 - binary_accuracy: 1.0000\n",
            "Epoch 683/800\n",
            "4/4 [==============================] - 0s 8ms/step - loss: 0.2382 - binary_accuracy: 1.0000\n",
            "Epoch 684/800\n",
            "4/4 [==============================] - 0s 4ms/step - loss: 0.2380 - binary_accuracy: 1.0000\n",
            "Epoch 685/800\n",
            "4/4 [==============================] - 0s 5ms/step - loss: 0.2378 - binary_accuracy: 1.0000\n",
            "Epoch 686/800\n",
            "4/4 [==============================] - 0s 6ms/step - loss: 0.2376 - binary_accuracy: 1.0000\n",
            "Epoch 687/800\n",
            "4/4 [==============================] - 0s 4ms/step - loss: 0.2374 - binary_accuracy: 1.0000\n",
            "Epoch 688/800\n",
            "4/4 [==============================] - 0s 4ms/step - loss: 0.2372 - binary_accuracy: 1.0000\n",
            "Epoch 689/800\n",
            "4/4 [==============================] - 0s 4ms/step - loss: 0.2370 - binary_accuracy: 1.0000\n",
            "Epoch 690/800\n",
            "4/4 [==============================] - 0s 5ms/step - loss: 0.2368 - binary_accuracy: 1.0000\n",
            "Epoch 691/800\n",
            "4/4 [==============================] - 0s 5ms/step - loss: 0.2366 - binary_accuracy: 1.0000\n",
            "Epoch 692/800\n",
            "4/4 [==============================] - 0s 6ms/step - loss: 0.2364 - binary_accuracy: 1.0000\n",
            "Epoch 693/800\n",
            "4/4 [==============================] - 0s 5ms/step - loss: 0.2362 - binary_accuracy: 1.0000\n",
            "Epoch 694/800\n",
            "4/4 [==============================] - 0s 6ms/step - loss: 0.2360 - binary_accuracy: 1.0000\n",
            "Epoch 695/800\n",
            "4/4 [==============================] - 0s 5ms/step - loss: 0.2358 - binary_accuracy: 1.0000\n",
            "Epoch 696/800\n",
            "4/4 [==============================] - 0s 6ms/step - loss: 0.2356 - binary_accuracy: 1.0000\n",
            "Epoch 697/800\n",
            "4/4 [==============================] - 0s 7ms/step - loss: 0.2355 - binary_accuracy: 1.0000\n",
            "Epoch 698/800\n",
            "4/4 [==============================] - 0s 5ms/step - loss: 0.2353 - binary_accuracy: 1.0000\n",
            "Epoch 699/800\n",
            "4/4 [==============================] - 0s 5ms/step - loss: 0.2351 - binary_accuracy: 1.0000\n",
            "Epoch 700/800\n",
            "4/4 [==============================] - 0s 4ms/step - loss: 0.2349 - binary_accuracy: 1.0000\n",
            "Epoch 701/800\n",
            "4/4 [==============================] - 0s 4ms/step - loss: 0.2347 - binary_accuracy: 1.0000\n",
            "Epoch 702/800\n",
            "4/4 [==============================] - 0s 4ms/step - loss: 0.2345 - binary_accuracy: 1.0000\n",
            "Epoch 703/800\n",
            "4/4 [==============================] - 0s 4ms/step - loss: 0.2343 - binary_accuracy: 1.0000\n",
            "Epoch 704/800\n",
            "4/4 [==============================] - 0s 5ms/step - loss: 0.2341 - binary_accuracy: 1.0000\n",
            "Epoch 705/800\n",
            "4/4 [==============================] - 0s 4ms/step - loss: 0.2339 - binary_accuracy: 1.0000\n",
            "Epoch 706/800\n",
            "4/4 [==============================] - 0s 4ms/step - loss: 0.2337 - binary_accuracy: 1.0000\n",
            "Epoch 707/800\n",
            "4/4 [==============================] - 0s 4ms/step - loss: 0.2336 - binary_accuracy: 1.0000\n",
            "Epoch 708/800\n",
            "4/4 [==============================] - 0s 4ms/step - loss: 0.2334 - binary_accuracy: 1.0000\n",
            "Epoch 709/800\n",
            "4/4 [==============================] - 0s 4ms/step - loss: 0.2332 - binary_accuracy: 1.0000\n",
            "Epoch 710/800\n",
            "4/4 [==============================] - 0s 7ms/step - loss: 0.2330 - binary_accuracy: 1.0000\n",
            "Epoch 711/800\n",
            "4/4 [==============================] - 0s 6ms/step - loss: 0.2328 - binary_accuracy: 1.0000\n",
            "Epoch 712/800\n",
            "4/4 [==============================] - 0s 6ms/step - loss: 0.2326 - binary_accuracy: 1.0000\n",
            "Epoch 713/800\n",
            "4/4 [==============================] - 0s 4ms/step - loss: 0.2324 - binary_accuracy: 1.0000\n",
            "Epoch 714/800\n",
            "4/4 [==============================] - 0s 5ms/step - loss: 0.2323 - binary_accuracy: 1.0000\n",
            "Epoch 715/800\n",
            "4/4 [==============================] - 0s 5ms/step - loss: 0.2321 - binary_accuracy: 1.0000\n",
            "Epoch 716/800\n",
            "4/4 [==============================] - 0s 4ms/step - loss: 0.2319 - binary_accuracy: 1.0000\n",
            "Epoch 717/800\n",
            "4/4 [==============================] - 0s 4ms/step - loss: 0.2317 - binary_accuracy: 1.0000\n",
            "Epoch 718/800\n",
            "4/4 [==============================] - 0s 4ms/step - loss: 0.2315 - binary_accuracy: 1.0000\n",
            "Epoch 719/800\n",
            "4/4 [==============================] - 0s 5ms/step - loss: 0.2313 - binary_accuracy: 1.0000\n",
            "Epoch 720/800\n",
            "4/4 [==============================] - 0s 4ms/step - loss: 0.2311 - binary_accuracy: 1.0000\n",
            "Epoch 721/800\n",
            "4/4 [==============================] - 0s 6ms/step - loss: 0.2310 - binary_accuracy: 1.0000\n",
            "Epoch 722/800\n",
            "4/4 [==============================] - 0s 4ms/step - loss: 0.2308 - binary_accuracy: 1.0000\n",
            "Epoch 723/800\n",
            "4/4 [==============================] - 0s 5ms/step - loss: 0.2306 - binary_accuracy: 1.0000\n",
            "Epoch 724/800\n",
            "4/4 [==============================] - 0s 5ms/step - loss: 0.2304 - binary_accuracy: 1.0000\n",
            "Epoch 725/800\n",
            "4/4 [==============================] - 0s 6ms/step - loss: 0.2302 - binary_accuracy: 1.0000\n",
            "Epoch 726/800\n",
            "4/4 [==============================] - 0s 6ms/step - loss: 0.2300 - binary_accuracy: 1.0000\n",
            "Epoch 727/800\n",
            "4/4 [==============================] - 0s 7ms/step - loss: 0.2299 - binary_accuracy: 1.0000\n",
            "Epoch 728/800\n",
            "4/4 [==============================] - 0s 5ms/step - loss: 0.2297 - binary_accuracy: 1.0000\n",
            "Epoch 729/800\n",
            "4/4 [==============================] - 0s 4ms/step - loss: 0.2295 - binary_accuracy: 1.0000\n",
            "Epoch 730/800\n",
            "4/4 [==============================] - 0s 8ms/step - loss: 0.2293 - binary_accuracy: 1.0000\n",
            "Epoch 731/800\n",
            "4/4 [==============================] - 0s 5ms/step - loss: 0.2291 - binary_accuracy: 1.0000\n",
            "Epoch 732/800\n",
            "4/4 [==============================] - 0s 4ms/step - loss: 0.2289 - binary_accuracy: 1.0000\n",
            "Epoch 733/800\n",
            "4/4 [==============================] - 0s 4ms/step - loss: 0.2288 - binary_accuracy: 1.0000\n",
            "Epoch 734/800\n",
            "4/4 [==============================] - 0s 4ms/step - loss: 0.2286 - binary_accuracy: 1.0000\n",
            "Epoch 735/800\n",
            "4/4 [==============================] - 0s 4ms/step - loss: 0.2284 - binary_accuracy: 1.0000\n",
            "Epoch 736/800\n",
            "4/4 [==============================] - 0s 4ms/step - loss: 0.2282 - binary_accuracy: 1.0000\n",
            "Epoch 737/800\n",
            "4/4 [==============================] - 0s 4ms/step - loss: 0.2280 - binary_accuracy: 1.0000\n",
            "Epoch 738/800\n",
            "4/4 [==============================] - 0s 4ms/step - loss: 0.2279 - binary_accuracy: 1.0000\n",
            "Epoch 739/800\n",
            "4/4 [==============================] - 0s 4ms/step - loss: 0.2277 - binary_accuracy: 1.0000\n",
            "Epoch 740/800\n",
            "4/4 [==============================] - 0s 5ms/step - loss: 0.2275 - binary_accuracy: 1.0000\n",
            "Epoch 741/800\n",
            "4/4 [==============================] - 0s 4ms/step - loss: 0.2273 - binary_accuracy: 1.0000\n",
            "Epoch 742/800\n",
            "4/4 [==============================] - 0s 4ms/step - loss: 0.2271 - binary_accuracy: 1.0000\n",
            "Epoch 743/800\n",
            "4/4 [==============================] - 0s 5ms/step - loss: 0.2270 - binary_accuracy: 1.0000\n",
            "Epoch 744/800\n",
            "4/4 [==============================] - 0s 5ms/step - loss: 0.2268 - binary_accuracy: 1.0000\n",
            "Epoch 745/800\n",
            "4/4 [==============================] - 0s 5ms/step - loss: 0.2266 - binary_accuracy: 1.0000\n",
            "Epoch 746/800\n",
            "4/4 [==============================] - 0s 5ms/step - loss: 0.2264 - binary_accuracy: 1.0000\n",
            "Epoch 747/800\n",
            "4/4 [==============================] - 0s 5ms/step - loss: 0.2263 - binary_accuracy: 1.0000\n",
            "Epoch 748/800\n",
            "4/4 [==============================] - 0s 5ms/step - loss: 0.2261 - binary_accuracy: 1.0000\n",
            "Epoch 749/800\n",
            "4/4 [==============================] - 0s 5ms/step - loss: 0.2259 - binary_accuracy: 1.0000\n",
            "Epoch 750/800\n",
            "4/4 [==============================] - 0s 6ms/step - loss: 0.2257 - binary_accuracy: 1.0000\n",
            "Epoch 751/800\n",
            "4/4 [==============================] - 0s 5ms/step - loss: 0.2256 - binary_accuracy: 1.0000\n",
            "Epoch 752/800\n",
            "4/4 [==============================] - 0s 5ms/step - loss: 0.2254 - binary_accuracy: 1.0000\n",
            "Epoch 753/800\n",
            "4/4 [==============================] - 0s 5ms/step - loss: 0.2252 - binary_accuracy: 1.0000\n",
            "Epoch 754/800\n",
            "4/4 [==============================] - 0s 5ms/step - loss: 0.2250 - binary_accuracy: 1.0000\n",
            "Epoch 755/800\n",
            "4/4 [==============================] - 0s 5ms/step - loss: 0.2248 - binary_accuracy: 1.0000\n",
            "Epoch 756/800\n",
            "4/4 [==============================] - 0s 5ms/step - loss: 0.2247 - binary_accuracy: 1.0000\n",
            "Epoch 757/800\n",
            "4/4 [==============================] - 0s 5ms/step - loss: 0.2245 - binary_accuracy: 1.0000\n",
            "Epoch 758/800\n",
            "4/4 [==============================] - 0s 4ms/step - loss: 0.2243 - binary_accuracy: 1.0000\n",
            "Epoch 759/800\n",
            "4/4 [==============================] - 0s 4ms/step - loss: 0.2241 - binary_accuracy: 1.0000\n",
            "Epoch 760/800\n",
            "4/4 [==============================] - 0s 5ms/step - loss: 0.2240 - binary_accuracy: 1.0000\n",
            "Epoch 761/800\n",
            "4/4 [==============================] - 0s 4ms/step - loss: 0.2238 - binary_accuracy: 1.0000\n",
            "Epoch 762/800\n",
            "4/4 [==============================] - 0s 6ms/step - loss: 0.2236 - binary_accuracy: 1.0000\n",
            "Epoch 763/800\n",
            "4/4 [==============================] - 0s 8ms/step - loss: 0.2235 - binary_accuracy: 1.0000\n",
            "Epoch 764/800\n",
            "4/4 [==============================] - 0s 4ms/step - loss: 0.2233 - binary_accuracy: 1.0000\n",
            "Epoch 765/800\n",
            "4/4 [==============================] - 0s 7ms/step - loss: 0.2231 - binary_accuracy: 1.0000\n",
            "Epoch 766/800\n",
            "4/4 [==============================] - 0s 5ms/step - loss: 0.2229 - binary_accuracy: 1.0000\n",
            "Epoch 767/800\n",
            "4/4 [==============================] - 0s 4ms/step - loss: 0.2228 - binary_accuracy: 1.0000\n",
            "Epoch 768/800\n",
            "4/4 [==============================] - 0s 4ms/step - loss: 0.2226 - binary_accuracy: 1.0000\n",
            "Epoch 769/800\n",
            "4/4 [==============================] - 0s 4ms/step - loss: 0.2224 - binary_accuracy: 1.0000\n",
            "Epoch 770/800\n",
            "4/4 [==============================] - 0s 5ms/step - loss: 0.2222 - binary_accuracy: 1.0000\n",
            "Epoch 771/800\n",
            "4/4 [==============================] - 0s 5ms/step - loss: 0.2221 - binary_accuracy: 1.0000\n",
            "Epoch 772/800\n",
            "4/4 [==============================] - 0s 4ms/step - loss: 0.2219 - binary_accuracy: 1.0000\n",
            "Epoch 773/800\n",
            "4/4 [==============================] - 0s 4ms/step - loss: 0.2217 - binary_accuracy: 1.0000\n",
            "Epoch 774/800\n",
            "4/4 [==============================] - 0s 4ms/step - loss: 0.2216 - binary_accuracy: 1.0000\n",
            "Epoch 775/800\n",
            "4/4 [==============================] - 0s 4ms/step - loss: 0.2214 - binary_accuracy: 1.0000\n",
            "Epoch 776/800\n",
            "4/4 [==============================] - 0s 4ms/step - loss: 0.2212 - binary_accuracy: 1.0000\n",
            "Epoch 777/800\n",
            "4/4 [==============================] - 0s 4ms/step - loss: 0.2211 - binary_accuracy: 1.0000\n",
            "Epoch 778/800\n",
            "4/4 [==============================] - 0s 4ms/step - loss: 0.2209 - binary_accuracy: 1.0000\n",
            "Epoch 779/800\n",
            "4/4 [==============================] - 0s 4ms/step - loss: 0.2207 - binary_accuracy: 1.0000\n",
            "Epoch 780/800\n",
            "4/4 [==============================] - 0s 5ms/step - loss: 0.2205 - binary_accuracy: 1.0000\n",
            "Epoch 781/800\n",
            "4/4 [==============================] - 0s 4ms/step - loss: 0.2204 - binary_accuracy: 1.0000\n",
            "Epoch 782/800\n",
            "4/4 [==============================] - 0s 4ms/step - loss: 0.2202 - binary_accuracy: 1.0000\n",
            "Epoch 783/800\n",
            "4/4 [==============================] - 0s 6ms/step - loss: 0.2200 - binary_accuracy: 1.0000\n",
            "Epoch 784/800\n",
            "4/4 [==============================] - 0s 6ms/step - loss: 0.2199 - binary_accuracy: 1.0000\n",
            "Epoch 785/800\n",
            "4/4 [==============================] - 0s 6ms/step - loss: 0.2197 - binary_accuracy: 1.0000\n",
            "Epoch 786/800\n",
            "4/4 [==============================] - 0s 5ms/step - loss: 0.2195 - binary_accuracy: 1.0000\n",
            "Epoch 787/800\n",
            "4/4 [==============================] - 0s 5ms/step - loss: 0.2194 - binary_accuracy: 1.0000\n",
            "Epoch 788/800\n",
            "4/4 [==============================] - 0s 4ms/step - loss: 0.2192 - binary_accuracy: 1.0000\n",
            "Epoch 789/800\n",
            "4/4 [==============================] - 0s 7ms/step - loss: 0.2190 - binary_accuracy: 1.0000\n",
            "Epoch 790/800\n",
            "4/4 [==============================] - 0s 7ms/step - loss: 0.2189 - binary_accuracy: 1.0000\n",
            "Epoch 791/800\n",
            "4/4 [==============================] - 0s 9ms/step - loss: 0.2187 - binary_accuracy: 1.0000\n",
            "Epoch 792/800\n",
            "4/4 [==============================] - 0s 8ms/step - loss: 0.2185 - binary_accuracy: 1.0000\n",
            "Epoch 793/800\n",
            "4/4 [==============================] - 0s 6ms/step - loss: 0.2184 - binary_accuracy: 1.0000\n",
            "Epoch 794/800\n",
            "4/4 [==============================] - 0s 5ms/step - loss: 0.2182 - binary_accuracy: 1.0000\n",
            "Epoch 795/800\n",
            "4/4 [==============================] - 0s 7ms/step - loss: 0.2180 - binary_accuracy: 1.0000\n",
            "Epoch 796/800\n",
            "4/4 [==============================] - 0s 4ms/step - loss: 0.2179 - binary_accuracy: 1.0000\n",
            "Epoch 797/800\n",
            "4/4 [==============================] - 0s 4ms/step - loss: 0.2177 - binary_accuracy: 1.0000\n",
            "Epoch 798/800\n",
            "4/4 [==============================] - 0s 5ms/step - loss: 0.2175 - binary_accuracy: 1.0000\n",
            "Epoch 799/800\n",
            "4/4 [==============================] - 0s 6ms/step - loss: 0.2174 - binary_accuracy: 1.0000\n",
            "Epoch 800/800\n",
            "4/4 [==============================] - 0s 6ms/step - loss: 0.2172 - binary_accuracy: 1.0000\n"
          ]
        },
        {
          "output_type": "execute_result",
          "data": {
            "text/plain": [
              "<keras.callbacks.History at 0x7fafdcedaa10>"
            ]
          },
          "metadata": {},
          "execution_count": 52
        }
      ]
    },
    {
      "cell_type": "markdown",
      "metadata": {
        "id": "g2VjiD7AYo6M"
      },
      "source": [
        "## Keras로 소프트맥스 회귀 구현하기"
      ]
    },
    {
      "cell_type": "code",
      "metadata": {
        "id": "HpAK04oYYd4L"
      },
      "source": [
        "import tensorflow        as tf\n",
        "import numpy             as np\n",
        "import pandas            as pd\n",
        "import seaborn           as sns\n",
        "import matplotlib.pyplot as plt\n",
        "\n",
        "from sklearn.datasets    import load_iris"
      ],
      "execution_count": 53,
      "outputs": []
    },
    {
      "cell_type": "code",
      "metadata": {
        "colab": {
          "base_uri": "https://localhost:8080/"
        },
        "id": "0sEZCd79Y5cr",
        "outputId": "1c6ae6cc-be5a-4890-b06b-39dab91ab097"
      },
      "source": [
        "df = load_iris()\n",
        "df.keys()"
      ],
      "execution_count": 54,
      "outputs": [
        {
          "output_type": "execute_result",
          "data": {
            "text/plain": [
              "dict_keys(['data', 'target', 'target_names', 'DESCR', 'feature_names', 'filename'])"
            ]
          },
          "metadata": {},
          "execution_count": 54
        }
      ]
    },
    {
      "cell_type": "code",
      "metadata": {
        "colab": {
          "base_uri": "https://localhost:8080/"
        },
        "id": "9ec1mYVdY8-1",
        "outputId": "d9d10432-33de-407f-fd7d-f8e06728b904"
      },
      "source": [
        "X = np.array(df.data,   dtype = np.float32)\n",
        "y = np.array(df.target, dtype = np.int32)\n",
        "\n",
        "nb_features = X.shape[1]\n",
        "nb_classes  = len(set(y))\n",
        "\n",
        "print(\"X:\", X.shape)\n",
        "print(\"y:\", y.shape)\n",
        "\n",
        "print(\"nb_features:\", nb_features)\n",
        "print(\"nb_classes :\", nb_classes)"
      ],
      "execution_count": 55,
      "outputs": [
        {
          "output_type": "stream",
          "name": "stdout",
          "text": [
            "X: (150, 4)\n",
            "y: (150,)\n",
            "nb_features: 4\n",
            "nb_classes : 3\n"
          ]
        }
      ]
    },
    {
      "cell_type": "code",
      "metadata": {
        "colab": {
          "base_uri": "https://localhost:8080/"
        },
        "id": "uzovjYzUZeuQ",
        "outputId": "cbdc0957-05ab-4d6a-beb9-308826ffdade"
      },
      "source": [
        "X[:5]"
      ],
      "execution_count": 56,
      "outputs": [
        {
          "output_type": "execute_result",
          "data": {
            "text/plain": [
              "array([[5.1, 3.5, 1.4, 0.2],\n",
              "       [4.9, 3. , 1.4, 0.2],\n",
              "       [4.7, 3.2, 1.3, 0.2],\n",
              "       [4.6, 3.1, 1.5, 0.2],\n",
              "       [5. , 3.6, 1.4, 0.2]], dtype=float32)"
            ]
          },
          "metadata": {},
          "execution_count": 56
        }
      ]
    },
    {
      "cell_type": "markdown",
      "metadata": {
        "id": "z8FKtJTYZvjC"
      },
      "source": [
        "- 소프트맥스 회귀를 위한 One-hot 인코딩 변환"
      ]
    },
    {
      "cell_type": "code",
      "metadata": {
        "colab": {
          "base_uri": "https://localhost:8080/"
        },
        "id": "K2B7a_5IZmxZ",
        "outputId": "07b2d132-47f4-49c0-f63f-cd0c19921097"
      },
      "source": [
        "y[:5]"
      ],
      "execution_count": 57,
      "outputs": [
        {
          "output_type": "execute_result",
          "data": {
            "text/plain": [
              "array([0, 0, 0, 0, 0], dtype=int32)"
            ]
          },
          "metadata": {},
          "execution_count": 57
        }
      ]
    },
    {
      "cell_type": "code",
      "metadata": {
        "colab": {
          "base_uri": "https://localhost:8080/"
        },
        "id": "CRGz1lfnZi-d",
        "outputId": "f3916bb2-2eb5-45ce-a65e-682458d8399d"
      },
      "source": [
        "y_one_hot = tf.one_hot(indices = list(y), depth = nb_classes)\n",
        "y_one_hot[:5]"
      ],
      "execution_count": 58,
      "outputs": [
        {
          "output_type": "execute_result",
          "data": {
            "text/plain": [
              "<tf.Tensor: shape=(5, 3), dtype=float32, numpy=\n",
              "array([[1., 0., 0.],\n",
              "       [1., 0., 0.],\n",
              "       [1., 0., 0.],\n",
              "       [1., 0., 0.],\n",
              "       [1., 0., 0.]], dtype=float32)>"
            ]
          },
          "metadata": {},
          "execution_count": 58
        }
      ]
    },
    {
      "cell_type": "code",
      "metadata": {
        "id": "OwlhqUKPZrfF",
        "colab": {
          "base_uri": "https://localhost:8080/"
        },
        "outputId": "53eca6e0-4fcf-41f9-ec99-3e217954b91a"
      },
      "source": [
        "from tensorflow.keras.models import Sequential\n",
        "from tensorflow.keras.layers import Dense\n",
        "from tensorflow.keras        import optimizers\n",
        "\n",
        "model = Sequential()\n",
        "\n",
        "# 입력의 차원은 4, 출력의 차원은 3, activation function은 softmax\n",
        "model.add(Dense(3, input_dim = 4, activation = \"softmax\"))\n",
        "\n",
        "# 옵티마이저는 경사하강법의 일종인 adam을 사용합니다.\n",
        "# 손실 함수는 cross_entropy 함수를 사용합니다.\n",
        "model.compile(loss = \"categorical_crossentropy\", optimizer = \"adam\", metrics = [\"accuracy\"])\n",
        "\n",
        "history = model.fit(X, y_one_hot, batch_size = 1, epochs = 200)"
      ],
      "execution_count": 59,
      "outputs": [
        {
          "output_type": "stream",
          "name": "stdout",
          "text": [
            "Epoch 1/200\n",
            "150/150 [==============================] - 2s 2ms/step - loss: 1.9512 - accuracy: 0.0000e+00\n",
            "Epoch 2/200\n",
            "150/150 [==============================] - 0s 2ms/step - loss: 1.7667 - accuracy: 0.0467\n",
            "Epoch 3/200\n",
            "150/150 [==============================] - 0s 2ms/step - loss: 1.6498 - accuracy: 0.1133\n",
            "Epoch 4/200\n",
            "150/150 [==============================] - 0s 2ms/step - loss: 1.5449 - accuracy: 0.0933\n",
            "Epoch 5/200\n",
            "150/150 [==============================] - 0s 2ms/step - loss: 1.4421 - accuracy: 0.1267\n",
            "Epoch 6/200\n",
            "150/150 [==============================] - 0s 2ms/step - loss: 1.3503 - accuracy: 0.0933\n",
            "Epoch 7/200\n",
            "150/150 [==============================] - 0s 2ms/step - loss: 1.2572 - accuracy: 0.1133\n",
            "Epoch 8/200\n",
            "150/150 [==============================] - 0s 2ms/step - loss: 1.1766 - accuracy: 0.1800\n",
            "Epoch 9/200\n",
            "150/150 [==============================] - 0s 2ms/step - loss: 1.0983 - accuracy: 0.1600\n",
            "Epoch 10/200\n",
            "150/150 [==============================] - 0s 2ms/step - loss: 1.0308 - accuracy: 0.2333\n",
            "Epoch 11/200\n",
            "150/150 [==============================] - 0s 2ms/step - loss: 0.9725 - accuracy: 0.3733\n",
            "Epoch 12/200\n",
            "150/150 [==============================] - 0s 2ms/step - loss: 0.9191 - accuracy: 0.5200\n",
            "Epoch 13/200\n",
            "150/150 [==============================] - 0s 2ms/step - loss: 0.8714 - accuracy: 0.5867\n",
            "Epoch 14/200\n",
            "150/150 [==============================] - 0s 2ms/step - loss: 0.8284 - accuracy: 0.6200\n",
            "Epoch 15/200\n",
            "150/150 [==============================] - 0s 2ms/step - loss: 0.7923 - accuracy: 0.6533\n",
            "Epoch 16/200\n",
            "150/150 [==============================] - 0s 2ms/step - loss: 0.7579 - accuracy: 0.6267\n",
            "Epoch 17/200\n",
            "150/150 [==============================] - 0s 2ms/step - loss: 0.7295 - accuracy: 0.6133\n",
            "Epoch 18/200\n",
            "150/150 [==============================] - 0s 2ms/step - loss: 0.7042 - accuracy: 0.6533\n",
            "Epoch 19/200\n",
            "150/150 [==============================] - 0s 2ms/step - loss: 0.6796 - accuracy: 0.6800\n",
            "Epoch 20/200\n",
            "150/150 [==============================] - 0s 2ms/step - loss: 0.6573 - accuracy: 0.6933\n",
            "Epoch 21/200\n",
            "150/150 [==============================] - 0s 2ms/step - loss: 0.6405 - accuracy: 0.7267\n",
            "Epoch 22/200\n",
            "150/150 [==============================] - 0s 2ms/step - loss: 0.6227 - accuracy: 0.7333\n",
            "Epoch 23/200\n",
            "150/150 [==============================] - 0s 2ms/step - loss: 0.6043 - accuracy: 0.7200\n",
            "Epoch 24/200\n",
            "150/150 [==============================] - 0s 2ms/step - loss: 0.5910 - accuracy: 0.6933\n",
            "Epoch 25/200\n",
            "150/150 [==============================] - 0s 2ms/step - loss: 0.5755 - accuracy: 0.8000\n",
            "Epoch 26/200\n",
            "150/150 [==============================] - 0s 2ms/step - loss: 0.5653 - accuracy: 0.7933\n",
            "Epoch 27/200\n",
            "150/150 [==============================] - 0s 2ms/step - loss: 0.5529 - accuracy: 0.7800\n",
            "Epoch 28/200\n",
            "150/150 [==============================] - 0s 2ms/step - loss: 0.5414 - accuracy: 0.7467\n",
            "Epoch 29/200\n",
            "150/150 [==============================] - 0s 2ms/step - loss: 0.5309 - accuracy: 0.7600\n",
            "Epoch 30/200\n",
            "150/150 [==============================] - 0s 2ms/step - loss: 0.5217 - accuracy: 0.8133\n",
            "Epoch 31/200\n",
            "150/150 [==============================] - 0s 2ms/step - loss: 0.5114 - accuracy: 0.8533\n",
            "Epoch 32/200\n",
            "150/150 [==============================] - 0s 2ms/step - loss: 0.5029 - accuracy: 0.7933\n",
            "Epoch 33/200\n",
            "150/150 [==============================] - 0s 2ms/step - loss: 0.4962 - accuracy: 0.8200\n",
            "Epoch 34/200\n",
            "150/150 [==============================] - 0s 2ms/step - loss: 0.4905 - accuracy: 0.8200\n",
            "Epoch 35/200\n",
            "150/150 [==============================] - 0s 2ms/step - loss: 0.4836 - accuracy: 0.8200\n",
            "Epoch 36/200\n",
            "150/150 [==============================] - 0s 2ms/step - loss: 0.4763 - accuracy: 0.8467\n",
            "Epoch 37/200\n",
            "150/150 [==============================] - 0s 2ms/step - loss: 0.4659 - accuracy: 0.8200\n",
            "Epoch 38/200\n",
            "150/150 [==============================] - 0s 2ms/step - loss: 0.4602 - accuracy: 0.8933\n",
            "Epoch 39/200\n",
            "150/150 [==============================] - 0s 2ms/step - loss: 0.4529 - accuracy: 0.8267\n",
            "Epoch 40/200\n",
            "150/150 [==============================] - 0s 2ms/step - loss: 0.4476 - accuracy: 0.8467\n",
            "Epoch 41/200\n",
            "150/150 [==============================] - 0s 2ms/step - loss: 0.4416 - accuracy: 0.9200\n",
            "Epoch 42/200\n",
            "150/150 [==============================] - 0s 2ms/step - loss: 0.4358 - accuracy: 0.8733\n",
            "Epoch 43/200\n",
            "150/150 [==============================] - 0s 2ms/step - loss: 0.4304 - accuracy: 0.9000\n",
            "Epoch 44/200\n",
            "150/150 [==============================] - 0s 2ms/step - loss: 0.4287 - accuracy: 0.9200\n",
            "Epoch 45/200\n",
            "150/150 [==============================] - 0s 2ms/step - loss: 0.4216 - accuracy: 0.8667\n",
            "Epoch 46/200\n",
            "150/150 [==============================] - 0s 2ms/step - loss: 0.4177 - accuracy: 0.9000\n",
            "Epoch 47/200\n",
            "150/150 [==============================] - 0s 2ms/step - loss: 0.4109 - accuracy: 0.9067\n",
            "Epoch 48/200\n",
            "150/150 [==============================] - 0s 2ms/step - loss: 0.4061 - accuracy: 0.9200\n",
            "Epoch 49/200\n",
            "150/150 [==============================] - 0s 2ms/step - loss: 0.4009 - accuracy: 0.9133\n",
            "Epoch 50/200\n",
            "150/150 [==============================] - 0s 2ms/step - loss: 0.3967 - accuracy: 0.9200\n",
            "Epoch 51/200\n",
            "150/150 [==============================] - 0s 2ms/step - loss: 0.3951 - accuracy: 0.9133\n",
            "Epoch 52/200\n",
            "150/150 [==============================] - 0s 2ms/step - loss: 0.3884 - accuracy: 0.9333\n",
            "Epoch 53/200\n",
            "150/150 [==============================] - 0s 2ms/step - loss: 0.3828 - accuracy: 0.9200\n",
            "Epoch 54/200\n",
            "150/150 [==============================] - 0s 2ms/step - loss: 0.3795 - accuracy: 0.9733\n",
            "Epoch 55/200\n",
            "150/150 [==============================] - 0s 2ms/step - loss: 0.3774 - accuracy: 0.9200\n",
            "Epoch 56/200\n",
            "150/150 [==============================] - 0s 2ms/step - loss: 0.3725 - accuracy: 0.9467\n",
            "Epoch 57/200\n",
            "150/150 [==============================] - 0s 2ms/step - loss: 0.3680 - accuracy: 0.9133\n",
            "Epoch 58/200\n",
            "150/150 [==============================] - 0s 2ms/step - loss: 0.3674 - accuracy: 0.9533\n",
            "Epoch 59/200\n",
            "150/150 [==============================] - 0s 2ms/step - loss: 0.3605 - accuracy: 0.9667\n",
            "Epoch 60/200\n",
            "150/150 [==============================] - 0s 2ms/step - loss: 0.3557 - accuracy: 0.9733\n",
            "Epoch 61/200\n",
            "150/150 [==============================] - 0s 2ms/step - loss: 0.3534 - accuracy: 0.9600\n",
            "Epoch 62/200\n",
            "150/150 [==============================] - 0s 2ms/step - loss: 0.3539 - accuracy: 0.9200\n",
            "Epoch 63/200\n",
            "150/150 [==============================] - 0s 2ms/step - loss: 0.3475 - accuracy: 0.9600\n",
            "Epoch 64/200\n",
            "150/150 [==============================] - 0s 2ms/step - loss: 0.3459 - accuracy: 0.9333\n",
            "Epoch 65/200\n",
            "150/150 [==============================] - 0s 2ms/step - loss: 0.3401 - accuracy: 0.9600\n",
            "Epoch 66/200\n",
            "150/150 [==============================] - 0s 2ms/step - loss: 0.3394 - accuracy: 0.9467\n",
            "Epoch 67/200\n",
            "150/150 [==============================] - 0s 2ms/step - loss: 0.3353 - accuracy: 0.9467\n",
            "Epoch 68/200\n",
            "150/150 [==============================] - 0s 2ms/step - loss: 0.3334 - accuracy: 0.9733\n",
            "Epoch 69/200\n",
            "150/150 [==============================] - 0s 2ms/step - loss: 0.3273 - accuracy: 0.9733\n",
            "Epoch 70/200\n",
            "150/150 [==============================] - 0s 2ms/step - loss: 0.3265 - accuracy: 0.9467\n",
            "Epoch 71/200\n",
            "150/150 [==============================] - 0s 2ms/step - loss: 0.3221 - accuracy: 0.9667\n",
            "Epoch 72/200\n",
            "150/150 [==============================] - 0s 2ms/step - loss: 0.3193 - accuracy: 0.9600\n",
            "Epoch 73/200\n",
            "150/150 [==============================] - 0s 2ms/step - loss: 0.3186 - accuracy: 0.9533\n",
            "Epoch 74/200\n",
            "150/150 [==============================] - 0s 2ms/step - loss: 0.3136 - accuracy: 0.9667\n",
            "Epoch 75/200\n",
            "150/150 [==============================] - 0s 2ms/step - loss: 0.3097 - accuracy: 0.9733\n",
            "Epoch 76/200\n",
            "150/150 [==============================] - 0s 2ms/step - loss: 0.3090 - accuracy: 0.9600\n",
            "Epoch 77/200\n",
            "150/150 [==============================] - 0s 2ms/step - loss: 0.3065 - accuracy: 0.9600\n",
            "Epoch 78/200\n",
            "150/150 [==============================] - 0s 2ms/step - loss: 0.3026 - accuracy: 0.9733\n",
            "Epoch 79/200\n",
            "150/150 [==============================] - 0s 2ms/step - loss: 0.3018 - accuracy: 0.9667\n",
            "Epoch 80/200\n",
            "150/150 [==============================] - 0s 2ms/step - loss: 0.2989 - accuracy: 0.9667\n",
            "Epoch 81/200\n",
            "150/150 [==============================] - 0s 2ms/step - loss: 0.2952 - accuracy: 0.9600\n",
            "Epoch 82/200\n",
            "150/150 [==============================] - 0s 2ms/step - loss: 0.2936 - accuracy: 0.9800\n",
            "Epoch 83/200\n",
            "150/150 [==============================] - 0s 2ms/step - loss: 0.2918 - accuracy: 0.9667\n",
            "Epoch 84/200\n",
            "150/150 [==============================] - 0s 2ms/step - loss: 0.2852 - accuracy: 0.9667\n",
            "Epoch 85/200\n",
            "150/150 [==============================] - 0s 2ms/step - loss: 0.2856 - accuracy: 0.9800\n",
            "Epoch 86/200\n",
            "150/150 [==============================] - 0s 2ms/step - loss: 0.2828 - accuracy: 0.9733\n",
            "Epoch 87/200\n",
            "150/150 [==============================] - 0s 2ms/step - loss: 0.2808 - accuracy: 0.9800\n",
            "Epoch 88/200\n",
            "150/150 [==============================] - 0s 2ms/step - loss: 0.2790 - accuracy: 0.9667\n",
            "Epoch 89/200\n",
            "150/150 [==============================] - 0s 2ms/step - loss: 0.2754 - accuracy: 0.9800\n",
            "Epoch 90/200\n",
            "150/150 [==============================] - 0s 2ms/step - loss: 0.2755 - accuracy: 0.9733\n",
            "Epoch 91/200\n",
            "150/150 [==============================] - 0s 2ms/step - loss: 0.2740 - accuracy: 0.9667\n",
            "Epoch 92/200\n",
            "150/150 [==============================] - 0s 2ms/step - loss: 0.2714 - accuracy: 0.9733\n",
            "Epoch 93/200\n",
            "150/150 [==============================] - 0s 2ms/step - loss: 0.2682 - accuracy: 0.9800\n",
            "Epoch 94/200\n",
            "150/150 [==============================] - 0s 2ms/step - loss: 0.2683 - accuracy: 0.9733\n",
            "Epoch 95/200\n",
            "150/150 [==============================] - 0s 2ms/step - loss: 0.2644 - accuracy: 0.9733\n",
            "Epoch 96/200\n",
            "150/150 [==============================] - 0s 2ms/step - loss: 0.2630 - accuracy: 0.9800\n",
            "Epoch 97/200\n",
            "150/150 [==============================] - 0s 2ms/step - loss: 0.2601 - accuracy: 0.9667\n",
            "Epoch 98/200\n",
            "150/150 [==============================] - 0s 2ms/step - loss: 0.2593 - accuracy: 0.9733\n",
            "Epoch 99/200\n",
            "150/150 [==============================] - 0s 2ms/step - loss: 0.2552 - accuracy: 0.9733\n",
            "Epoch 100/200\n",
            "150/150 [==============================] - 0s 2ms/step - loss: 0.2531 - accuracy: 0.9733\n",
            "Epoch 101/200\n",
            "150/150 [==============================] - 0s 2ms/step - loss: 0.2528 - accuracy: 0.9733\n",
            "Epoch 102/200\n",
            "150/150 [==============================] - 0s 2ms/step - loss: 0.2506 - accuracy: 0.9800\n",
            "Epoch 103/200\n",
            "150/150 [==============================] - 0s 2ms/step - loss: 0.2489 - accuracy: 0.9800\n",
            "Epoch 104/200\n",
            "150/150 [==============================] - 0s 2ms/step - loss: 0.2473 - accuracy: 0.9733\n",
            "Epoch 105/200\n",
            "150/150 [==============================] - 0s 2ms/step - loss: 0.2437 - accuracy: 0.9667\n",
            "Epoch 106/200\n",
            "150/150 [==============================] - 0s 2ms/step - loss: 0.2429 - accuracy: 0.9800\n",
            "Epoch 107/200\n",
            "150/150 [==============================] - 0s 2ms/step - loss: 0.2422 - accuracy: 0.9800\n",
            "Epoch 108/200\n",
            "150/150 [==============================] - 0s 2ms/step - loss: 0.2400 - accuracy: 0.9733\n",
            "Epoch 109/200\n",
            "150/150 [==============================] - 0s 2ms/step - loss: 0.2381 - accuracy: 0.9733\n",
            "Epoch 110/200\n",
            "150/150 [==============================] - 0s 2ms/step - loss: 0.2360 - accuracy: 0.9867\n",
            "Epoch 111/200\n",
            "150/150 [==============================] - 0s 2ms/step - loss: 0.2343 - accuracy: 0.9800\n",
            "Epoch 112/200\n",
            "150/150 [==============================] - 0s 2ms/step - loss: 0.2340 - accuracy: 0.9667\n",
            "Epoch 113/200\n",
            "150/150 [==============================] - 0s 2ms/step - loss: 0.2311 - accuracy: 0.9733\n",
            "Epoch 114/200\n",
            "150/150 [==============================] - 0s 2ms/step - loss: 0.2294 - accuracy: 0.9733\n",
            "Epoch 115/200\n",
            "150/150 [==============================] - 0s 2ms/step - loss: 0.2270 - accuracy: 0.9800\n",
            "Epoch 116/200\n",
            "150/150 [==============================] - 0s 2ms/step - loss: 0.2268 - accuracy: 0.9867\n",
            "Epoch 117/200\n",
            "150/150 [==============================] - 0s 2ms/step - loss: 0.2256 - accuracy: 0.9800\n",
            "Epoch 118/200\n",
            "150/150 [==============================] - 0s 2ms/step - loss: 0.2220 - accuracy: 0.9800\n",
            "Epoch 119/200\n",
            "150/150 [==============================] - 0s 2ms/step - loss: 0.2219 - accuracy: 0.9867\n",
            "Epoch 120/200\n",
            "150/150 [==============================] - 0s 2ms/step - loss: 0.2219 - accuracy: 0.9800\n",
            "Epoch 121/200\n",
            "150/150 [==============================] - 0s 3ms/step - loss: 0.2199 - accuracy: 0.9733\n",
            "Epoch 122/200\n",
            "150/150 [==============================] - 0s 2ms/step - loss: 0.2159 - accuracy: 0.9800\n",
            "Epoch 123/200\n",
            "150/150 [==============================] - 0s 3ms/step - loss: 0.2175 - accuracy: 0.9667\n",
            "Epoch 124/200\n",
            "150/150 [==============================] - 0s 2ms/step - loss: 0.2132 - accuracy: 0.9667\n",
            "Epoch 125/200\n",
            "150/150 [==============================] - 0s 2ms/step - loss: 0.2159 - accuracy: 0.9733\n",
            "Epoch 126/200\n",
            "150/150 [==============================] - 0s 2ms/step - loss: 0.2125 - accuracy: 0.9800\n",
            "Epoch 127/200\n",
            "150/150 [==============================] - 0s 2ms/step - loss: 0.2106 - accuracy: 0.9800\n",
            "Epoch 128/200\n",
            "150/150 [==============================] - 0s 2ms/step - loss: 0.2102 - accuracy: 0.9733\n",
            "Epoch 129/200\n",
            "150/150 [==============================] - 0s 2ms/step - loss: 0.2097 - accuracy: 0.9733\n",
            "Epoch 130/200\n",
            "150/150 [==============================] - 0s 2ms/step - loss: 0.2070 - accuracy: 0.9867\n",
            "Epoch 131/200\n",
            "150/150 [==============================] - 0s 2ms/step - loss: 0.2069 - accuracy: 0.9733\n",
            "Epoch 132/200\n",
            "150/150 [==============================] - 0s 2ms/step - loss: 0.2040 - accuracy: 0.9867\n",
            "Epoch 133/200\n",
            "150/150 [==============================] - 0s 2ms/step - loss: 0.2036 - accuracy: 0.9733\n",
            "Epoch 134/200\n",
            "150/150 [==============================] - 0s 2ms/step - loss: 0.2026 - accuracy: 0.9867\n",
            "Epoch 135/200\n",
            "150/150 [==============================] - 0s 2ms/step - loss: 0.2003 - accuracy: 0.9867\n",
            "Epoch 136/200\n",
            "150/150 [==============================] - 0s 2ms/step - loss: 0.2025 - accuracy: 0.9800\n",
            "Epoch 137/200\n",
            "150/150 [==============================] - 0s 2ms/step - loss: 0.1990 - accuracy: 0.9800\n",
            "Epoch 138/200\n",
            "150/150 [==============================] - 0s 2ms/step - loss: 0.1969 - accuracy: 0.9800\n",
            "Epoch 139/200\n",
            "150/150 [==============================] - 0s 2ms/step - loss: 0.1960 - accuracy: 0.9733\n",
            "Epoch 140/200\n",
            "150/150 [==============================] - 0s 2ms/step - loss: 0.1947 - accuracy: 0.9867\n",
            "Epoch 141/200\n",
            "150/150 [==============================] - 0s 2ms/step - loss: 0.1943 - accuracy: 0.9800\n",
            "Epoch 142/200\n",
            "150/150 [==============================] - 0s 2ms/step - loss: 0.1910 - accuracy: 0.9800\n",
            "Epoch 143/200\n",
            "150/150 [==============================] - 0s 2ms/step - loss: 0.1912 - accuracy: 0.9667\n",
            "Epoch 144/200\n",
            "150/150 [==============================] - 0s 2ms/step - loss: 0.1906 - accuracy: 0.9800\n",
            "Epoch 145/200\n",
            "150/150 [==============================] - 0s 2ms/step - loss: 0.1900 - accuracy: 0.9867\n",
            "Epoch 146/200\n",
            "150/150 [==============================] - 0s 2ms/step - loss: 0.1878 - accuracy: 0.9667\n",
            "Epoch 147/200\n",
            "150/150 [==============================] - 0s 2ms/step - loss: 0.1893 - accuracy: 0.9800\n",
            "Epoch 148/200\n",
            "150/150 [==============================] - 0s 2ms/step - loss: 0.1866 - accuracy: 0.9800\n",
            "Epoch 149/200\n",
            "150/150 [==============================] - 0s 2ms/step - loss: 0.1870 - accuracy: 0.9800\n",
            "Epoch 150/200\n",
            "150/150 [==============================] - 0s 2ms/step - loss: 0.1841 - accuracy: 0.9733\n",
            "Epoch 151/200\n",
            "150/150 [==============================] - 0s 2ms/step - loss: 0.1852 - accuracy: 0.9800\n",
            "Epoch 152/200\n",
            "150/150 [==============================] - 0s 2ms/step - loss: 0.1824 - accuracy: 0.9733\n",
            "Epoch 153/200\n",
            "150/150 [==============================] - 0s 2ms/step - loss: 0.1818 - accuracy: 0.9733\n",
            "Epoch 154/200\n",
            "150/150 [==============================] - 0s 2ms/step - loss: 0.1814 - accuracy: 0.9667\n",
            "Epoch 155/200\n",
            "150/150 [==============================] - 0s 2ms/step - loss: 0.1796 - accuracy: 0.9800\n",
            "Epoch 156/200\n",
            "150/150 [==============================] - 0s 2ms/step - loss: 0.1790 - accuracy: 0.9800\n",
            "Epoch 157/200\n",
            "150/150 [==============================] - 0s 2ms/step - loss: 0.1790 - accuracy: 0.9800\n",
            "Epoch 158/200\n",
            "150/150 [==============================] - 0s 2ms/step - loss: 0.1786 - accuracy: 0.9800\n",
            "Epoch 159/200\n",
            "150/150 [==============================] - 0s 2ms/step - loss: 0.1751 - accuracy: 0.9867\n",
            "Epoch 160/200\n",
            "150/150 [==============================] - 0s 2ms/step - loss: 0.1742 - accuracy: 0.9800\n",
            "Epoch 161/200\n",
            "150/150 [==============================] - 0s 2ms/step - loss: 0.1748 - accuracy: 0.9867\n",
            "Epoch 162/200\n",
            "150/150 [==============================] - 0s 2ms/step - loss: 0.1747 - accuracy: 0.9800\n",
            "Epoch 163/200\n",
            "150/150 [==============================] - 0s 2ms/step - loss: 0.1723 - accuracy: 0.9800\n",
            "Epoch 164/200\n",
            "150/150 [==============================] - 0s 2ms/step - loss: 0.1720 - accuracy: 0.9800\n",
            "Epoch 165/200\n",
            "150/150 [==============================] - 0s 2ms/step - loss: 0.1707 - accuracy: 0.9867\n",
            "Epoch 166/200\n",
            "150/150 [==============================] - 0s 2ms/step - loss: 0.1707 - accuracy: 0.9867\n",
            "Epoch 167/200\n",
            "150/150 [==============================] - 0s 2ms/step - loss: 0.1689 - accuracy: 0.9800\n",
            "Epoch 168/200\n",
            "150/150 [==============================] - 0s 2ms/step - loss: 0.1692 - accuracy: 0.9800\n",
            "Epoch 169/200\n",
            "150/150 [==============================] - 0s 2ms/step - loss: 0.1681 - accuracy: 0.9800\n",
            "Epoch 170/200\n",
            "150/150 [==============================] - 0s 2ms/step - loss: 0.1679 - accuracy: 0.9667\n",
            "Epoch 171/200\n",
            "150/150 [==============================] - 0s 2ms/step - loss: 0.1672 - accuracy: 0.9800\n",
            "Epoch 172/200\n",
            "150/150 [==============================] - 0s 2ms/step - loss: 0.1657 - accuracy: 0.9733\n",
            "Epoch 173/200\n",
            "150/150 [==============================] - 0s 2ms/step - loss: 0.1661 - accuracy: 0.9800\n",
            "Epoch 174/200\n",
            "150/150 [==============================] - 0s 2ms/step - loss: 0.1636 - accuracy: 0.9800\n",
            "Epoch 175/200\n",
            "150/150 [==============================] - 0s 2ms/step - loss: 0.1635 - accuracy: 0.9733\n",
            "Epoch 176/200\n",
            "150/150 [==============================] - 0s 2ms/step - loss: 0.1633 - accuracy: 0.9867\n",
            "Epoch 177/200\n",
            "150/150 [==============================] - 0s 2ms/step - loss: 0.1623 - accuracy: 0.9867\n",
            "Epoch 178/200\n",
            "150/150 [==============================] - 0s 2ms/step - loss: 0.1623 - accuracy: 0.9733\n",
            "Epoch 179/200\n",
            "150/150 [==============================] - 0s 2ms/step - loss: 0.1605 - accuracy: 0.9867\n",
            "Epoch 180/200\n",
            "150/150 [==============================] - 0s 2ms/step - loss: 0.1595 - accuracy: 0.9800\n",
            "Epoch 181/200\n",
            "150/150 [==============================] - 0s 3ms/step - loss: 0.1583 - accuracy: 0.9800\n",
            "Epoch 182/200\n",
            "150/150 [==============================] - 1s 3ms/step - loss: 0.1597 - accuracy: 0.9733\n",
            "Epoch 183/200\n",
            "150/150 [==============================] - 0s 2ms/step - loss: 0.1587 - accuracy: 0.9800\n",
            "Epoch 184/200\n",
            "150/150 [==============================] - 0s 2ms/step - loss: 0.1569 - accuracy: 0.9800\n",
            "Epoch 185/200\n",
            "150/150 [==============================] - 0s 2ms/step - loss: 0.1570 - accuracy: 0.9800\n",
            "Epoch 186/200\n",
            "150/150 [==============================] - 0s 2ms/step - loss: 0.1554 - accuracy: 0.9867\n",
            "Epoch 187/200\n",
            "150/150 [==============================] - 0s 2ms/step - loss: 0.1578 - accuracy: 0.9733\n",
            "Epoch 188/200\n",
            "150/150 [==============================] - 0s 2ms/step - loss: 0.1545 - accuracy: 0.9800\n",
            "Epoch 189/200\n",
            "150/150 [==============================] - 0s 2ms/step - loss: 0.1543 - accuracy: 0.9800\n",
            "Epoch 190/200\n",
            "150/150 [==============================] - 0s 2ms/step - loss: 0.1526 - accuracy: 0.9800\n",
            "Epoch 191/200\n",
            "150/150 [==============================] - 0s 2ms/step - loss: 0.1525 - accuracy: 0.9800\n",
            "Epoch 192/200\n",
            "150/150 [==============================] - 0s 2ms/step - loss: 0.1523 - accuracy: 0.9800\n",
            "Epoch 193/200\n",
            "150/150 [==============================] - 0s 2ms/step - loss: 0.1505 - accuracy: 0.9867\n",
            "Epoch 194/200\n",
            "150/150 [==============================] - 0s 2ms/step - loss: 0.1501 - accuracy: 0.9800\n",
            "Epoch 195/200\n",
            "150/150 [==============================] - 0s 2ms/step - loss: 0.1489 - accuracy: 0.9800\n",
            "Epoch 196/200\n",
            "150/150 [==============================] - 0s 2ms/step - loss: 0.1490 - accuracy: 0.9800\n",
            "Epoch 197/200\n",
            "150/150 [==============================] - 0s 2ms/step - loss: 0.1485 - accuracy: 0.9800\n",
            "Epoch 198/200\n",
            "150/150 [==============================] - 0s 2ms/step - loss: 0.1494 - accuracy: 0.9800\n",
            "Epoch 199/200\n",
            "150/150 [==============================] - 0s 2ms/step - loss: 0.1476 - accuracy: 0.9800\n",
            "Epoch 200/200\n",
            "150/150 [==============================] - 0s 2ms/step - loss: 0.1470 - accuracy: 0.9800\n"
          ]
        }
      ]
    },
    {
      "cell_type": "markdown",
      "metadata": {
        "id": "3F-cbGgAbWAs"
      },
      "source": [
        "## Tape로 소프트맥스 회귀 구현하기"
      ]
    },
    {
      "cell_type": "code",
      "metadata": {
        "id": "Qe8Jl5YMbISo"
      },
      "source": [
        "import tensorflow        as tf\n",
        "import numpy             as np\n",
        "import pandas            as pd\n",
        "import seaborn           as sns\n",
        "import matplotlib.pyplot as plt\n",
        "\n",
        "from sklearn.datasets    import load_iris"
      ],
      "execution_count": 60,
      "outputs": []
    },
    {
      "cell_type": "code",
      "metadata": {
        "colab": {
          "base_uri": "https://localhost:8080/"
        },
        "id": "2wc6oQ7vbmnz",
        "outputId": "24b0569c-2a7e-4b08-bfae-ce2b7c804a5d"
      },
      "source": [
        "df = load_iris()\n",
        "df.keys()"
      ],
      "execution_count": 61,
      "outputs": [
        {
          "output_type": "execute_result",
          "data": {
            "text/plain": [
              "dict_keys(['data', 'target', 'target_names', 'DESCR', 'feature_names', 'filename'])"
            ]
          },
          "metadata": {},
          "execution_count": 61
        }
      ]
    },
    {
      "cell_type": "code",
      "metadata": {
        "colab": {
          "base_uri": "https://localhost:8080/"
        },
        "id": "QqcfuSXVbny4",
        "outputId": "10938afe-3017-4043-bb94-13ad528bbe53"
      },
      "source": [
        "X = np.array(df.data,   dtype = np.float32)\n",
        "y = np.array(df.target, dtype = np.int32)\n",
        "\n",
        "nb_features = X.shape[1]\n",
        "nb_classes  = len(set(y))\n",
        "\n",
        "print(\"X:\", X.shape)\n",
        "print(\"y:\", y.shape)\n",
        "\n",
        "print(\"nb_featuers:\", nb_features)\n",
        "print(\"nb_classes :\", nb_classes)"
      ],
      "execution_count": 62,
      "outputs": [
        {
          "output_type": "stream",
          "name": "stdout",
          "text": [
            "X: (150, 4)\n",
            "y: (150,)\n",
            "nb_featuers: 4\n",
            "nb_classes : 3\n"
          ]
        }
      ]
    },
    {
      "cell_type": "code",
      "metadata": {
        "colab": {
          "base_uri": "https://localhost:8080/"
        },
        "id": "W8llv48QbvhC",
        "outputId": "1508b07b-cdf1-4964-c890-dc8db7adc46a"
      },
      "source": [
        "tf.random.set_seed(2020)\n",
        "W = tf.Variable(tf.random.normal([nb_features, nb_classes], mean = 0.0))\n",
        "b = tf.Variable(tf.random.normal([nb_classes], mean = 0.0))\n",
        "\n",
        "# One-hot encoding\n",
        "y_one_hot = tf.one_hot(indices = list(y), depth = nb_classes)\n",
        "\n",
        "print(\"# Weights: \\n\", W.numpy(), \"\\n\\n# Bias: \\n\", b.numpy())"
      ],
      "execution_count": 63,
      "outputs": [
        {
          "output_type": "stream",
          "name": "stdout",
          "text": [
            "# Weights: \n",
            " [[-0.10099822  0.6847899   1.6258513 ]\n",
            " [ 0.88112587 -0.63692456 -0.1427695 ]\n",
            " [ 0.82411087 -0.91326994 -0.4510184 ]\n",
            " [ 0.5805336   1.3066356  -0.60428965]] \n",
            "\n",
            "# Bias: \n",
            " [ 0.38414615 -0.6159301  -0.5453214 ]\n"
          ]
        }
      ]
    },
    {
      "cell_type": "code",
      "metadata": {
        "id": "mJkDOIxCcN0K",
        "colab": {
          "base_uri": "https://localhost:8080/"
        },
        "outputId": "546b44d5-5073-464f-f285-44b4168d385b"
      },
      "source": [
        "learning_rate = 0.01\n",
        "\n",
        "def softmax(X):\n",
        "  sm = tf.nn.softmax(tf.matmul(X, W) + b)\n",
        "  return sm\n",
        "\n",
        "# Train\n",
        "for i in range(10000+1):\n",
        "  with tf.GradientTape() as tape:\n",
        "    sm = softmax(X)\n",
        "    cost = tf.reduce_mean(-tf.reduce_sum(y_one_hot * tf.math.log(sm), axis=1))\n",
        "    W_grad, b_grad = tape.gradient(cost, [W, b])\n",
        "\n",
        "    W.assign_sub(learning_rate * W_grad)\n",
        "    b.assign_sub(learning_rate * b_grad)\n",
        "\n",
        "  if i % 1000 == 0:\n",
        "    print(\">>> #%s \\n Weights: \\n%s \\n Bias: \\n%s \\n cost: %s\\n\" % (i, W.numpy(), b.numpy(), cost.numpy()))"
      ],
      "execution_count": 64,
      "outputs": [
        {
          "output_type": "stream",
          "name": "stdout",
          "text": [
            ">>> #0 \n",
            " Weights: \n",
            "[[-0.11743643  0.70453906  1.6225402 ]\n",
            " [ 0.87678254 -0.62771267 -0.14763811]\n",
            " [ 0.80348897 -0.8990887  -0.44457778]\n",
            " [ 0.57257193  1.3110503  -0.60074264]] \n",
            " Bias: \n",
            "[ 0.382134   -0.61260384 -0.54663545] \n",
            " cost: 3.9675086\n",
            "\n",
            ">>> #1000 \n",
            " Weights: \n",
            "[[ 0.16433357  1.3574845   0.6878183 ]\n",
            " [ 1.7573066  -0.6487723  -1.0071024 ]\n",
            " [-0.8606213  -0.5406397   0.861084  ]\n",
            " [-0.19550526  1.0364838   0.4419002 ]] \n",
            " Bias: \n",
            "[ 0.56550527 -0.43386948 -0.9087409 ] \n",
            " cost: 0.4030607\n",
            "\n",
            ">>> #2000 \n",
            " Weights: \n",
            "[[ 0.31688705  1.5321449   0.36060718]\n",
            " [ 2.0306034  -0.6994985  -1.2296745 ]\n",
            " [-1.2645828  -0.59373426  1.3181396 ]\n",
            " [-0.3816475   0.72599596  0.9385294 ]] \n",
            " Bias: \n",
            "[ 0.62806755 -0.33476657 -1.0704056 ] \n",
            " cost: 0.29343703\n",
            "\n",
            ">>> #3000 \n",
            " Weights: \n",
            "[[ 0.42719242  1.6423259   0.14011958]\n",
            " [ 2.2220876  -0.71238434 -1.4082739 ]\n",
            " [-1.546792   -0.6306485   1.6372663 ]\n",
            " [-0.511728    0.49702492  1.2975819 ]] \n",
            " Bias: \n",
            "[ 0.67292666 -0.25323108 -1.196799  ] \n",
            " cost: 0.23829421\n",
            "\n",
            ">>> #4000 \n",
            " Weights: \n",
            "[[ 0.5144233   1.7170745  -0.02186058]\n",
            " [ 2.3705707  -0.7091595  -1.5599804 ]\n",
            " [-1.7671052  -0.6548334   1.8817647 ]\n",
            " [-0.61358684  0.31790718  1.5785575 ]] \n",
            " Bias: \n",
            "[ 0.7084194  -0.18307617 -1.3024468 ] \n",
            " cost: 0.20493014\n",
            "\n",
            ">>> #5000 \n",
            " Weights: \n",
            "[[ 0.58681935  1.7708844  -0.14806789]\n",
            " [ 2.4918387  -0.69798356 -1.6924247 ]\n",
            " [-1.9482716  -0.6713104   2.0794067 ]\n",
            " [-0.69766575  0.170829    1.8097141 ]] \n",
            " Bias: \n",
            "[ 0.73791015 -0.12065043 -1.3943636 ] \n",
            " cost: 0.18246925\n",
            "\n",
            ">>> #6000 \n",
            " Weights: \n",
            "[[ 0.6488228   1.8113611  -0.25055176]\n",
            " [ 2.5943103  -0.68270206 -1.8101764 ]\n",
            " [-2.1022532  -0.6829627   2.2450385 ]\n",
            " [-0.7694062   0.04584509  2.0064385 ]] \n",
            " Bias: \n",
            "[ 0.76319504 -0.06381503 -1.4764841 ] \n",
            " cost: 0.1662402\n",
            "\n",
            ">>> #7000 \n",
            " Weights: \n",
            "[[ 0.7031182   1.8428283  -0.33632028]\n",
            " [ 2.6830325  -0.66533214 -1.916268  ]\n",
            " [-2.2362251  -0.69143134  2.3874786 ]\n",
            " [-0.832059   -0.06300652  2.1779425 ]] \n",
            " Bias: \n",
            "[ 0.7853584  -0.01123119 -1.5512311 ] \n",
            " cost: 0.15391423\n",
            "\n",
            ">>> #8000 \n",
            " Weights: \n",
            "[[ 0.75145674  1.8679217  -0.4097584 ]\n",
            " [ 2.7612684  -0.6469995  -2.0128355 ]\n",
            " [-2.3548453  -0.6977035   2.512368  ]\n",
            " [-0.8877302  -0.15955028  2.3301558 ]] \n",
            " Bias: \n",
            "[ 0.8051087   0.03799391 -1.6202064 ] \n",
            " cost: 0.14420131\n",
            "\n",
            ">>> #9000 \n",
            " Weights: \n",
            "[[ 0.79504627  1.888339   -0.47377235]\n",
            " [ 2.8312435  -0.62835723 -2.1014514 ]\n",
            " [-2.4613104  -0.70240194  2.6235285 ]\n",
            " [-0.9378641  -0.2463794   2.4671183 ]] \n",
            " Bias: \n",
            "[ 0.82293427  0.0844862  -1.6845242 ] \n",
            " cost: 0.1363281\n",
            "\n",
            ">>> #10000 \n",
            " Weights: \n",
            "[[ 0.83475804  1.9052253  -0.5303762 ]\n",
            " [ 2.894546   -0.60978967 -2.1833184 ]\n",
            " [-2.5579093  -0.70594406  2.7236629 ]\n",
            " [-0.983496   -0.3253334   2.5917017 ]] \n",
            " Bias: \n",
            "[ 0.8391877   0.12870252 -1.7449929 ] \n",
            " cost: 0.12980224\n",
            "\n"
          ]
        }
      ]
    },
    {
      "cell_type": "code",
      "metadata": {
        "colab": {
          "base_uri": "https://localhost:8080/"
        },
        "id": "-EJ3bm-6cq6J",
        "outputId": "5693dbf8-2413-411b-962f-3bc071d4bb61"
      },
      "source": [
        "predicted = tf.argmax(softmax(X), axis=1)\n",
        "real = tf.argmax(y_one_hot, axis=1)\n",
        "\n",
        "def acc(predicted, real):\n",
        "  accuracy = tf.reduce_mean(tf.cast(tf.equal(predicted, real), dtype=tf.float32))\n",
        "  return accuracy\n",
        "\n",
        "accuracy = acc(predicted, real).numpy()\n",
        "print(\"Accuracy: %s\" % accuracy)"
      ],
      "execution_count": 65,
      "outputs": [
        {
          "output_type": "stream",
          "name": "stdout",
          "text": [
            "Accuracy: 0.97333336\n"
          ]
        }
      ]
    },
    {
      "cell_type": "markdown",
      "metadata": {
        "id": "DsfCBNeadlbk"
      },
      "source": [
        "## 다층 퍼셉트론으로 MNIST 분류하기"
      ]
    },
    {
      "cell_type": "code",
      "metadata": {
        "id": "WpiiTtRndfrG"
      },
      "source": [
        "import tensorflow as tf\n",
        "import numpy      as np\n",
        "\n",
        "from tensorflow.keras.models import Sequential\n",
        "from tensorflow.keras.layers import Dense, Flatten, Dropout\n",
        "from tensorflow.keras        import optimizers"
      ],
      "execution_count": 66,
      "outputs": []
    },
    {
      "cell_type": "code",
      "metadata": {
        "colab": {
          "base_uri": "https://localhost:8080/"
        },
        "id": "VOY-lLurd2HD",
        "outputId": "abd0de07-4c58-4b43-d5e9-6b57d7639ed4"
      },
      "source": [
        "mnist = tf.keras.datasets.mnist\n",
        "\n",
        "(X_train, y_train), (X_test, y_test) = mnist.load_data()\n",
        "X_train, X_test = X_train / 255.0, X_test / 255.0"
      ],
      "execution_count": 67,
      "outputs": [
        {
          "output_type": "stream",
          "name": "stdout",
          "text": [
            "Downloading data from https://storage.googleapis.com/tensorflow/tf-keras-datasets/mnist.npz\n",
            "11493376/11490434 [==============================] - 0s 0us/step\n",
            "11501568/11490434 [==============================] - 0s 0us/step\n"
          ]
        }
      ]
    },
    {
      "cell_type": "code",
      "metadata": {
        "colab": {
          "base_uri": "https://localhost:8080/"
        },
        "id": "twGzWEWzd-Nv",
        "outputId": "fa20fe7f-a41d-49e9-8250-30abdf6ca5a0"
      },
      "source": [
        "model = Sequential([\n",
        "  Flatten(input_shape = (28, 28)),\n",
        "  Dense(128, activation = \"relu\"),\n",
        "  Dropout(0.2),\n",
        "  Dense(10, activation = \"softmax\")])\n",
        "\n",
        "model.compile(optimizer = \"adam\", loss = \"sparse_categorical_crossentropy\", metrics = [\"accuracy\"])\n",
        "model.fit(X_train, y_train, epochs = 5)\n",
        "model.evaluate(X_test, y_test, verbose = 2)"
      ],
      "execution_count": 68,
      "outputs": [
        {
          "output_type": "stream",
          "name": "stdout",
          "text": [
            "Epoch 1/5\n",
            "1875/1875 [==============================] - 5s 2ms/step - loss: 0.2935 - accuracy: 0.9146\n",
            "Epoch 2/5\n",
            "1875/1875 [==============================] - 4s 2ms/step - loss: 0.1457 - accuracy: 0.9561\n",
            "Epoch 3/5\n",
            "1875/1875 [==============================] - 4s 2ms/step - loss: 0.1073 - accuracy: 0.9675\n",
            "Epoch 4/5\n",
            "1875/1875 [==============================] - 4s 2ms/step - loss: 0.0870 - accuracy: 0.9732\n",
            "Epoch 5/5\n",
            "1875/1875 [==============================] - 4s 2ms/step - loss: 0.0764 - accuracy: 0.9761\n",
            "313/313 - 1s - loss: 0.0716 - accuracy: 0.9767\n"
          ]
        },
        {
          "output_type": "execute_result",
          "data": {
            "text/plain": [
              "[0.07158736884593964, 0.9767000079154968]"
            ]
          },
          "metadata": {},
          "execution_count": 68
        }
      ]
    },
    {
      "cell_type": "markdown",
      "metadata": {
        "id": "6lfU0k-FecZv"
      },
      "source": [
        "## 다층 퍼셉트론으로 20개의 뉴스 기사 그룹 분류하기"
      ]
    },
    {
      "cell_type": "code",
      "metadata": {
        "id": "YyAoHspeeTi0"
      },
      "source": [
        "import pandas as pd\n",
        "from sklearn.datasets import fetch_20newsgroups\n",
        "\n",
        "%matplotlib inline\n",
        "import matplotlib.pyplot as plt\n",
        "\n",
        "from tensorflow.keras.preprocessing.text import Tokenizer\n",
        "from tensorflow.keras.utils              import to_categorical"
      ],
      "execution_count": 69,
      "outputs": []
    },
    {
      "cell_type": "markdown",
      "metadata": {
        "id": "DH3lu6Xbhduq"
      },
      "source": [
        "- 사이킷런에서는 20개의 다른 주제를 가진 18,846개의 뉴스 그룹 이메일 데이터를 제공합니다."
      ]
    },
    {
      "cell_type": "code",
      "metadata": {
        "colab": {
          "base_uri": "https://localhost:8080/"
        },
        "id": "i6OU9TDIhcpP",
        "outputId": "26d680a6-be5b-4f9e-d2db-c95abba3a420"
      },
      "source": [
        "newsdata = fetch_20newsgroups(subset = \"train\") # 훈련 데이터만 다운로드"
      ],
      "execution_count": 70,
      "outputs": [
        {
          "output_type": "stream",
          "name": "stderr",
          "text": [
            "Downloading 20news dataset. This may take a few minutes.\n",
            "Downloading dataset from https://ndownloader.figshare.com/files/5975967 (14 MB)\n"
          ]
        }
      ]
    },
    {
      "cell_type": "markdown",
      "metadata": {
        "id": "UCBo8vShhwb9"
      },
      "source": [
        "- 해당 데이터는 data, filenames, target_names, target, DESCR이라는 5개의 속성을 가지고 있습니다.\n",
        "- 이 중 실제로 훈련에 사용할 속성은 이메일 본문인 data와 메일이 어떤 주제인지 기재된 숫자 레이블인 target입니다."
      ]
    },
    {
      "cell_type": "code",
      "metadata": {
        "colab": {
          "base_uri": "https://localhost:8080/"
        },
        "id": "mXFNskmphmFh",
        "outputId": "a38d0514-ef8c-43ba-9a23-0683d7d15975"
      },
      "source": [
        "print(newsdata.keys())"
      ],
      "execution_count": 71,
      "outputs": [
        {
          "output_type": "stream",
          "name": "stdout",
          "text": [
            "dict_keys(['data', 'filenames', 'target_names', 'target', 'DESCR'])\n"
          ]
        }
      ]
    },
    {
      "cell_type": "code",
      "metadata": {
        "colab": {
          "base_uri": "https://localhost:8080/"
        },
        "id": "tdmJaMROhs7p",
        "outputId": "73ebf33c-165d-424f-9ff4-9fde12fb0319"
      },
      "source": [
        "print(\"훈련용 샘플의 개수: {}\".format(len(newsdata.data)))"
      ],
      "execution_count": 72,
      "outputs": [
        {
          "output_type": "stream",
          "name": "stdout",
          "text": [
            "훈련용 샘플의 개수: 11314\n"
          ]
        }
      ]
    },
    {
      "cell_type": "code",
      "metadata": {
        "colab": {
          "base_uri": "https://localhost:8080/"
        },
        "id": "EX8dMlxpiJqF",
        "outputId": "40271183-3703-4c8b-8940-adb1a0a4767d"
      },
      "source": [
        "print(\"총 주제의 개수: {}\".format(len(newsdata.target_names)))\n",
        "print(newsdata.target_names)"
      ],
      "execution_count": 73,
      "outputs": [
        {
          "output_type": "stream",
          "name": "stdout",
          "text": [
            "총 주제의 개수: 20\n",
            "['alt.atheism', 'comp.graphics', 'comp.os.ms-windows.misc', 'comp.sys.ibm.pc.hardware', 'comp.sys.mac.hardware', 'comp.windows.x', 'misc.forsale', 'rec.autos', 'rec.motorcycles', 'rec.sport.baseball', 'rec.sport.hockey', 'sci.crypt', 'sci.electronics', 'sci.med', 'sci.space', 'soc.religion.christian', 'talk.politics.guns', 'talk.politics.mideast', 'talk.politics.misc', 'talk.religion.misc']\n"
          ]
        }
      ]
    },
    {
      "cell_type": "code",
      "metadata": {
        "colab": {
          "base_uri": "https://localhost:8080/"
        },
        "id": "uHyQ1lNUiQPt",
        "outputId": "60a27fa6-6835-4382-ab11-fb594ad05278"
      },
      "source": [
        "print(\"첫번째 샘플의 레이블: {}\".format(newsdata.target[0]))"
      ],
      "execution_count": 74,
      "outputs": [
        {
          "output_type": "stream",
          "name": "stdout",
          "text": [
            "첫번째 샘플의 레이블: 7\n"
          ]
        }
      ]
    },
    {
      "cell_type": "code",
      "metadata": {
        "colab": {
          "base_uri": "https://localhost:8080/"
        },
        "id": "Pv5_5I92iYlI",
        "outputId": "61c01d19-34e5-46ca-9782-e2ec7c8a6ce0"
      },
      "source": [
        "print(\"7번 레이블이 의미하는 주제: {}\".format(newsdata.target_names[7]))"
      ],
      "execution_count": 75,
      "outputs": [
        {
          "output_type": "stream",
          "name": "stdout",
          "text": [
            "7번 레이블이 의미하는 주제: rec.autos\n"
          ]
        }
      ]
    },
    {
      "cell_type": "code",
      "metadata": {
        "colab": {
          "base_uri": "https://localhost:8080/"
        },
        "id": "vLE4JqbridL2",
        "outputId": "c8efcc6b-206a-41fe-d608-35f88a2d01ff"
      },
      "source": [
        "print(newsdata.data[0])"
      ],
      "execution_count": 76,
      "outputs": [
        {
          "output_type": "stream",
          "name": "stdout",
          "text": [
            "From: lerxst@wam.umd.edu (where's my thing)\n",
            "Subject: WHAT car is this!?\n",
            "Nntp-Posting-Host: rac3.wam.umd.edu\n",
            "Organization: University of Maryland, College Park\n",
            "Lines: 15\n",
            "\n",
            " I was wondering if anyone out there could enlighten me on this car I saw\n",
            "the other day. It was a 2-door sports car, looked to be from the late 60s/\n",
            "early 70s. It was called a Bricklin. The doors were really small. In addition,\n",
            "the front bumper was separate from the rest of the body. This is \n",
            "all I know. If anyone can tellme a model name, engine specs, years\n",
            "of production, where this car is made, history, or whatever info you\n",
            "have on this funky looking car, please e-mail.\n",
            "\n",
            "Thanks,\n",
            "- IL\n",
            "   ---- brought to you by your neighborhood Lerxst ----\n",
            "\n",
            "\n",
            "\n",
            "\n",
            "\n"
          ]
        }
      ]
    },
    {
      "cell_type": "markdown",
      "metadata": {
        "id": "7RVxMJ5biodL"
      },
      "source": [
        "- data로부터 데이터프레임 생성"
      ]
    },
    {
      "cell_type": "code",
      "metadata": {
        "colab": {
          "base_uri": "https://localhost:8080/",
          "height": 202
        },
        "id": "vTUON1DmiiUj",
        "outputId": "1c25eb65-2ba3-4844-a064-25c833bc93a4"
      },
      "source": [
        "data = pd.DataFrame(newsdata.data, columns = ['email'])\n",
        "data['target'] = pd.Series(newsdata.target)\n",
        "data[:5]"
      ],
      "execution_count": 77,
      "outputs": [
        {
          "output_type": "execute_result",
          "data": {
            "text/html": [
              "<div>\n",
              "<style scoped>\n",
              "    .dataframe tbody tr th:only-of-type {\n",
              "        vertical-align: middle;\n",
              "    }\n",
              "\n",
              "    .dataframe tbody tr th {\n",
              "        vertical-align: top;\n",
              "    }\n",
              "\n",
              "    .dataframe thead th {\n",
              "        text-align: right;\n",
              "    }\n",
              "</style>\n",
              "<table border=\"1\" class=\"dataframe\">\n",
              "  <thead>\n",
              "    <tr style=\"text-align: right;\">\n",
              "      <th></th>\n",
              "      <th>email</th>\n",
              "      <th>target</th>\n",
              "    </tr>\n",
              "  </thead>\n",
              "  <tbody>\n",
              "    <tr>\n",
              "      <th>0</th>\n",
              "      <td>From: lerxst@wam.umd.edu (where's my thing)\\nS...</td>\n",
              "      <td>7</td>\n",
              "    </tr>\n",
              "    <tr>\n",
              "      <th>1</th>\n",
              "      <td>From: guykuo@carson.u.washington.edu (Guy Kuo)...</td>\n",
              "      <td>4</td>\n",
              "    </tr>\n",
              "    <tr>\n",
              "      <th>2</th>\n",
              "      <td>From: twillis@ec.ecn.purdue.edu (Thomas E Will...</td>\n",
              "      <td>4</td>\n",
              "    </tr>\n",
              "    <tr>\n",
              "      <th>3</th>\n",
              "      <td>From: jgreen@amber (Joe Green)\\nSubject: Re: W...</td>\n",
              "      <td>1</td>\n",
              "    </tr>\n",
              "    <tr>\n",
              "      <th>4</th>\n",
              "      <td>From: jcm@head-cfa.harvard.edu (Jonathan McDow...</td>\n",
              "      <td>14</td>\n",
              "    </tr>\n",
              "  </tbody>\n",
              "</table>\n",
              "</div>"
            ],
            "text/plain": [
              "                                               email  target\n",
              "0  From: lerxst@wam.umd.edu (where's my thing)\\nS...       7\n",
              "1  From: guykuo@carson.u.washington.edu (Guy Kuo)...       4\n",
              "2  From: twillis@ec.ecn.purdue.edu (Thomas E Will...       4\n",
              "3  From: jgreen@amber (Joe Green)\\nSubject: Re: W...       1\n",
              "4  From: jcm@head-cfa.harvard.edu (Jonathan McDow...      14"
            ]
          },
          "metadata": {},
          "execution_count": 77
        }
      ]
    },
    {
      "cell_type": "code",
      "metadata": {
        "colab": {
          "base_uri": "https://localhost:8080/"
        },
        "id": "vbYg7eyXivcY",
        "outputId": "4cd8fb85-046b-4d4b-dcc2-4c74c9894c77"
      },
      "source": [
        "data.info()"
      ],
      "execution_count": 78,
      "outputs": [
        {
          "output_type": "stream",
          "name": "stdout",
          "text": [
            "<class 'pandas.core.frame.DataFrame'>\n",
            "RangeIndex: 11314 entries, 0 to 11313\n",
            "Data columns (total 2 columns):\n",
            " #   Column  Non-Null Count  Dtype \n",
            "---  ------  --------------  ----- \n",
            " 0   email   11314 non-null  object\n",
            " 1   target  11314 non-null  int64 \n",
            "dtypes: int64(1), object(1)\n",
            "memory usage: 176.9+ KB\n"
          ]
        }
      ]
    },
    {
      "cell_type": "code",
      "metadata": {
        "colab": {
          "base_uri": "https://localhost:8080/"
        },
        "id": "K-Cv_0AUjTKS",
        "outputId": "f2970360-2e1e-465f-ce90-c5cb58667a9a"
      },
      "source": [
        "data.isnull().values.any()"
      ],
      "execution_count": 79,
      "outputs": [
        {
          "output_type": "execute_result",
          "data": {
            "text/plain": [
              "False"
            ]
          },
          "metadata": {},
          "execution_count": 79
        }
      ]
    },
    {
      "cell_type": "code",
      "metadata": {
        "colab": {
          "base_uri": "https://localhost:8080/"
        },
        "id": "MDpSH5UbjUQs",
        "outputId": "3e18dbf4-62d0-4f30-8f39-db2524b88bd6"
      },
      "source": [
        "print(\"중복을 제외한 샘플의 수: {}\".format(data['email'].nunique()))\n",
        "print(\"중복을 제외한 주제의 수: {}\".format(data['target'].nunique()))"
      ],
      "execution_count": 80,
      "outputs": [
        {
          "output_type": "stream",
          "name": "stdout",
          "text": [
            "중복을 제외한 샘플의 수: 11314\n",
            "중복을 제외한 주제의 수: 20\n"
          ]
        }
      ]
    },
    {
      "cell_type": "code",
      "metadata": {
        "colab": {
          "base_uri": "https://localhost:8080/",
          "height": 285
        },
        "id": "3mvnmJy0jpvP",
        "outputId": "f0077d83-0036-4486-d507-af2e7dec714c"
      },
      "source": [
        "data['target'].value_counts().plot(kind=\"bar\")"
      ],
      "execution_count": 81,
      "outputs": [
        {
          "output_type": "execute_result",
          "data": {
            "text/plain": [
              "<matplotlib.axes._subplots.AxesSubplot at 0x7fafdcf83250>"
            ]
          },
          "metadata": {},
          "execution_count": 81
        },
        {
          "output_type": "display_data",
          "data": {
            "image/png": "[encoded data removed]",
            "text/plain": [
              "<Figure size 432x288 with 1 Axes>"
            ]
          },
          "metadata": {
            "needs_background": "light"
          }
        }
      ]
    },
    {
      "cell_type": "code",
      "metadata": {
        "colab": {
          "base_uri": "https://localhost:8080/"
        },
        "id": "mvfUuWpWjfp9",
        "outputId": "0f707865-fecd-4bfe-f98c-0b92430c9c2e"
      },
      "source": [
        "print(data.groupby(\"target\").size().reset_index(name=\"count\"))"
      ],
      "execution_count": 82,
      "outputs": [
        {
          "output_type": "stream",
          "name": "stdout",
          "text": [
            "    target  count\n",
            "0        0    480\n",
            "1        1    584\n",
            "2        2    591\n",
            "3        3    590\n",
            "4        4    578\n",
            "5        5    593\n",
            "6        6    585\n",
            "7        7    594\n",
            "8        8    598\n",
            "9        9    597\n",
            "10      10    600\n",
            "11      11    595\n",
            "12      12    591\n",
            "13      13    594\n",
            "14      14    593\n",
            "15      15    599\n",
            "16      16    546\n",
            "17      17    564\n",
            "18      18    465\n",
            "19      19    377\n"
          ]
        }
      ]
    },
    {
      "cell_type": "code",
      "metadata": {
        "id": "NIVroiFvjkWi"
      },
      "source": [
        "newsdata_test = fetch_20newsgroups(subset = \"test\", shuffle = True)\n",
        "\n",
        "train_email = data[\"email\"]\n",
        "train_label = data['target']\n",
        "\n",
        "test_email = newsdata_test.data\n",
        "test_label = newsdata_test.target"
      ],
      "execution_count": 83,
      "outputs": []
    },
    {
      "cell_type": "code",
      "metadata": {
        "id": "GFBjVs75kTOf"
      },
      "source": [
        "# 실습에 사용할 단어의 최대 개수\n",
        "max_words = 10000 \n",
        "\n",
        "# 레이블의 수\n",
        "num_classes = 20"
      ],
      "execution_count": 84,
      "outputs": []
    },
    {
      "cell_type": "code",
      "metadata": {
        "id": "o3sGO8_IkaRY"
      },
      "source": [
        "# 전처리 함수\n",
        "def prepare_data(train_data, test_data, mode): \n",
        "  t = Tokenizer(num_words = max_words)\n",
        "  t.fit_on_texts(train_data)\n",
        "\n",
        "  X_train = t.texts_to_matrix(train_data, mode = mode)\n",
        "  X_test  = t.texts_to_matrix(test_data,  mode = mode)\n",
        "\n",
        "  return X_train, X_test, t.index_word"
      ],
      "execution_count": 85,
      "outputs": []
    },
    {
      "cell_type": "code",
      "metadata": {
        "id": "pVJ4MIGtko31"
      },
      "source": [
        "# One-hot encoding\n",
        "X_train, X_test, index_to_word = prepare_data(train_email, test_email, \"binary\")\n",
        "\n",
        "# One-hot encoding\n",
        "y_train = to_categorical(train_label, num_classes)\n",
        "y_test  = to_categorical(test_label,  num_classes)"
      ],
      "execution_count": 86,
      "outputs": []
    },
    {
      "cell_type": "code",
      "metadata": {
        "colab": {
          "base_uri": "https://localhost:8080/"
        },
        "id": "UDxya-8Lk3Bi",
        "outputId": "5d7a138d-7999-4388-89e7-e6afe7db12af"
      },
      "source": [
        "print(\"훈련   샘플 본문의   크기: {}\".format(X_train.shape))\n",
        "print(\"훈련   샘플 레이블의 크기: {}\".format(y_train.shape))\n",
        "print(\"테스트 샘플 본문의   크기: {}\".format(X_test.shape))\n",
        "print(\"테스트 샘플 레이블의 크기: {}\".format(y_test.shape))"
      ],
      "execution_count": 87,
      "outputs": [
        {
          "output_type": "stream",
          "name": "stdout",
          "text": [
            "훈련   샘플 본문의   크기: (11314, 10000)\n",
            "훈련   샘플 레이블의 크기: (11314, 20)\n",
            "테스트 샘플 본문의   크기: (7532, 10000)\n",
            "테스트 샘플 레이블의 크기: (7532, 20)\n"
          ]
        }
      ]
    },
    {
      "cell_type": "code",
      "metadata": {
        "colab": {
          "base_uri": "https://localhost:8080/"
        },
        "id": "qql8wf-flN-u",
        "outputId": "a21f1329-f5b6-4e50-fcf2-5b00833c3c97"
      },
      "source": [
        "print(\"빈도수 상위 1번    단어: {}\".format(index_to_word[1]))\n",
        "print(\"빈도수 상위 9999번 단어: {}\".format(index_to_word[9999]))"
      ],
      "execution_count": 88,
      "outputs": [
        {
          "output_type": "stream",
          "name": "stdout",
          "text": [
            "빈도수 상위 1번    단어: the\n",
            "빈도수 상위 9999번 단어: mic\n"
          ]
        }
      ]
    },
    {
      "cell_type": "code",
      "metadata": {
        "id": "5REPwJutlWj5"
      },
      "source": [
        "from tensorflow.keras.models import Sequential\n",
        "from tensorflow.keras.layers import Dense, Dropout"
      ],
      "execution_count": 89,
      "outputs": []
    },
    {
      "cell_type": "code",
      "metadata": {
        "id": "NCkUzqILlcDg"
      },
      "source": [
        "def fit_and_evaluate(X_train, y_train , X_test, y_test):\n",
        "  model = Sequential()\n",
        "  model.add(Dense(256, input_shape=(10000, ), activation=\"relu\"))\n",
        "  model.add(Dense(128, activation=\"relu\"))\n",
        "  model.add(Dense(20,  activation=\"softmax\"))\n",
        "\n",
        "  model.compile(loss = \"categorical_crossentropy\", optimizer = \"adam\", metrics = [\"accuracy\"])\n",
        "  model.fit(X_train, y_train, batch_size = 128, epochs = 5, verbose = 1, validation_split = 0.1)\n",
        "  score = model.evaluate(X_test, y_test, batch_size = 128, verbose = 0)\n",
        "  return score[1]"
      ],
      "execution_count": 90,
      "outputs": []
    },
    {
      "cell_type": "code",
      "metadata": {
        "id": "pkOG39Ycl3X5",
        "colab": {
          "base_uri": "https://localhost:8080/"
        },
        "outputId": "5b08c480-af74-4dc2-c4a2-c69d156df08a"
      },
      "source": [
        "modes = [\"binary\", \"count\", \"tfidf\", \"freq\"]\n",
        "\n",
        "for mode in modes:\n",
        "  X_train, X_test, _ = prepare_data(train_email, test_email, mode)\n",
        "  score = fit_and_evaluate(X_train, y_train, X_test, y_test)\n",
        "  print(mode + \" 모드의 테스트 정확도:\", score)"
      ],
      "execution_count": 91,
      "outputs": [
        {
          "output_type": "stream",
          "name": "stdout",
          "text": [
            "Epoch 1/5\n",
            "80/80 [==============================] - 2s 23ms/step - loss: 1.2565 - accuracy: 0.7205 - val_loss: 0.4763 - val_accuracy: 0.8763\n",
            "Epoch 2/5\n",
            "80/80 [==============================] - 1s 8ms/step - loss: 0.1933 - accuracy: 0.9628 - val_loss: 0.3255 - val_accuracy: 0.9072\n",
            "Epoch 3/5\n",
            "80/80 [==============================] - 1s 8ms/step - loss: 0.0614 - accuracy: 0.9926 - val_loss: 0.3036 - val_accuracy: 0.9152\n",
            "Epoch 4/5\n",
            "80/80 [==============================] - 1s 8ms/step - loss: 0.0236 - accuracy: 0.9984 - val_loss: 0.2987 - val_accuracy: 0.9152\n",
            "Epoch 5/5\n",
            "80/80 [==============================] - 1s 8ms/step - loss: 0.0128 - accuracy: 0.9990 - val_loss: 0.2958 - val_accuracy: 0.9117\n",
            "binary 모드의 테스트 정확도: 0.816781759262085\n",
            "Epoch 1/5\n",
            "80/80 [==============================] - 2s 19ms/step - loss: 1.3925 - accuracy: 0.6919 - val_loss: 0.5838 - val_accuracy: 0.8595\n",
            "Epoch 2/5\n",
            "80/80 [==============================] - 1s 8ms/step - loss: 0.3423 - accuracy: 0.9373 - val_loss: 0.4484 - val_accuracy: 0.8852\n",
            "Epoch 3/5\n",
            "80/80 [==============================] - 1s 8ms/step - loss: 0.1252 - accuracy: 0.9861 - val_loss: 0.4263 - val_accuracy: 0.8958\n",
            "Epoch 4/5\n",
            "80/80 [==============================] - 1s 8ms/step - loss: 0.0481 - accuracy: 0.9967 - val_loss: 0.4290 - val_accuracy: 0.8922\n",
            "Epoch 5/5\n",
            "80/80 [==============================] - 1s 8ms/step - loss: 0.0224 - accuracy: 0.9984 - val_loss: 0.4409 - val_accuracy: 0.8984\n",
            "count 모드의 테스트 정확도: 0.8073552846908569\n",
            "Epoch 1/5\n",
            "80/80 [==============================] - 2s 19ms/step - loss: 0.9589 - accuracy: 0.7599 - val_loss: 0.3567 - val_accuracy: 0.9028\n",
            "Epoch 2/5\n",
            "80/80 [==============================] - 1s 8ms/step - loss: 0.1236 - accuracy: 0.9797 - val_loss: 0.3604 - val_accuracy: 0.9037\n",
            "Epoch 3/5\n",
            "80/80 [==============================] - 1s 8ms/step - loss: 0.0525 - accuracy: 0.9953 - val_loss: 0.3388 - val_accuracy: 0.9072\n",
            "Epoch 4/5\n",
            "80/80 [==============================] - 1s 8ms/step - loss: 0.0138 - accuracy: 0.9985 - val_loss: 0.3486 - val_accuracy: 0.9072\n",
            "Epoch 5/5\n",
            "80/80 [==============================] - 1s 8ms/step - loss: 0.0093 - accuracy: 0.9986 - val_loss: 0.3504 - val_accuracy: 0.9108\n",
            "tfidf 모드의 테스트 정확도: 0.8130642771720886\n",
            "Epoch 1/5\n",
            "80/80 [==============================] - 1s 10ms/step - loss: 2.9321 - accuracy: 0.2096 - val_loss: 2.7500 - val_accuracy: 0.3401\n",
            "Epoch 2/5\n",
            "80/80 [==============================] - 1s 8ms/step - loss: 2.2750 - accuracy: 0.4374 - val_loss: 1.8656 - val_accuracy: 0.5247\n",
            "Epoch 3/5\n",
            "80/80 [==============================] - 1s 8ms/step - loss: 1.4640 - accuracy: 0.6755 - val_loss: 1.2777 - val_accuracy: 0.6846\n",
            "Epoch 4/5\n",
            "80/80 [==============================] - 1s 8ms/step - loss: 0.9471 - accuracy: 0.7960 - val_loss: 0.9413 - val_accuracy: 0.7809\n",
            "Epoch 5/5\n",
            "80/80 [==============================] - 1s 8ms/step - loss: 0.6308 - accuracy: 0.8758 - val_loss: 0.7444 - val_accuracy: 0.8163\n",
            "freq 모드의 테스트 정확도: 0.7363250255584717\n"
          ]
        }
      ]
    },
    {
      "cell_type": "markdown",
      "metadata": {
        "id": "iap5bT6Qm9_r"
      },
      "source": [
        "## 다층 퍼셉트론으로 네이버 영화 리뷰 분류하기"
      ]
    },
    {
      "cell_type": "code",
      "metadata": {
        "colab": {
          "base_uri": "https://localhost:8080/"
        },
        "id": "w3zSua8umGSm",
        "outputId": "d9d5a75e-4223-402c-e352-69a7ccf41cf3"
      },
      "source": [
        "!pip install konlpy"
      ],
      "execution_count": 92,
      "outputs": [
        {
          "output_type": "stream",
          "name": "stdout",
          "text": [
            "Requirement already satisfied: konlpy in /usr/local/lib/python3.7/dist-packages (0.5.2)\n",
            "Requirement already satisfied: numpy>=1.6 in /usr/local/lib/python3.7/dist-packages (from konlpy) (1.19.5)\n",
            "Requirement already satisfied: beautifulsoup4==4.6.0 in /usr/local/lib/python3.7/dist-packages (from konlpy) (4.6.0)\n",
            "Requirement already satisfied: colorama in /usr/local/lib/python3.7/dist-packages (from konlpy) (0.4.4)\n",
            "Requirement already satisfied: JPype1>=0.7.0 in /usr/local/lib/python3.7/dist-packages (from konlpy) (1.3.0)\n",
            "Requirement already satisfied: tweepy>=3.7.0 in /usr/local/lib/python3.7/dist-packages (from konlpy) (3.10.0)\n",
            "Requirement already satisfied: lxml>=4.1.0 in /usr/local/lib/python3.7/dist-packages (from konlpy) (4.2.6)\n",
            "Requirement already satisfied: typing-extensions in /usr/local/lib/python3.7/dist-packages (from JPype1>=0.7.0->konlpy) (3.7.4.3)\n",
            "Requirement already satisfied: six>=1.10.0 in /usr/local/lib/python3.7/dist-packages (from tweepy>=3.7.0->konlpy) (1.15.0)\n",
            "Requirement already satisfied: requests[socks]>=2.11.1 in /usr/local/lib/python3.7/dist-packages (from tweepy>=3.7.0->konlpy) (2.23.0)\n",
            "Requirement already satisfied: requests-oauthlib>=0.7.0 in /usr/local/lib/python3.7/dist-packages (from tweepy>=3.7.0->konlpy) (1.3.0)\n",
            "Requirement already satisfied: oauthlib>=3.0.0 in /usr/local/lib/python3.7/dist-packages (from requests-oauthlib>=0.7.0->tweepy>=3.7.0->konlpy) (3.1.1)\n",
            "Requirement already satisfied: certifi>=2017.4.17 in /usr/local/lib/python3.7/dist-packages (from requests[socks]>=2.11.1->tweepy>=3.7.0->konlpy) (2021.5.30)\n",
            "Requirement already satisfied: idna<3,>=2.5 in /usr/local/lib/python3.7/dist-packages (from requests[socks]>=2.11.1->tweepy>=3.7.0->konlpy) (2.10)\n",
            "Requirement already satisfied: urllib3!=1.25.0,!=1.25.1,<1.26,>=1.21.1 in /usr/local/lib/python3.7/dist-packages (from requests[socks]>=2.11.1->tweepy>=3.7.0->konlpy) (1.24.3)\n",
            "Requirement already satisfied: chardet<4,>=3.0.2 in /usr/local/lib/python3.7/dist-packages (from requests[socks]>=2.11.1->tweepy>=3.7.0->konlpy) (3.0.4)\n",
            "Requirement already satisfied: PySocks!=1.5.7,>=1.5.6 in /usr/local/lib/python3.7/dist-packages (from requests[socks]>=2.11.1->tweepy>=3.7.0->konlpy) (1.7.1)\n"
          ]
        }
      ]
    },
    {
      "cell_type": "code",
      "metadata": {
        "colab": {
          "base_uri": "https://localhost:8080/"
        },
        "id": "HCtG0AlmnCht",
        "outputId": "c8032bbf-46ac-4f53-a88d-3b5e772f6b7c"
      },
      "source": [
        "import pandas as pd\n",
        "import urllib.request\n",
        "\n",
        "urllib.request.urlretrieve(\"https://raw.githubusercontent.com/e9t/nsmc/master/ratings_train.txt\", filename=\"ratings_train.txt\")\n",
        "urllib.request.urlretrieve(\"https://raw.githubusercontent.com/e9t/nsmc/master/ratings_test.txt\",  filename=\"ratings_test.txt\")"
      ],
      "execution_count": 93,
      "outputs": [
        {
          "output_type": "execute_result",
          "data": {
            "text/plain": [
              "('ratings_test.txt', <http.client.HTTPMessage at 0x7fafde8727d0>)"
            ]
          },
          "metadata": {},
          "execution_count": 93
        }
      ]
    },
    {
      "cell_type": "code",
      "metadata": {
        "colab": {
          "base_uri": "https://localhost:8080/",
          "height": 218
        },
        "id": "BtQLUZ8jnJRQ",
        "outputId": "822e5a34-f037-4e51-db99-2092eb454026"
      },
      "source": [
        "train_data = pd.read_table(\"ratings_train.txt\")\n",
        "train_data[:5]"
      ],
      "execution_count": 94,
      "outputs": [
        {
          "output_type": "execute_result",
          "data": {
            "text/html": [
              "<div>\n",
              "<style scoped>\n",
              "    .dataframe tbody tr th:only-of-type {\n",
              "        vertical-align: middle;\n",
              "    }\n",
              "\n",
              "    .dataframe tbody tr th {\n",
              "        vertical-align: top;\n",
              "    }\n",
              "\n",
              "    .dataframe thead th {\n",
              "        text-align: right;\n",
              "    }\n",
              "</style>\n",
              "<table border=\"1\" class=\"dataframe\">\n",
              "  <thead>\n",
              "    <tr style=\"text-align: right;\">\n",
              "      <th></th>\n",
              "      <th>id</th>\n",
              "      <th>document</th>\n",
              "      <th>label</th>\n",
              "    </tr>\n",
              "  </thead>\n",
              "  <tbody>\n",
              "    <tr>\n",
              "      <th>0</th>\n",
              "      <td>9976970</td>\n",
              "      <td>아 더빙.. 진짜 짜증나네요 목소리</td>\n",
              "      <td>0</td>\n",
              "    </tr>\n",
              "    <tr>\n",
              "      <th>1</th>\n",
              "      <td>3819312</td>\n",
              "      <td>흠...포스터보고 초딩영화줄....오버연기조차 가볍지 않구나</td>\n",
              "      <td>1</td>\n",
              "    </tr>\n",
              "    <tr>\n",
              "      <th>2</th>\n",
              "      <td>10265843</td>\n",
              "      <td>너무재밓었다그래서보는것을추천한다</td>\n",
              "      <td>0</td>\n",
              "    </tr>\n",
              "    <tr>\n",
              "      <th>3</th>\n",
              "      <td>9045019</td>\n",
              "      <td>교도소 이야기구먼 ..솔직히 재미는 없다..평점 조정</td>\n",
              "      <td>0</td>\n",
              "    </tr>\n",
              "    <tr>\n",
              "      <th>4</th>\n",
              "      <td>6483659</td>\n",
              "      <td>사이몬페그의 익살스런 연기가 돋보였던 영화!스파이더맨에서 늙어보이기만 했던 커스틴 ...</td>\n",
              "      <td>1</td>\n",
              "    </tr>\n",
              "  </tbody>\n",
              "</table>\n",
              "</div>"
            ],
            "text/plain": [
              "         id                                           document  label\n",
              "0   9976970                                아 더빙.. 진짜 짜증나네요 목소리      0\n",
              "1   3819312                  흠...포스터보고 초딩영화줄....오버연기조차 가볍지 않구나      1\n",
              "2  10265843                                  너무재밓었다그래서보는것을추천한다      0\n",
              "3   9045019                      교도소 이야기구먼 ..솔직히 재미는 없다..평점 조정      0\n",
              "4   6483659  사이몬페그의 익살스런 연기가 돋보였던 영화!스파이더맨에서 늙어보이기만 했던 커스틴 ...      1"
            ]
          },
          "metadata": {},
          "execution_count": 94
        }
      ]
    },
    {
      "cell_type": "code",
      "metadata": {
        "id": "B77XwL1QnMj4"
      },
      "source": [
        "def read_data(filename):\n",
        "  with open(filename, 'r') as f:\n",
        "    data = [line.split(\"\\t\") for line in f.read().splitlines()]\n",
        "    data = data[1:] # txt 파일의 헤더(id document label)는 제외하기\n",
        "\n",
        "  return data\n",
        "\n",
        "train_data = read_data(\"ratings_train.txt\")\n",
        "test_data  = read_data(\"ratings_test.txt\")"
      ],
      "execution_count": 95,
      "outputs": []
    },
    {
      "cell_type": "code",
      "metadata": {
        "colab": {
          "base_uri": "https://localhost:8080/"
        },
        "id": "y7Uwx1_8nhlq",
        "outputId": "099d0e45-9a38-4184-aebf-172bfe34154a"
      },
      "source": [
        "print(len(train_data))\n",
        "print(len(train_data[0]))\n",
        "\n",
        "print(len(test_data))\n",
        "print(len(test_data[0]))"
      ],
      "execution_count": 96,
      "outputs": [
        {
          "output_type": "stream",
          "name": "stdout",
          "text": [
            "150000\n",
            "3\n",
            "50000\n",
            "3\n"
          ]
        }
      ]
    },
    {
      "cell_type": "code",
      "metadata": {
        "colab": {
          "base_uri": "https://localhost:8080/"
        },
        "id": "m79xc4qLnmK7",
        "outputId": "90e7a13e-2428-45ec-fc67-ddc4f4bb0ae1"
      },
      "source": [
        "from konlpy.tag import Okt\n",
        "\n",
        "okt = Okt()\n",
        "print(okt.pos(u'이 밤 그날의 반딧불을 당신의 창 가까이 보낼게요'))"
      ],
      "execution_count": 97,
      "outputs": [
        {
          "output_type": "stream",
          "name": "stdout",
          "text": [
            "[('이', 'Noun'), ('밤', 'Noun'), ('그날', 'Noun'), ('의', 'Josa'), ('반딧불', 'Noun'), ('을', 'Josa'), ('당신', 'Noun'), ('의', 'Josa'), ('창', 'Noun'), ('가까이', 'Noun'), ('보낼게요', 'Verb')]\n"
          ]
        }
      ]
    },
    {
      "cell_type": "code",
      "metadata": {
        "colab": {
          "base_uri": "https://localhost:8080/"
        },
        "id": "-ZzfoWzxnvGl",
        "outputId": "4cac0f6c-a002-4383-bbbe-729184ef3ab9"
      },
      "source": [
        "import json\n",
        "import os\n",
        "\n",
        "from pprint import pprint\n",
        "\n",
        "def tokenize(doc):\n",
        "  # norm은 정규화, stem은 근어로 표시하기를 나타냄\n",
        "  return [\"/\".join(t) for t in okt.pos(doc, norm=True, stem=True)]\n",
        "\n",
        "if os.path.isfile(\"train_docs.json\"):\n",
        "  with open(\"train_docs.json\") as f:\n",
        "    train_docs = json.load(f)\n",
        "  with open(\"test_docs.json\") as f:\n",
        "    test_docs = json.load(f)\n",
        "\n",
        "else:\n",
        "  train_docs = [(tokenize(row[1]), row[2]) for row in train_data]\n",
        "  test_docs  = [(tokenize(row[1]), row[2]) for row in test_data]\n",
        "\n",
        "  # JSON 파일로 저장\n",
        "  with open(\"train_docs.json\", 'w', encoding='utf-8') as make_file:\n",
        "    json.dump(train_docs, make_file, ensure_ascii = False, indent=\"\\t\")\n",
        "  with open(\"test_docs.json\", 'w', encoding='utf-8') as make_file:\n",
        "    json.dump(test_docs, make_file, ensure_ascii = False, indent=\"\\t\")\n",
        "\n",
        "pprint(train_docs[0])"
      ],
      "execution_count": 98,
      "outputs": [
        {
          "output_type": "stream",
          "name": "stdout",
          "text": [
            "(['아/Exclamation',\n",
            "  '더빙/Noun',\n",
            "  '../Punctuation',\n",
            "  '진짜/Noun',\n",
            "  '짜증나다/Adjective',\n",
            "  '목소리/Noun'],\n",
            " '0')\n"
          ]
        }
      ]
    },
    {
      "cell_type": "code",
      "metadata": {
        "id": "xhzqQ0vcol0b",
        "colab": {
          "base_uri": "https://localhost:8080/"
        },
        "outputId": "22dca39a-4e48-47b3-95b5-56be08a6b27f"
      },
      "source": [
        "tokens = [t for d in train_docs for t in d[0]]\n",
        "print(len(tokens))"
      ],
      "execution_count": 99,
      "outputs": [
        {
          "output_type": "stream",
          "name": "stdout",
          "text": [
            "2159921\n"
          ]
        }
      ]
    },
    {
      "cell_type": "code",
      "metadata": {
        "id": "UwiqTLaEozuP",
        "colab": {
          "base_uri": "https://localhost:8080/"
        },
        "outputId": "b8ee62db-7061-4523-fc72-66eb4f98f53e"
      },
      "source": [
        "import nltk\n",
        "text = nltk.Text(tokens, name=\"NMSC\")\n",
        "\n",
        "# 전체 토큰의 개수\n",
        "print(len(text.tokens))\n",
        "\n",
        "# 중복을 제외한 토큰의 개수\n",
        "print(len(set(text.tokens)))\n",
        "\n",
        "# 출현 빈도가 높은 상위 토큰 10개\n",
        "pprint(text.vocab().most_common(10))"
      ],
      "execution_count": 100,
      "outputs": [
        {
          "output_type": "stream",
          "name": "stdout",
          "text": [
            "2159921\n",
            "49895\n",
            "[('./Punctuation', 67778),\n",
            " ('영화/Noun', 50818),\n",
            " ('하다/Verb', 41209),\n",
            " ('이/Josa', 38540),\n",
            " ('보다/Verb', 38538),\n",
            " ('의/Josa', 30188),\n",
            " ('../Punctuation', 29055),\n",
            " ('가/Josa', 26627),\n",
            " ('에/Josa', 26468),\n",
            " ('을/Josa', 23118)]\n"
          ]
        }
      ]
    },
    {
      "cell_type": "code",
      "metadata": {
        "id": "DHsVAY0Vo-KN"
      },
      "source": [
        "selected_words = [f[0] for f in text.vocab().most_common(1000)]\n",
        "\n",
        "def term_frequency(doc):\n",
        "  return [doc.count(word) for word in selected_words]\n",
        "\n",
        "X_train = [term_frequency(d) for d, _ in train_docs]\n",
        "X_test  = [term_frequency(d) for d, _ in test_docs]\n",
        "\n",
        "y_train = [c for _, c in train_docs]\n",
        "y_test  = [c for _, c in test_docs]"
      ],
      "execution_count": 101,
      "outputs": []
    },
    {
      "cell_type": "code",
      "metadata": {
        "id": "zvOwRpZRpQ-0"
      },
      "source": [
        "import numpy as np\n",
        "\n",
        "X_train = np.asarray(X_train).astype(\"float32\")\n",
        "X_test  = np.asarray(X_test).astype(\"float32\")\n",
        "\n",
        "y_train = np.asarray(y_train).astype(\"float32\")\n",
        "y_test  = np.asarray(y_test).astype(\"float32\")"
      ],
      "execution_count": 102,
      "outputs": []
    },
    {
      "cell_type": "code",
      "metadata": {
        "id": "nM1vydrhpm7R",
        "colab": {
          "base_uri": "https://localhost:8080/"
        },
        "outputId": "02e833f3-6099-4c8b-ac52-3582f8f23e2e"
      },
      "source": [
        "print(X_train.shape)\n",
        "print(X_test.shape)\n",
        "\n",
        "print(y_train.shape)\n",
        "print(y_test.shape)"
      ],
      "execution_count": 103,
      "outputs": [
        {
          "output_type": "stream",
          "name": "stdout",
          "text": [
            "(150000, 1000)\n",
            "(50000, 1000)\n",
            "(150000,)\n",
            "(50000,)\n"
          ]
        }
      ]
    },
    {
      "cell_type": "code",
      "metadata": {
        "id": "IzG7Aw6_pqUj",
        "colab": {
          "base_uri": "https://localhost:8080/"
        },
        "outputId": "0acca965-3434-48ad-e7c6-5949d8386279"
      },
      "source": [
        "from tensorflow.keras.models import Sequential\n",
        "from tensorflow.keras.layers import Dense\n",
        "from tensorflow.keras        import optimizers\n",
        "from tensorflow.keras        import losses\n",
        "from tensorflow.keras        import metrics\n",
        "\n",
        "model = Sequential()\n",
        "model.add(Dense(64, activation=\"relu\", input_shape=(1000, )))\n",
        "model.add(Dense(64, activation=\"relu\"))\n",
        "model.add(Dense(1,  activation=\"sigmoid\"))\n",
        "\n",
        "model.compile(optimizer = optimizers.RMSprop(lr=0.001), loss = losses.binary_crossentropy, metrics = [metrics.binary_accuracy])\n",
        "model.fit(X_train, y_train, epochs = 10, batch_size = 512)\n",
        "results = model.evaluate(X_test, y_test)"
      ],
      "execution_count": 104,
      "outputs": [
        {
          "output_type": "stream",
          "name": "stderr",
          "text": [
            "/usr/local/lib/python3.7/dist-packages/keras/optimizer_v2/optimizer_v2.py:356: UserWarning: The `lr` argument is deprecated, use `learning_rate` instead.\n",
            "  \"The `lr` argument is deprecated, use `learning_rate` instead.\")\n"
          ]
        },
        {
          "output_type": "stream",
          "name": "stdout",
          "text": [
            "Epoch 1/10\n",
            "293/293 [==============================] - 2s 4ms/step - loss: 0.4308 - binary_accuracy: 0.8023\n",
            "Epoch 2/10\n",
            "293/293 [==============================] - 1s 5ms/step - loss: 0.3811 - binary_accuracy: 0.8243\n",
            "Epoch 3/10\n",
            "293/293 [==============================] - 1s 4ms/step - loss: 0.3664 - binary_accuracy: 0.8329\n",
            "Epoch 4/10\n",
            "293/293 [==============================] - 1s 5ms/step - loss: 0.3537 - binary_accuracy: 0.8405\n",
            "Epoch 5/10\n",
            "293/293 [==============================] - 1s 5ms/step - loss: 0.3417 - binary_accuracy: 0.8475\n",
            "Epoch 6/10\n",
            "293/293 [==============================] - 1s 4ms/step - loss: 0.3304 - binary_accuracy: 0.8527\n",
            "Epoch 7/10\n",
            "293/293 [==============================] - 1s 5ms/step - loss: 0.3190 - binary_accuracy: 0.8596\n",
            "Epoch 8/10\n",
            "293/293 [==============================] - 1s 4ms/step - loss: 0.3076 - binary_accuracy: 0.8651\n",
            "Epoch 9/10\n",
            "293/293 [==============================] - 1s 4ms/step - loss: 0.2965 - binary_accuracy: 0.8708\n",
            "Epoch 10/10\n",
            "293/293 [==============================] - 1s 4ms/step - loss: 0.2857 - binary_accuracy: 0.8764\n",
            "1563/1563 [==============================] - 4s 2ms/step - loss: 0.3996 - binary_accuracy: 0.8285\n"
          ]
        }
      ]
    }
  ]
}